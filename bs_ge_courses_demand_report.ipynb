{
  "cells": [
    {
      "cell_type": "markdown",
      "metadata": {
        "id": "view-in-github",
        "colab_type": "text"
      },
      "source": [
        "<a href=\"https://colab.research.google.com/github/bgcarcellar/UStAC-Codes/blob/main/bs_ge_courses_demand_report.ipynb\" target=\"_parent\"><img src=\"https://colab.research.google.com/assets/colab-badge.svg\" alt=\"Open In Colab\"/></a>"
      ]
    },
    {
      "cell_type": "code",
      "execution_count": 1,
      "metadata": {
        "colab": {
          "base_uri": "https://localhost:8080/"
        },
        "id": "SW21hGrtIS29",
        "outputId": "9d1bda35-a2dd-45ce-d6db-b3b470392e8b"
      },
      "outputs": [
        {
          "output_type": "stream",
          "name": "stdout",
          "text": [
            "Collecting google-colab-selenium\n",
            "  Downloading google_colab_selenium-1.0.15-py3-none-any.whl.metadata (2.8 kB)\n",
            "Requirement already satisfied: notebook>=6.5.7 in /usr/local/lib/python3.11/dist-packages (from google-colab-selenium) (6.5.7)\n",
            "Collecting selenium (from google-colab-selenium)\n",
            "  Downloading selenium-4.34.2-py3-none-any.whl.metadata (7.5 kB)\n",
            "Requirement already satisfied: jinja2 in /usr/local/lib/python3.11/dist-packages (from notebook>=6.5.7->google-colab-selenium) (3.1.6)\n",
            "Requirement already satisfied: tornado>=6.1 in /usr/local/lib/python3.11/dist-packages (from notebook>=6.5.7->google-colab-selenium) (6.4.2)\n",
            "Requirement already satisfied: pyzmq>=17 in /usr/local/lib/python3.11/dist-packages (from notebook>=6.5.7->google-colab-selenium) (26.2.1)\n",
            "Requirement already satisfied: argon2-cffi in /usr/local/lib/python3.11/dist-packages (from notebook>=6.5.7->google-colab-selenium) (25.1.0)\n",
            "Requirement already satisfied: traitlets>=4.2.1 in /usr/local/lib/python3.11/dist-packages (from notebook>=6.5.7->google-colab-selenium) (5.7.1)\n",
            "Requirement already satisfied: jupyter-core>=4.6.1 in /usr/local/lib/python3.11/dist-packages (from notebook>=6.5.7->google-colab-selenium) (5.8.1)\n",
            "Requirement already satisfied: jupyter-client<8,>=5.3.4 in /usr/local/lib/python3.11/dist-packages (from notebook>=6.5.7->google-colab-selenium) (6.1.12)\n",
            "Requirement already satisfied: ipython-genutils in /usr/local/lib/python3.11/dist-packages (from notebook>=6.5.7->google-colab-selenium) (0.2.0)\n",
            "Requirement already satisfied: nbformat in /usr/local/lib/python3.11/dist-packages (from notebook>=6.5.7->google-colab-selenium) (5.10.4)\n",
            "Requirement already satisfied: nbconvert>=5 in /usr/local/lib/python3.11/dist-packages (from notebook>=6.5.7->google-colab-selenium) (7.16.6)\n",
            "Requirement already satisfied: nest-asyncio>=1.5 in /usr/local/lib/python3.11/dist-packages (from notebook>=6.5.7->google-colab-selenium) (1.6.0)\n",
            "Requirement already satisfied: ipykernel in /usr/local/lib/python3.11/dist-packages (from notebook>=6.5.7->google-colab-selenium) (6.17.1)\n",
            "Requirement already satisfied: Send2Trash>=1.8.0 in /usr/local/lib/python3.11/dist-packages (from notebook>=6.5.7->google-colab-selenium) (1.8.3)\n",
            "Requirement already satisfied: terminado>=0.8.3 in /usr/local/lib/python3.11/dist-packages (from notebook>=6.5.7->google-colab-selenium) (0.18.1)\n",
            "Requirement already satisfied: prometheus-client in /usr/local/lib/python3.11/dist-packages (from notebook>=6.5.7->google-colab-selenium) (0.22.1)\n",
            "Requirement already satisfied: nbclassic>=0.4.7 in /usr/local/lib/python3.11/dist-packages (from notebook>=6.5.7->google-colab-selenium) (1.3.1)\n",
            "Requirement already satisfied: urllib3~=2.5.0 in /usr/local/lib/python3.11/dist-packages (from urllib3[socks]~=2.5.0->selenium->google-colab-selenium) (2.5.0)\n",
            "Collecting trio~=0.30.0 (from selenium->google-colab-selenium)\n",
            "  Downloading trio-0.30.0-py3-none-any.whl.metadata (8.5 kB)\n",
            "Collecting trio-websocket~=0.12.2 (from selenium->google-colab-selenium)\n",
            "  Downloading trio_websocket-0.12.2-py3-none-any.whl.metadata (5.1 kB)\n",
            "Requirement already satisfied: certifi>=2025.6.15 in /usr/local/lib/python3.11/dist-packages (from selenium->google-colab-selenium) (2025.7.14)\n",
            "Requirement already satisfied: typing_extensions~=4.14.0 in /usr/local/lib/python3.11/dist-packages (from selenium->google-colab-selenium) (4.14.1)\n",
            "Requirement already satisfied: websocket-client~=1.8.0 in /usr/local/lib/python3.11/dist-packages (from selenium->google-colab-selenium) (1.8.0)\n",
            "Requirement already satisfied: python-dateutil>=2.1 in /usr/local/lib/python3.11/dist-packages (from jupyter-client<8,>=5.3.4->notebook>=6.5.7->google-colab-selenium) (2.9.0.post0)\n",
            "Requirement already satisfied: platformdirs>=2.5 in /usr/local/lib/python3.11/dist-packages (from jupyter-core>=4.6.1->notebook>=6.5.7->google-colab-selenium) (4.3.8)\n",
            "Requirement already satisfied: notebook-shim>=0.2.3 in /usr/local/lib/python3.11/dist-packages (from nbclassic>=0.4.7->notebook>=6.5.7->google-colab-selenium) (0.2.4)\n",
            "Requirement already satisfied: beautifulsoup4 in /usr/local/lib/python3.11/dist-packages (from nbconvert>=5->notebook>=6.5.7->google-colab-selenium) (4.13.4)\n",
            "Requirement already satisfied: bleach!=5.0.0 in /usr/local/lib/python3.11/dist-packages (from bleach[css]!=5.0.0->nbconvert>=5->notebook>=6.5.7->google-colab-selenium) (6.2.0)\n",
            "Requirement already satisfied: defusedxml in /usr/local/lib/python3.11/dist-packages (from nbconvert>=5->notebook>=6.5.7->google-colab-selenium) (0.7.1)\n",
            "Requirement already satisfied: jupyterlab-pygments in /usr/local/lib/python3.11/dist-packages (from nbconvert>=5->notebook>=6.5.7->google-colab-selenium) (0.3.0)\n",
            "Requirement already satisfied: markupsafe>=2.0 in /usr/local/lib/python3.11/dist-packages (from nbconvert>=5->notebook>=6.5.7->google-colab-selenium) (3.0.2)\n",
            "Requirement already satisfied: mistune<4,>=2.0.3 in /usr/local/lib/python3.11/dist-packages (from nbconvert>=5->notebook>=6.5.7->google-colab-selenium) (3.1.3)\n",
            "Requirement already satisfied: nbclient>=0.5.0 in /usr/local/lib/python3.11/dist-packages (from nbconvert>=5->notebook>=6.5.7->google-colab-selenium) (0.10.2)\n",
            "Requirement already satisfied: packaging in /usr/local/lib/python3.11/dist-packages (from nbconvert>=5->notebook>=6.5.7->google-colab-selenium) (25.0)\n",
            "Requirement already satisfied: pandocfilters>=1.4.1 in /usr/local/lib/python3.11/dist-packages (from nbconvert>=5->notebook>=6.5.7->google-colab-selenium) (1.5.1)\n",
            "Requirement already satisfied: pygments>=2.4.1 in /usr/local/lib/python3.11/dist-packages (from nbconvert>=5->notebook>=6.5.7->google-colab-selenium) (2.19.2)\n",
            "Requirement already satisfied: fastjsonschema>=2.15 in /usr/local/lib/python3.11/dist-packages (from nbformat->notebook>=6.5.7->google-colab-selenium) (2.21.1)\n",
            "Requirement already satisfied: jsonschema>=2.6 in /usr/local/lib/python3.11/dist-packages (from nbformat->notebook>=6.5.7->google-colab-selenium) (4.25.0)\n",
            "Requirement already satisfied: ptyprocess in /usr/local/lib/python3.11/dist-packages (from terminado>=0.8.3->notebook>=6.5.7->google-colab-selenium) (0.7.0)\n",
            "Requirement already satisfied: attrs>=23.2.0 in /usr/local/lib/python3.11/dist-packages (from trio~=0.30.0->selenium->google-colab-selenium) (25.3.0)\n",
            "Requirement already satisfied: sortedcontainers in /usr/local/lib/python3.11/dist-packages (from trio~=0.30.0->selenium->google-colab-selenium) (2.4.0)\n",
            "Requirement already satisfied: idna in /usr/local/lib/python3.11/dist-packages (from trio~=0.30.0->selenium->google-colab-selenium) (3.10)\n",
            "Collecting outcome (from trio~=0.30.0->selenium->google-colab-selenium)\n",
            "  Downloading outcome-1.3.0.post0-py2.py3-none-any.whl.metadata (2.6 kB)\n",
            "Requirement already satisfied: sniffio>=1.3.0 in /usr/local/lib/python3.11/dist-packages (from trio~=0.30.0->selenium->google-colab-selenium) (1.3.1)\n",
            "Collecting wsproto>=0.14 (from trio-websocket~=0.12.2->selenium->google-colab-selenium)\n",
            "  Downloading wsproto-1.2.0-py3-none-any.whl.metadata (5.6 kB)\n",
            "Requirement already satisfied: pysocks!=1.5.7,<2.0,>=1.5.6 in /usr/local/lib/python3.11/dist-packages (from urllib3[socks]~=2.5.0->selenium->google-colab-selenium) (1.7.1)\n",
            "Requirement already satisfied: argon2-cffi-bindings in /usr/local/lib/python3.11/dist-packages (from argon2-cffi->notebook>=6.5.7->google-colab-selenium) (21.2.0)\n",
            "Requirement already satisfied: debugpy>=1.0 in /usr/local/lib/python3.11/dist-packages (from ipykernel->notebook>=6.5.7->google-colab-selenium) (1.8.15)\n",
            "Requirement already satisfied: ipython>=7.23.1 in /usr/local/lib/python3.11/dist-packages (from ipykernel->notebook>=6.5.7->google-colab-selenium) (7.34.0)\n",
            "Requirement already satisfied: matplotlib-inline>=0.1 in /usr/local/lib/python3.11/dist-packages (from ipykernel->notebook>=6.5.7->google-colab-selenium) (0.1.7)\n",
            "Requirement already satisfied: psutil in /usr/local/lib/python3.11/dist-packages (from ipykernel->notebook>=6.5.7->google-colab-selenium) (5.9.5)\n",
            "Requirement already satisfied: webencodings in /usr/local/lib/python3.11/dist-packages (from bleach!=5.0.0->bleach[css]!=5.0.0->nbconvert>=5->notebook>=6.5.7->google-colab-selenium) (0.5.1)\n",
            "Requirement already satisfied: tinycss2<1.5,>=1.1.0 in /usr/local/lib/python3.11/dist-packages (from bleach[css]!=5.0.0->nbconvert>=5->notebook>=6.5.7->google-colab-selenium) (1.4.0)\n",
            "Requirement already satisfied: setuptools>=18.5 in /usr/local/lib/python3.11/dist-packages (from ipython>=7.23.1->ipykernel->notebook>=6.5.7->google-colab-selenium) (75.2.0)\n",
            "Collecting jedi>=0.16 (from ipython>=7.23.1->ipykernel->notebook>=6.5.7->google-colab-selenium)\n",
            "  Downloading jedi-0.19.2-py2.py3-none-any.whl.metadata (22 kB)\n",
            "Requirement already satisfied: decorator in /usr/local/lib/python3.11/dist-packages (from ipython>=7.23.1->ipykernel->notebook>=6.5.7->google-colab-selenium) (4.4.2)\n",
            "Requirement already satisfied: pickleshare in /usr/local/lib/python3.11/dist-packages (from ipython>=7.23.1->ipykernel->notebook>=6.5.7->google-colab-selenium) (0.7.5)\n",
            "Requirement already satisfied: prompt-toolkit!=3.0.0,!=3.0.1,<3.1.0,>=2.0.0 in /usr/local/lib/python3.11/dist-packages (from ipython>=7.23.1->ipykernel->notebook>=6.5.7->google-colab-selenium) (3.0.51)\n",
            "Requirement already satisfied: backcall in /usr/local/lib/python3.11/dist-packages (from ipython>=7.23.1->ipykernel->notebook>=6.5.7->google-colab-selenium) (0.2.0)\n",
            "Requirement already satisfied: pexpect>4.3 in /usr/local/lib/python3.11/dist-packages (from ipython>=7.23.1->ipykernel->notebook>=6.5.7->google-colab-selenium) (4.9.0)\n",
            "Requirement already satisfied: jsonschema-specifications>=2023.03.6 in /usr/local/lib/python3.11/dist-packages (from jsonschema>=2.6->nbformat->notebook>=6.5.7->google-colab-selenium) (2025.4.1)\n",
            "Requirement already satisfied: referencing>=0.28.4 in /usr/local/lib/python3.11/dist-packages (from jsonschema>=2.6->nbformat->notebook>=6.5.7->google-colab-selenium) (0.36.2)\n",
            "Requirement already satisfied: rpds-py>=0.7.1 in /usr/local/lib/python3.11/dist-packages (from jsonschema>=2.6->nbformat->notebook>=6.5.7->google-colab-selenium) (0.26.0)\n",
            "Requirement already satisfied: jupyter-server<3,>=1.8 in /usr/local/lib/python3.11/dist-packages (from notebook-shim>=0.2.3->nbclassic>=0.4.7->notebook>=6.5.7->google-colab-selenium) (1.16.0)\n",
            "Requirement already satisfied: six>=1.5 in /usr/local/lib/python3.11/dist-packages (from python-dateutil>=2.1->jupyter-client<8,>=5.3.4->notebook>=6.5.7->google-colab-selenium) (1.17.0)\n",
            "Requirement already satisfied: h11<1,>=0.9.0 in /usr/local/lib/python3.11/dist-packages (from wsproto>=0.14->trio-websocket~=0.12.2->selenium->google-colab-selenium) (0.16.0)\n",
            "Requirement already satisfied: cffi>=1.0.1 in /usr/local/lib/python3.11/dist-packages (from argon2-cffi-bindings->argon2-cffi->notebook>=6.5.7->google-colab-selenium) (1.17.1)\n",
            "Requirement already satisfied: soupsieve>1.2 in /usr/local/lib/python3.11/dist-packages (from beautifulsoup4->nbconvert>=5->notebook>=6.5.7->google-colab-selenium) (2.7)\n",
            "Requirement already satisfied: pycparser in /usr/local/lib/python3.11/dist-packages (from cffi>=1.0.1->argon2-cffi-bindings->argon2-cffi->notebook>=6.5.7->google-colab-selenium) (2.22)\n",
            "Requirement already satisfied: parso<0.9.0,>=0.8.4 in /usr/local/lib/python3.11/dist-packages (from jedi>=0.16->ipython>=7.23.1->ipykernel->notebook>=6.5.7->google-colab-selenium) (0.8.4)\n",
            "Requirement already satisfied: anyio>=3.1.0 in /usr/local/lib/python3.11/dist-packages (from jupyter-server<3,>=1.8->notebook-shim>=0.2.3->nbclassic>=0.4.7->notebook>=6.5.7->google-colab-selenium) (4.9.0)\n",
            "Requirement already satisfied: wcwidth in /usr/local/lib/python3.11/dist-packages (from prompt-toolkit!=3.0.0,!=3.0.1,<3.1.0,>=2.0.0->ipython>=7.23.1->ipykernel->notebook>=6.5.7->google-colab-selenium) (0.2.13)\n",
            "Downloading google_colab_selenium-1.0.15-py3-none-any.whl (8.3 kB)\n",
            "Downloading selenium-4.34.2-py3-none-any.whl (9.4 MB)\n",
            "\u001b[2K   \u001b[90m━━━━━━━━━━━━━━━━━━━━━━━━━━━━━━━━━━━━━━━━\u001b[0m \u001b[32m9.4/9.4 MB\u001b[0m \u001b[31m43.4 MB/s\u001b[0m eta \u001b[36m0:00:00\u001b[0m\n",
            "\u001b[?25hDownloading trio-0.30.0-py3-none-any.whl (499 kB)\n",
            "\u001b[2K   \u001b[90m━━━━━━━━━━━━━━━━━━━━━━━━━━━━━━━━━━━━━━━━\u001b[0m \u001b[32m499.2/499.2 kB\u001b[0m \u001b[31m13.4 MB/s\u001b[0m eta \u001b[36m0:00:00\u001b[0m\n",
            "\u001b[?25hDownloading trio_websocket-0.12.2-py3-none-any.whl (21 kB)\n",
            "Downloading outcome-1.3.0.post0-py2.py3-none-any.whl (10 kB)\n",
            "Downloading wsproto-1.2.0-py3-none-any.whl (24 kB)\n",
            "Downloading jedi-0.19.2-py2.py3-none-any.whl (1.6 MB)\n",
            "\u001b[2K   \u001b[90m━━━━━━━━━━━━━━━━━━━━━━━━━━━━━━━━━━━━━━━━\u001b[0m \u001b[32m1.6/1.6 MB\u001b[0m \u001b[31m37.5 MB/s\u001b[0m eta \u001b[36m0:00:00\u001b[0m\n",
            "\u001b[?25hInstalling collected packages: wsproto, outcome, jedi, trio, trio-websocket, selenium, google-colab-selenium\n",
            "Successfully installed google-colab-selenium-1.0.15 jedi-0.19.2 outcome-1.3.0.post0 selenium-4.34.2 trio-0.30.0 trio-websocket-0.12.2 wsproto-1.2.0\n"
          ]
        }
      ],
      "source": [
        "%pip install google-colab-selenium"
      ]
    },
    {
      "cell_type": "code",
      "execution_count": null,
      "metadata": {
        "id": "dt8Fn8Km791M"
      },
      "outputs": [],
      "source": [
        "from selenium import webdriver\n",
        "from selenium.webdriver.common.by import By\n",
        "from selenium.webdriver.common.keys import Keys\n",
        "from selenium.webdriver.common.action_chains import ActionChains\n",
        "import google_colab_selenium as gs\n",
        "from selenium.webdriver.chrome.service import Service\n",
        "from selenium.webdriver.chrome.options import Options\n",
        "from selenium.webdriver.support.ui import WebDriverWait\n",
        "from selenium.webdriver.support import expected_conditions as EC"
      ]
    },
    {
      "cell_type": "markdown",
      "metadata": {
        "id": "FPYtN5zGduhb"
      },
      "source": [
        "#Grades Extractor"
      ]
    },
    {
      "cell_type": "code",
      "execution_count": null,
      "metadata": {
        "id": "Ojs72PAZ6kzM"
      },
      "outputs": [],
      "source": [
        "import re\n",
        "import numpy as np\n",
        "import json\n",
        "import pandas as pd\n",
        "import glob"
      ]
    },
    {
      "cell_type": "code",
      "execution_count": null,
      "metadata": {
        "id": "NA2N4ANqdyes"
      },
      "outputs": [],
      "source": [
        "def completedGrade(x):\n",
        "  if str(x) == \"P\":\n",
        "    return 0\n",
        "  elif str(x) == \"DRP\":\n",
        "    return 3.5\n",
        "\n",
        "  try:\n",
        "    grade = re.findall(r\"[-+]?\\d*\\.\\d+|\\d+\", str(x))[-1]\n",
        "    return float(grade)\n",
        "  except:\n",
        "    return np.nan"
      ]
    },
    {
      "cell_type": "code",
      "execution_count": null,
      "metadata": {
        "id": "zg3d5kewFF7l"
      },
      "outputs": [],
      "source": [
        "def gen_sns(allfiles):\n",
        "  snlist = []\n",
        "  for f in allfiles:\n",
        "    df = pd.read_csv(f,skiprows=9)\n",
        "    df = pd.read_csv(f)\n",
        "    f_list = list(df.STUDENTNO.unique())\n",
        "    snlist += f_list\n",
        "  snlist = list(set(snlist))\n",
        "  # Convert snlist to a NumPy array\n",
        "  snlist = np.array(snlist)\n",
        "  # Use a boolean array to filter out NaN values\n",
        "  snlist = snlist[~np.isnan(snlist)]\n",
        "  # Convert snlist back to a list\n",
        "  snlist = snlist.tolist()\n",
        "  return snlist"
      ]
    },
    {
      "cell_type": "code",
      "execution_count": null,
      "metadata": {
        "id": "3qugyGx4jwxY"
      },
      "outputs": [],
      "source": [
        "class Subject:\n",
        "\n",
        "  def __init__(self,name,units,prereqID = [], coreqID = [],alias = []):\n",
        "    self.name = name\n",
        "    self.units = units\n",
        "    self.prereqID = prereqID\n",
        "    self.coreqID = coreqID\n",
        "    self.takes = 0\n",
        "    self.grades = []\n",
        "    self.prof = []\n",
        "    self.currentProf = ''\n",
        "    self.currentGrade = np.nan\n",
        "    self.alias = alias\n",
        "    self.prereq = []\n",
        "    self.coreq = []\n",
        "\n",
        "  def addCoreq(self,subj):\n",
        "    self.coreq.append(subj)\n",
        "\n",
        "  def addTake(self, prof,grade):\n",
        "    self.prof.append(prof)\n",
        "    self.grades.append(grade)\n",
        "    self.takes += 1\n",
        "    self.currentProf = prof\n",
        "    self.currentGrade = grade\n",
        "\n",
        "  def addPrereq(self,subj):\n",
        "    self.prereq.append(subj)\n",
        "\n",
        "  def getGrade(self):\n",
        "    return sum(self.grades)/self.takes\n",
        "\n",
        "  def __repr__(self):\n",
        "    return self.name"
      ]
    },
    {
      "cell_type": "code",
      "execution_count": null,
      "metadata": {
        "id": "FHKldKUUmTUF"
      },
      "outputs": [],
      "source": [
        "class Curriculum:\n",
        "  def __init__(self,json_file):\n",
        "      with open(json_file, 'r') as file:\n",
        "          data = json.load(file)\n",
        "      self.name = data.get('name')\n",
        "      self.year = data.get('year')\n",
        "      self.subjects = self.populateSubj(data.get('subjects'))\n",
        "\n",
        "      for subs in self.subjects.values():\n",
        "        for i in subs.prereqID:\n",
        "          subs.addPrereq(self.subjects[i])\n",
        "        for i in subs.coreqID:\n",
        "          subs.addCoreq(self.subjects[i])\n",
        "\n",
        "  def populateSubj(self,subs):\n",
        "    subjects = {}\n",
        "    for i in subs:\n",
        "      subj = Subject(i.get('title'),i.get('unit'), i.get('prereq'), i.get('coreq'), alias = i.get('alias'))\n",
        "      subjects[i.get('id')] = subj\n",
        "    return subjects\n"
      ]
    },
    {
      "cell_type": "code",
      "execution_count": null,
      "metadata": {
        "id": "jGVxMYYnwr7r"
      },
      "outputs": [],
      "source": [
        "class Student:\n",
        "  def __init__(self, f, curriculum_json):\n",
        "    self.curriculum = Curriculum(curriculum_json)\n",
        "    self.othersubs = []\n",
        "\n",
        "    try:\n",
        "      self.name, self.sn, self.subjects = self.openHTML(f)\n",
        "      name_to_id = {i.name: id for id, i in self.curriculum.subjects.items()}\n",
        "      for index, row in self.subjects.iterrows():\n",
        "        subject_id = name_to_id.get(row['course'])\n",
        "        if subject_id != None:\n",
        "          self.curriculum.subjects[subject_id].addTake(row['Instructor/s'],row['Grade'])\n",
        "        else:\n",
        "          sub = Subject(row['course'],row['Units'])\n",
        "          sub.addTake(row['Instructor/s'],row['Grade'])\n",
        "          self.othersubs.append(sub)\n",
        "\n",
        "      self.grades = pd.DataFrame({\n",
        "          'course': [i.name for i in list(self.curriculum.subjects.values())],\n",
        "          'takes': [i.takes for i in list(self.curriculum.subjects.values())],\n",
        "          'current grade': [i.currentGrade if hasattr(i,'currentGrade') else None for i in list(self.curriculum.subjects.values())]\n",
        "      })\n",
        "\n",
        "    except:\n",
        "      raise ValueError('Unsupported file type for f argument')\n",
        "\n",
        "  def openHTML(self,f):\n",
        "    grades = pd.read_html(f)\n",
        "    master = pd.DataFrame({})\n",
        "    name = grades[0].loc[0,0]\n",
        "    sn = grades[0].loc[1,0]\n",
        "\n",
        "    for i in range(1,len(grades)-5):\n",
        "      try:\n",
        "        sem = (grades[i].columns[0][0])\n",
        "        grades[i].columns = [a[1] for a in  grades[i].columns.to_flat_index()]\n",
        "        grades[i]['sem']=sem\n",
        "        master = pd.concat([master,grades[i][['Class','Instructor/s','Units','Grade','sem']]])\n",
        "      except:\n",
        "        sem = (grades[i].columns[0][0])\n",
        "        print(sem)\n",
        "        continue\n",
        "    master['Instructor/s'] = master['Instructor/s'].fillna('No Record')\n",
        "    master['Grade'] = master['Grade'].fillna(6)\n",
        "    master = master.dropna()\n",
        "    master = master.reset_index()\n",
        "    master[['course','section']] = master['Class'].str.extract(r'(\\w+\\s[\\d.]+)\\s(.*)')\n",
        "    master['Grade'] = master.Grade.apply(completedGrade)\n",
        "    master['Units'] = master.Units.apply(completedGrade)\n",
        "    return name, sn, master\n",
        "\n",
        "  def solveCluster(self):\n",
        "    cluster = {\n",
        "        'GC' : ['GE 120','GE 122','GE 127','GE 128','GE 129'],\n",
        "        'G' : ['GE 161','GE 162','GE 168','GE 169','GE 151','GE 152','GE 153','GE 154','GE 155','GE 155.1','GE 155.2'],\n",
        "        'S' : ['GE 10','GE 12','GE 116','GE 117','GE 118','GE 119','GE 193'],\n",
        "        'GIS' : ['GE 30','GE 173','GIM 165','GIM 175','GIM 176','GIM 177'],\n",
        "        'RS' : ['GsE 188','GsE 189'],\n",
        "        'L' : ['GE 142','GE 143','GE 144','GE 148','GE 149'],\n",
        "        'RP' : ['GE 2','GE 192','GE 197','GE 191','GE 190','GE 199','GE 200'],\n",
        "        'MP' : ['Math 21','Math 22','Math 23','Math 17','Math 53','Math 54','Math 55','Physics 71','Physics 72','Physics 73','Physics 71.1','Physics 72.1','Physics 73.1'],\n",
        "        'Gen': ['Kas 1','Arts 1','Speech 30','Fil 40','Philo 1','Soc Sci 2','Eng 13','Eng 13','STS 1']\n",
        "    }\n",
        "    clusterGrade = {}\n",
        "    for i in cluster.keys():\n",
        "      filter = self.subjects[self.subjects['course'].isin(cluster[i])]\n",
        "      filter = filter.dropna()\n",
        "      prof = list(set(filter['Instructor/s'].values))\n",
        "      clusterGrade[i+'_prof'] = prof\n",
        "      clusterGrade[i]=sum(filter.Units*filter.Grade)/sum(filter.Units)\n",
        "    return clusterGrade\n",
        "\n",
        "  def checkPrereq(self,subject,overrides = []):\n",
        "    subs = [i for i in self.curriculum.subjects.values() if i.name == subject ]\n",
        "    if subs:\n",
        "      prereq_grade = [j.currentGrade for j in subs[0].prereq if j.name not in overrides]\n",
        "      coreq_prereq_grade =[]\n",
        "      for j in subs[0].coreq:\n",
        "        cp_grade = [k.currentGrade for k in j.prereq if k.name not in overrides]\n",
        "        coreq_prereq_grade += cp_grade\n",
        "\n",
        "      all_grades = prereq_grade + coreq_prereq_grade\n",
        "      return (not np.any(np.isnan(all_grades))) and (not (np.any((np.array(all_grades) == 5) | (np.array(all_grades) == 4) | (np.array(all_grades) == 3.5))))\n",
        "\n",
        "    else:\n",
        "      return False\n",
        "\n",
        "  def checkTaken(self, subject):\n",
        "    subs = [i for i in self.curriculum.subjects.values() if i.name == subject ]\n",
        "    if subs:\n",
        "      if subs[0].takes > 0:\n",
        "        return True\n",
        "      else:\n",
        "        return False\n",
        "    else:\n",
        "      return False\n",
        "\n",
        "  def hasTakenAndPassed(self,subject):\n",
        "    subs = [i for i in self.curriculum.subjects.values() if i.name == subject ]\n",
        "    if subs:\n",
        "      if subs[0].takes > 0:\n",
        "        if subs[0].currentGrade <= 3:\n",
        "          return True\n",
        "        else:\n",
        "          return False\n",
        "      else:\n",
        "        return False\n",
        "    else:\n",
        "      return False\n",
        "\n",
        "  def isGraduate(self):\n",
        "    course_to_remove = ['[PE]', 'NSTP 1','NSTP 2','[Elective]','[GE]']\n",
        "    filtered_df = self.grades[~self.grades['course'].isin(course_to_remove)]\n",
        "    filtered_df = filtered_df[filtered_df['current grade'].isnull()]\n",
        "    print(filtered_df)\n",
        "    return not filtered_df.isnull().values.any()\n",
        "\n",
        "  def subsToTake(self):\n",
        "    course_to_remove = ['[PE]', 'NSTP 1','NSTP 2','[Elective]','[GE]']\n",
        "    filtered_df = self.grades[~self.grades['course'].isin(course_to_remove)]\n",
        "    filtered_df = filtered_df[(filtered_df['current grade'].isnull()) | (filtered_df['current grade'] < 3)]\n",
        "    return filtered_df\n",
        "\n",
        "  def isOngoing(self):\n",
        "    [i.currentGrade for i in list(self.curriculum.subjects.values())]\n",
        "    return [i.name for i in list(self.curriculum.subjects.values()) if i.currentGrade==6]\n",
        "\n"
      ]
    },
    {
      "cell_type": "code",
      "execution_count": null,
      "metadata": {
        "id": "JDkLYJ-N3DqW"
      },
      "outputs": [],
      "source": [
        "class Department:\n",
        "  def __init__(self, name, current_curriculum):\n",
        "    self.name = name\n",
        "    self.students = []\n",
        "    self.student_graduates = []\n",
        "    self.student_ongoing = []\n",
        "    self.current_curriculum = Curriculum(current_curriculum)\n",
        "\n",
        "  def addStudent(self,student):\n",
        "    self.students.append(student)\n",
        "\n",
        "  def checkDemand(self, subject,overrides = []):\n",
        "    subs = [i for i in self.current_curriculum.subjects.values() if i.name == subject ]\n",
        "    if subs:\n",
        "      print(f'Checking prerequisites for {subs[0].name}')\n",
        "      print('Prerequisites:')\n",
        "      for j in subs[0].prereq:\n",
        "        print(j.name)\n",
        "      print('Corequisites:')\n",
        "      for j in subs[0].coreq:\n",
        "        print(j.name)\n",
        "      for j in overrides:\n",
        "        print(f'Overriding grades for {j}')\n",
        "\n",
        "      filtered_students = [student for student in self.students if ((student.checkPrereq(subject,overrides)) and not (student.hasTakenAndPassed(subject)))]\n",
        "      subs = [i for i in self.current_curriculum.subjects.values() if i.name == subject ][0]\n",
        "      subs_keys = [i for i in self.current_curriculum.subjects.keys() if self.current_curriculum.subjects[i].name == subject][0]\n",
        "\n",
        "      cp = [j.prereq for j in subs.coreq if j.name not in overrides]\n",
        "      coreq_prereq = [item for sublist in cp for item in sublist]\n",
        "      all_subs = list(set(coreq_prereq + subs.prereq))\n",
        "\n",
        "      subj_df = pd.DataFrame({\n",
        "          'name': [i.name for i in filtered_students],\n",
        "          'sn': [i.sn for i in filtered_students],\n",
        "          'takes': [i.curriculum.subjects[subs_keys].takes for i in filtered_students],\n",
        "          'current grade': [i.curriculum.subjects[subs_keys].currentGrade for i in filtered_students],\n",
        "          'prereq': [i.checkPrereq(subject) for i in filtered_students],\n",
        "      })\n",
        "\n",
        "      for subj in all_subs:\n",
        "        subj_df[str(subj.name)] = [i.grades[i.grades['course'] == subj.name]['current grade'].values[0] for i in filtered_students]\n",
        "\n",
        "      for subj in overrides:\n",
        "        subj_df[subj + \"_ongoing\"] = [(subj in i.isOngoing()) for i in filtered_students]\n",
        "\n",
        "      return(subj_df)\n",
        "    else:\n",
        "      print(f'No subject {subject} found in department current curriculum')\n"
      ]
    },
    {
      "cell_type": "markdown",
      "metadata": {
        "id": "ewpIwc1BNn8q"
      },
      "source": [
        "# Demand Generation"
      ]
    },
    {
      "cell_type": "code",
      "execution_count": null,
      "metadata": {
        "id": "RkiDrLslExoC"
      },
      "outputs": [],
      "source": [
        "dge = Department('DGE','/content/BSGE_2019 (1).json')\n",
        "sn_list = gen_sns(glob.glob('/content/*.csv'))"
      ]
    },
    {
      "cell_type": "code",
      "source": [
        "sn_list"
      ],
      "metadata": {
        "colab": {
          "base_uri": "https://localhost:8080/"
        },
        "id": "yxpeZ0W1v2uc",
        "outputId": "0f2b7ade-b246-40b5-a963-71e26336c6d4"
      },
      "execution_count": null,
      "outputs": [
        {
          "output_type": "execute_result",
          "data": {
            "text/plain": [
              "[202203648,\n",
              " 201500160,\n",
              " 202111490,\n",
              " 202313733,\n",
              " 202308103,\n",
              " 202210313,\n",
              " 202414091,\n",
              " 202311183,\n",
              " 202420241,\n",
              " 202412050,\n",
              " 202307094,\n",
              " 202208279,\n",
              " 202302488,\n",
              " 202404377,\n",
              " 202108954,\n",
              " 202405915,\n",
              " 202308124,\n",
              " 201441821,\n",
              " 202203677,\n",
              " 202400279,\n",
              " 202007584,\n",
              " 202408993,\n",
              " 202407970,\n",
              " 202005541,\n",
              " 202203174,\n",
              " 202301991,\n",
              " 202012199,\n",
              " 202302505,\n",
              " 202403372,\n",
              " 200604717,\n",
              " 201905712,\n",
              " 202311218,\n",
              " 202204210,\n",
              " 202210356,\n",
              " 202001976,\n",
              " 202107450,\n",
              " 202203707,\n",
              " 202411072,\n",
              " 202302528,\n",
              " 202008130,\n",
              " 202102337,\n",
              " 202407492,\n",
              " 201921092,\n",
              " 202408004,\n",
              " 202110535,\n",
              " 202001480,\n",
              " 202105416,\n",
              " 202304590,\n",
              " 202406991,\n",
              " 202105936,\n",
              " 202113103,\n",
              " 202311762,\n",
              " 202410579,\n",
              " 202204244,\n",
              " 202212951,\n",
              " 201506391,\n",
              " 201500761,\n",
              " 202403418,\n",
              " 201904736,\n",
              " 202400868,\n",
              " 201909349,\n",
              " 202411622,\n",
              " 202404453,\n",
              " 202304104,\n",
              " 202402917,\n",
              " 202402925,\n",
              " 202204269,\n",
              " 201905773,\n",
              " 202402416,\n",
              " 202303088,\n",
              " 202316915,\n",
              " 201905780,\n",
              " 201904244,\n",
              " 202206838,\n",
              " 202313332,\n",
              " 202106996,\n",
              " 202306169,\n",
              " 202321018,\n",
              " 202321017,\n",
              " 202201205,\n",
              " 202111606,\n",
              " 202404990,\n",
              " 201460863,\n",
              " 202211456,\n",
              " 202315905,\n",
              " 202306178,\n",
              " 202003075,\n",
              " 202108548,\n",
              " 202112137,\n",
              " 202401929,\n",
              " 202303115,\n",
              " 202305163,\n",
              " 201789584,\n",
              " 202321040,\n",
              " 201900689,\n",
              " 202112147,\n",
              " 202305683,\n",
              " 202304657,\n",
              " 202403479,\n",
              " 202108567,\n",
              " 202201241,\n",
              " 202212506,\n",
              " 201811096,\n",
              " 202311836,\n",
              " 201821341,\n",
              " 202409117,\n",
              " 202310300,\n",
              " 201909920,\n",
              " 202000550,\n",
              " 201802919,\n",
              " 202109608,\n",
              " 202102951,\n",
              " 201820327,\n",
              " 201812651,\n",
              " 201903277,\n",
              " 202300081,\n",
              " 202400946,\n",
              " 202316979,\n",
              " 202212532,\n",
              " 202000053,\n",
              " 202300083,\n",
              " 202403516,\n",
              " 201489597,\n",
              " 202408126,\n",
              " 202412739,\n",
              " 202105028,\n",
              " 202201797,\n",
              " 202410184,\n",
              " 202111689,\n",
              " 201906378,\n",
              " 202413771,\n",
              " 202212041,\n",
              " 201810639,\n",
              " 202203345,\n",
              " 202316500,\n",
              " 202112216,\n",
              " 202211032,\n",
              " 202108122,\n",
              " 202209499,\n",
              " 202415838,\n",
              " 202413278,\n",
              " 202207456,\n",
              " 201912033,\n",
              " 202403042,\n",
              " 201902310,\n",
              " 202402026,\n",
              " 201902317,\n",
              " 202104049,\n",
              " 202106610,\n",
              " 202066162,\n",
              " 202313974,\n",
              " 202005751,\n",
              " 202413816,\n",
              " 202402040,\n",
              " 201404156,\n",
              " 202201857,\n",
              " 202303234,\n",
              " 202004225,\n",
              " 202200833,\n",
              " 202314501,\n",
              " 201111809,\n",
              " 202404614,\n",
              " 201503489,\n",
              " 202112265,\n",
              " 202303240,\n",
              " 202107144,\n",
              " 202405636,\n",
              " 202209547,\n",
              " 202410257,\n",
              " 202401554,\n",
              " 202302227,\n",
              " 202101010,\n",
              " 201806613,\n",
              " 202311957,\n",
              " 202104599,\n",
              " 202102546,\n",
              " 202400017,\n",
              " 202120476,\n",
              " 202320668,\n",
              " 202200863,\n",
              " 202012449,\n",
              " 202317089,\n",
              " 201477413,\n",
              " 202306343,\n",
              " 202401064,\n",
              " 201490729,\n",
              " 202300715,\n",
              " 202306864,\n",
              " 202404658,\n",
              " 202414387,\n",
              " 202105140,\n",
              " 202210614,\n",
              " 202201399,\n",
              " 202207544,\n",
              " 201802552,\n",
              " 202202938,\n",
              " 202011972,\n",
              " 202312518,\n",
              " 202416455,\n",
              " 202401095,\n",
              " 202009420,\n",
              " 202408788,\n",
              " 202109270,\n",
              " 202408792,\n",
              " 202205017,\n",
              " 202104667,\n",
              " 202300252,\n",
              " 201801565,\n",
              " 202404191,\n",
              " 202404192,\n",
              " 202210659,\n",
              " 202212713,\n",
              " 202413930,\n",
              " 202311531,\n",
              " 201801068,\n",
              " 202200429,\n",
              " 202306414,\n",
              " 202308463,\n",
              " 202307951,\n",
              " 202410345,\n",
              " 202210674,\n",
              " 202406254,\n",
              " 202408308,\n",
              " 202300789,\n",
              " 202109302,\n",
              " 201902455,\n",
              " 202111350,\n",
              " 202404724,\n",
              " 202311034,\n",
              " 202416506,\n",
              " 202003322,\n",
              " 202207096,\n",
              " 202004350,\n",
              " 201904511,\n",
              " 201805184,\n",
              " 202205058,\n",
              " 202305411,\n",
              " 202304387,\n",
              " 202212227,\n",
              " 202211206,\n",
              " 202412935,\n",
              " 202402184,\n",
              " 202212234,\n",
              " 202203532,\n",
              " 202100108,\n",
              " 202107790,\n",
              " 202213782,\n",
              " 202112406,\n",
              " 202112925,\n",
              " 202001311,\n",
              " 202402719,\n",
              " 202110369,\n",
              " 202409889,\n",
              " 202409891,\n",
              " 202404260,\n",
              " 202408357,\n",
              " 202104223,\n",
              " 202212259,\n",
              " 202109358,\n",
              " 202304953,\n",
              " 202200506,\n",
              " 202403260,\n",
              " 202102205,\n",
              " 202311100,\n",
              " 202200511,\n",
              " 201802178,\n",
              " 202100163,\n",
              " 201907652,\n",
              " 202303941,\n",
              " 202205638,\n",
              " 202206662,\n",
              " 202211780,\n",
              " 202311625,\n",
              " 202303942,\n",
              " 202001355,\n",
              " 202401735,\n",
              " 201801677,\n",
              " 201690573,\n",
              " 202003919,\n",
              " 202303947,\n",
              " 201250253,\n",
              " 202206158,\n",
              " 202311638,\n",
              " 202005463,\n",
              " 202111451,\n",
              " 202111966,\n",
              " 202420702,\n",
              " 202414564,\n",
              " 202005478,\n",
              " 202300393,\n",
              " 202005482,\n",
              " 201505770,\n",
              " 202112493,\n",
              " 202415087,\n",
              " 202403313,\n",
              " 202100722,\n",
              " 202308088,\n",
              " 202406395,\n",
              " 202202111]"
            ]
          },
          "metadata": {},
          "execution_count": 11
        }
      ]
    },
    {
      "cell_type": "code",
      "source": [
        "# Step 1: Define the login URL and payload\n",
        "login_url = 'https://crs.upd.edu.ph/'\n",
        "target_url = 'https://crs.upd.edu.ph/viewgrades/'\n",
        "payload = {\n",
        "    'username': 'dge',\n",
        "    'password': 'updgecrs1937',\n",
        "    # Include any additional fields required by the login form\n",
        "}\n",
        "\n",
        "# Set up Chrome options\n",
        "chrome_options = Options()\n",
        "chrome_options.add_argument('--headless')\n",
        "chrome_options.add_argument('--no-sandbox')\n",
        "chrome_options.add_argument('--disable-dev-shm-usage')\n",
        "\n",
        "# Set up ChromeDriver\n",
        "service = Service('/usr/local/bin/chromedriver')\n",
        "driver = gs.Chrome()\n",
        "\n",
        "wait = WebDriverWait(driver, 30)\n",
        "driver.get(login_url)\n",
        "wait.until(EC.element_to_be_clickable((By.NAME, \"txt_login\"))).send_keys(payload['username'])\n",
        "\n",
        "password_field = driver.find_element(By.NAME, 'pwd_password')\n",
        "password_field.send_keys(payload['password'])\n",
        "\n",
        "# Submit the login form\n",
        "password_field.send_keys(Keys.RETURN)\n",
        "print(\"Logged in\")\n",
        "\n",
        "# Navigate to the target URL\n",
        "driver.get(target_url)\n",
        "error_sns = []\n",
        "\n",
        "for studentno in sn_list:\n",
        "  # Find the text box element (adjust the locator as needed)\n",
        "  text_box = driver.find_element(By.ID,'txt_studentno')\n",
        "  # Enter a value into the text box\n",
        "  text_box.send_keys(str(studentno))\n",
        "  text_box.submit()\n",
        "\n",
        "  # Optionally, wait for the page to load or for certain elements to appear\n",
        "  driver.implicitly_wait(10)\n",
        "\n",
        "  page_source = driver.page_source\n",
        "  try:\n",
        "    student = Student(page_source, '/content/BSGE_2019 (1).json')\n",
        "  except:\n",
        "    print(studentno)\n",
        "    error_sns.append(studentno)\n",
        "    continue\n",
        "  dge.addStudent(student)\n",
        "  break"
      ],
      "metadata": {
        "colab": {
          "base_uri": "https://localhost:8080/",
          "height": 154
        },
        "id": "s8JJ9xrnFxt8",
        "outputId": "f11a26a1-0d8e-4f41-9e6f-69eebdd8ef67"
      },
      "execution_count": null,
      "outputs": [
        {
          "output_type": "display_data",
          "data": {
            "text/plain": [
              "<IPython.core.display.HTML object>"
            ],
            "text/html": [
              "\n",
              "            <div class=\"spinner-container\">\n",
              "                <div class=\"spinner\" id=\"6f1e0808-f8ad-4f64-899a-2c8ad4be8302-circle\"></div>\n",
              "                <div class=\"spinner-text\" id=\"6f1e0808-f8ad-4f64-899a-2c8ad4be8302-text\">Updating and upgrading APT</div>\n",
              "            </div>\n",
              "            <style>\n",
              "                @keyframes spin {\n",
              "                    from { transform: rotate(0deg); }\n",
              "                    to { transform: rotate(360deg); }\n",
              "                }\n",
              "\n",
              "                .spinner-container {\n",
              "                    display: flex;\n",
              "                    align-items: center;\n",
              "                    margin-bottom: 3px;\n",
              "                }\n",
              "\n",
              "                .spinner {\n",
              "                    border: 3px solid rgba(0, 0, 0, 0.1);\n",
              "                    border-left-color: lightblue;\n",
              "                    border-radius: 50%;\n",
              "                    width: 12px;\n",
              "                    height: 12px;\n",
              "                    animation: spin 1s linear infinite;\n",
              "                }\n",
              "\n",
              "                .spinner-text {\n",
              "                    padding-left: 6px;\n",
              "                }\n",
              "            </style>\n",
              "        "
            ]
          },
          "metadata": {}
        },
        {
          "output_type": "display_data",
          "data": {
            "text/plain": [
              "<IPython.core.display.Javascript object>"
            ],
            "application/javascript": [
              "\n",
              "            const element = document.getElementById(\"6f1e0808-f8ad-4f64-899a-2c8ad4be8302-circle\");\n",
              "            element.style.border = \"3px solid limegreen\";\n",
              "            element.style.animation = \"none\";\n",
              "\n",
              "            const text = document.getElementById(\"6f1e0808-f8ad-4f64-899a-2c8ad4be8302-text\");\n",
              "            text.innerText = \"Updated and upgraded APT\";\n",
              "        "
            ]
          },
          "metadata": {}
        },
        {
          "output_type": "display_data",
          "data": {
            "text/plain": [
              "<IPython.core.display.HTML object>"
            ],
            "text/html": [
              "\n",
              "            <div class=\"spinner-container\">\n",
              "                <div class=\"spinner\" id=\"fc7a9d93-2acf-4412-9de0-d2f5e39ffb2f-circle\"></div>\n",
              "                <div class=\"spinner-text\" id=\"fc7a9d93-2acf-4412-9de0-d2f5e39ffb2f-text\">Downloading Google Chrome</div>\n",
              "            </div>\n",
              "            <style>\n",
              "                @keyframes spin {\n",
              "                    from { transform: rotate(0deg); }\n",
              "                    to { transform: rotate(360deg); }\n",
              "                }\n",
              "\n",
              "                .spinner-container {\n",
              "                    display: flex;\n",
              "                    align-items: center;\n",
              "                    margin-bottom: 3px;\n",
              "                }\n",
              "\n",
              "                .spinner {\n",
              "                    border: 3px solid rgba(0, 0, 0, 0.1);\n",
              "                    border-left-color: lightblue;\n",
              "                    border-radius: 50%;\n",
              "                    width: 12px;\n",
              "                    height: 12px;\n",
              "                    animation: spin 1s linear infinite;\n",
              "                }\n",
              "\n",
              "                .spinner-text {\n",
              "                    padding-left: 6px;\n",
              "                }\n",
              "            </style>\n",
              "        "
            ]
          },
          "metadata": {}
        },
        {
          "output_type": "display_data",
          "data": {
            "text/plain": [
              "<IPython.core.display.Javascript object>"
            ],
            "application/javascript": [
              "\n",
              "            const element = document.getElementById(\"fc7a9d93-2acf-4412-9de0-d2f5e39ffb2f-circle\");\n",
              "            element.style.border = \"3px solid limegreen\";\n",
              "            element.style.animation = \"none\";\n",
              "\n",
              "            const text = document.getElementById(\"fc7a9d93-2acf-4412-9de0-d2f5e39ffb2f-text\");\n",
              "            text.innerText = \"Downloaded Google Chrome\";\n",
              "        "
            ]
          },
          "metadata": {}
        },
        {
          "output_type": "display_data",
          "data": {
            "text/plain": [
              "<IPython.core.display.HTML object>"
            ],
            "text/html": [
              "\n",
              "            <div class=\"spinner-container\">\n",
              "                <div class=\"spinner\" id=\"4a34c422-2cd0-489d-a73f-0fa3041110c2-circle\"></div>\n",
              "                <div class=\"spinner-text\" id=\"4a34c422-2cd0-489d-a73f-0fa3041110c2-text\">Initializing Chromedriver</div>\n",
              "            </div>\n",
              "            <style>\n",
              "                @keyframes spin {\n",
              "                    from { transform: rotate(0deg); }\n",
              "                    to { transform: rotate(360deg); }\n",
              "                }\n",
              "\n",
              "                .spinner-container {\n",
              "                    display: flex;\n",
              "                    align-items: center;\n",
              "                    margin-bottom: 3px;\n",
              "                }\n",
              "\n",
              "                .spinner {\n",
              "                    border: 3px solid rgba(0, 0, 0, 0.1);\n",
              "                    border-left-color: lightblue;\n",
              "                    border-radius: 50%;\n",
              "                    width: 12px;\n",
              "                    height: 12px;\n",
              "                    animation: spin 1s linear infinite;\n",
              "                }\n",
              "\n",
              "                .spinner-text {\n",
              "                    padding-left: 6px;\n",
              "                }\n",
              "            </style>\n",
              "        "
            ]
          },
          "metadata": {}
        },
        {
          "output_type": "display_data",
          "data": {
            "text/plain": [
              "<IPython.core.display.Javascript object>"
            ],
            "application/javascript": [
              "\n",
              "            const element = document.getElementById(\"4a34c422-2cd0-489d-a73f-0fa3041110c2-circle\");\n",
              "            element.style.border = \"3px solid limegreen\";\n",
              "            element.style.animation = \"none\";\n",
              "\n",
              "            const text = document.getElementById(\"4a34c422-2cd0-489d-a73f-0fa3041110c2-text\");\n",
              "            text.innerText = \"Initialized Chromedriver\";\n",
              "        "
            ]
          },
          "metadata": {}
        },
        {
          "output_type": "stream",
          "name": "stdout",
          "text": [
            "Logged in\n"
          ]
        },
        {
          "output_type": "stream",
          "name": "stderr",
          "text": [
            "<ipython-input-8-08c8f8285bf8>:28: FutureWarning: Passing literal html to 'read_html' is deprecated and will be removed in a future version. To read from a literal string, wrap it in a 'StringIO' object.\n",
            "  grades = pd.read_html(f)\n"
          ]
        }
      ]
    },
    {
      "cell_type": "code",
      "execution_count": null,
      "metadata": {
        "colab": {
          "base_uri": "https://localhost:8080/",
          "height": 1000
        },
        "id": "y5P2Dz0AnW1G",
        "outputId": "1572bcb6-5953-44d5-fed3-8f6646bca657"
      },
      "outputs": [
        {
          "output_type": "display_data",
          "data": {
            "text/plain": [
              "<IPython.core.display.HTML object>"
            ],
            "text/html": [
              "\n",
              "            <div class=\"spinner-container\">\n",
              "                <div class=\"spinner\" id=\"e177b057-1907-4710-8e5d-4de06bf2983d-circle\"></div>\n",
              "                <div class=\"spinner-text\" id=\"e177b057-1907-4710-8e5d-4de06bf2983d-text\">Updating and upgrading APT</div>\n",
              "            </div>\n",
              "            <style>\n",
              "                @keyframes spin {\n",
              "                    from { transform: rotate(0deg); }\n",
              "                    to { transform: rotate(360deg); }\n",
              "                }\n",
              "\n",
              "                .spinner-container {\n",
              "                    display: flex;\n",
              "                    align-items: center;\n",
              "                    margin-bottom: 3px;\n",
              "                }\n",
              "\n",
              "                .spinner {\n",
              "                    border: 3px solid rgba(0, 0, 0, 0.1);\n",
              "                    border-left-color: lightblue;\n",
              "                    border-radius: 50%;\n",
              "                    width: 12px;\n",
              "                    height: 12px;\n",
              "                    animation: spin 1s linear infinite;\n",
              "                }\n",
              "\n",
              "                .spinner-text {\n",
              "                    padding-left: 6px;\n",
              "                }\n",
              "            </style>\n",
              "        "
            ]
          },
          "metadata": {}
        },
        {
          "output_type": "display_data",
          "data": {
            "text/plain": [
              "<IPython.core.display.Javascript object>"
            ],
            "application/javascript": [
              "\n",
              "            const element = document.getElementById(\"e177b057-1907-4710-8e5d-4de06bf2983d-circle\");\n",
              "            element.style.border = \"3px solid limegreen\";\n",
              "            element.style.animation = \"none\";\n",
              "\n",
              "            const text = document.getElementById(\"e177b057-1907-4710-8e5d-4de06bf2983d-text\");\n",
              "            text.innerText = \"Updated and upgraded APT\";\n",
              "        "
            ]
          },
          "metadata": {}
        },
        {
          "output_type": "display_data",
          "data": {
            "text/plain": [
              "<IPython.core.display.HTML object>"
            ],
            "text/html": [
              "\n",
              "            <div class=\"spinner-container\">\n",
              "                <div class=\"spinner\" id=\"d2c2bb11-fd7e-4bd1-a534-094f22de9af2-circle\"></div>\n",
              "                <div class=\"spinner-text\" id=\"d2c2bb11-fd7e-4bd1-a534-094f22de9af2-text\">Downloading Google Chrome</div>\n",
              "            </div>\n",
              "            <style>\n",
              "                @keyframes spin {\n",
              "                    from { transform: rotate(0deg); }\n",
              "                    to { transform: rotate(360deg); }\n",
              "                }\n",
              "\n",
              "                .spinner-container {\n",
              "                    display: flex;\n",
              "                    align-items: center;\n",
              "                    margin-bottom: 3px;\n",
              "                }\n",
              "\n",
              "                .spinner {\n",
              "                    border: 3px solid rgba(0, 0, 0, 0.1);\n",
              "                    border-left-color: lightblue;\n",
              "                    border-radius: 50%;\n",
              "                    width: 12px;\n",
              "                    height: 12px;\n",
              "                    animation: spin 1s linear infinite;\n",
              "                }\n",
              "\n",
              "                .spinner-text {\n",
              "                    padding-left: 6px;\n",
              "                }\n",
              "            </style>\n",
              "        "
            ]
          },
          "metadata": {}
        },
        {
          "output_type": "display_data",
          "data": {
            "text/plain": [
              "<IPython.core.display.Javascript object>"
            ],
            "application/javascript": [
              "\n",
              "            const element = document.getElementById(\"d2c2bb11-fd7e-4bd1-a534-094f22de9af2-circle\");\n",
              "            element.style.border = \"3px solid limegreen\";\n",
              "            element.style.animation = \"none\";\n",
              "\n",
              "            const text = document.getElementById(\"d2c2bb11-fd7e-4bd1-a534-094f22de9af2-text\");\n",
              "            text.innerText = \"Downloaded Google Chrome\";\n",
              "        "
            ]
          },
          "metadata": {}
        },
        {
          "output_type": "display_data",
          "data": {
            "text/plain": [
              "<IPython.core.display.HTML object>"
            ],
            "text/html": [
              "\n",
              "            <div class=\"spinner-container\">\n",
              "                <div class=\"spinner\" id=\"0081c987-3607-4756-b548-47b2aba8fe2d-circle\"></div>\n",
              "                <div class=\"spinner-text\" id=\"0081c987-3607-4756-b548-47b2aba8fe2d-text\">Initializing Chromedriver</div>\n",
              "            </div>\n",
              "            <style>\n",
              "                @keyframes spin {\n",
              "                    from { transform: rotate(0deg); }\n",
              "                    to { transform: rotate(360deg); }\n",
              "                }\n",
              "\n",
              "                .spinner-container {\n",
              "                    display: flex;\n",
              "                    align-items: center;\n",
              "                    margin-bottom: 3px;\n",
              "                }\n",
              "\n",
              "                .spinner {\n",
              "                    border: 3px solid rgba(0, 0, 0, 0.1);\n",
              "                    border-left-color: lightblue;\n",
              "                    border-radius: 50%;\n",
              "                    width: 12px;\n",
              "                    height: 12px;\n",
              "                    animation: spin 1s linear infinite;\n",
              "                }\n",
              "\n",
              "                .spinner-text {\n",
              "                    padding-left: 6px;\n",
              "                }\n",
              "            </style>\n",
              "        "
            ]
          },
          "metadata": {}
        },
        {
          "output_type": "display_data",
          "data": {
            "text/plain": [
              "<IPython.core.display.Javascript object>"
            ],
            "application/javascript": [
              "\n",
              "            const element = document.getElementById(\"0081c987-3607-4756-b548-47b2aba8fe2d-circle\");\n",
              "            element.style.border = \"3px solid limegreen\";\n",
              "            element.style.animation = \"none\";\n",
              "\n",
              "            const text = document.getElementById(\"0081c987-3607-4756-b548-47b2aba8fe2d-text\");\n",
              "            text.innerText = \"Initialized Chromedriver\";\n",
              "        "
            ]
          },
          "metadata": {}
        },
        {
          "output_type": "stream",
          "name": "stdout",
          "text": [
            "Logged in\n"
          ]
        },
        {
          "output_type": "stream",
          "name": "stderr",
          "text": [
            "<ipython-input-8-08c8f8285bf8>:28: FutureWarning: Passing literal html to 'read_html' is deprecated and will be removed in a future version. To read from a literal string, wrap it in a 'StringIO' object.\n",
            "  grades = pd.read_html(f)\n",
            "<ipython-input-8-08c8f8285bf8>:28: FutureWarning: Passing literal html to 'read_html' is deprecated and will be removed in a future version. To read from a literal string, wrap it in a 'StringIO' object.\n",
            "  grades = pd.read_html(f)\n"
          ]
        },
        {
          "output_type": "stream",
          "name": "stdout",
          "text": [
            "e\n",
            "i\n",
            "i\n",
            "S\n"
          ]
        },
        {
          "output_type": "stream",
          "name": "stderr",
          "text": [
            "<ipython-input-8-08c8f8285bf8>:28: FutureWarning: Passing literal html to 'read_html' is deprecated and will be removed in a future version. To read from a literal string, wrap it in a 'StringIO' object.\n",
            "  grades = pd.read_html(f)\n",
            "<ipython-input-8-08c8f8285bf8>:28: FutureWarning: Passing literal html to 'read_html' is deprecated and will be removed in a future version. To read from a literal string, wrap it in a 'StringIO' object.\n",
            "  grades = pd.read_html(f)\n",
            "<ipython-input-8-08c8f8285bf8>:28: FutureWarning: Passing literal html to 'read_html' is deprecated and will be removed in a future version. To read from a literal string, wrap it in a 'StringIO' object.\n",
            "  grades = pd.read_html(f)\n"
          ]
        },
        {
          "output_type": "stream",
          "name": "stdout",
          "text": [
            "e\n"
          ]
        },
        {
          "output_type": "stream",
          "name": "stderr",
          "text": [
            "<ipython-input-8-08c8f8285bf8>:28: FutureWarning: Passing literal html to 'read_html' is deprecated and will be removed in a future version. To read from a literal string, wrap it in a 'StringIO' object.\n",
            "  grades = pd.read_html(f)\n"
          ]
        },
        {
          "output_type": "stream",
          "name": "stdout",
          "text": [
            "S\n"
          ]
        },
        {
          "output_type": "stream",
          "name": "stderr",
          "text": [
            "<ipython-input-8-08c8f8285bf8>:28: FutureWarning: Passing literal html to 'read_html' is deprecated and will be removed in a future version. To read from a literal string, wrap it in a 'StringIO' object.\n",
            "  grades = pd.read_html(f)\n"
          ]
        },
        {
          "output_type": "stream",
          "name": "stdout",
          "text": [
            "202414091\n"
          ]
        },
        {
          "output_type": "stream",
          "name": "stderr",
          "text": [
            "<ipython-input-8-08c8f8285bf8>:28: FutureWarning: Passing literal html to 'read_html' is deprecated and will be removed in a future version. To read from a literal string, wrap it in a 'StringIO' object.\n",
            "  grades = pd.read_html(f)\n"
          ]
        },
        {
          "output_type": "stream",
          "name": "stdout",
          "text": [
            "202420241\n"
          ]
        },
        {
          "output_type": "stream",
          "name": "stderr",
          "text": [
            "<ipython-input-8-08c8f8285bf8>:28: FutureWarning: Passing literal html to 'read_html' is deprecated and will be removed in a future version. To read from a literal string, wrap it in a 'StringIO' object.\n",
            "  grades = pd.read_html(f)\n",
            "<ipython-input-8-08c8f8285bf8>:28: FutureWarning: Passing literal html to 'read_html' is deprecated and will be removed in a future version. To read from a literal string, wrap it in a 'StringIO' object.\n",
            "  grades = pd.read_html(f)\n"
          ]
        },
        {
          "output_type": "stream",
          "name": "stdout",
          "text": [
            "S\n"
          ]
        },
        {
          "output_type": "stream",
          "name": "stderr",
          "text": [
            "<ipython-input-8-08c8f8285bf8>:28: FutureWarning: Passing literal html to 'read_html' is deprecated and will be removed in a future version. To read from a literal string, wrap it in a 'StringIO' object.\n",
            "  grades = pd.read_html(f)\n",
            "<ipython-input-8-08c8f8285bf8>:28: FutureWarning: Passing literal html to 'read_html' is deprecated and will be removed in a future version. To read from a literal string, wrap it in a 'StringIO' object.\n",
            "  grades = pd.read_html(f)\n",
            "<ipython-input-8-08c8f8285bf8>:28: FutureWarning: Passing literal html to 'read_html' is deprecated and will be removed in a future version. To read from a literal string, wrap it in a 'StringIO' object.\n",
            "  grades = pd.read_html(f)\n",
            "<ipython-input-8-08c8f8285bf8>:28: FutureWarning: Passing literal html to 'read_html' is deprecated and will be removed in a future version. To read from a literal string, wrap it in a 'StringIO' object.\n",
            "  grades = pd.read_html(f)\n",
            "<ipython-input-8-08c8f8285bf8>:28: FutureWarning: Passing literal html to 'read_html' is deprecated and will be removed in a future version. To read from a literal string, wrap it in a 'StringIO' object.\n",
            "  grades = pd.read_html(f)\n",
            "<ipython-input-8-08c8f8285bf8>:28: FutureWarning: Passing literal html to 'read_html' is deprecated and will be removed in a future version. To read from a literal string, wrap it in a 'StringIO' object.\n",
            "  grades = pd.read_html(f)\n"
          ]
        },
        {
          "output_type": "stream",
          "name": "stdout",
          "text": [
            "e\n",
            "e\n",
            "S\n"
          ]
        },
        {
          "output_type": "stream",
          "name": "stderr",
          "text": [
            "<ipython-input-8-08c8f8285bf8>:28: FutureWarning: Passing literal html to 'read_html' is deprecated and will be removed in a future version. To read from a literal string, wrap it in a 'StringIO' object.\n",
            "  grades = pd.read_html(f)\n",
            "<ipython-input-8-08c8f8285bf8>:28: FutureWarning: Passing literal html to 'read_html' is deprecated and will be removed in a future version. To read from a literal string, wrap it in a 'StringIO' object.\n",
            "  grades = pd.read_html(f)\n"
          ]
        },
        {
          "output_type": "stream",
          "name": "stdout",
          "text": [
            "202400279\n",
            "i\n",
            "i\n",
            "S\n"
          ]
        },
        {
          "output_type": "stream",
          "name": "stderr",
          "text": [
            "<ipython-input-8-08c8f8285bf8>:28: FutureWarning: Passing literal html to 'read_html' is deprecated and will be removed in a future version. To read from a literal string, wrap it in a 'StringIO' object.\n",
            "  grades = pd.read_html(f)\n",
            "<ipython-input-8-08c8f8285bf8>:28: FutureWarning: Passing literal html to 'read_html' is deprecated and will be removed in a future version. To read from a literal string, wrap it in a 'StringIO' object.\n",
            "  grades = pd.read_html(f)\n"
          ]
        },
        {
          "output_type": "stream",
          "name": "stdout",
          "text": [
            "202407970\n",
            "i\n",
            "S\n"
          ]
        },
        {
          "output_type": "stream",
          "name": "stderr",
          "text": [
            "<ipython-input-8-08c8f8285bf8>:28: FutureWarning: Passing literal html to 'read_html' is deprecated and will be removed in a future version. To read from a literal string, wrap it in a 'StringIO' object.\n",
            "  grades = pd.read_html(f)\n"
          ]
        },
        {
          "output_type": "stream",
          "name": "stdout",
          "text": [
            "S\n"
          ]
        },
        {
          "output_type": "stream",
          "name": "stderr",
          "text": [
            "<ipython-input-8-08c8f8285bf8>:28: FutureWarning: Passing literal html to 'read_html' is deprecated and will be removed in a future version. To read from a literal string, wrap it in a 'StringIO' object.\n",
            "  grades = pd.read_html(f)\n",
            "<ipython-input-8-08c8f8285bf8>:28: FutureWarning: Passing literal html to 'read_html' is deprecated and will be removed in a future version. To read from a literal string, wrap it in a 'StringIO' object.\n",
            "  grades = pd.read_html(f)\n"
          ]
        },
        {
          "output_type": "stream",
          "name": "stdout",
          "text": [
            "S\n"
          ]
        },
        {
          "output_type": "stream",
          "name": "stderr",
          "text": [
            "<ipython-input-8-08c8f8285bf8>:28: FutureWarning: Passing literal html to 'read_html' is deprecated and will be removed in a future version. To read from a literal string, wrap it in a 'StringIO' object.\n",
            "  grades = pd.read_html(f)\n",
            "<ipython-input-8-08c8f8285bf8>:28: FutureWarning: Passing literal html to 'read_html' is deprecated and will be removed in a future version. To read from a literal string, wrap it in a 'StringIO' object.\n",
            "  grades = pd.read_html(f)\n"
          ]
        },
        {
          "output_type": "stream",
          "name": "stdout",
          "text": [
            "202403372\n",
            "S\n"
          ]
        },
        {
          "output_type": "stream",
          "name": "stderr",
          "text": [
            "<ipython-input-8-08c8f8285bf8>:28: FutureWarning: Passing literal html to 'read_html' is deprecated and will be removed in a future version. To read from a literal string, wrap it in a 'StringIO' object.\n",
            "  grades = pd.read_html(f)\n"
          ]
        },
        {
          "output_type": "stream",
          "name": "stdout",
          "text": [
            "C\n"
          ]
        },
        {
          "output_type": "stream",
          "name": "stderr",
          "text": [
            "<ipython-input-8-08c8f8285bf8>:28: FutureWarning: Passing literal html to 'read_html' is deprecated and will be removed in a future version. To read from a literal string, wrap it in a 'StringIO' object.\n",
            "  grades = pd.read_html(f)\n",
            "<ipython-input-8-08c8f8285bf8>:28: FutureWarning: Passing literal html to 'read_html' is deprecated and will be removed in a future version. To read from a literal string, wrap it in a 'StringIO' object.\n",
            "  grades = pd.read_html(f)\n",
            "<ipython-input-8-08c8f8285bf8>:28: FutureWarning: Passing literal html to 'read_html' is deprecated and will be removed in a future version. To read from a literal string, wrap it in a 'StringIO' object.\n",
            "  grades = pd.read_html(f)\n",
            "<ipython-input-8-08c8f8285bf8>:28: FutureWarning: Passing literal html to 'read_html' is deprecated and will be removed in a future version. To read from a literal string, wrap it in a 'StringIO' object.\n",
            "  grades = pd.read_html(f)\n"
          ]
        },
        {
          "output_type": "stream",
          "name": "stdout",
          "text": [
            "S\n"
          ]
        },
        {
          "output_type": "stream",
          "name": "stderr",
          "text": [
            "<ipython-input-8-08c8f8285bf8>:28: FutureWarning: Passing literal html to 'read_html' is deprecated and will be removed in a future version. To read from a literal string, wrap it in a 'StringIO' object.\n",
            "  grades = pd.read_html(f)\n",
            "<ipython-input-8-08c8f8285bf8>:28: FutureWarning: Passing literal html to 'read_html' is deprecated and will be removed in a future version. To read from a literal string, wrap it in a 'StringIO' object.\n",
            "  grades = pd.read_html(f)\n",
            "<ipython-input-8-08c8f8285bf8>:28: FutureWarning: Passing literal html to 'read_html' is deprecated and will be removed in a future version. To read from a literal string, wrap it in a 'StringIO' object.\n",
            "  grades = pd.read_html(f)\n"
          ]
        },
        {
          "output_type": "stream",
          "name": "stdout",
          "text": [
            "202411072\n"
          ]
        },
        {
          "output_type": "stream",
          "name": "stderr",
          "text": [
            "<ipython-input-8-08c8f8285bf8>:28: FutureWarning: Passing literal html to 'read_html' is deprecated and will be removed in a future version. To read from a literal string, wrap it in a 'StringIO' object.\n",
            "  grades = pd.read_html(f)\n",
            "<ipython-input-8-08c8f8285bf8>:28: FutureWarning: Passing literal html to 'read_html' is deprecated and will be removed in a future version. To read from a literal string, wrap it in a 'StringIO' object.\n",
            "  grades = pd.read_html(f)\n",
            "<ipython-input-8-08c8f8285bf8>:28: FutureWarning: Passing literal html to 'read_html' is deprecated and will be removed in a future version. To read from a literal string, wrap it in a 'StringIO' object.\n",
            "  grades = pd.read_html(f)\n",
            "<ipython-input-8-08c8f8285bf8>:28: FutureWarning: Passing literal html to 'read_html' is deprecated and will be removed in a future version. To read from a literal string, wrap it in a 'StringIO' object.\n",
            "  grades = pd.read_html(f)\n"
          ]
        },
        {
          "output_type": "stream",
          "name": "stdout",
          "text": [
            "S\n"
          ]
        },
        {
          "output_type": "stream",
          "name": "stderr",
          "text": [
            "<ipython-input-8-08c8f8285bf8>:28: FutureWarning: Passing literal html to 'read_html' is deprecated and will be removed in a future version. To read from a literal string, wrap it in a 'StringIO' object.\n",
            "  grades = pd.read_html(f)\n",
            "<ipython-input-8-08c8f8285bf8>:28: FutureWarning: Passing literal html to 'read_html' is deprecated and will be removed in a future version. To read from a literal string, wrap it in a 'StringIO' object.\n",
            "  grades = pd.read_html(f)\n",
            "<ipython-input-8-08c8f8285bf8>:28: FutureWarning: Passing literal html to 'read_html' is deprecated and will be removed in a future version. To read from a literal string, wrap it in a 'StringIO' object.\n",
            "  grades = pd.read_html(f)\n"
          ]
        },
        {
          "output_type": "stream",
          "name": "stdout",
          "text": [
            "S\n"
          ]
        },
        {
          "output_type": "stream",
          "name": "stderr",
          "text": [
            "<ipython-input-8-08c8f8285bf8>:28: FutureWarning: Passing literal html to 'read_html' is deprecated and will be removed in a future version. To read from a literal string, wrap it in a 'StringIO' object.\n",
            "  grades = pd.read_html(f)\n",
            "<ipython-input-8-08c8f8285bf8>:28: FutureWarning: Passing literal html to 'read_html' is deprecated and will be removed in a future version. To read from a literal string, wrap it in a 'StringIO' object.\n",
            "  grades = pd.read_html(f)\n",
            "<ipython-input-8-08c8f8285bf8>:28: FutureWarning: Passing literal html to 'read_html' is deprecated and will be removed in a future version. To read from a literal string, wrap it in a 'StringIO' object.\n",
            "  grades = pd.read_html(f)\n",
            "<ipython-input-8-08c8f8285bf8>:28: FutureWarning: Passing literal html to 'read_html' is deprecated and will be removed in a future version. To read from a literal string, wrap it in a 'StringIO' object.\n",
            "  grades = pd.read_html(f)\n",
            "<ipython-input-8-08c8f8285bf8>:28: FutureWarning: Passing literal html to 'read_html' is deprecated and will be removed in a future version. To read from a literal string, wrap it in a 'StringIO' object.\n",
            "  grades = pd.read_html(f)\n",
            "<ipython-input-8-08c8f8285bf8>:28: FutureWarning: Passing literal html to 'read_html' is deprecated and will be removed in a future version. To read from a literal string, wrap it in a 'StringIO' object.\n",
            "  grades = pd.read_html(f)\n",
            "<ipython-input-8-08c8f8285bf8>:28: FutureWarning: Passing literal html to 'read_html' is deprecated and will be removed in a future version. To read from a literal string, wrap it in a 'StringIO' object.\n",
            "  grades = pd.read_html(f)\n"
          ]
        },
        {
          "output_type": "stream",
          "name": "stdout",
          "text": [
            "202410579\n"
          ]
        },
        {
          "output_type": "stream",
          "name": "stderr",
          "text": [
            "<ipython-input-8-08c8f8285bf8>:28: FutureWarning: Passing literal html to 'read_html' is deprecated and will be removed in a future version. To read from a literal string, wrap it in a 'StringIO' object.\n",
            "  grades = pd.read_html(f)\n",
            "<ipython-input-8-08c8f8285bf8>:28: FutureWarning: Passing literal html to 'read_html' is deprecated and will be removed in a future version. To read from a literal string, wrap it in a 'StringIO' object.\n",
            "  grades = pd.read_html(f)\n"
          ]
        },
        {
          "output_type": "stream",
          "name": "stdout",
          "text": [
            "i\n",
            "e\n",
            "i\n",
            "S\n"
          ]
        },
        {
          "output_type": "stream",
          "name": "stderr",
          "text": [
            "<ipython-input-8-08c8f8285bf8>:28: FutureWarning: Passing literal html to 'read_html' is deprecated and will be removed in a future version. To read from a literal string, wrap it in a 'StringIO' object.\n",
            "  grades = pd.read_html(f)\n"
          ]
        },
        {
          "output_type": "stream",
          "name": "stdout",
          "text": [
            "C\n",
            "S\n"
          ]
        },
        {
          "output_type": "stream",
          "name": "stderr",
          "text": [
            "<ipython-input-8-08c8f8285bf8>:28: FutureWarning: Passing literal html to 'read_html' is deprecated and will be removed in a future version. To read from a literal string, wrap it in a 'StringIO' object.\n",
            "  grades = pd.read_html(f)\n"
          ]
        },
        {
          "output_type": "stream",
          "name": "stdout",
          "text": [
            "202403418\n",
            "e\n",
            "S\n"
          ]
        },
        {
          "output_type": "stream",
          "name": "stderr",
          "text": [
            "<ipython-input-8-08c8f8285bf8>:28: FutureWarning: Passing literal html to 'read_html' is deprecated and will be removed in a future version. To read from a literal string, wrap it in a 'StringIO' object.\n",
            "  grades = pd.read_html(f)\n",
            "<ipython-input-8-08c8f8285bf8>:28: FutureWarning: Passing literal html to 'read_html' is deprecated and will be removed in a future version. To read from a literal string, wrap it in a 'StringIO' object.\n",
            "  grades = pd.read_html(f)\n"
          ]
        },
        {
          "output_type": "stream",
          "name": "stdout",
          "text": [
            "S\n"
          ]
        },
        {
          "output_type": "stream",
          "name": "stderr",
          "text": [
            "<ipython-input-8-08c8f8285bf8>:28: FutureWarning: Passing literal html to 'read_html' is deprecated and will be removed in a future version. To read from a literal string, wrap it in a 'StringIO' object.\n",
            "  grades = pd.read_html(f)\n",
            "<ipython-input-8-08c8f8285bf8>:28: FutureWarning: Passing literal html to 'read_html' is deprecated and will be removed in a future version. To read from a literal string, wrap it in a 'StringIO' object.\n",
            "  grades = pd.read_html(f)\n",
            "<ipython-input-8-08c8f8285bf8>:28: FutureWarning: Passing literal html to 'read_html' is deprecated and will be removed in a future version. To read from a literal string, wrap it in a 'StringIO' object.\n",
            "  grades = pd.read_html(f)\n",
            "<ipython-input-8-08c8f8285bf8>:28: FutureWarning: Passing literal html to 'read_html' is deprecated and will be removed in a future version. To read from a literal string, wrap it in a 'StringIO' object.\n",
            "  grades = pd.read_html(f)\n"
          ]
        },
        {
          "output_type": "stream",
          "name": "stdout",
          "text": [
            "202402917\n",
            "202402925\n"
          ]
        },
        {
          "output_type": "stream",
          "name": "stderr",
          "text": [
            "<ipython-input-8-08c8f8285bf8>:28: FutureWarning: Passing literal html to 'read_html' is deprecated and will be removed in a future version. To read from a literal string, wrap it in a 'StringIO' object.\n",
            "  grades = pd.read_html(f)\n"
          ]
        },
        {
          "output_type": "stream",
          "name": "stdout",
          "text": [
            "S\n"
          ]
        },
        {
          "output_type": "stream",
          "name": "stderr",
          "text": [
            "<ipython-input-8-08c8f8285bf8>:28: FutureWarning: Passing literal html to 'read_html' is deprecated and will be removed in a future version. To read from a literal string, wrap it in a 'StringIO' object.\n",
            "  grades = pd.read_html(f)\n"
          ]
        },
        {
          "output_type": "stream",
          "name": "stdout",
          "text": [
            "202402416\n",
            "S\n"
          ]
        },
        {
          "output_type": "stream",
          "name": "stderr",
          "text": [
            "<ipython-input-8-08c8f8285bf8>:28: FutureWarning: Passing literal html to 'read_html' is deprecated and will be removed in a future version. To read from a literal string, wrap it in a 'StringIO' object.\n",
            "  grades = pd.read_html(f)\n",
            "<ipython-input-8-08c8f8285bf8>:28: FutureWarning: Passing literal html to 'read_html' is deprecated and will be removed in a future version. To read from a literal string, wrap it in a 'StringIO' object.\n",
            "  grades = pd.read_html(f)\n",
            "<ipython-input-8-08c8f8285bf8>:28: FutureWarning: Passing literal html to 'read_html' is deprecated and will be removed in a future version. To read from a literal string, wrap it in a 'StringIO' object.\n",
            "  grades = pd.read_html(f)\n"
          ]
        },
        {
          "output_type": "stream",
          "name": "stdout",
          "text": [
            "i\n",
            "S\n"
          ]
        },
        {
          "output_type": "stream",
          "name": "stderr",
          "text": [
            "<ipython-input-8-08c8f8285bf8>:28: FutureWarning: Passing literal html to 'read_html' is deprecated and will be removed in a future version. To read from a literal string, wrap it in a 'StringIO' object.\n",
            "  grades = pd.read_html(f)\n",
            "<ipython-input-8-08c8f8285bf8>:28: FutureWarning: Passing literal html to 'read_html' is deprecated and will be removed in a future version. To read from a literal string, wrap it in a 'StringIO' object.\n",
            "  grades = pd.read_html(f)\n"
          ]
        },
        {
          "output_type": "stream",
          "name": "stdout",
          "text": [
            "i\n",
            "S\n"
          ]
        },
        {
          "output_type": "stream",
          "name": "stderr",
          "text": [
            "<ipython-input-8-08c8f8285bf8>:28: FutureWarning: Passing literal html to 'read_html' is deprecated and will be removed in a future version. To read from a literal string, wrap it in a 'StringIO' object.\n",
            "  grades = pd.read_html(f)\n",
            "<ipython-input-8-08c8f8285bf8>:28: FutureWarning: Passing literal html to 'read_html' is deprecated and will be removed in a future version. To read from a literal string, wrap it in a 'StringIO' object.\n",
            "  grades = pd.read_html(f)\n",
            "<ipython-input-8-08c8f8285bf8>:28: FutureWarning: Passing literal html to 'read_html' is deprecated and will be removed in a future version. To read from a literal string, wrap it in a 'StringIO' object.\n",
            "  grades = pd.read_html(f)\n",
            "<ipython-input-8-08c8f8285bf8>:28: FutureWarning: Passing literal html to 'read_html' is deprecated and will be removed in a future version. To read from a literal string, wrap it in a 'StringIO' object.\n",
            "  grades = pd.read_html(f)\n",
            "<ipython-input-8-08c8f8285bf8>:28: FutureWarning: Passing literal html to 'read_html' is deprecated and will be removed in a future version. To read from a literal string, wrap it in a 'StringIO' object.\n",
            "  grades = pd.read_html(f)\n",
            "<ipython-input-8-08c8f8285bf8>:28: FutureWarning: Passing literal html to 'read_html' is deprecated and will be removed in a future version. To read from a literal string, wrap it in a 'StringIO' object.\n",
            "  grades = pd.read_html(f)\n",
            "<ipython-input-8-08c8f8285bf8>:28: FutureWarning: Passing literal html to 'read_html' is deprecated and will be removed in a future version. To read from a literal string, wrap it in a 'StringIO' object.\n",
            "  grades = pd.read_html(f)\n"
          ]
        },
        {
          "output_type": "stream",
          "name": "stdout",
          "text": [
            "202404990\n",
            "i\n",
            "i\n",
            "e\n",
            "S\n"
          ]
        },
        {
          "output_type": "stream",
          "name": "stderr",
          "text": [
            "<ipython-input-8-08c8f8285bf8>:28: FutureWarning: Passing literal html to 'read_html' is deprecated and will be removed in a future version. To read from a literal string, wrap it in a 'StringIO' object.\n",
            "  grades = pd.read_html(f)\n",
            "<ipython-input-8-08c8f8285bf8>:28: FutureWarning: Passing literal html to 'read_html' is deprecated and will be removed in a future version. To read from a literal string, wrap it in a 'StringIO' object.\n",
            "  grades = pd.read_html(f)\n",
            "<ipython-input-8-08c8f8285bf8>:28: FutureWarning: Passing literal html to 'read_html' is deprecated and will be removed in a future version. To read from a literal string, wrap it in a 'StringIO' object.\n",
            "  grades = pd.read_html(f)\n",
            "<ipython-input-8-08c8f8285bf8>:28: FutureWarning: Passing literal html to 'read_html' is deprecated and will be removed in a future version. To read from a literal string, wrap it in a 'StringIO' object.\n",
            "  grades = pd.read_html(f)\n"
          ]
        },
        {
          "output_type": "stream",
          "name": "stdout",
          "text": [
            "S\n"
          ]
        },
        {
          "output_type": "stream",
          "name": "stderr",
          "text": [
            "<ipython-input-8-08c8f8285bf8>:28: FutureWarning: Passing literal html to 'read_html' is deprecated and will be removed in a future version. To read from a literal string, wrap it in a 'StringIO' object.\n",
            "  grades = pd.read_html(f)\n",
            "<ipython-input-8-08c8f8285bf8>:28: FutureWarning: Passing literal html to 'read_html' is deprecated and will be removed in a future version. To read from a literal string, wrap it in a 'StringIO' object.\n",
            "  grades = pd.read_html(f)\n",
            "<ipython-input-8-08c8f8285bf8>:28: FutureWarning: Passing literal html to 'read_html' is deprecated and will be removed in a future version. To read from a literal string, wrap it in a 'StringIO' object.\n",
            "  grades = pd.read_html(f)\n",
            "<ipython-input-8-08c8f8285bf8>:28: FutureWarning: Passing literal html to 'read_html' is deprecated and will be removed in a future version. To read from a literal string, wrap it in a 'StringIO' object.\n",
            "  grades = pd.read_html(f)\n",
            "<ipython-input-8-08c8f8285bf8>:28: FutureWarning: Passing literal html to 'read_html' is deprecated and will be removed in a future version. To read from a literal string, wrap it in a 'StringIO' object.\n",
            "  grades = pd.read_html(f)\n",
            "<ipython-input-8-08c8f8285bf8>:28: FutureWarning: Passing literal html to 'read_html' is deprecated and will be removed in a future version. To read from a literal string, wrap it in a 'StringIO' object.\n",
            "  grades = pd.read_html(f)\n"
          ]
        },
        {
          "output_type": "stream",
          "name": "stdout",
          "text": [
            "C\n",
            "i\n"
          ]
        },
        {
          "output_type": "stream",
          "name": "stderr",
          "text": [
            "<ipython-input-8-08c8f8285bf8>:28: FutureWarning: Passing literal html to 'read_html' is deprecated and will be removed in a future version. To read from a literal string, wrap it in a 'StringIO' object.\n",
            "  grades = pd.read_html(f)\n"
          ]
        },
        {
          "output_type": "stream",
          "name": "stdout",
          "text": [
            "e\n"
          ]
        },
        {
          "output_type": "stream",
          "name": "stderr",
          "text": [
            "<ipython-input-8-08c8f8285bf8>:28: FutureWarning: Passing literal html to 'read_html' is deprecated and will be removed in a future version. To read from a literal string, wrap it in a 'StringIO' object.\n",
            "  grades = pd.read_html(f)\n"
          ]
        },
        {
          "output_type": "stream",
          "name": "stdout",
          "text": [
            "i\n",
            "i\n",
            "S\n"
          ]
        },
        {
          "output_type": "stream",
          "name": "stderr",
          "text": [
            "<ipython-input-8-08c8f8285bf8>:28: FutureWarning: Passing literal html to 'read_html' is deprecated and will be removed in a future version. To read from a literal string, wrap it in a 'StringIO' object.\n",
            "  grades = pd.read_html(f)\n",
            "<ipython-input-8-08c8f8285bf8>:28: FutureWarning: Passing literal html to 'read_html' is deprecated and will be removed in a future version. To read from a literal string, wrap it in a 'StringIO' object.\n",
            "  grades = pd.read_html(f)\n",
            "<ipython-input-8-08c8f8285bf8>:28: FutureWarning: Passing literal html to 'read_html' is deprecated and will be removed in a future version. To read from a literal string, wrap it in a 'StringIO' object.\n",
            "  grades = pd.read_html(f)\n",
            "<ipython-input-8-08c8f8285bf8>:28: FutureWarning: Passing literal html to 'read_html' is deprecated and will be removed in a future version. To read from a literal string, wrap it in a 'StringIO' object.\n",
            "  grades = pd.read_html(f)\n"
          ]
        },
        {
          "output_type": "stream",
          "name": "stdout",
          "text": [
            "202403479\n"
          ]
        },
        {
          "output_type": "stream",
          "name": "stderr",
          "text": [
            "<ipython-input-8-08c8f8285bf8>:28: FutureWarning: Passing literal html to 'read_html' is deprecated and will be removed in a future version. To read from a literal string, wrap it in a 'StringIO' object.\n",
            "  grades = pd.read_html(f)\n",
            "<ipython-input-8-08c8f8285bf8>:28: FutureWarning: Passing literal html to 'read_html' is deprecated and will be removed in a future version. To read from a literal string, wrap it in a 'StringIO' object.\n",
            "  grades = pd.read_html(f)\n"
          ]
        },
        {
          "output_type": "stream",
          "name": "stdout",
          "text": [
            "S\n"
          ]
        },
        {
          "output_type": "stream",
          "name": "stderr",
          "text": [
            "<ipython-input-8-08c8f8285bf8>:28: FutureWarning: Passing literal html to 'read_html' is deprecated and will be removed in a future version. To read from a literal string, wrap it in a 'StringIO' object.\n",
            "  grades = pd.read_html(f)\n"
          ]
        },
        {
          "output_type": "stream",
          "name": "stdout",
          "text": [
            "e\n",
            "S\n"
          ]
        },
        {
          "output_type": "stream",
          "name": "stderr",
          "text": [
            "<ipython-input-8-08c8f8285bf8>:28: FutureWarning: Passing literal html to 'read_html' is deprecated and will be removed in a future version. To read from a literal string, wrap it in a 'StringIO' object.\n",
            "  grades = pd.read_html(f)\n",
            "<ipython-input-8-08c8f8285bf8>:28: FutureWarning: Passing literal html to 'read_html' is deprecated and will be removed in a future version. To read from a literal string, wrap it in a 'StringIO' object.\n",
            "  grades = pd.read_html(f)\n",
            "<ipython-input-8-08c8f8285bf8>:28: FutureWarning: Passing literal html to 'read_html' is deprecated and will be removed in a future version. To read from a literal string, wrap it in a 'StringIO' object.\n",
            "  grades = pd.read_html(f)\n"
          ]
        },
        {
          "output_type": "stream",
          "name": "stdout",
          "text": [
            "202409117\n"
          ]
        },
        {
          "output_type": "stream",
          "name": "stderr",
          "text": [
            "<ipython-input-8-08c8f8285bf8>:28: FutureWarning: Passing literal html to 'read_html' is deprecated and will be removed in a future version. To read from a literal string, wrap it in a 'StringIO' object.\n",
            "  grades = pd.read_html(f)\n"
          ]
        },
        {
          "output_type": "stream",
          "name": "stdout",
          "text": [
            "i\n",
            "i\n",
            "e\n",
            "S\n"
          ]
        },
        {
          "output_type": "stream",
          "name": "stderr",
          "text": [
            "<ipython-input-8-08c8f8285bf8>:28: FutureWarning: Passing literal html to 'read_html' is deprecated and will be removed in a future version. To read from a literal string, wrap it in a 'StringIO' object.\n",
            "  grades = pd.read_html(f)\n"
          ]
        },
        {
          "output_type": "stream",
          "name": "stdout",
          "text": [
            "S\n"
          ]
        },
        {
          "output_type": "stream",
          "name": "stderr",
          "text": [
            "<ipython-input-8-08c8f8285bf8>:28: FutureWarning: Passing literal html to 'read_html' is deprecated and will be removed in a future version. To read from a literal string, wrap it in a 'StringIO' object.\n",
            "  grades = pd.read_html(f)\n"
          ]
        },
        {
          "output_type": "stream",
          "name": "stdout",
          "text": [
            "S\n"
          ]
        },
        {
          "output_type": "stream",
          "name": "stderr",
          "text": [
            "<ipython-input-8-08c8f8285bf8>:28: FutureWarning: Passing literal html to 'read_html' is deprecated and will be removed in a future version. To read from a literal string, wrap it in a 'StringIO' object.\n",
            "  grades = pd.read_html(f)\n",
            "<ipython-input-8-08c8f8285bf8>:28: FutureWarning: Passing literal html to 'read_html' is deprecated and will be removed in a future version. To read from a literal string, wrap it in a 'StringIO' object.\n",
            "  grades = pd.read_html(f)\n",
            "<ipython-input-8-08c8f8285bf8>:28: FutureWarning: Passing literal html to 'read_html' is deprecated and will be removed in a future version. To read from a literal string, wrap it in a 'StringIO' object.\n",
            "  grades = pd.read_html(f)\n",
            "<ipython-input-8-08c8f8285bf8>:28: FutureWarning: Passing literal html to 'read_html' is deprecated and will be removed in a future version. To read from a literal string, wrap it in a 'StringIO' object.\n",
            "  grades = pd.read_html(f)\n"
          ]
        },
        {
          "output_type": "stream",
          "name": "stdout",
          "text": [
            "e\n",
            "S\n"
          ]
        },
        {
          "output_type": "stream",
          "name": "stderr",
          "text": [
            "<ipython-input-8-08c8f8285bf8>:28: FutureWarning: Passing literal html to 'read_html' is deprecated and will be removed in a future version. To read from a literal string, wrap it in a 'StringIO' object.\n",
            "  grades = pd.read_html(f)\n"
          ]
        },
        {
          "output_type": "stream",
          "name": "stdout",
          "text": [
            "i\n",
            "i\n",
            "e\n",
            "S\n"
          ]
        },
        {
          "output_type": "stream",
          "name": "stderr",
          "text": [
            "<ipython-input-8-08c8f8285bf8>:28: FutureWarning: Passing literal html to 'read_html' is deprecated and will be removed in a future version. To read from a literal string, wrap it in a 'StringIO' object.\n",
            "  grades = pd.read_html(f)\n",
            "<ipython-input-8-08c8f8285bf8>:28: FutureWarning: Passing literal html to 'read_html' is deprecated and will be removed in a future version. To read from a literal string, wrap it in a 'StringIO' object.\n",
            "  grades = pd.read_html(f)\n",
            "<ipython-input-8-08c8f8285bf8>:28: FutureWarning: Passing literal html to 'read_html' is deprecated and will be removed in a future version. To read from a literal string, wrap it in a 'StringIO' object.\n",
            "  grades = pd.read_html(f)\n",
            "<ipython-input-8-08c8f8285bf8>:28: FutureWarning: Passing literal html to 'read_html' is deprecated and will be removed in a future version. To read from a literal string, wrap it in a 'StringIO' object.\n",
            "  grades = pd.read_html(f)\n",
            "<ipython-input-8-08c8f8285bf8>:28: FutureWarning: Passing literal html to 'read_html' is deprecated and will be removed in a future version. To read from a literal string, wrap it in a 'StringIO' object.\n",
            "  grades = pd.read_html(f)\n",
            "<ipython-input-8-08c8f8285bf8>:28: FutureWarning: Passing literal html to 'read_html' is deprecated and will be removed in a future version. To read from a literal string, wrap it in a 'StringIO' object.\n",
            "  grades = pd.read_html(f)\n",
            "<ipython-input-8-08c8f8285bf8>:28: FutureWarning: Passing literal html to 'read_html' is deprecated and will be removed in a future version. To read from a literal string, wrap it in a 'StringIO' object.\n",
            "  grades = pd.read_html(f)\n",
            "<ipython-input-8-08c8f8285bf8>:28: FutureWarning: Passing literal html to 'read_html' is deprecated and will be removed in a future version. To read from a literal string, wrap it in a 'StringIO' object.\n",
            "  grades = pd.read_html(f)\n"
          ]
        },
        {
          "output_type": "stream",
          "name": "stdout",
          "text": [
            "S\n"
          ]
        },
        {
          "output_type": "stream",
          "name": "stderr",
          "text": [
            "<ipython-input-8-08c8f8285bf8>:28: FutureWarning: Passing literal html to 'read_html' is deprecated and will be removed in a future version. To read from a literal string, wrap it in a 'StringIO' object.\n",
            "  grades = pd.read_html(f)\n"
          ]
        },
        {
          "output_type": "stream",
          "name": "stdout",
          "text": [
            "202408126\n"
          ]
        },
        {
          "output_type": "stream",
          "name": "stderr",
          "text": [
            "<ipython-input-8-08c8f8285bf8>:28: FutureWarning: Passing literal html to 'read_html' is deprecated and will be removed in a future version. To read from a literal string, wrap it in a 'StringIO' object.\n",
            "  grades = pd.read_html(f)\n",
            "<ipython-input-8-08c8f8285bf8>:28: FutureWarning: Passing literal html to 'read_html' is deprecated and will be removed in a future version. To read from a literal string, wrap it in a 'StringIO' object.\n",
            "  grades = pd.read_html(f)\n",
            "<ipython-input-8-08c8f8285bf8>:28: FutureWarning: Passing literal html to 'read_html' is deprecated and will be removed in a future version. To read from a literal string, wrap it in a 'StringIO' object.\n",
            "  grades = pd.read_html(f)\n",
            "<ipython-input-8-08c8f8285bf8>:28: FutureWarning: Passing literal html to 'read_html' is deprecated and will be removed in a future version. To read from a literal string, wrap it in a 'StringIO' object.\n",
            "  grades = pd.read_html(f)\n",
            "<ipython-input-8-08c8f8285bf8>:28: FutureWarning: Passing literal html to 'read_html' is deprecated and will be removed in a future version. To read from a literal string, wrap it in a 'StringIO' object.\n",
            "  grades = pd.read_html(f)\n"
          ]
        },
        {
          "output_type": "stream",
          "name": "stdout",
          "text": [
            "S\n"
          ]
        },
        {
          "output_type": "stream",
          "name": "stderr",
          "text": [
            "<ipython-input-8-08c8f8285bf8>:28: FutureWarning: Passing literal html to 'read_html' is deprecated and will be removed in a future version. To read from a literal string, wrap it in a 'StringIO' object.\n",
            "  grades = pd.read_html(f)\n"
          ]
        },
        {
          "output_type": "stream",
          "name": "stdout",
          "text": [
            "202413771\n"
          ]
        },
        {
          "output_type": "stream",
          "name": "stderr",
          "text": [
            "<ipython-input-8-08c8f8285bf8>:28: FutureWarning: Passing literal html to 'read_html' is deprecated and will be removed in a future version. To read from a literal string, wrap it in a 'StringIO' object.\n",
            "  grades = pd.read_html(f)\n"
          ]
        },
        {
          "output_type": "stream",
          "name": "stdout",
          "text": [
            "C\n",
            "S\n"
          ]
        },
        {
          "output_type": "stream",
          "name": "stderr",
          "text": [
            "<ipython-input-8-08c8f8285bf8>:28: FutureWarning: Passing literal html to 'read_html' is deprecated and will be removed in a future version. To read from a literal string, wrap it in a 'StringIO' object.\n",
            "  grades = pd.read_html(f)\n"
          ]
        },
        {
          "output_type": "stream",
          "name": "stdout",
          "text": [
            "S\n"
          ]
        },
        {
          "output_type": "stream",
          "name": "stderr",
          "text": [
            "<ipython-input-8-08c8f8285bf8>:28: FutureWarning: Passing literal html to 'read_html' is deprecated and will be removed in a future version. To read from a literal string, wrap it in a 'StringIO' object.\n",
            "  grades = pd.read_html(f)\n",
            "<ipython-input-8-08c8f8285bf8>:28: FutureWarning: Passing literal html to 'read_html' is deprecated and will be removed in a future version. To read from a literal string, wrap it in a 'StringIO' object.\n",
            "  grades = pd.read_html(f)\n",
            "<ipython-input-8-08c8f8285bf8>:28: FutureWarning: Passing literal html to 'read_html' is deprecated and will be removed in a future version. To read from a literal string, wrap it in a 'StringIO' object.\n",
            "  grades = pd.read_html(f)\n",
            "<ipython-input-8-08c8f8285bf8>:28: FutureWarning: Passing literal html to 'read_html' is deprecated and will be removed in a future version. To read from a literal string, wrap it in a 'StringIO' object.\n",
            "  grades = pd.read_html(f)\n",
            "<ipython-input-8-08c8f8285bf8>:28: FutureWarning: Passing literal html to 'read_html' is deprecated and will be removed in a future version. To read from a literal string, wrap it in a 'StringIO' object.\n",
            "  grades = pd.read_html(f)\n",
            "<ipython-input-8-08c8f8285bf8>:28: FutureWarning: Passing literal html to 'read_html' is deprecated and will be removed in a future version. To read from a literal string, wrap it in a 'StringIO' object.\n",
            "  grades = pd.read_html(f)\n",
            "<ipython-input-8-08c8f8285bf8>:28: FutureWarning: Passing literal html to 'read_html' is deprecated and will be removed in a future version. To read from a literal string, wrap it in a 'StringIO' object.\n",
            "  grades = pd.read_html(f)\n"
          ]
        },
        {
          "output_type": "stream",
          "name": "stdout",
          "text": [
            "202413278\n"
          ]
        },
        {
          "output_type": "stream",
          "name": "stderr",
          "text": [
            "<ipython-input-8-08c8f8285bf8>:28: FutureWarning: Passing literal html to 'read_html' is deprecated and will be removed in a future version. To read from a literal string, wrap it in a 'StringIO' object.\n",
            "  grades = pd.read_html(f)\n",
            "<ipython-input-8-08c8f8285bf8>:28: FutureWarning: Passing literal html to 'read_html' is deprecated and will be removed in a future version. To read from a literal string, wrap it in a 'StringIO' object.\n",
            "  grades = pd.read_html(f)\n"
          ]
        },
        {
          "output_type": "stream",
          "name": "stdout",
          "text": [
            "202403042\n",
            "e\n",
            "S\n"
          ]
        },
        {
          "output_type": "stream",
          "name": "stderr",
          "text": [
            "<ipython-input-8-08c8f8285bf8>:28: FutureWarning: Passing literal html to 'read_html' is deprecated and will be removed in a future version. To read from a literal string, wrap it in a 'StringIO' object.\n",
            "  grades = pd.read_html(f)\n",
            "<ipython-input-8-08c8f8285bf8>:28: FutureWarning: Passing literal html to 'read_html' is deprecated and will be removed in a future version. To read from a literal string, wrap it in a 'StringIO' object.\n",
            "  grades = pd.read_html(f)\n"
          ]
        },
        {
          "output_type": "stream",
          "name": "stdout",
          "text": [
            "S\n"
          ]
        },
        {
          "output_type": "stream",
          "name": "stderr",
          "text": [
            "<ipython-input-8-08c8f8285bf8>:28: FutureWarning: Passing literal html to 'read_html' is deprecated and will be removed in a future version. To read from a literal string, wrap it in a 'StringIO' object.\n",
            "  grades = pd.read_html(f)\n",
            "<ipython-input-8-08c8f8285bf8>:28: FutureWarning: Passing literal html to 'read_html' is deprecated and will be removed in a future version. To read from a literal string, wrap it in a 'StringIO' object.\n",
            "  grades = pd.read_html(f)\n",
            "<ipython-input-8-08c8f8285bf8>:28: FutureWarning: Passing literal html to 'read_html' is deprecated and will be removed in a future version. To read from a literal string, wrap it in a 'StringIO' object.\n",
            "  grades = pd.read_html(f)\n"
          ]
        },
        {
          "output_type": "stream",
          "name": "stdout",
          "text": [
            "C\n"
          ]
        },
        {
          "output_type": "stream",
          "name": "stderr",
          "text": [
            "<ipython-input-8-08c8f8285bf8>:28: FutureWarning: Passing literal html to 'read_html' is deprecated and will be removed in a future version. To read from a literal string, wrap it in a 'StringIO' object.\n",
            "  grades = pd.read_html(f)\n",
            "<ipython-input-8-08c8f8285bf8>:28: FutureWarning: Passing literal html to 'read_html' is deprecated and will be removed in a future version. To read from a literal string, wrap it in a 'StringIO' object.\n",
            "  grades = pd.read_html(f)\n"
          ]
        },
        {
          "output_type": "stream",
          "name": "stdout",
          "text": [
            "S\n"
          ]
        },
        {
          "output_type": "stream",
          "name": "stderr",
          "text": [
            "<ipython-input-8-08c8f8285bf8>:28: FutureWarning: Passing literal html to 'read_html' is deprecated and will be removed in a future version. To read from a literal string, wrap it in a 'StringIO' object.\n",
            "  grades = pd.read_html(f)\n"
          ]
        },
        {
          "output_type": "stream",
          "name": "stdout",
          "text": [
            "202413816\n"
          ]
        },
        {
          "output_type": "stream",
          "name": "stderr",
          "text": [
            "<ipython-input-8-08c8f8285bf8>:28: FutureWarning: Passing literal html to 'read_html' is deprecated and will be removed in a future version. To read from a literal string, wrap it in a 'StringIO' object.\n",
            "  grades = pd.read_html(f)\n"
          ]
        },
        {
          "output_type": "stream",
          "name": "stdout",
          "text": [
            "i\n",
            "S\n"
          ]
        },
        {
          "output_type": "stream",
          "name": "stderr",
          "text": [
            "<ipython-input-8-08c8f8285bf8>:28: FutureWarning: Passing literal html to 'read_html' is deprecated and will be removed in a future version. To read from a literal string, wrap it in a 'StringIO' object.\n",
            "  grades = pd.read_html(f)\n",
            "<ipython-input-8-08c8f8285bf8>:28: FutureWarning: Passing literal html to 'read_html' is deprecated and will be removed in a future version. To read from a literal string, wrap it in a 'StringIO' object.\n",
            "  grades = pd.read_html(f)\n",
            "<ipython-input-8-08c8f8285bf8>:28: FutureWarning: Passing literal html to 'read_html' is deprecated and will be removed in a future version. To read from a literal string, wrap it in a 'StringIO' object.\n",
            "  grades = pd.read_html(f)\n"
          ]
        },
        {
          "output_type": "stream",
          "name": "stdout",
          "text": [
            "e\n",
            "S\n"
          ]
        },
        {
          "output_type": "stream",
          "name": "stderr",
          "text": [
            "<ipython-input-8-08c8f8285bf8>:28: FutureWarning: Passing literal html to 'read_html' is deprecated and will be removed in a future version. To read from a literal string, wrap it in a 'StringIO' object.\n",
            "  grades = pd.read_html(f)\n",
            "<ipython-input-8-08c8f8285bf8>:28: FutureWarning: Passing literal html to 'read_html' is deprecated and will be removed in a future version. To read from a literal string, wrap it in a 'StringIO' object.\n",
            "  grades = pd.read_html(f)\n",
            "<ipython-input-8-08c8f8285bf8>:28: FutureWarning: Passing literal html to 'read_html' is deprecated and will be removed in a future version. To read from a literal string, wrap it in a 'StringIO' object.\n",
            "  grades = pd.read_html(f)\n"
          ]
        },
        {
          "output_type": "stream",
          "name": "stdout",
          "text": [
            "e\n",
            "i\n",
            "i\n",
            "S\n"
          ]
        },
        {
          "output_type": "stream",
          "name": "stderr",
          "text": [
            "<ipython-input-8-08c8f8285bf8>:28: FutureWarning: Passing literal html to 'read_html' is deprecated and will be removed in a future version. To read from a literal string, wrap it in a 'StringIO' object.\n",
            "  grades = pd.read_html(f)\n"
          ]
        },
        {
          "output_type": "stream",
          "name": "stdout",
          "text": [
            "202404614\n",
            "e\n"
          ]
        },
        {
          "output_type": "stream",
          "name": "stderr",
          "text": [
            "<ipython-input-8-08c8f8285bf8>:28: FutureWarning: Passing literal html to 'read_html' is deprecated and will be removed in a future version. To read from a literal string, wrap it in a 'StringIO' object.\n",
            "  grades = pd.read_html(f)\n",
            "<ipython-input-8-08c8f8285bf8>:28: FutureWarning: Passing literal html to 'read_html' is deprecated and will be removed in a future version. To read from a literal string, wrap it in a 'StringIO' object.\n",
            "  grades = pd.read_html(f)\n",
            "<ipython-input-8-08c8f8285bf8>:28: FutureWarning: Passing literal html to 'read_html' is deprecated and will be removed in a future version. To read from a literal string, wrap it in a 'StringIO' object.\n",
            "  grades = pd.read_html(f)\n",
            "<ipython-input-8-08c8f8285bf8>:28: FutureWarning: Passing literal html to 'read_html' is deprecated and will be removed in a future version. To read from a literal string, wrap it in a 'StringIO' object.\n",
            "  grades = pd.read_html(f)\n",
            "<ipython-input-8-08c8f8285bf8>:28: FutureWarning: Passing literal html to 'read_html' is deprecated and will be removed in a future version. To read from a literal string, wrap it in a 'StringIO' object.\n",
            "  grades = pd.read_html(f)\n",
            "<ipython-input-8-08c8f8285bf8>:28: FutureWarning: Passing literal html to 'read_html' is deprecated and will be removed in a future version. To read from a literal string, wrap it in a 'StringIO' object.\n",
            "  grades = pd.read_html(f)\n",
            "<ipython-input-8-08c8f8285bf8>:28: FutureWarning: Passing literal html to 'read_html' is deprecated and will be removed in a future version. To read from a literal string, wrap it in a 'StringIO' object.\n",
            "  grades = pd.read_html(f)\n"
          ]
        },
        {
          "output_type": "stream",
          "name": "stdout",
          "text": [
            "202401554\n"
          ]
        },
        {
          "output_type": "stream",
          "name": "stderr",
          "text": [
            "<ipython-input-8-08c8f8285bf8>:28: FutureWarning: Passing literal html to 'read_html' is deprecated and will be removed in a future version. To read from a literal string, wrap it in a 'StringIO' object.\n",
            "  grades = pd.read_html(f)\n",
            "<ipython-input-8-08c8f8285bf8>:28: FutureWarning: Passing literal html to 'read_html' is deprecated and will be removed in a future version. To read from a literal string, wrap it in a 'StringIO' object.\n",
            "  grades = pd.read_html(f)\n"
          ]
        },
        {
          "output_type": "stream",
          "name": "stdout",
          "text": [
            "i\n",
            "i\n",
            "S\n"
          ]
        },
        {
          "output_type": "stream",
          "name": "stderr",
          "text": [
            "<ipython-input-8-08c8f8285bf8>:28: FutureWarning: Passing literal html to 'read_html' is deprecated and will be removed in a future version. To read from a literal string, wrap it in a 'StringIO' object.\n",
            "  grades = pd.read_html(f)\n",
            "<ipython-input-8-08c8f8285bf8>:28: FutureWarning: Passing literal html to 'read_html' is deprecated and will be removed in a future version. To read from a literal string, wrap it in a 'StringIO' object.\n",
            "  grades = pd.read_html(f)\n",
            "<ipython-input-8-08c8f8285bf8>:28: FutureWarning: Passing literal html to 'read_html' is deprecated and will be removed in a future version. To read from a literal string, wrap it in a 'StringIO' object.\n",
            "  grades = pd.read_html(f)\n"
          ]
        },
        {
          "output_type": "stream",
          "name": "stdout",
          "text": [
            "S\n"
          ]
        },
        {
          "output_type": "stream",
          "name": "stderr",
          "text": [
            "<ipython-input-8-08c8f8285bf8>:28: FutureWarning: Passing literal html to 'read_html' is deprecated and will be removed in a future version. To read from a literal string, wrap it in a 'StringIO' object.\n",
            "  grades = pd.read_html(f)\n"
          ]
        },
        {
          "output_type": "stream",
          "name": "stdout",
          "text": [
            "202400017\n",
            "C\n"
          ]
        },
        {
          "output_type": "stream",
          "name": "stderr",
          "text": [
            "<ipython-input-8-08c8f8285bf8>:28: FutureWarning: Passing literal html to 'read_html' is deprecated and will be removed in a future version. To read from a literal string, wrap it in a 'StringIO' object.\n",
            "  grades = pd.read_html(f)\n",
            "<ipython-input-8-08c8f8285bf8>:28: FutureWarning: Passing literal html to 'read_html' is deprecated and will be removed in a future version. To read from a literal string, wrap it in a 'StringIO' object.\n",
            "  grades = pd.read_html(f)\n",
            "<ipython-input-8-08c8f8285bf8>:28: FutureWarning: Passing literal html to 'read_html' is deprecated and will be removed in a future version. To read from a literal string, wrap it in a 'StringIO' object.\n",
            "  grades = pd.read_html(f)\n",
            "<ipython-input-8-08c8f8285bf8>:28: FutureWarning: Passing literal html to 'read_html' is deprecated and will be removed in a future version. To read from a literal string, wrap it in a 'StringIO' object.\n",
            "  grades = pd.read_html(f)\n",
            "<ipython-input-8-08c8f8285bf8>:28: FutureWarning: Passing literal html to 'read_html' is deprecated and will be removed in a future version. To read from a literal string, wrap it in a 'StringIO' object.\n",
            "  grades = pd.read_html(f)\n"
          ]
        },
        {
          "output_type": "stream",
          "name": "stdout",
          "text": [
            "S\n"
          ]
        },
        {
          "output_type": "stream",
          "name": "stderr",
          "text": [
            "<ipython-input-8-08c8f8285bf8>:28: FutureWarning: Passing literal html to 'read_html' is deprecated and will be removed in a future version. To read from a literal string, wrap it in a 'StringIO' object.\n",
            "  grades = pd.read_html(f)\n",
            "<ipython-input-8-08c8f8285bf8>:28: FutureWarning: Passing literal html to 'read_html' is deprecated and will be removed in a future version. To read from a literal string, wrap it in a 'StringIO' object.\n",
            "  grades = pd.read_html(f)\n"
          ]
        },
        {
          "output_type": "stream",
          "name": "stdout",
          "text": [
            "202401064\n"
          ]
        },
        {
          "output_type": "stream",
          "name": "stderr",
          "text": [
            "<ipython-input-8-08c8f8285bf8>:28: FutureWarning: Passing literal html to 'read_html' is deprecated and will be removed in a future version. To read from a literal string, wrap it in a 'StringIO' object.\n",
            "  grades = pd.read_html(f)\n",
            "<ipython-input-8-08c8f8285bf8>:28: FutureWarning: Passing literal html to 'read_html' is deprecated and will be removed in a future version. To read from a literal string, wrap it in a 'StringIO' object.\n",
            "  grades = pd.read_html(f)\n",
            "<ipython-input-8-08c8f8285bf8>:28: FutureWarning: Passing literal html to 'read_html' is deprecated and will be removed in a future version. To read from a literal string, wrap it in a 'StringIO' object.\n",
            "  grades = pd.read_html(f)\n",
            "<ipython-input-8-08c8f8285bf8>:28: FutureWarning: Passing literal html to 'read_html' is deprecated and will be removed in a future version. To read from a literal string, wrap it in a 'StringIO' object.\n",
            "  grades = pd.read_html(f)\n",
            "<ipython-input-8-08c8f8285bf8>:28: FutureWarning: Passing literal html to 'read_html' is deprecated and will be removed in a future version. To read from a literal string, wrap it in a 'StringIO' object.\n",
            "  grades = pd.read_html(f)\n",
            "<ipython-input-8-08c8f8285bf8>:28: FutureWarning: Passing literal html to 'read_html' is deprecated and will be removed in a future version. To read from a literal string, wrap it in a 'StringIO' object.\n",
            "  grades = pd.read_html(f)\n",
            "<ipython-input-8-08c8f8285bf8>:28: FutureWarning: Passing literal html to 'read_html' is deprecated and will be removed in a future version. To read from a literal string, wrap it in a 'StringIO' object.\n",
            "  grades = pd.read_html(f)\n"
          ]
        },
        {
          "output_type": "stream",
          "name": "stdout",
          "text": [
            "i\n",
            "S\n"
          ]
        },
        {
          "output_type": "stream",
          "name": "stderr",
          "text": [
            "<ipython-input-8-08c8f8285bf8>:28: FutureWarning: Passing literal html to 'read_html' is deprecated and will be removed in a future version. To read from a literal string, wrap it in a 'StringIO' object.\n",
            "  grades = pd.read_html(f)\n",
            "<ipython-input-8-08c8f8285bf8>:28: FutureWarning: Passing literal html to 'read_html' is deprecated and will be removed in a future version. To read from a literal string, wrap it in a 'StringIO' object.\n",
            "  grades = pd.read_html(f)\n",
            "<ipython-input-8-08c8f8285bf8>:28: FutureWarning: Passing literal html to 'read_html' is deprecated and will be removed in a future version. To read from a literal string, wrap it in a 'StringIO' object.\n",
            "  grades = pd.read_html(f)\n",
            "<ipython-input-8-08c8f8285bf8>:28: FutureWarning: Passing literal html to 'read_html' is deprecated and will be removed in a future version. To read from a literal string, wrap it in a 'StringIO' object.\n",
            "  grades = pd.read_html(f)\n"
          ]
        },
        {
          "output_type": "stream",
          "name": "stdout",
          "text": [
            "S\n"
          ]
        },
        {
          "output_type": "stream",
          "name": "stderr",
          "text": [
            "<ipython-input-8-08c8f8285bf8>:28: FutureWarning: Passing literal html to 'read_html' is deprecated and will be removed in a future version. To read from a literal string, wrap it in a 'StringIO' object.\n",
            "  grades = pd.read_html(f)\n",
            "<ipython-input-8-08c8f8285bf8>:28: FutureWarning: Passing literal html to 'read_html' is deprecated and will be removed in a future version. To read from a literal string, wrap it in a 'StringIO' object.\n",
            "  grades = pd.read_html(f)\n",
            "<ipython-input-8-08c8f8285bf8>:28: FutureWarning: Passing literal html to 'read_html' is deprecated and will be removed in a future version. To read from a literal string, wrap it in a 'StringIO' object.\n",
            "  grades = pd.read_html(f)\n",
            "<ipython-input-8-08c8f8285bf8>:28: FutureWarning: Passing literal html to 'read_html' is deprecated and will be removed in a future version. To read from a literal string, wrap it in a 'StringIO' object.\n",
            "  grades = pd.read_html(f)\n",
            "<ipython-input-8-08c8f8285bf8>:28: FutureWarning: Passing literal html to 'read_html' is deprecated and will be removed in a future version. To read from a literal string, wrap it in a 'StringIO' object.\n",
            "  grades = pd.read_html(f)\n"
          ]
        },
        {
          "output_type": "stream",
          "name": "stdout",
          "text": [
            "202408788\n"
          ]
        },
        {
          "output_type": "stream",
          "name": "stderr",
          "text": [
            "<ipython-input-8-08c8f8285bf8>:28: FutureWarning: Passing literal html to 'read_html' is deprecated and will be removed in a future version. To read from a literal string, wrap it in a 'StringIO' object.\n",
            "  grades = pd.read_html(f)\n"
          ]
        },
        {
          "output_type": "stream",
          "name": "stdout",
          "text": [
            "202408792\n"
          ]
        },
        {
          "output_type": "stream",
          "name": "stderr",
          "text": [
            "<ipython-input-8-08c8f8285bf8>:28: FutureWarning: Passing literal html to 'read_html' is deprecated and will be removed in a future version. To read from a literal string, wrap it in a 'StringIO' object.\n",
            "  grades = pd.read_html(f)\n"
          ]
        },
        {
          "output_type": "stream",
          "name": "stdout",
          "text": [
            "i\n",
            "S\n"
          ]
        },
        {
          "output_type": "stream",
          "name": "stderr",
          "text": [
            "<ipython-input-8-08c8f8285bf8>:28: FutureWarning: Passing literal html to 'read_html' is deprecated and will be removed in a future version. To read from a literal string, wrap it in a 'StringIO' object.\n",
            "  grades = pd.read_html(f)\n",
            "<ipython-input-8-08c8f8285bf8>:28: FutureWarning: Passing literal html to 'read_html' is deprecated and will be removed in a future version. To read from a literal string, wrap it in a 'StringIO' object.\n",
            "  grades = pd.read_html(f)\n"
          ]
        },
        {
          "output_type": "stream",
          "name": "stdout",
          "text": [
            "i\n",
            "i\n",
            "S\n"
          ]
        },
        {
          "output_type": "stream",
          "name": "stderr",
          "text": [
            "<ipython-input-8-08c8f8285bf8>:28: FutureWarning: Passing literal html to 'read_html' is deprecated and will be removed in a future version. To read from a literal string, wrap it in a 'StringIO' object.\n",
            "  grades = pd.read_html(f)\n",
            "<ipython-input-8-08c8f8285bf8>:28: FutureWarning: Passing literal html to 'read_html' is deprecated and will be removed in a future version. To read from a literal string, wrap it in a 'StringIO' object.\n",
            "  grades = pd.read_html(f)\n",
            "<ipython-input-8-08c8f8285bf8>:28: FutureWarning: Passing literal html to 'read_html' is deprecated and will be removed in a future version. To read from a literal string, wrap it in a 'StringIO' object.\n",
            "  grades = pd.read_html(f)\n",
            "<ipython-input-8-08c8f8285bf8>:28: FutureWarning: Passing literal html to 'read_html' is deprecated and will be removed in a future version. To read from a literal string, wrap it in a 'StringIO' object.\n",
            "  grades = pd.read_html(f)\n",
            "<ipython-input-8-08c8f8285bf8>:28: FutureWarning: Passing literal html to 'read_html' is deprecated and will be removed in a future version. To read from a literal string, wrap it in a 'StringIO' object.\n",
            "  grades = pd.read_html(f)\n",
            "<ipython-input-8-08c8f8285bf8>:28: FutureWarning: Passing literal html to 'read_html' is deprecated and will be removed in a future version. To read from a literal string, wrap it in a 'StringIO' object.\n",
            "  grades = pd.read_html(f)\n",
            "<ipython-input-8-08c8f8285bf8>:28: FutureWarning: Passing literal html to 'read_html' is deprecated and will be removed in a future version. To read from a literal string, wrap it in a 'StringIO' object.\n",
            "  grades = pd.read_html(f)\n"
          ]
        },
        {
          "output_type": "stream",
          "name": "stdout",
          "text": [
            "S\n"
          ]
        },
        {
          "output_type": "stream",
          "name": "stderr",
          "text": [
            "<ipython-input-8-08c8f8285bf8>:28: FutureWarning: Passing literal html to 'read_html' is deprecated and will be removed in a future version. To read from a literal string, wrap it in a 'StringIO' object.\n",
            "  grades = pd.read_html(f)\n",
            "<ipython-input-8-08c8f8285bf8>:28: FutureWarning: Passing literal html to 'read_html' is deprecated and will be removed in a future version. To read from a literal string, wrap it in a 'StringIO' object.\n",
            "  grades = pd.read_html(f)\n",
            "<ipython-input-8-08c8f8285bf8>:28: FutureWarning: Passing literal html to 'read_html' is deprecated and will be removed in a future version. To read from a literal string, wrap it in a 'StringIO' object.\n",
            "  grades = pd.read_html(f)\n",
            "<ipython-input-8-08c8f8285bf8>:28: FutureWarning: Passing literal html to 'read_html' is deprecated and will be removed in a future version. To read from a literal string, wrap it in a 'StringIO' object.\n",
            "  grades = pd.read_html(f)\n",
            "<ipython-input-8-08c8f8285bf8>:28: FutureWarning: Passing literal html to 'read_html' is deprecated and will be removed in a future version. To read from a literal string, wrap it in a 'StringIO' object.\n",
            "  grades = pd.read_html(f)\n",
            "<ipython-input-8-08c8f8285bf8>:28: FutureWarning: Passing literal html to 'read_html' is deprecated and will be removed in a future version. To read from a literal string, wrap it in a 'StringIO' object.\n",
            "  grades = pd.read_html(f)\n",
            "<ipython-input-8-08c8f8285bf8>:28: FutureWarning: Passing literal html to 'read_html' is deprecated and will be removed in a future version. To read from a literal string, wrap it in a 'StringIO' object.\n",
            "  grades = pd.read_html(f)\n",
            "<ipython-input-8-08c8f8285bf8>:28: FutureWarning: Passing literal html to 'read_html' is deprecated and will be removed in a future version. To read from a literal string, wrap it in a 'StringIO' object.\n",
            "  grades = pd.read_html(f)\n",
            "<ipython-input-8-08c8f8285bf8>:28: FutureWarning: Passing literal html to 'read_html' is deprecated and will be removed in a future version. To read from a literal string, wrap it in a 'StringIO' object.\n",
            "  grades = pd.read_html(f)\n",
            "<ipython-input-8-08c8f8285bf8>:28: FutureWarning: Passing literal html to 'read_html' is deprecated and will be removed in a future version. To read from a literal string, wrap it in a 'StringIO' object.\n",
            "  grades = pd.read_html(f)\n",
            "<ipython-input-8-08c8f8285bf8>:28: FutureWarning: Passing literal html to 'read_html' is deprecated and will be removed in a future version. To read from a literal string, wrap it in a 'StringIO' object.\n",
            "  grades = pd.read_html(f)\n"
          ]
        },
        {
          "output_type": "stream",
          "name": "stdout",
          "text": [
            "S\n"
          ]
        },
        {
          "output_type": "stream",
          "name": "stderr",
          "text": [
            "<ipython-input-8-08c8f8285bf8>:28: FutureWarning: Passing literal html to 'read_html' is deprecated and will be removed in a future version. To read from a literal string, wrap it in a 'StringIO' object.\n",
            "  grades = pd.read_html(f)\n",
            "<ipython-input-8-08c8f8285bf8>:28: FutureWarning: Passing literal html to 'read_html' is deprecated and will be removed in a future version. To read from a literal string, wrap it in a 'StringIO' object.\n",
            "  grades = pd.read_html(f)\n",
            "<ipython-input-8-08c8f8285bf8>:28: FutureWarning: Passing literal html to 'read_html' is deprecated and will be removed in a future version. To read from a literal string, wrap it in a 'StringIO' object.\n",
            "  grades = pd.read_html(f)\n",
            "<ipython-input-8-08c8f8285bf8>:28: FutureWarning: Passing literal html to 'read_html' is deprecated and will be removed in a future version. To read from a literal string, wrap it in a 'StringIO' object.\n",
            "  grades = pd.read_html(f)\n",
            "<ipython-input-8-08c8f8285bf8>:28: FutureWarning: Passing literal html to 'read_html' is deprecated and will be removed in a future version. To read from a literal string, wrap it in a 'StringIO' object.\n",
            "  grades = pd.read_html(f)\n"
          ]
        },
        {
          "output_type": "stream",
          "name": "stdout",
          "text": [
            "S\n"
          ]
        },
        {
          "output_type": "stream",
          "name": "stderr",
          "text": [
            "<ipython-input-8-08c8f8285bf8>:28: FutureWarning: Passing literal html to 'read_html' is deprecated and will be removed in a future version. To read from a literal string, wrap it in a 'StringIO' object.\n",
            "  grades = pd.read_html(f)\n",
            "<ipython-input-8-08c8f8285bf8>:28: FutureWarning: Passing literal html to 'read_html' is deprecated and will be removed in a future version. To read from a literal string, wrap it in a 'StringIO' object.\n",
            "  grades = pd.read_html(f)\n",
            "<ipython-input-8-08c8f8285bf8>:28: FutureWarning: Passing literal html to 'read_html' is deprecated and will be removed in a future version. To read from a literal string, wrap it in a 'StringIO' object.\n",
            "  grades = pd.read_html(f)\n"
          ]
        },
        {
          "output_type": "stream",
          "name": "stdout",
          "text": [
            "S\n"
          ]
        },
        {
          "output_type": "stream",
          "name": "stderr",
          "text": [
            "<ipython-input-8-08c8f8285bf8>:28: FutureWarning: Passing literal html to 'read_html' is deprecated and will be removed in a future version. To read from a literal string, wrap it in a 'StringIO' object.\n",
            "  grades = pd.read_html(f)\n"
          ]
        },
        {
          "output_type": "stream",
          "name": "stdout",
          "text": [
            "S\n"
          ]
        },
        {
          "output_type": "stream",
          "name": "stderr",
          "text": [
            "<ipython-input-8-08c8f8285bf8>:28: FutureWarning: Passing literal html to 'read_html' is deprecated and will be removed in a future version. To read from a literal string, wrap it in a 'StringIO' object.\n",
            "  grades = pd.read_html(f)\n",
            "<ipython-input-8-08c8f8285bf8>:28: FutureWarning: Passing literal html to 'read_html' is deprecated and will be removed in a future version. To read from a literal string, wrap it in a 'StringIO' object.\n",
            "  grades = pd.read_html(f)\n",
            "<ipython-input-8-08c8f8285bf8>:28: FutureWarning: Passing literal html to 'read_html' is deprecated and will be removed in a future version. To read from a literal string, wrap it in a 'StringIO' object.\n",
            "  grades = pd.read_html(f)\n",
            "<ipython-input-8-08c8f8285bf8>:28: FutureWarning: Passing literal html to 'read_html' is deprecated and will be removed in a future version. To read from a literal string, wrap it in a 'StringIO' object.\n",
            "  grades = pd.read_html(f)\n",
            "<ipython-input-8-08c8f8285bf8>:28: FutureWarning: Passing literal html to 'read_html' is deprecated and will be removed in a future version. To read from a literal string, wrap it in a 'StringIO' object.\n",
            "  grades = pd.read_html(f)\n",
            "<ipython-input-8-08c8f8285bf8>:28: FutureWarning: Passing literal html to 'read_html' is deprecated and will be removed in a future version. To read from a literal string, wrap it in a 'StringIO' object.\n",
            "  grades = pd.read_html(f)\n"
          ]
        },
        {
          "output_type": "stream",
          "name": "stdout",
          "text": [
            "202412935\n",
            "202402184\n"
          ]
        },
        {
          "output_type": "stream",
          "name": "stderr",
          "text": [
            "<ipython-input-8-08c8f8285bf8>:28: FutureWarning: Passing literal html to 'read_html' is deprecated and will be removed in a future version. To read from a literal string, wrap it in a 'StringIO' object.\n",
            "  grades = pd.read_html(f)\n",
            "<ipython-input-8-08c8f8285bf8>:28: FutureWarning: Passing literal html to 'read_html' is deprecated and will be removed in a future version. To read from a literal string, wrap it in a 'StringIO' object.\n",
            "  grades = pd.read_html(f)\n",
            "<ipython-input-8-08c8f8285bf8>:28: FutureWarning: Passing literal html to 'read_html' is deprecated and will be removed in a future version. To read from a literal string, wrap it in a 'StringIO' object.\n",
            "  grades = pd.read_html(f)\n",
            "<ipython-input-8-08c8f8285bf8>:28: FutureWarning: Passing literal html to 'read_html' is deprecated and will be removed in a future version. To read from a literal string, wrap it in a 'StringIO' object.\n",
            "  grades = pd.read_html(f)\n",
            "<ipython-input-8-08c8f8285bf8>:28: FutureWarning: Passing literal html to 'read_html' is deprecated and will be removed in a future version. To read from a literal string, wrap it in a 'StringIO' object.\n",
            "  grades = pd.read_html(f)\n",
            "<ipython-input-8-08c8f8285bf8>:28: FutureWarning: Passing literal html to 'read_html' is deprecated and will be removed in a future version. To read from a literal string, wrap it in a 'StringIO' object.\n",
            "  grades = pd.read_html(f)\n",
            "<ipython-input-8-08c8f8285bf8>:28: FutureWarning: Passing literal html to 'read_html' is deprecated and will be removed in a future version. To read from a literal string, wrap it in a 'StringIO' object.\n",
            "  grades = pd.read_html(f)\n",
            "<ipython-input-8-08c8f8285bf8>:28: FutureWarning: Passing literal html to 'read_html' is deprecated and will be removed in a future version. To read from a literal string, wrap it in a 'StringIO' object.\n",
            "  grades = pd.read_html(f)\n",
            "<ipython-input-8-08c8f8285bf8>:28: FutureWarning: Passing literal html to 'read_html' is deprecated and will be removed in a future version. To read from a literal string, wrap it in a 'StringIO' object.\n",
            "  grades = pd.read_html(f)\n",
            "<ipython-input-8-08c8f8285bf8>:28: FutureWarning: Passing literal html to 'read_html' is deprecated and will be removed in a future version. To read from a literal string, wrap it in a 'StringIO' object.\n",
            "  grades = pd.read_html(f)\n",
            "<ipython-input-8-08c8f8285bf8>:28: FutureWarning: Passing literal html to 'read_html' is deprecated and will be removed in a future version. To read from a literal string, wrap it in a 'StringIO' object.\n",
            "  grades = pd.read_html(f)\n"
          ]
        },
        {
          "output_type": "stream",
          "name": "stdout",
          "text": [
            "202409891\n"
          ]
        },
        {
          "output_type": "stream",
          "name": "stderr",
          "text": [
            "<ipython-input-8-08c8f8285bf8>:28: FutureWarning: Passing literal html to 'read_html' is deprecated and will be removed in a future version. To read from a literal string, wrap it in a 'StringIO' object.\n",
            "  grades = pd.read_html(f)\n"
          ]
        },
        {
          "output_type": "stream",
          "name": "stdout",
          "text": [
            "202408357\n"
          ]
        },
        {
          "output_type": "stream",
          "name": "stderr",
          "text": [
            "<ipython-input-8-08c8f8285bf8>:28: FutureWarning: Passing literal html to 'read_html' is deprecated and will be removed in a future version. To read from a literal string, wrap it in a 'StringIO' object.\n",
            "  grades = pd.read_html(f)\n",
            "<ipython-input-8-08c8f8285bf8>:28: FutureWarning: Passing literal html to 'read_html' is deprecated and will be removed in a future version. To read from a literal string, wrap it in a 'StringIO' object.\n",
            "  grades = pd.read_html(f)\n",
            "<ipython-input-8-08c8f8285bf8>:28: FutureWarning: Passing literal html to 'read_html' is deprecated and will be removed in a future version. To read from a literal string, wrap it in a 'StringIO' object.\n",
            "  grades = pd.read_html(f)\n",
            "<ipython-input-8-08c8f8285bf8>:28: FutureWarning: Passing literal html to 'read_html' is deprecated and will be removed in a future version. To read from a literal string, wrap it in a 'StringIO' object.\n",
            "  grades = pd.read_html(f)\n",
            "<ipython-input-8-08c8f8285bf8>:28: FutureWarning: Passing literal html to 'read_html' is deprecated and will be removed in a future version. To read from a literal string, wrap it in a 'StringIO' object.\n",
            "  grades = pd.read_html(f)\n",
            "<ipython-input-8-08c8f8285bf8>:28: FutureWarning: Passing literal html to 'read_html' is deprecated and will be removed in a future version. To read from a literal string, wrap it in a 'StringIO' object.\n",
            "  grades = pd.read_html(f)\n",
            "<ipython-input-8-08c8f8285bf8>:28: FutureWarning: Passing literal html to 'read_html' is deprecated and will be removed in a future version. To read from a literal string, wrap it in a 'StringIO' object.\n",
            "  grades = pd.read_html(f)\n",
            "<ipython-input-8-08c8f8285bf8>:28: FutureWarning: Passing literal html to 'read_html' is deprecated and will be removed in a future version. To read from a literal string, wrap it in a 'StringIO' object.\n",
            "  grades = pd.read_html(f)\n",
            "<ipython-input-8-08c8f8285bf8>:28: FutureWarning: Passing literal html to 'read_html' is deprecated and will be removed in a future version. To read from a literal string, wrap it in a 'StringIO' object.\n",
            "  grades = pd.read_html(f)\n"
          ]
        },
        {
          "output_type": "stream",
          "name": "stdout",
          "text": [
            "i\n",
            "i\n",
            "i\n",
            "S\n"
          ]
        },
        {
          "output_type": "stream",
          "name": "stderr",
          "text": [
            "<ipython-input-8-08c8f8285bf8>:28: FutureWarning: Passing literal html to 'read_html' is deprecated and will be removed in a future version. To read from a literal string, wrap it in a 'StringIO' object.\n",
            "  grades = pd.read_html(f)\n",
            "<ipython-input-8-08c8f8285bf8>:28: FutureWarning: Passing literal html to 'read_html' is deprecated and will be removed in a future version. To read from a literal string, wrap it in a 'StringIO' object.\n",
            "  grades = pd.read_html(f)\n"
          ]
        },
        {
          "output_type": "stream",
          "name": "stdout",
          "text": [
            "e\n",
            "S\n"
          ]
        },
        {
          "output_type": "stream",
          "name": "stderr",
          "text": [
            "<ipython-input-8-08c8f8285bf8>:28: FutureWarning: Passing literal html to 'read_html' is deprecated and will be removed in a future version. To read from a literal string, wrap it in a 'StringIO' object.\n",
            "  grades = pd.read_html(f)\n",
            "<ipython-input-8-08c8f8285bf8>:28: FutureWarning: Passing literal html to 'read_html' is deprecated and will be removed in a future version. To read from a literal string, wrap it in a 'StringIO' object.\n",
            "  grades = pd.read_html(f)\n",
            "<ipython-input-8-08c8f8285bf8>:28: FutureWarning: Passing literal html to 'read_html' is deprecated and will be removed in a future version. To read from a literal string, wrap it in a 'StringIO' object.\n",
            "  grades = pd.read_html(f)\n",
            "<ipython-input-8-08c8f8285bf8>:28: FutureWarning: Passing literal html to 'read_html' is deprecated and will be removed in a future version. To read from a literal string, wrap it in a 'StringIO' object.\n",
            "  grades = pd.read_html(f)\n",
            "<ipython-input-8-08c8f8285bf8>:28: FutureWarning: Passing literal html to 'read_html' is deprecated and will be removed in a future version. To read from a literal string, wrap it in a 'StringIO' object.\n",
            "  grades = pd.read_html(f)\n",
            "<ipython-input-8-08c8f8285bf8>:28: FutureWarning: Passing literal html to 'read_html' is deprecated and will be removed in a future version. To read from a literal string, wrap it in a 'StringIO' object.\n",
            "  grades = pd.read_html(f)\n",
            "<ipython-input-8-08c8f8285bf8>:28: FutureWarning: Passing literal html to 'read_html' is deprecated and will be removed in a future version. To read from a literal string, wrap it in a 'StringIO' object.\n",
            "  grades = pd.read_html(f)\n"
          ]
        },
        {
          "output_type": "stream",
          "name": "stdout",
          "text": [
            "S\n"
          ]
        },
        {
          "output_type": "stream",
          "name": "stderr",
          "text": [
            "<ipython-input-8-08c8f8285bf8>:28: FutureWarning: Passing literal html to 'read_html' is deprecated and will be removed in a future version. To read from a literal string, wrap it in a 'StringIO' object.\n",
            "  grades = pd.read_html(f)\n"
          ]
        },
        {
          "output_type": "stream",
          "name": "stdout",
          "text": [
            "202401735\n",
            "S\n"
          ]
        },
        {
          "output_type": "stream",
          "name": "stderr",
          "text": [
            "<ipython-input-8-08c8f8285bf8>:28: FutureWarning: Passing literal html to 'read_html' is deprecated and will be removed in a future version. To read from a literal string, wrap it in a 'StringIO' object.\n",
            "  grades = pd.read_html(f)\n"
          ]
        },
        {
          "output_type": "stream",
          "name": "stdout",
          "text": [
            "S\n"
          ]
        },
        {
          "output_type": "stream",
          "name": "stderr",
          "text": [
            "<ipython-input-8-08c8f8285bf8>:28: FutureWarning: Passing literal html to 'read_html' is deprecated and will be removed in a future version. To read from a literal string, wrap it in a 'StringIO' object.\n",
            "  grades = pd.read_html(f)\n",
            "<ipython-input-8-08c8f8285bf8>:28: FutureWarning: Passing literal html to 'read_html' is deprecated and will be removed in a future version. To read from a literal string, wrap it in a 'StringIO' object.\n",
            "  grades = pd.read_html(f)\n",
            "<ipython-input-8-08c8f8285bf8>:28: FutureWarning: Passing literal html to 'read_html' is deprecated and will be removed in a future version. To read from a literal string, wrap it in a 'StringIO' object.\n",
            "  grades = pd.read_html(f)\n",
            "<ipython-input-8-08c8f8285bf8>:28: FutureWarning: Passing literal html to 'read_html' is deprecated and will be removed in a future version. To read from a literal string, wrap it in a 'StringIO' object.\n",
            "  grades = pd.read_html(f)\n",
            "<ipython-input-8-08c8f8285bf8>:28: FutureWarning: Passing literal html to 'read_html' is deprecated and will be removed in a future version. To read from a literal string, wrap it in a 'StringIO' object.\n",
            "  grades = pd.read_html(f)\n",
            "<ipython-input-8-08c8f8285bf8>:28: FutureWarning: Passing literal html to 'read_html' is deprecated and will be removed in a future version. To read from a literal string, wrap it in a 'StringIO' object.\n",
            "  grades = pd.read_html(f)\n"
          ]
        },
        {
          "output_type": "stream",
          "name": "stdout",
          "text": [
            "i\n",
            "S\n"
          ]
        },
        {
          "output_type": "stream",
          "name": "stderr",
          "text": [
            "<ipython-input-8-08c8f8285bf8>:28: FutureWarning: Passing literal html to 'read_html' is deprecated and will be removed in a future version. To read from a literal string, wrap it in a 'StringIO' object.\n",
            "  grades = pd.read_html(f)\n"
          ]
        },
        {
          "output_type": "stream",
          "name": "stdout",
          "text": [
            "S\n"
          ]
        },
        {
          "output_type": "stream",
          "name": "stderr",
          "text": [
            "<ipython-input-8-08c8f8285bf8>:28: FutureWarning: Passing literal html to 'read_html' is deprecated and will be removed in a future version. To read from a literal string, wrap it in a 'StringIO' object.\n",
            "  grades = pd.read_html(f)\n",
            "<ipython-input-8-08c8f8285bf8>:28: FutureWarning: Passing literal html to 'read_html' is deprecated and will be removed in a future version. To read from a literal string, wrap it in a 'StringIO' object.\n",
            "  grades = pd.read_html(f)\n",
            "<ipython-input-8-08c8f8285bf8>:28: FutureWarning: Passing literal html to 'read_html' is deprecated and will be removed in a future version. To read from a literal string, wrap it in a 'StringIO' object.\n",
            "  grades = pd.read_html(f)\n"
          ]
        },
        {
          "output_type": "stream",
          "name": "stdout",
          "text": [
            "202414564\n",
            "S\n"
          ]
        },
        {
          "output_type": "stream",
          "name": "stderr",
          "text": [
            "<ipython-input-8-08c8f8285bf8>:28: FutureWarning: Passing literal html to 'read_html' is deprecated and will be removed in a future version. To read from a literal string, wrap it in a 'StringIO' object.\n",
            "  grades = pd.read_html(f)\n",
            "<ipython-input-8-08c8f8285bf8>:28: FutureWarning: Passing literal html to 'read_html' is deprecated and will be removed in a future version. To read from a literal string, wrap it in a 'StringIO' object.\n",
            "  grades = pd.read_html(f)\n",
            "<ipython-input-8-08c8f8285bf8>:28: FutureWarning: Passing literal html to 'read_html' is deprecated and will be removed in a future version. To read from a literal string, wrap it in a 'StringIO' object.\n",
            "  grades = pd.read_html(f)\n"
          ]
        },
        {
          "output_type": "stream",
          "name": "stdout",
          "text": [
            "S\n"
          ]
        },
        {
          "output_type": "stream",
          "name": "stderr",
          "text": [
            "<ipython-input-8-08c8f8285bf8>:28: FutureWarning: Passing literal html to 'read_html' is deprecated and will be removed in a future version. To read from a literal string, wrap it in a 'StringIO' object.\n",
            "  grades = pd.read_html(f)\n",
            "<ipython-input-8-08c8f8285bf8>:28: FutureWarning: Passing literal html to 'read_html' is deprecated and will be removed in a future version. To read from a literal string, wrap it in a 'StringIO' object.\n",
            "  grades = pd.read_html(f)\n",
            "<ipython-input-8-08c8f8285bf8>:28: FutureWarning: Passing literal html to 'read_html' is deprecated and will be removed in a future version. To read from a literal string, wrap it in a 'StringIO' object.\n",
            "  grades = pd.read_html(f)\n",
            "<ipython-input-8-08c8f8285bf8>:28: FutureWarning: Passing literal html to 'read_html' is deprecated and will be removed in a future version. To read from a literal string, wrap it in a 'StringIO' object.\n",
            "  grades = pd.read_html(f)\n",
            "<ipython-input-8-08c8f8285bf8>:28: FutureWarning: Passing literal html to 'read_html' is deprecated and will be removed in a future version. To read from a literal string, wrap it in a 'StringIO' object.\n",
            "  grades = pd.read_html(f)\n",
            "<ipython-input-8-08c8f8285bf8>:28: FutureWarning: Passing literal html to 'read_html' is deprecated and will be removed in a future version. To read from a literal string, wrap it in a 'StringIO' object.\n",
            "  grades = pd.read_html(f)\n"
          ]
        },
        {
          "output_type": "stream",
          "name": "stdout",
          "text": [
            "202406395\n",
            " \n",
            " \n"
          ]
        },
        {
          "output_type": "stream",
          "name": "stderr",
          "text": [
            "<ipython-input-8-08c8f8285bf8>:28: FutureWarning: Passing literal html to 'read_html' is deprecated and will be removed in a future version. To read from a literal string, wrap it in a 'StringIO' object.\n",
            "  grades = pd.read_html(f)\n"
          ]
        },
        {
          "output_type": "stream",
          "name": "stdout",
          "text": [
            "202414091\n",
            "202420241\n"
          ]
        },
        {
          "output_type": "stream",
          "name": "stderr",
          "text": [
            "<ipython-input-8-08c8f8285bf8>:28: FutureWarning: Passing literal html to 'read_html' is deprecated and will be removed in a future version. To read from a literal string, wrap it in a 'StringIO' object.\n",
            "  grades = pd.read_html(f)\n",
            "<ipython-input-8-08c8f8285bf8>:28: FutureWarning: Passing literal html to 'read_html' is deprecated and will be removed in a future version. To read from a literal string, wrap it in a 'StringIO' object.\n",
            "  grades = pd.read_html(f)\n"
          ]
        },
        {
          "output_type": "stream",
          "name": "stdout",
          "text": [
            "202403372\n",
            "202411072\n",
            "202410579\n"
          ]
        },
        {
          "output_type": "stream",
          "name": "stderr",
          "text": [
            "<ipython-input-8-08c8f8285bf8>:28: FutureWarning: Passing literal html to 'read_html' is deprecated and will be removed in a future version. To read from a literal string, wrap it in a 'StringIO' object.\n",
            "  grades = pd.read_html(f)\n",
            "<ipython-input-8-08c8f8285bf8>:28: FutureWarning: Passing literal html to 'read_html' is deprecated and will be removed in a future version. To read from a literal string, wrap it in a 'StringIO' object.\n",
            "  grades = pd.read_html(f)\n",
            "<ipython-input-8-08c8f8285bf8>:28: FutureWarning: Passing literal html to 'read_html' is deprecated and will be removed in a future version. To read from a literal string, wrap it in a 'StringIO' object.\n",
            "  grades = pd.read_html(f)\n",
            "<ipython-input-8-08c8f8285bf8>:28: FutureWarning: Passing literal html to 'read_html' is deprecated and will be removed in a future version. To read from a literal string, wrap it in a 'StringIO' object.\n",
            "  grades = pd.read_html(f)\n"
          ]
        },
        {
          "output_type": "stream",
          "name": "stdout",
          "text": [
            "202404990\n",
            "202403479\n"
          ]
        },
        {
          "output_type": "stream",
          "name": "stderr",
          "text": [
            "<ipython-input-8-08c8f8285bf8>:28: FutureWarning: Passing literal html to 'read_html' is deprecated and will be removed in a future version. To read from a literal string, wrap it in a 'StringIO' object.\n",
            "  grades = pd.read_html(f)\n",
            "<ipython-input-8-08c8f8285bf8>:28: FutureWarning: Passing literal html to 'read_html' is deprecated and will be removed in a future version. To read from a literal string, wrap it in a 'StringIO' object.\n",
            "  grades = pd.read_html(f)\n"
          ]
        },
        {
          "output_type": "stream",
          "name": "stdout",
          "text": [
            "202413771\n",
            "202413278\n",
            "202403042\n",
            "202413816\n",
            "202404614\n",
            "202401554\n",
            "202400017\n",
            "202401064\n"
          ]
        },
        {
          "output_type": "stream",
          "name": "stderr",
          "text": [
            "<ipython-input-8-08c8f8285bf8>:28: FutureWarning: Passing literal html to 'read_html' is deprecated and will be removed in a future version. To read from a literal string, wrap it in a 'StringIO' object.\n",
            "  grades = pd.read_html(f)\n",
            "<ipython-input-8-08c8f8285bf8>:28: FutureWarning: Passing literal html to 'read_html' is deprecated and will be removed in a future version. To read from a literal string, wrap it in a 'StringIO' object.\n",
            "  grades = pd.read_html(f)\n"
          ]
        },
        {
          "output_type": "stream",
          "name": "stdout",
          "text": [
            "202412935\n",
            "202402184\n"
          ]
        },
        {
          "output_type": "stream",
          "name": "stderr",
          "text": [
            "<ipython-input-8-08c8f8285bf8>:28: FutureWarning: Passing literal html to 'read_html' is deprecated and will be removed in a future version. To read from a literal string, wrap it in a 'StringIO' object.\n",
            "  grades = pd.read_html(f)\n",
            "<ipython-input-8-08c8f8285bf8>:28: FutureWarning: Passing literal html to 'read_html' is deprecated and will be removed in a future version. To read from a literal string, wrap it in a 'StringIO' object.\n",
            "  grades = pd.read_html(f)\n",
            "<ipython-input-8-08c8f8285bf8>:28: FutureWarning: Passing literal html to 'read_html' is deprecated and will be removed in a future version. To read from a literal string, wrap it in a 'StringIO' object.\n",
            "  grades = pd.read_html(f)\n",
            "<ipython-input-8-08c8f8285bf8>:28: FutureWarning: Passing literal html to 'read_html' is deprecated and will be removed in a future version. To read from a literal string, wrap it in a 'StringIO' object.\n",
            "  grades = pd.read_html(f)\n"
          ]
        }
      ],
      "source": [
        "# Step 1: Define the login URL and payload\n",
        "login_url = 'https://crs.upd.edu.ph/'\n",
        "target_url = 'https://crs.upd.edu.ph/viewgrades/'\n",
        "payload = {\n",
        "    'username': 'dge',\n",
        "    'password': 'updgecrs1937',\n",
        "    # Include any additional fields required by the login form\n",
        "}\n",
        "\n",
        "# Set up Chrome options\n",
        "chrome_options = Options()\n",
        "chrome_options.add_argument('--headless')\n",
        "chrome_options.add_argument('--no-sandbox')\n",
        "chrome_options.add_argument('--disable-dev-shm-usage')\n",
        "\n",
        "# Set up ChromeDriver\n",
        "service = Service('/usr/local/bin/chromedriver')\n",
        "driver = gs.Chrome()\n",
        "\n",
        "wait = WebDriverWait(driver, 30)\n",
        "driver.get(login_url)\n",
        "wait.until(EC.element_to_be_clickable((By.NAME, \"txt_login\"))).send_keys(payload['username'])\n",
        "\n",
        "password_field = driver.find_element(By.NAME, 'pwd_password')\n",
        "password_field.send_keys(payload['password'])\n",
        "\n",
        "# Submit the login form\n",
        "password_field.send_keys(Keys.RETURN)\n",
        "print(\"Logged in\")\n",
        "\n",
        "# Navigate to the target URL\n",
        "driver.get(target_url)\n",
        "error_sns = []\n",
        "\n",
        "for studentno in sn_list:\n",
        "  # Find the text box element (adjust the locator as needed)\n",
        "  text_box = driver.find_element(By.ID,'txt_studentno')\n",
        "  # Enter a value into the text box\n",
        "  text_box.send_keys(str(studentno))\n",
        "  text_box.submit()\n",
        "\n",
        "  # Optionally, wait for the page to load or for certain elements to appear\n",
        "  driver.implicitly_wait(10)\n",
        "\n",
        "  page_source = driver.page_source\n",
        "  try:\n",
        "    student = Student(page_source, '/content/BSGE_2019 (1).json')\n",
        "  except:\n",
        "    print(studentno)\n",
        "    error_sns.append(studentno)\n",
        "    continue\n",
        "  dge.addStudent(student)\n",
        "\n",
        "\n",
        "print(\" \")\n",
        "print(\" \")\n",
        "error_sns2=[]\n",
        "for studentno in error_sns:\n",
        "  # Find the text box element (adjust the locator as needed)\n",
        "  text_box = driver.find_element(By.ID,'txt_studentno')\n",
        "  # Enter a value into the text box\n",
        "  text_box.send_keys(str(studentno))\n",
        "  text_box.submit()\n",
        "\n",
        "  # Optionally, wait for the page to load or for certain elements to appear\n",
        "  driver.implicitly_wait(10)\n",
        "\n",
        "  page_source = driver.page_source\n",
        "  try:\n",
        "    student = Student(page_source, '/content/BSGE_2019 (1).json')\n",
        "  except:\n",
        "    print(studentno)\n",
        "    error_sns2.append(studentno)\n",
        "    continue\n",
        "  dge.addStudent(student)\n"
      ]
    },
    {
      "cell_type": "code",
      "execution_count": null,
      "metadata": {
        "colab": {
          "base_uri": "https://localhost:8080/"
        },
        "id": "zC350NSocSxj",
        "outputId": "c2de07f3-7fcb-4f99-e593-0a1ae1c75806"
      },
      "outputs": [
        {
          "output_type": "stream",
          "name": "stderr",
          "text": [
            "<ipython-input-8-08c8f8285bf8>:28: FutureWarning: Passing literal html to 'read_html' is deprecated and will be removed in a future version. To read from a literal string, wrap it in a 'StringIO' object.\n",
            "  grades = pd.read_html(f)\n",
            "<ipython-input-8-08c8f8285bf8>:28: FutureWarning: Passing literal html to 'read_html' is deprecated and will be removed in a future version. To read from a literal string, wrap it in a 'StringIO' object.\n",
            "  grades = pd.read_html(f)\n"
          ]
        },
        {
          "output_type": "stream",
          "name": "stdout",
          "text": [
            "202420241\n",
            "202403372\n"
          ]
        },
        {
          "output_type": "stream",
          "name": "stderr",
          "text": [
            "<ipython-input-8-08c8f8285bf8>:28: FutureWarning: Passing literal html to 'read_html' is deprecated and will be removed in a future version. To read from a literal string, wrap it in a 'StringIO' object.\n",
            "  grades = pd.read_html(f)\n"
          ]
        },
        {
          "output_type": "stream",
          "name": "stdout",
          "text": [
            "202410579\n",
            "202404990\n",
            "202403479\n",
            "202413771\n",
            "202413278\n",
            "202403042\n",
            "202413816\n",
            "202404614\n",
            "202401554\n"
          ]
        },
        {
          "output_type": "stream",
          "name": "stderr",
          "text": [
            "<ipython-input-8-08c8f8285bf8>:28: FutureWarning: Passing literal html to 'read_html' is deprecated and will be removed in a future version. To read from a literal string, wrap it in a 'StringIO' object.\n",
            "  grades = pd.read_html(f)\n"
          ]
        },
        {
          "output_type": "stream",
          "name": "stdout",
          "text": [
            "202401064\n"
          ]
        },
        {
          "output_type": "stream",
          "name": "stderr",
          "text": [
            "<ipython-input-8-08c8f8285bf8>:28: FutureWarning: Passing literal html to 'read_html' is deprecated and will be removed in a future version. To read from a literal string, wrap it in a 'StringIO' object.\n",
            "  grades = pd.read_html(f)\n"
          ]
        }
      ],
      "source": [
        "error_sns3=[]\n",
        "for studentno in error_sns2:\n",
        "  # Find the text box element (adjust the locator as needed)\n",
        "  text_box = driver.find_element(By.ID,'txt_studentno')\n",
        "  # Enter a value into the text box\n",
        "  text_box.send_keys(str(studentno))\n",
        "  text_box.submit()\n",
        "\n",
        "  # Optionally, wait for the page to load or for certain elements to appear\n",
        "  driver.implicitly_wait(10)\n",
        "\n",
        "  page_source = driver.page_source\n",
        "  try:\n",
        "    student = Student(page_source, '/content/BSGE_2019 (1).json')\n",
        "  except:\n",
        "    print(studentno)\n",
        "    error_sns3.append(studentno)\n",
        "    continue\n",
        "  dge.addStudent(student)\n"
      ]
    },
    {
      "cell_type": "code",
      "execution_count": null,
      "metadata": {
        "colab": {
          "base_uri": "https://localhost:8080/"
        },
        "id": "ogdHpEdSwXic",
        "outputId": "2c78c1d0-07a5-4458-8d9e-0f0c770b42fa"
      },
      "outputs": [
        {
          "output_type": "stream",
          "name": "stderr",
          "text": [
            "<ipython-input-8-08c8f8285bf8>:28: FutureWarning: Passing literal html to 'read_html' is deprecated and will be removed in a future version. To read from a literal string, wrap it in a 'StringIO' object.\n",
            "  grades = pd.read_html(f)\n",
            "<ipython-input-8-08c8f8285bf8>:28: FutureWarning: Passing literal html to 'read_html' is deprecated and will be removed in a future version. To read from a literal string, wrap it in a 'StringIO' object.\n",
            "  grades = pd.read_html(f)\n",
            "<ipython-input-8-08c8f8285bf8>:28: FutureWarning: Passing literal html to 'read_html' is deprecated and will be removed in a future version. To read from a literal string, wrap it in a 'StringIO' object.\n",
            "  grades = pd.read_html(f)\n",
            "<ipython-input-8-08c8f8285bf8>:28: FutureWarning: Passing literal html to 'read_html' is deprecated and will be removed in a future version. To read from a literal string, wrap it in a 'StringIO' object.\n",
            "  grades = pd.read_html(f)\n"
          ]
        },
        {
          "output_type": "stream",
          "name": "stdout",
          "text": [
            "202404990\n",
            "202403479\n"
          ]
        },
        {
          "output_type": "stream",
          "name": "stderr",
          "text": [
            "<ipython-input-8-08c8f8285bf8>:28: FutureWarning: Passing literal html to 'read_html' is deprecated and will be removed in a future version. To read from a literal string, wrap it in a 'StringIO' object.\n",
            "  grades = pd.read_html(f)\n"
          ]
        },
        {
          "output_type": "stream",
          "name": "stdout",
          "text": [
            "202413278\n",
            "202403042\n",
            "202413816\n",
            "202404614\n",
            "202401554\n",
            "202401064\n"
          ]
        }
      ],
      "source": [
        "error_sns4=[]\n",
        "for studentno in error_sns3:\n",
        "  # Find the text box element (adjust the locator as needed)\n",
        "  text_box = driver.find_element(By.ID,'txt_studentno')\n",
        "  # Enter a value into the text box\n",
        "  text_box.send_keys(str(studentno))\n",
        "  text_box.submit()\n",
        "\n",
        "  # Optionally, wait for the page to load or for certain elements to appear\n",
        "  driver.implicitly_wait(10)\n",
        "\n",
        "  page_source = driver.page_source\n",
        "  try:\n",
        "    student = Student(page_source, '/content/BSGE_2019 (1).json')\n",
        "  except:\n",
        "    print(studentno)\n",
        "    error_sns4.append(studentno)\n",
        "    continue\n",
        "  dge.addStudent(student)\n"
      ]
    },
    {
      "cell_type": "code",
      "source": [
        "error_sns5=[]\n",
        "for studentno in error_sns4:\n",
        "  # Find the text box element (adjust the locator as needed)\n",
        "  text_box = driver.find_element(By.ID,'txt_studentno')\n",
        "  # Enter a value into the text box\n",
        "  text_box.send_keys(str(studentno))\n",
        "  text_box.submit()\n",
        "\n",
        "  # Optionally, wait for the page to load or for certain elements to appear\n",
        "  driver.implicitly_wait(10)\n",
        "\n",
        "  page_source = driver.page_source\n",
        "  try:\n",
        "    student = Student(page_source, '/content/BSGE_2019 (1).json')\n",
        "  except:\n",
        "    print(studentno)\n",
        "    error_sns5.append(studentno)\n",
        "    continue\n",
        "  dge.addStudent(student)\n"
      ],
      "metadata": {
        "colab": {
          "base_uri": "https://localhost:8080/"
        },
        "id": "sVacsCg64Lcf",
        "outputId": "920e7d5d-528f-49e1-c939-9c18fae64ab9"
      },
      "execution_count": null,
      "outputs": [
        {
          "output_type": "stream",
          "name": "stderr",
          "text": [
            "<ipython-input-8-08c8f8285bf8>:28: FutureWarning: Passing literal html to 'read_html' is deprecated and will be removed in a future version. To read from a literal string, wrap it in a 'StringIO' object.\n",
            "  grades = pd.read_html(f)\n",
            "<ipython-input-8-08c8f8285bf8>:28: FutureWarning: Passing literal html to 'read_html' is deprecated and will be removed in a future version. To read from a literal string, wrap it in a 'StringIO' object.\n",
            "  grades = pd.read_html(f)\n",
            "<ipython-input-8-08c8f8285bf8>:28: FutureWarning: Passing literal html to 'read_html' is deprecated and will be removed in a future version. To read from a literal string, wrap it in a 'StringIO' object.\n",
            "  grades = pd.read_html(f)\n"
          ]
        },
        {
          "output_type": "stream",
          "name": "stdout",
          "text": [
            "202413278\n",
            "202403042\n"
          ]
        },
        {
          "output_type": "stream",
          "name": "stderr",
          "text": [
            "<ipython-input-8-08c8f8285bf8>:28: FutureWarning: Passing literal html to 'read_html' is deprecated and will be removed in a future version. To read from a literal string, wrap it in a 'StringIO' object.\n",
            "  grades = pd.read_html(f)\n",
            "<ipython-input-8-08c8f8285bf8>:28: FutureWarning: Passing literal html to 'read_html' is deprecated and will be removed in a future version. To read from a literal string, wrap it in a 'StringIO' object.\n",
            "  grades = pd.read_html(f)\n",
            "<ipython-input-8-08c8f8285bf8>:28: FutureWarning: Passing literal html to 'read_html' is deprecated and will be removed in a future version. To read from a literal string, wrap it in a 'StringIO' object.\n",
            "  grades = pd.read_html(f)\n"
          ]
        }
      ]
    },
    {
      "cell_type": "code",
      "source": [
        "error_sns6=[]\n",
        "for studentno in error_sns5:\n",
        "  # Find the text box element (adjust the locator as needed)\n",
        "  text_box = driver.find_element(By.ID,'txt_studentno')\n",
        "  # Enter a value into the text box\n",
        "  text_box.send_keys(str(studentno))\n",
        "  text_box.submit()\n",
        "\n",
        "  # Optionally, wait for the page to load or for certain elements to appear\n",
        "  driver.implicitly_wait(10)\n",
        "\n",
        "  page_source = driver.page_source\n",
        "  try:\n",
        "    student = Student(page_source, '/content/BSGE_2019 (1).json')\n",
        "  except:\n",
        "    print(studentno)\n",
        "    error_sns6.append(studentno)\n",
        "    continue\n",
        "  dge.addStudent(student)\n"
      ],
      "metadata": {
        "colab": {
          "base_uri": "https://localhost:8080/"
        },
        "id": "6ZfFI4de4ga-",
        "outputId": "0a696cf6-e94e-4819-a849-de4847360733"
      },
      "execution_count": null,
      "outputs": [
        {
          "output_type": "stream",
          "name": "stderr",
          "text": [
            "<ipython-input-8-08c8f8285bf8>:28: FutureWarning: Passing literal html to 'read_html' is deprecated and will be removed in a future version. To read from a literal string, wrap it in a 'StringIO' object.\n",
            "  grades = pd.read_html(f)\n"
          ]
        },
        {
          "output_type": "stream",
          "name": "stdout",
          "text": [
            "202413278\n",
            "202403042\n"
          ]
        }
      ]
    },
    {
      "cell_type": "code",
      "source": [
        "error_sns7=[]\n",
        "for studentno in error_sns6:\n",
        "  # Find the text box element (adjust the locator as needed)\n",
        "  text_box = driver.find_element(By.ID,'txt_studentno')\n",
        "  # Enter a value into the text box\n",
        "  text_box.send_keys(str(studentno))\n",
        "  text_box.submit()\n",
        "\n",
        "  # Optionally, wait for the page to load or for certain elements to appear\n",
        "  driver.implicitly_wait(10)\n",
        "\n",
        "  page_source = driver.page_source\n",
        "  try:\n",
        "    student = Student(page_source, '/content/BSGE_2019 (1).json')\n",
        "  except:\n",
        "    print(studentno)\n",
        "    error_sns7.append(studentno)\n",
        "    continue\n",
        "  dge.addStudent(student)\n"
      ],
      "metadata": {
        "colab": {
          "base_uri": "https://localhost:8080/"
        },
        "id": "vtKOEYVb4rtx",
        "outputId": "417d6b44-18ae-4263-e8c0-6a8e90dc13ed"
      },
      "execution_count": null,
      "outputs": [
        {
          "output_type": "stream",
          "name": "stderr",
          "text": [
            "<ipython-input-8-08c8f8285bf8>:28: FutureWarning: Passing literal html to 'read_html' is deprecated and will be removed in a future version. To read from a literal string, wrap it in a 'StringIO' object.\n",
            "  grades = pd.read_html(f)\n",
            "<ipython-input-8-08c8f8285bf8>:28: FutureWarning: Passing literal html to 'read_html' is deprecated and will be removed in a future version. To read from a literal string, wrap it in a 'StringIO' object.\n",
            "  grades = pd.read_html(f)\n"
          ]
        }
      ]
    },
    {
      "cell_type": "code",
      "source": [
        "error_sns8=[]\n",
        "for studentno in error_sns7:\n",
        "  # Find the text box element (adjust the locator as needed)\n",
        "  text_box = driver.find_element(By.ID,'txt_studentno')\n",
        "  # Enter a value into the text box\n",
        "  text_box.send_keys(str(studentno))\n",
        "  text_box.submit()\n",
        "\n",
        "  # Optionally, wait for the page to load or for certain elements to appear\n",
        "  driver.implicitly_wait(10)\n",
        "\n",
        "  page_source = driver.page_source\n",
        "  try:\n",
        "    student = Student(page_source, '/content/BSGE_2019 (1).json')\n",
        "  except:\n",
        "    print(studentno)\n",
        "    error_sns8.append(studentno)\n",
        "    continue\n",
        "  dge.addStudent(student)\n"
      ],
      "metadata": {
        "id": "EthcGaX54zuV"
      },
      "execution_count": null,
      "outputs": []
    },
    {
      "cell_type": "markdown",
      "metadata": {
        "id": "SpLF0SRvfX0y"
      },
      "source": [
        "# Demand Report"
      ]
    },
    {
      "cell_type": "code",
      "execution_count": null,
      "metadata": {
        "id": "Pl0WyJLVfuog"
      },
      "outputs": [],
      "source": [
        "ay = '24-25'"
      ]
    },
    {
      "cell_type": "code",
      "execution_count": null,
      "metadata": {
        "colab": {
          "base_uri": "https://localhost:8080/"
        },
        "id": "P3uvMIUOcf-I",
        "outputId": "8da8fd67-c459-4d92-f790-c76bbd4d0edf"
      },
      "outputs": [
        {
          "output_type": "stream",
          "name": "stdout",
          "text": [
            "The number of students in this is analysis is 299.\n",
            "This number is based on the list of enrollees in the first and 2nd semester of AY 24-25, which has a total number of unique enrollments of 299\n"
          ]
        }
      ],
      "source": [
        "print(f'The number of students in this is analysis is {len(dge.students)}.')\n",
        "print(f'This number is based on the list of enrollees in the first and 2nd semester of AY {ay}, which has a total number of unique enrollments of {len(sn_list)}')"
      ]
    },
    {
      "cell_type": "markdown",
      "metadata": {
        "id": "yrr0e8LLgHAm"
      },
      "source": [
        "##Second Year Courses"
      ]
    },
    {
      "cell_type": "markdown",
      "metadata": {
        "id": "E9KEj13vgRQy"
      },
      "source": [
        "###GE 117"
      ]
    },
    {
      "cell_type": "code",
      "execution_count": null,
      "metadata": {
        "colab": {
          "base_uri": "https://localhost:8080/"
        },
        "id": "ifjsq742gGSk",
        "outputId": "d9919a93-6dde-4a58-bb10-d8f808c7fc18"
      },
      "outputs": [
        {
          "output_type": "stream",
          "name": "stdout",
          "text": [
            "Checking prerequisites for GE 149\n",
            "Prerequisites:\n",
            "Corequisites:\n"
          ]
        }
      ],
      "source": [
        "subject = \"GE 149\"\n",
        "overrides = []\n",
        "\n",
        "ge_subject = dge.checkDemand(subject,overrides)"
      ]
    },
    {
      "cell_type": "code",
      "source": [
        "ge_subject"
      ],
      "metadata": {
        "colab": {
          "base_uri": "https://localhost:8080/",
          "height": 687
        },
        "id": "3AV4ADZPy5wN",
        "outputId": "c4da8421-7e14-49ae-91a5-ee0182e49706"
      },
      "execution_count": null,
      "outputs": [
        {
          "output_type": "execute_result",
          "data": {
            "text/plain": [
              "                                   name          sn  takes  current grade  \\\n",
              "0        LEGASPI, KAREN LOUISE, SANCHEZ  2022-03648      0            NaN   \n",
              "1                     TURINGAN, KRYZEI,  2021-11490      0            NaN   \n",
              "2         ZULUETA, IVAN PAUL, PORTALEZA  2023-13733      0            NaN   \n",
              "3            CUBAR, SHANIA JOYCE, MUÑEZ  2023-08103      0            NaN   \n",
              "4          UMINGA, IRISH JEILL, NAZARRO  2022-10313      0            NaN   \n",
              "..                                  ...         ...    ...            ...   \n",
              "203     ELEVADO, FRANCIS CENON, ECLAVEA  2024-04614      0            NaN   \n",
              "204           MAGBANUA, AZIYAH, SAMONES  2024-01554      0            NaN   \n",
              "205  MONDUGAR, ERLINDA ELLEN MAE, VITOR  2024-01064      0            NaN   \n",
              "206              PACSON, GERALD, CORTEZ  2024-13278      0            NaN   \n",
              "207             BUMANLAG, MARIAN, FRIAS  2024-03042      0            NaN   \n",
              "\n",
              "     prereq  \n",
              "0      True  \n",
              "1      True  \n",
              "2      True  \n",
              "3      True  \n",
              "4      True  \n",
              "..      ...  \n",
              "203    True  \n",
              "204    True  \n",
              "205    True  \n",
              "206    True  \n",
              "207    True  \n",
              "\n",
              "[208 rows x 5 columns]"
            ],
            "text/html": [
              "\n",
              "  <div id=\"df-a0705703-378b-49b3-ad5d-0dc928973c59\" class=\"colab-df-container\">\n",
              "    <div>\n",
              "<style scoped>\n",
              "    .dataframe tbody tr th:only-of-type {\n",
              "        vertical-align: middle;\n",
              "    }\n",
              "\n",
              "    .dataframe tbody tr th {\n",
              "        vertical-align: top;\n",
              "    }\n",
              "\n",
              "    .dataframe thead th {\n",
              "        text-align: right;\n",
              "    }\n",
              "</style>\n",
              "<table border=\"1\" class=\"dataframe\">\n",
              "  <thead>\n",
              "    <tr style=\"text-align: right;\">\n",
              "      <th></th>\n",
              "      <th>name</th>\n",
              "      <th>sn</th>\n",
              "      <th>takes</th>\n",
              "      <th>current grade</th>\n",
              "      <th>prereq</th>\n",
              "    </tr>\n",
              "  </thead>\n",
              "  <tbody>\n",
              "    <tr>\n",
              "      <th>0</th>\n",
              "      <td>LEGASPI, KAREN LOUISE, SANCHEZ</td>\n",
              "      <td>2022-03648</td>\n",
              "      <td>0</td>\n",
              "      <td>NaN</td>\n",
              "      <td>True</td>\n",
              "    </tr>\n",
              "    <tr>\n",
              "      <th>1</th>\n",
              "      <td>TURINGAN, KRYZEI,</td>\n",
              "      <td>2021-11490</td>\n",
              "      <td>0</td>\n",
              "      <td>NaN</td>\n",
              "      <td>True</td>\n",
              "    </tr>\n",
              "    <tr>\n",
              "      <th>2</th>\n",
              "      <td>ZULUETA, IVAN PAUL, PORTALEZA</td>\n",
              "      <td>2023-13733</td>\n",
              "      <td>0</td>\n",
              "      <td>NaN</td>\n",
              "      <td>True</td>\n",
              "    </tr>\n",
              "    <tr>\n",
              "      <th>3</th>\n",
              "      <td>CUBAR, SHANIA JOYCE, MUÑEZ</td>\n",
              "      <td>2023-08103</td>\n",
              "      <td>0</td>\n",
              "      <td>NaN</td>\n",
              "      <td>True</td>\n",
              "    </tr>\n",
              "    <tr>\n",
              "      <th>4</th>\n",
              "      <td>UMINGA, IRISH JEILL, NAZARRO</td>\n",
              "      <td>2022-10313</td>\n",
              "      <td>0</td>\n",
              "      <td>NaN</td>\n",
              "      <td>True</td>\n",
              "    </tr>\n",
              "    <tr>\n",
              "      <th>...</th>\n",
              "      <td>...</td>\n",
              "      <td>...</td>\n",
              "      <td>...</td>\n",
              "      <td>...</td>\n",
              "      <td>...</td>\n",
              "    </tr>\n",
              "    <tr>\n",
              "      <th>203</th>\n",
              "      <td>ELEVADO, FRANCIS CENON, ECLAVEA</td>\n",
              "      <td>2024-04614</td>\n",
              "      <td>0</td>\n",
              "      <td>NaN</td>\n",
              "      <td>True</td>\n",
              "    </tr>\n",
              "    <tr>\n",
              "      <th>204</th>\n",
              "      <td>MAGBANUA, AZIYAH, SAMONES</td>\n",
              "      <td>2024-01554</td>\n",
              "      <td>0</td>\n",
              "      <td>NaN</td>\n",
              "      <td>True</td>\n",
              "    </tr>\n",
              "    <tr>\n",
              "      <th>205</th>\n",
              "      <td>MONDUGAR, ERLINDA ELLEN MAE, VITOR</td>\n",
              "      <td>2024-01064</td>\n",
              "      <td>0</td>\n",
              "      <td>NaN</td>\n",
              "      <td>True</td>\n",
              "    </tr>\n",
              "    <tr>\n",
              "      <th>206</th>\n",
              "      <td>PACSON, GERALD, CORTEZ</td>\n",
              "      <td>2024-13278</td>\n",
              "      <td>0</td>\n",
              "      <td>NaN</td>\n",
              "      <td>True</td>\n",
              "    </tr>\n",
              "    <tr>\n",
              "      <th>207</th>\n",
              "      <td>BUMANLAG, MARIAN, FRIAS</td>\n",
              "      <td>2024-03042</td>\n",
              "      <td>0</td>\n",
              "      <td>NaN</td>\n",
              "      <td>True</td>\n",
              "    </tr>\n",
              "  </tbody>\n",
              "</table>\n",
              "<p>208 rows × 5 columns</p>\n",
              "</div>\n",
              "    <div class=\"colab-df-buttons\">\n",
              "\n",
              "  <div class=\"colab-df-container\">\n",
              "    <button class=\"colab-df-convert\" onclick=\"convertToInteractive('df-a0705703-378b-49b3-ad5d-0dc928973c59')\"\n",
              "            title=\"Convert this dataframe to an interactive table.\"\n",
              "            style=\"display:none;\">\n",
              "\n",
              "  <svg xmlns=\"http://www.w3.org/2000/svg\" height=\"24px\" viewBox=\"0 -960 960 960\">\n",
              "    <path d=\"M120-120v-720h720v720H120Zm60-500h600v-160H180v160Zm220 220h160v-160H400v160Zm0 220h160v-160H400v160ZM180-400h160v-160H180v160Zm440 0h160v-160H620v160ZM180-180h160v-160H180v160Zm440 0h160v-160H620v160Z\"/>\n",
              "  </svg>\n",
              "    </button>\n",
              "\n",
              "  <style>\n",
              "    .colab-df-container {\n",
              "      display:flex;\n",
              "      gap: 12px;\n",
              "    }\n",
              "\n",
              "    .colab-df-convert {\n",
              "      background-color: #E8F0FE;\n",
              "      border: none;\n",
              "      border-radius: 50%;\n",
              "      cursor: pointer;\n",
              "      display: none;\n",
              "      fill: #1967D2;\n",
              "      height: 32px;\n",
              "      padding: 0 0 0 0;\n",
              "      width: 32px;\n",
              "    }\n",
              "\n",
              "    .colab-df-convert:hover {\n",
              "      background-color: #E2EBFA;\n",
              "      box-shadow: 0px 1px 2px rgba(60, 64, 67, 0.3), 0px 1px 3px 1px rgba(60, 64, 67, 0.15);\n",
              "      fill: #174EA6;\n",
              "    }\n",
              "\n",
              "    .colab-df-buttons div {\n",
              "      margin-bottom: 4px;\n",
              "    }\n",
              "\n",
              "    [theme=dark] .colab-df-convert {\n",
              "      background-color: #3B4455;\n",
              "      fill: #D2E3FC;\n",
              "    }\n",
              "\n",
              "    [theme=dark] .colab-df-convert:hover {\n",
              "      background-color: #434B5C;\n",
              "      box-shadow: 0px 1px 3px 1px rgba(0, 0, 0, 0.15);\n",
              "      filter: drop-shadow(0px 1px 2px rgba(0, 0, 0, 0.3));\n",
              "      fill: #FFFFFF;\n",
              "    }\n",
              "  </style>\n",
              "\n",
              "    <script>\n",
              "      const buttonEl =\n",
              "        document.querySelector('#df-a0705703-378b-49b3-ad5d-0dc928973c59 button.colab-df-convert');\n",
              "      buttonEl.style.display =\n",
              "        google.colab.kernel.accessAllowed ? 'block' : 'none';\n",
              "\n",
              "      async function convertToInteractive(key) {\n",
              "        const element = document.querySelector('#df-a0705703-378b-49b3-ad5d-0dc928973c59');\n",
              "        const dataTable =\n",
              "          await google.colab.kernel.invokeFunction('convertToInteractive',\n",
              "                                                    [key], {});\n",
              "        if (!dataTable) return;\n",
              "\n",
              "        const docLinkHtml = 'Like what you see? Visit the ' +\n",
              "          '<a target=\"_blank\" href=https://colab.research.google.com/notebooks/data_table.ipynb>data table notebook</a>'\n",
              "          + ' to learn more about interactive tables.';\n",
              "        element.innerHTML = '';\n",
              "        dataTable['output_type'] = 'display_data';\n",
              "        await google.colab.output.renderOutput(dataTable, element);\n",
              "        const docLink = document.createElement('div');\n",
              "        docLink.innerHTML = docLinkHtml;\n",
              "        element.appendChild(docLink);\n",
              "      }\n",
              "    </script>\n",
              "  </div>\n",
              "\n",
              "\n",
              "<div id=\"df-4a9bd0b5-a978-4dae-860e-c9cfbc3a9300\">\n",
              "  <button class=\"colab-df-quickchart\" onclick=\"quickchart('df-4a9bd0b5-a978-4dae-860e-c9cfbc3a9300')\"\n",
              "            title=\"Suggest charts\"\n",
              "            style=\"display:none;\">\n",
              "\n",
              "<svg xmlns=\"http://www.w3.org/2000/svg\" height=\"24px\"viewBox=\"0 0 24 24\"\n",
              "     width=\"24px\">\n",
              "    <g>\n",
              "        <path d=\"M19 3H5c-1.1 0-2 .9-2 2v14c0 1.1.9 2 2 2h14c1.1 0 2-.9 2-2V5c0-1.1-.9-2-2-2zM9 17H7v-7h2v7zm4 0h-2V7h2v10zm4 0h-2v-4h2v4z\"/>\n",
              "    </g>\n",
              "</svg>\n",
              "  </button>\n",
              "\n",
              "<style>\n",
              "  .colab-df-quickchart {\n",
              "      --bg-color: #E8F0FE;\n",
              "      --fill-color: #1967D2;\n",
              "      --hover-bg-color: #E2EBFA;\n",
              "      --hover-fill-color: #174EA6;\n",
              "      --disabled-fill-color: #AAA;\n",
              "      --disabled-bg-color: #DDD;\n",
              "  }\n",
              "\n",
              "  [theme=dark] .colab-df-quickchart {\n",
              "      --bg-color: #3B4455;\n",
              "      --fill-color: #D2E3FC;\n",
              "      --hover-bg-color: #434B5C;\n",
              "      --hover-fill-color: #FFFFFF;\n",
              "      --disabled-bg-color: #3B4455;\n",
              "      --disabled-fill-color: #666;\n",
              "  }\n",
              "\n",
              "  .colab-df-quickchart {\n",
              "    background-color: var(--bg-color);\n",
              "    border: none;\n",
              "    border-radius: 50%;\n",
              "    cursor: pointer;\n",
              "    display: none;\n",
              "    fill: var(--fill-color);\n",
              "    height: 32px;\n",
              "    padding: 0;\n",
              "    width: 32px;\n",
              "  }\n",
              "\n",
              "  .colab-df-quickchart:hover {\n",
              "    background-color: var(--hover-bg-color);\n",
              "    box-shadow: 0 1px 2px rgba(60, 64, 67, 0.3), 0 1px 3px 1px rgba(60, 64, 67, 0.15);\n",
              "    fill: var(--button-hover-fill-color);\n",
              "  }\n",
              "\n",
              "  .colab-df-quickchart-complete:disabled,\n",
              "  .colab-df-quickchart-complete:disabled:hover {\n",
              "    background-color: var(--disabled-bg-color);\n",
              "    fill: var(--disabled-fill-color);\n",
              "    box-shadow: none;\n",
              "  }\n",
              "\n",
              "  .colab-df-spinner {\n",
              "    border: 2px solid var(--fill-color);\n",
              "    border-color: transparent;\n",
              "    border-bottom-color: var(--fill-color);\n",
              "    animation:\n",
              "      spin 1s steps(1) infinite;\n",
              "  }\n",
              "\n",
              "  @keyframes spin {\n",
              "    0% {\n",
              "      border-color: transparent;\n",
              "      border-bottom-color: var(--fill-color);\n",
              "      border-left-color: var(--fill-color);\n",
              "    }\n",
              "    20% {\n",
              "      border-color: transparent;\n",
              "      border-left-color: var(--fill-color);\n",
              "      border-top-color: var(--fill-color);\n",
              "    }\n",
              "    30% {\n",
              "      border-color: transparent;\n",
              "      border-left-color: var(--fill-color);\n",
              "      border-top-color: var(--fill-color);\n",
              "      border-right-color: var(--fill-color);\n",
              "    }\n",
              "    40% {\n",
              "      border-color: transparent;\n",
              "      border-right-color: var(--fill-color);\n",
              "      border-top-color: var(--fill-color);\n",
              "    }\n",
              "    60% {\n",
              "      border-color: transparent;\n",
              "      border-right-color: var(--fill-color);\n",
              "    }\n",
              "    80% {\n",
              "      border-color: transparent;\n",
              "      border-right-color: var(--fill-color);\n",
              "      border-bottom-color: var(--fill-color);\n",
              "    }\n",
              "    90% {\n",
              "      border-color: transparent;\n",
              "      border-bottom-color: var(--fill-color);\n",
              "    }\n",
              "  }\n",
              "</style>\n",
              "\n",
              "  <script>\n",
              "    async function quickchart(key) {\n",
              "      const quickchartButtonEl =\n",
              "        document.querySelector('#' + key + ' button');\n",
              "      quickchartButtonEl.disabled = true;  // To prevent multiple clicks.\n",
              "      quickchartButtonEl.classList.add('colab-df-spinner');\n",
              "      try {\n",
              "        const charts = await google.colab.kernel.invokeFunction(\n",
              "            'suggestCharts', [key], {});\n",
              "      } catch (error) {\n",
              "        console.error('Error during call to suggestCharts:', error);\n",
              "      }\n",
              "      quickchartButtonEl.classList.remove('colab-df-spinner');\n",
              "      quickchartButtonEl.classList.add('colab-df-quickchart-complete');\n",
              "    }\n",
              "    (() => {\n",
              "      let quickchartButtonEl =\n",
              "        document.querySelector('#df-4a9bd0b5-a978-4dae-860e-c9cfbc3a9300 button');\n",
              "      quickchartButtonEl.style.display =\n",
              "        google.colab.kernel.accessAllowed ? 'block' : 'none';\n",
              "    })();\n",
              "  </script>\n",
              "</div>\n",
              "\n",
              "  <div id=\"id_7c046d71-a373-4793-bb49-43b3a22c200b\">\n",
              "    <style>\n",
              "      .colab-df-generate {\n",
              "        background-color: #E8F0FE;\n",
              "        border: none;\n",
              "        border-radius: 50%;\n",
              "        cursor: pointer;\n",
              "        display: none;\n",
              "        fill: #1967D2;\n",
              "        height: 32px;\n",
              "        padding: 0 0 0 0;\n",
              "        width: 32px;\n",
              "      }\n",
              "\n",
              "      .colab-df-generate:hover {\n",
              "        background-color: #E2EBFA;\n",
              "        box-shadow: 0px 1px 2px rgba(60, 64, 67, 0.3), 0px 1px 3px 1px rgba(60, 64, 67, 0.15);\n",
              "        fill: #174EA6;\n",
              "      }\n",
              "\n",
              "      [theme=dark] .colab-df-generate {\n",
              "        background-color: #3B4455;\n",
              "        fill: #D2E3FC;\n",
              "      }\n",
              "\n",
              "      [theme=dark] .colab-df-generate:hover {\n",
              "        background-color: #434B5C;\n",
              "        box-shadow: 0px 1px 3px 1px rgba(0, 0, 0, 0.15);\n",
              "        filter: drop-shadow(0px 1px 2px rgba(0, 0, 0, 0.3));\n",
              "        fill: #FFFFFF;\n",
              "      }\n",
              "    </style>\n",
              "    <button class=\"colab-df-generate\" onclick=\"generateWithVariable('ge_subject')\"\n",
              "            title=\"Generate code using this dataframe.\"\n",
              "            style=\"display:none;\">\n",
              "\n",
              "  <svg xmlns=\"http://www.w3.org/2000/svg\" height=\"24px\"viewBox=\"0 0 24 24\"\n",
              "       width=\"24px\">\n",
              "    <path d=\"M7,19H8.4L18.45,9,17,7.55,7,17.6ZM5,21V16.75L18.45,3.32a2,2,0,0,1,2.83,0l1.4,1.43a1.91,1.91,0,0,1,.58,1.4,1.91,1.91,0,0,1-.58,1.4L9.25,21ZM18.45,9,17,7.55Zm-12,3A5.31,5.31,0,0,0,4.9,8.1,5.31,5.31,0,0,0,1,6.5,5.31,5.31,0,0,0,4.9,4.9,5.31,5.31,0,0,0,6.5,1,5.31,5.31,0,0,0,8.1,4.9,5.31,5.31,0,0,0,12,6.5,5.46,5.46,0,0,0,6.5,12Z\"/>\n",
              "  </svg>\n",
              "    </button>\n",
              "    <script>\n",
              "      (() => {\n",
              "      const buttonEl =\n",
              "        document.querySelector('#id_7c046d71-a373-4793-bb49-43b3a22c200b button.colab-df-generate');\n",
              "      buttonEl.style.display =\n",
              "        google.colab.kernel.accessAllowed ? 'block' : 'none';\n",
              "\n",
              "      buttonEl.onclick = () => {\n",
              "        google.colab.notebook.generateWithVariable('ge_subject');\n",
              "      }\n",
              "      })();\n",
              "    </script>\n",
              "  </div>\n",
              "\n",
              "    </div>\n",
              "  </div>\n"
            ],
            "application/vnd.google.colaboratory.intrinsic+json": {
              "type": "dataframe",
              "variable_name": "ge_subject",
              "summary": "{\n  \"name\": \"ge_subject\",\n  \"rows\": 208,\n  \"fields\": [\n    {\n      \"column\": \"name\",\n      \"properties\": {\n        \"dtype\": \"string\",\n        \"num_unique_values\": 208,\n        \"samples\": [\n          \"IKAN, CHELZY, LINGON\",\n          \"DE LEON, KATRINA ANIKA, REYES\",\n          \"CIRIACO, VIA MADEL,\"\n        ],\n        \"semantic_type\": \"\",\n        \"description\": \"\"\n      }\n    },\n    {\n      \"column\": \"sn\",\n      \"properties\": {\n        \"dtype\": \"string\",\n        \"num_unique_values\": 208,\n        \"samples\": [\n          \"2023-03942\",\n          \"2022-03174\",\n          \"2021-11689\"\n        ],\n        \"semantic_type\": \"\",\n        \"description\": \"\"\n      }\n    },\n    {\n      \"column\": \"takes\",\n      \"properties\": {\n        \"dtype\": \"number\",\n        \"std\": 0,\n        \"min\": 0,\n        \"max\": 1,\n        \"num_unique_values\": 2,\n        \"samples\": [\n          1,\n          0\n        ],\n        \"semantic_type\": \"\",\n        \"description\": \"\"\n      }\n    },\n    {\n      \"column\": \"current grade\",\n      \"properties\": {\n        \"dtype\": \"number\",\n        \"std\": null,\n        \"min\": null,\n        \"max\": null,\n        \"num_unique_values\": 0,\n        \"samples\": [],\n        \"semantic_type\": \"\",\n        \"description\": \"\"\n      }\n    },\n    {\n      \"column\": \"prereq\",\n      \"properties\": {\n        \"dtype\": \"boolean\",\n        \"num_unique_values\": 1,\n        \"samples\": [],\n        \"semantic_type\": \"\",\n        \"description\": \"\"\n      }\n    }\n  ]\n}"
            }
          },
          "metadata": {},
          "execution_count": 44
        }
      ]
    },
    {
      "cell_type": "code",
      "source": [],
      "metadata": {
        "id": "3WEmbQuXUV7B"
      },
      "execution_count": null,
      "outputs": []
    },
    {
      "cell_type": "code",
      "source": [
        "dge.students[0].name"
      ],
      "metadata": {
        "colab": {
          "base_uri": "https://localhost:8080/",
          "height": 35
        },
        "id": "4THPJbNZM7pI",
        "outputId": "b52ef813-6068-4bef-a8ba-a1c09ac0c255"
      },
      "execution_count": null,
      "outputs": [
        {
          "output_type": "execute_result",
          "data": {
            "text/plain": [
              "'LEGASPI, KAREN LOUISE, SANCHEZ'"
            ],
            "application/vnd.google.colaboratory.intrinsic+json": {
              "type": "string"
            }
          },
          "metadata": {},
          "execution_count": 13
        }
      ]
    },
    {
      "cell_type": "code",
      "source": [
        "dge.students[0].subjects"
      ],
      "metadata": {
        "colab": {
          "base_uri": "https://localhost:8080/",
          "height": 1000
        },
        "id": "sdVq9M-o-7o3",
        "outputId": "42a88bd9-5c2c-4f52-8deb-0d7a7e0341ef"
      },
      "execution_count": null,
      "outputs": [
        {
          "output_type": "execute_result",
          "data": {
            "text/plain": [
              "    index                                              Class  \\\n",
              "0       0                                           GE 2 1AB   \n",
              "1       1                                           GE 10 1B   \n",
              "2       2                                         KAS 1 THW2   \n",
              "3       3                                    Math 21 TWHFR-9   \n",
              "4       4                                 Physics 71 TWHFU-5   \n",
              "5       5                                 Physics 71.1 WIJ-1   \n",
              "6       6                                    Soc Sci 2 THX-1   \n",
              "7       0                                           GE 12 1B   \n",
              "8       1                                           GE 30 1B   \n",
              "9       2                                          GE 120 1B   \n",
              "10      3                                         GE 142 1BC   \n",
              "11      4                                    Math 21 TWHFV-3   \n",
              "12      5                                Physics 71 THQ-FQ-1   \n",
              "13      6                PE 2 BW-T MDE Basic Ten Pin Bowling   \n",
              "14      0                                       Math 22 X7-1   \n",
              "15      1                                    Physics 72 X8-3   \n",
              "16      0                                         CE 29 THW2   \n",
              "17      1                                          GE 117 2A   \n",
              "18      2                                          GE 122 2A   \n",
              "19      3                                          GE 161 2A   \n",
              "20      4                                          GE 162 2A   \n",
              "21      5                                    Math 23 TWHFQ-4   \n",
              "22      6                                 Physics 72.1 WIJ-1   \n",
              "23      7  CWTS 1 Engg SA Basic Map Reading, Way-finding,...   \n",
              "24      0                                          CE 11 THX   \n",
              "25      1                                        ES 101 THQ1   \n",
              "26      2                                          GE 118 2C   \n",
              "27      3                                         GE 127 2C1   \n",
              "28      4                                          GE 168 2C   \n",
              "29      5                                         GIM 165 2C   \n",
              "30      6                       PE 2 PG WFJ Philippine Games   \n",
              "31      7  CWTS 2 Engg SWX Basic Map Reading, Way-finding...   \n",
              "32      0                                          GE 193 2A   \n",
              "33      0                                          GE 116 3C   \n",
              "34      1                                          GE 144 3C   \n",
              "35      2                                         GIM 176 3C   \n",
              "36      3                                        Geol 11 WFV   \n",
              "37      4                                         GsE 188 3C   \n",
              "38      5                                         GsE 189 3C   \n",
              "39      6                    PE 2 WF MAB Walking for Fitness   \n",
              "\n",
              "                                         Instructor/s  Units  Grade  \\\n",
              "0                                      MEDINA, JOMMER    1.0   1.00   \n",
              "1                                VERGARA, KARL ADRIAN    3.0   2.25   \n",
              "2                                   LLANES, FERDINAND    3.0   1.25   \n",
              "3                           MANALOTO, KORINA ERNJULIE    4.0   5.00   \n",
              "4                         NIP, NIP; CABANILLA, JAYSON    4.0   5.00   \n",
              "5                                        AGAPITO, XYD    1.0   1.25   \n",
              "6                       ESTRADA, LUIS GABRIEL ALFONSO    3.0   1.75   \n",
              "7                              CRUZ, MARGAUX ANGELICA    4.0   1.75   \n",
              "8                               ESCOTO, JOHN EMMANUEL    3.0   1.50   \n",
              "9                                        PADON, RANEL    3.0   2.00   \n",
              "10                                   KATIGBAK, GEORGE    1.0   2.75   \n",
              "11                            ONA, JEANINE CONCEPCION    4.0   3.00   \n",
              "12                               MIRANDA, JESSA JAYNE    4.0   2.50   \n",
              "13                                       RIVERA, NOEL    2.0   2.00   \n",
              "14                              TAÑEDO, RAYMOND LOUIS    4.0   2.75   \n",
              "15                             NIP, NIP; AGAPITO, XYD    4.0   1.75   \n",
              "16                        FUTALAN, CYBELLE CONCEPCION    3.0   2.00   \n",
              "17                             ZAMORA, MA. BEA ANGELA    3.0   2.25   \n",
              "18                               ELAZEGUI, ERICA ERIN    3.0   3.00   \n",
              "19                                     RADA, WILFREDO    3.0   2.75   \n",
              "20                                        BAHIA, ROEL    3.0   1.50   \n",
              "21                                 PANINGBATAN, ARIEL    4.0   3.00   \n",
              "22                                BAYBAY, JOHN ADRIAN    1.0   1.25   \n",
              "23                                   GUEVARA, TRISHIA    3.0   1.00   \n",
              "24    ALCANTARA, MATTHEW TRAVIS; MUSICO, JOHN KENNETH    3.0   2.00   \n",
              "25            BANIQUED, JULIUS REY; ROQUE, JOHN HENRY    4.0   2.75   \n",
              "26                                    RAMOS, ROSEANNE    3.0   1.25   \n",
              "27                              CARCELLAR, BIENVENIDO    4.0   2.75   \n",
              "28                             ZAMORA, MA. BEA ANGELA    3.0   1.75   \n",
              "29      CLARIDADES, ALEXIS RICHARD; APURA, RANSIE JOY    3.0   2.75   \n",
              "30                               MABAQUIAO, JEAN PAUL    2.0   1.00   \n",
              "31                                        BAHIA, ROEL    3.0   1.00   \n",
              "32                                        BAHIA, ROEL    2.0   1.00   \n",
              "33                             MABAQUIAO, LUIS CARLOS    3.0   6.00   \n",
              "34                                     TIAMSON, ERWIN    3.0   6.00   \n",
              "35                                 MACAPINLAC, OLIVER    2.0   6.00   \n",
              "36                                      SUMADEN, MARK    3.0   6.00   \n",
              "37  PRINCIPE, JEARK; ANG, MA. ROSARIO CONCEPCION; ...    4.0   6.00   \n",
              "38                                BABAAN, JENNIEVEIVE    4.0   6.00   \n",
              "39                                     OKUMU, GODFREY    2.0   6.00   \n",
              "\n",
              "                             sem        course  \\\n",
              "0    First Semester AY 2022-2023          GE 2   \n",
              "1    First Semester AY 2022-2023         GE 10   \n",
              "2    First Semester AY 2022-2023         KAS 1   \n",
              "3    First Semester AY 2022-2023       Math 21   \n",
              "4    First Semester AY 2022-2023    Physics 71   \n",
              "5    First Semester AY 2022-2023  Physics 71.1   \n",
              "6    First Semester AY 2022-2023         Sci 2   \n",
              "7   Second Semester AY 2022-2023         GE 12   \n",
              "8   Second Semester AY 2022-2023         GE 30   \n",
              "9   Second Semester AY 2022-2023        GE 120   \n",
              "10  Second Semester AY 2022-2023        GE 142   \n",
              "11  Second Semester AY 2022-2023       Math 21   \n",
              "12  Second Semester AY 2022-2023    Physics 71   \n",
              "13  Second Semester AY 2022-2023          PE 2   \n",
              "14             Midyear Term 2023       Math 22   \n",
              "15             Midyear Term 2023    Physics 72   \n",
              "16   First Semester AY 2023-2024         CE 29   \n",
              "17   First Semester AY 2023-2024        GE 117   \n",
              "18   First Semester AY 2023-2024        GE 122   \n",
              "19   First Semester AY 2023-2024        GE 161   \n",
              "20   First Semester AY 2023-2024        GE 162   \n",
              "21   First Semester AY 2023-2024       Math 23   \n",
              "22   First Semester AY 2023-2024  Physics 72.1   \n",
              "23   First Semester AY 2023-2024        CWTS 1   \n",
              "24  Second Semester AY 2023-2024         CE 11   \n",
              "25  Second Semester AY 2023-2024        ES 101   \n",
              "26  Second Semester AY 2023-2024        GE 118   \n",
              "27  Second Semester AY 2023-2024        GE 127   \n",
              "28  Second Semester AY 2023-2024        GE 168   \n",
              "29  Second Semester AY 2023-2024       GIM 165   \n",
              "30  Second Semester AY 2023-2024          PE 2   \n",
              "31  Second Semester AY 2023-2024        CWTS 2   \n",
              "32             Midyear Term 2024        GE 193   \n",
              "33   First Semester AY 2024-2025        GE 116   \n",
              "34   First Semester AY 2024-2025        GE 144   \n",
              "35   First Semester AY 2024-2025       GIM 176   \n",
              "36   First Semester AY 2024-2025       Geol 11   \n",
              "37   First Semester AY 2024-2025       GsE 188   \n",
              "38   First Semester AY 2024-2025       GsE 189   \n",
              "39   First Semester AY 2024-2025          PE 2   \n",
              "\n",
              "                                              section  \n",
              "0                                                 1AB  \n",
              "1                                                  1B  \n",
              "2                                                THW2  \n",
              "3                                             TWHFR-9  \n",
              "4                                             TWHFU-5  \n",
              "5                                               WIJ-1  \n",
              "6                                               THX-1  \n",
              "7                                                  1B  \n",
              "8                                                  1B  \n",
              "9                                                  1B  \n",
              "10                                                1BC  \n",
              "11                                            TWHFV-3  \n",
              "12                                           THQ-FQ-1  \n",
              "13                     BW-T MDE Basic Ten Pin Bowling  \n",
              "14                                               X7-1  \n",
              "15                                               X8-3  \n",
              "16                                               THW2  \n",
              "17                                                 2A  \n",
              "18                                                 2A  \n",
              "19                                                 2A  \n",
              "20                                                 2A  \n",
              "21                                            TWHFQ-4  \n",
              "22                                              WIJ-1  \n",
              "23  Engg SA Basic Map Reading, Way-finding, And Lo...  \n",
              "24                                                THX  \n",
              "25                                               THQ1  \n",
              "26                                                 2C  \n",
              "27                                                2C1  \n",
              "28                                                 2C  \n",
              "29                                                 2C  \n",
              "30                            PG WFJ Philippine Games  \n",
              "31  Engg SWX Basic Map Reading, Way-finding, And L...  \n",
              "32                                                 2A  \n",
              "33                                                 3C  \n",
              "34                                                 3C  \n",
              "35                                                 3C  \n",
              "36                                                WFV  \n",
              "37                                                 3C  \n",
              "38                                                 3C  \n",
              "39                         WF MAB Walking for Fitness  "
            ],
            "text/html": [
              "\n",
              "  <div id=\"df-e2f8620d-506d-4eaa-b06b-74eab2c9ea8f\" class=\"colab-df-container\">\n",
              "    <div>\n",
              "<style scoped>\n",
              "    .dataframe tbody tr th:only-of-type {\n",
              "        vertical-align: middle;\n",
              "    }\n",
              "\n",
              "    .dataframe tbody tr th {\n",
              "        vertical-align: top;\n",
              "    }\n",
              "\n",
              "    .dataframe thead th {\n",
              "        text-align: right;\n",
              "    }\n",
              "</style>\n",
              "<table border=\"1\" class=\"dataframe\">\n",
              "  <thead>\n",
              "    <tr style=\"text-align: right;\">\n",
              "      <th></th>\n",
              "      <th>index</th>\n",
              "      <th>Class</th>\n",
              "      <th>Instructor/s</th>\n",
              "      <th>Units</th>\n",
              "      <th>Grade</th>\n",
              "      <th>sem</th>\n",
              "      <th>course</th>\n",
              "      <th>section</th>\n",
              "    </tr>\n",
              "  </thead>\n",
              "  <tbody>\n",
              "    <tr>\n",
              "      <th>0</th>\n",
              "      <td>0</td>\n",
              "      <td>GE 2 1AB</td>\n",
              "      <td>MEDINA, JOMMER</td>\n",
              "      <td>1.0</td>\n",
              "      <td>1.00</td>\n",
              "      <td>First Semester AY 2022-2023</td>\n",
              "      <td>GE 2</td>\n",
              "      <td>1AB</td>\n",
              "    </tr>\n",
              "    <tr>\n",
              "      <th>1</th>\n",
              "      <td>1</td>\n",
              "      <td>GE 10 1B</td>\n",
              "      <td>VERGARA, KARL ADRIAN</td>\n",
              "      <td>3.0</td>\n",
              "      <td>2.25</td>\n",
              "      <td>First Semester AY 2022-2023</td>\n",
              "      <td>GE 10</td>\n",
              "      <td>1B</td>\n",
              "    </tr>\n",
              "    <tr>\n",
              "      <th>2</th>\n",
              "      <td>2</td>\n",
              "      <td>KAS 1 THW2</td>\n",
              "      <td>LLANES, FERDINAND</td>\n",
              "      <td>3.0</td>\n",
              "      <td>1.25</td>\n",
              "      <td>First Semester AY 2022-2023</td>\n",
              "      <td>KAS 1</td>\n",
              "      <td>THW2</td>\n",
              "    </tr>\n",
              "    <tr>\n",
              "      <th>3</th>\n",
              "      <td>3</td>\n",
              "      <td>Math 21 TWHFR-9</td>\n",
              "      <td>MANALOTO, KORINA ERNJULIE</td>\n",
              "      <td>4.0</td>\n",
              "      <td>5.00</td>\n",
              "      <td>First Semester AY 2022-2023</td>\n",
              "      <td>Math 21</td>\n",
              "      <td>TWHFR-9</td>\n",
              "    </tr>\n",
              "    <tr>\n",
              "      <th>4</th>\n",
              "      <td>4</td>\n",
              "      <td>Physics 71 TWHFU-5</td>\n",
              "      <td>NIP, NIP; CABANILLA, JAYSON</td>\n",
              "      <td>4.0</td>\n",
              "      <td>5.00</td>\n",
              "      <td>First Semester AY 2022-2023</td>\n",
              "      <td>Physics 71</td>\n",
              "      <td>TWHFU-5</td>\n",
              "    </tr>\n",
              "    <tr>\n",
              "      <th>5</th>\n",
              "      <td>5</td>\n",
              "      <td>Physics 71.1 WIJ-1</td>\n",
              "      <td>AGAPITO, XYD</td>\n",
              "      <td>1.0</td>\n",
              "      <td>1.25</td>\n",
              "      <td>First Semester AY 2022-2023</td>\n",
              "      <td>Physics 71.1</td>\n",
              "      <td>WIJ-1</td>\n",
              "    </tr>\n",
              "    <tr>\n",
              "      <th>6</th>\n",
              "      <td>6</td>\n",
              "      <td>Soc Sci 2 THX-1</td>\n",
              "      <td>ESTRADA, LUIS GABRIEL ALFONSO</td>\n",
              "      <td>3.0</td>\n",
              "      <td>1.75</td>\n",
              "      <td>First Semester AY 2022-2023</td>\n",
              "      <td>Sci 2</td>\n",
              "      <td>THX-1</td>\n",
              "    </tr>\n",
              "    <tr>\n",
              "      <th>7</th>\n",
              "      <td>0</td>\n",
              "      <td>GE 12 1B</td>\n",
              "      <td>CRUZ, MARGAUX ANGELICA</td>\n",
              "      <td>4.0</td>\n",
              "      <td>1.75</td>\n",
              "      <td>Second Semester AY 2022-2023</td>\n",
              "      <td>GE 12</td>\n",
              "      <td>1B</td>\n",
              "    </tr>\n",
              "    <tr>\n",
              "      <th>8</th>\n",
              "      <td>1</td>\n",
              "      <td>GE 30 1B</td>\n",
              "      <td>ESCOTO, JOHN EMMANUEL</td>\n",
              "      <td>3.0</td>\n",
              "      <td>1.50</td>\n",
              "      <td>Second Semester AY 2022-2023</td>\n",
              "      <td>GE 30</td>\n",
              "      <td>1B</td>\n",
              "    </tr>\n",
              "    <tr>\n",
              "      <th>9</th>\n",
              "      <td>2</td>\n",
              "      <td>GE 120 1B</td>\n",
              "      <td>PADON, RANEL</td>\n",
              "      <td>3.0</td>\n",
              "      <td>2.00</td>\n",
              "      <td>Second Semester AY 2022-2023</td>\n",
              "      <td>GE 120</td>\n",
              "      <td>1B</td>\n",
              "    </tr>\n",
              "    <tr>\n",
              "      <th>10</th>\n",
              "      <td>3</td>\n",
              "      <td>GE 142 1BC</td>\n",
              "      <td>KATIGBAK, GEORGE</td>\n",
              "      <td>1.0</td>\n",
              "      <td>2.75</td>\n",
              "      <td>Second Semester AY 2022-2023</td>\n",
              "      <td>GE 142</td>\n",
              "      <td>1BC</td>\n",
              "    </tr>\n",
              "    <tr>\n",
              "      <th>11</th>\n",
              "      <td>4</td>\n",
              "      <td>Math 21 TWHFV-3</td>\n",
              "      <td>ONA, JEANINE CONCEPCION</td>\n",
              "      <td>4.0</td>\n",
              "      <td>3.00</td>\n",
              "      <td>Second Semester AY 2022-2023</td>\n",
              "      <td>Math 21</td>\n",
              "      <td>TWHFV-3</td>\n",
              "    </tr>\n",
              "    <tr>\n",
              "      <th>12</th>\n",
              "      <td>5</td>\n",
              "      <td>Physics 71 THQ-FQ-1</td>\n",
              "      <td>MIRANDA, JESSA JAYNE</td>\n",
              "      <td>4.0</td>\n",
              "      <td>2.50</td>\n",
              "      <td>Second Semester AY 2022-2023</td>\n",
              "      <td>Physics 71</td>\n",
              "      <td>THQ-FQ-1</td>\n",
              "    </tr>\n",
              "    <tr>\n",
              "      <th>13</th>\n",
              "      <td>6</td>\n",
              "      <td>PE 2 BW-T MDE Basic Ten Pin Bowling</td>\n",
              "      <td>RIVERA, NOEL</td>\n",
              "      <td>2.0</td>\n",
              "      <td>2.00</td>\n",
              "      <td>Second Semester AY 2022-2023</td>\n",
              "      <td>PE 2</td>\n",
              "      <td>BW-T MDE Basic Ten Pin Bowling</td>\n",
              "    </tr>\n",
              "    <tr>\n",
              "      <th>14</th>\n",
              "      <td>0</td>\n",
              "      <td>Math 22 X7-1</td>\n",
              "      <td>TAÑEDO, RAYMOND LOUIS</td>\n",
              "      <td>4.0</td>\n",
              "      <td>2.75</td>\n",
              "      <td>Midyear Term 2023</td>\n",
              "      <td>Math 22</td>\n",
              "      <td>X7-1</td>\n",
              "    </tr>\n",
              "    <tr>\n",
              "      <th>15</th>\n",
              "      <td>1</td>\n",
              "      <td>Physics 72 X8-3</td>\n",
              "      <td>NIP, NIP; AGAPITO, XYD</td>\n",
              "      <td>4.0</td>\n",
              "      <td>1.75</td>\n",
              "      <td>Midyear Term 2023</td>\n",
              "      <td>Physics 72</td>\n",
              "      <td>X8-3</td>\n",
              "    </tr>\n",
              "    <tr>\n",
              "      <th>16</th>\n",
              "      <td>0</td>\n",
              "      <td>CE 29 THW2</td>\n",
              "      <td>FUTALAN, CYBELLE CONCEPCION</td>\n",
              "      <td>3.0</td>\n",
              "      <td>2.00</td>\n",
              "      <td>First Semester AY 2023-2024</td>\n",
              "      <td>CE 29</td>\n",
              "      <td>THW2</td>\n",
              "    </tr>\n",
              "    <tr>\n",
              "      <th>17</th>\n",
              "      <td>1</td>\n",
              "      <td>GE 117 2A</td>\n",
              "      <td>ZAMORA, MA. BEA ANGELA</td>\n",
              "      <td>3.0</td>\n",
              "      <td>2.25</td>\n",
              "      <td>First Semester AY 2023-2024</td>\n",
              "      <td>GE 117</td>\n",
              "      <td>2A</td>\n",
              "    </tr>\n",
              "    <tr>\n",
              "      <th>18</th>\n",
              "      <td>2</td>\n",
              "      <td>GE 122 2A</td>\n",
              "      <td>ELAZEGUI, ERICA ERIN</td>\n",
              "      <td>3.0</td>\n",
              "      <td>3.00</td>\n",
              "      <td>First Semester AY 2023-2024</td>\n",
              "      <td>GE 122</td>\n",
              "      <td>2A</td>\n",
              "    </tr>\n",
              "    <tr>\n",
              "      <th>19</th>\n",
              "      <td>3</td>\n",
              "      <td>GE 161 2A</td>\n",
              "      <td>RADA, WILFREDO</td>\n",
              "      <td>3.0</td>\n",
              "      <td>2.75</td>\n",
              "      <td>First Semester AY 2023-2024</td>\n",
              "      <td>GE 161</td>\n",
              "      <td>2A</td>\n",
              "    </tr>\n",
              "    <tr>\n",
              "      <th>20</th>\n",
              "      <td>4</td>\n",
              "      <td>GE 162 2A</td>\n",
              "      <td>BAHIA, ROEL</td>\n",
              "      <td>3.0</td>\n",
              "      <td>1.50</td>\n",
              "      <td>First Semester AY 2023-2024</td>\n",
              "      <td>GE 162</td>\n",
              "      <td>2A</td>\n",
              "    </tr>\n",
              "    <tr>\n",
              "      <th>21</th>\n",
              "      <td>5</td>\n",
              "      <td>Math 23 TWHFQ-4</td>\n",
              "      <td>PANINGBATAN, ARIEL</td>\n",
              "      <td>4.0</td>\n",
              "      <td>3.00</td>\n",
              "      <td>First Semester AY 2023-2024</td>\n",
              "      <td>Math 23</td>\n",
              "      <td>TWHFQ-4</td>\n",
              "    </tr>\n",
              "    <tr>\n",
              "      <th>22</th>\n",
              "      <td>6</td>\n",
              "      <td>Physics 72.1 WIJ-1</td>\n",
              "      <td>BAYBAY, JOHN ADRIAN</td>\n",
              "      <td>1.0</td>\n",
              "      <td>1.25</td>\n",
              "      <td>First Semester AY 2023-2024</td>\n",
              "      <td>Physics 72.1</td>\n",
              "      <td>WIJ-1</td>\n",
              "    </tr>\n",
              "    <tr>\n",
              "      <th>23</th>\n",
              "      <td>7</td>\n",
              "      <td>CWTS 1 Engg SA Basic Map Reading, Way-finding,...</td>\n",
              "      <td>GUEVARA, TRISHIA</td>\n",
              "      <td>3.0</td>\n",
              "      <td>1.00</td>\n",
              "      <td>First Semester AY 2023-2024</td>\n",
              "      <td>CWTS 1</td>\n",
              "      <td>Engg SA Basic Map Reading, Way-finding, And Lo...</td>\n",
              "    </tr>\n",
              "    <tr>\n",
              "      <th>24</th>\n",
              "      <td>0</td>\n",
              "      <td>CE 11 THX</td>\n",
              "      <td>ALCANTARA, MATTHEW TRAVIS; MUSICO, JOHN KENNETH</td>\n",
              "      <td>3.0</td>\n",
              "      <td>2.00</td>\n",
              "      <td>Second Semester AY 2023-2024</td>\n",
              "      <td>CE 11</td>\n",
              "      <td>THX</td>\n",
              "    </tr>\n",
              "    <tr>\n",
              "      <th>25</th>\n",
              "      <td>1</td>\n",
              "      <td>ES 101 THQ1</td>\n",
              "      <td>BANIQUED, JULIUS REY; ROQUE, JOHN HENRY</td>\n",
              "      <td>4.0</td>\n",
              "      <td>2.75</td>\n",
              "      <td>Second Semester AY 2023-2024</td>\n",
              "      <td>ES 101</td>\n",
              "      <td>THQ1</td>\n",
              "    </tr>\n",
              "    <tr>\n",
              "      <th>26</th>\n",
              "      <td>2</td>\n",
              "      <td>GE 118 2C</td>\n",
              "      <td>RAMOS, ROSEANNE</td>\n",
              "      <td>3.0</td>\n",
              "      <td>1.25</td>\n",
              "      <td>Second Semester AY 2023-2024</td>\n",
              "      <td>GE 118</td>\n",
              "      <td>2C</td>\n",
              "    </tr>\n",
              "    <tr>\n",
              "      <th>27</th>\n",
              "      <td>3</td>\n",
              "      <td>GE 127 2C1</td>\n",
              "      <td>CARCELLAR, BIENVENIDO</td>\n",
              "      <td>4.0</td>\n",
              "      <td>2.75</td>\n",
              "      <td>Second Semester AY 2023-2024</td>\n",
              "      <td>GE 127</td>\n",
              "      <td>2C1</td>\n",
              "    </tr>\n",
              "    <tr>\n",
              "      <th>28</th>\n",
              "      <td>4</td>\n",
              "      <td>GE 168 2C</td>\n",
              "      <td>ZAMORA, MA. BEA ANGELA</td>\n",
              "      <td>3.0</td>\n",
              "      <td>1.75</td>\n",
              "      <td>Second Semester AY 2023-2024</td>\n",
              "      <td>GE 168</td>\n",
              "      <td>2C</td>\n",
              "    </tr>\n",
              "    <tr>\n",
              "      <th>29</th>\n",
              "      <td>5</td>\n",
              "      <td>GIM 165 2C</td>\n",
              "      <td>CLARIDADES, ALEXIS RICHARD; APURA, RANSIE JOY</td>\n",
              "      <td>3.0</td>\n",
              "      <td>2.75</td>\n",
              "      <td>Second Semester AY 2023-2024</td>\n",
              "      <td>GIM 165</td>\n",
              "      <td>2C</td>\n",
              "    </tr>\n",
              "    <tr>\n",
              "      <th>30</th>\n",
              "      <td>6</td>\n",
              "      <td>PE 2 PG WFJ Philippine Games</td>\n",
              "      <td>MABAQUIAO, JEAN PAUL</td>\n",
              "      <td>2.0</td>\n",
              "      <td>1.00</td>\n",
              "      <td>Second Semester AY 2023-2024</td>\n",
              "      <td>PE 2</td>\n",
              "      <td>PG WFJ Philippine Games</td>\n",
              "    </tr>\n",
              "    <tr>\n",
              "      <th>31</th>\n",
              "      <td>7</td>\n",
              "      <td>CWTS 2 Engg SWX Basic Map Reading, Way-finding...</td>\n",
              "      <td>BAHIA, ROEL</td>\n",
              "      <td>3.0</td>\n",
              "      <td>1.00</td>\n",
              "      <td>Second Semester AY 2023-2024</td>\n",
              "      <td>CWTS 2</td>\n",
              "      <td>Engg SWX Basic Map Reading, Way-finding, And L...</td>\n",
              "    </tr>\n",
              "    <tr>\n",
              "      <th>32</th>\n",
              "      <td>0</td>\n",
              "      <td>GE 193 2A</td>\n",
              "      <td>BAHIA, ROEL</td>\n",
              "      <td>2.0</td>\n",
              "      <td>1.00</td>\n",
              "      <td>Midyear Term 2024</td>\n",
              "      <td>GE 193</td>\n",
              "      <td>2A</td>\n",
              "    </tr>\n",
              "    <tr>\n",
              "      <th>33</th>\n",
              "      <td>0</td>\n",
              "      <td>GE 116 3C</td>\n",
              "      <td>MABAQUIAO, LUIS CARLOS</td>\n",
              "      <td>3.0</td>\n",
              "      <td>6.00</td>\n",
              "      <td>First Semester AY 2024-2025</td>\n",
              "      <td>GE 116</td>\n",
              "      <td>3C</td>\n",
              "    </tr>\n",
              "    <tr>\n",
              "      <th>34</th>\n",
              "      <td>1</td>\n",
              "      <td>GE 144 3C</td>\n",
              "      <td>TIAMSON, ERWIN</td>\n",
              "      <td>3.0</td>\n",
              "      <td>6.00</td>\n",
              "      <td>First Semester AY 2024-2025</td>\n",
              "      <td>GE 144</td>\n",
              "      <td>3C</td>\n",
              "    </tr>\n",
              "    <tr>\n",
              "      <th>35</th>\n",
              "      <td>2</td>\n",
              "      <td>GIM 176 3C</td>\n",
              "      <td>MACAPINLAC, OLIVER</td>\n",
              "      <td>2.0</td>\n",
              "      <td>6.00</td>\n",
              "      <td>First Semester AY 2024-2025</td>\n",
              "      <td>GIM 176</td>\n",
              "      <td>3C</td>\n",
              "    </tr>\n",
              "    <tr>\n",
              "      <th>36</th>\n",
              "      <td>3</td>\n",
              "      <td>Geol 11 WFV</td>\n",
              "      <td>SUMADEN, MARK</td>\n",
              "      <td>3.0</td>\n",
              "      <td>6.00</td>\n",
              "      <td>First Semester AY 2024-2025</td>\n",
              "      <td>Geol 11</td>\n",
              "      <td>WFV</td>\n",
              "    </tr>\n",
              "    <tr>\n",
              "      <th>37</th>\n",
              "      <td>4</td>\n",
              "      <td>GsE 188 3C</td>\n",
              "      <td>PRINCIPE, JEARK; ANG, MA. ROSARIO CONCEPCION; ...</td>\n",
              "      <td>4.0</td>\n",
              "      <td>6.00</td>\n",
              "      <td>First Semester AY 2024-2025</td>\n",
              "      <td>GsE 188</td>\n",
              "      <td>3C</td>\n",
              "    </tr>\n",
              "    <tr>\n",
              "      <th>38</th>\n",
              "      <td>5</td>\n",
              "      <td>GsE 189 3C</td>\n",
              "      <td>BABAAN, JENNIEVEIVE</td>\n",
              "      <td>4.0</td>\n",
              "      <td>6.00</td>\n",
              "      <td>First Semester AY 2024-2025</td>\n",
              "      <td>GsE 189</td>\n",
              "      <td>3C</td>\n",
              "    </tr>\n",
              "    <tr>\n",
              "      <th>39</th>\n",
              "      <td>6</td>\n",
              "      <td>PE 2 WF MAB Walking for Fitness</td>\n",
              "      <td>OKUMU, GODFREY</td>\n",
              "      <td>2.0</td>\n",
              "      <td>6.00</td>\n",
              "      <td>First Semester AY 2024-2025</td>\n",
              "      <td>PE 2</td>\n",
              "      <td>WF MAB Walking for Fitness</td>\n",
              "    </tr>\n",
              "  </tbody>\n",
              "</table>\n",
              "</div>\n",
              "    <div class=\"colab-df-buttons\">\n",
              "\n",
              "  <div class=\"colab-df-container\">\n",
              "    <button class=\"colab-df-convert\" onclick=\"convertToInteractive('df-e2f8620d-506d-4eaa-b06b-74eab2c9ea8f')\"\n",
              "            title=\"Convert this dataframe to an interactive table.\"\n",
              "            style=\"display:none;\">\n",
              "\n",
              "  <svg xmlns=\"http://www.w3.org/2000/svg\" height=\"24px\" viewBox=\"0 -960 960 960\">\n",
              "    <path d=\"M120-120v-720h720v720H120Zm60-500h600v-160H180v160Zm220 220h160v-160H400v160Zm0 220h160v-160H400v160ZM180-400h160v-160H180v160Zm440 0h160v-160H620v160ZM180-180h160v-160H180v160Zm440 0h160v-160H620v160Z\"/>\n",
              "  </svg>\n",
              "    </button>\n",
              "\n",
              "  <style>\n",
              "    .colab-df-container {\n",
              "      display:flex;\n",
              "      gap: 12px;\n",
              "    }\n",
              "\n",
              "    .colab-df-convert {\n",
              "      background-color: #E8F0FE;\n",
              "      border: none;\n",
              "      border-radius: 50%;\n",
              "      cursor: pointer;\n",
              "      display: none;\n",
              "      fill: #1967D2;\n",
              "      height: 32px;\n",
              "      padding: 0 0 0 0;\n",
              "      width: 32px;\n",
              "    }\n",
              "\n",
              "    .colab-df-convert:hover {\n",
              "      background-color: #E2EBFA;\n",
              "      box-shadow: 0px 1px 2px rgba(60, 64, 67, 0.3), 0px 1px 3px 1px rgba(60, 64, 67, 0.15);\n",
              "      fill: #174EA6;\n",
              "    }\n",
              "\n",
              "    .colab-df-buttons div {\n",
              "      margin-bottom: 4px;\n",
              "    }\n",
              "\n",
              "    [theme=dark] .colab-df-convert {\n",
              "      background-color: #3B4455;\n",
              "      fill: #D2E3FC;\n",
              "    }\n",
              "\n",
              "    [theme=dark] .colab-df-convert:hover {\n",
              "      background-color: #434B5C;\n",
              "      box-shadow: 0px 1px 3px 1px rgba(0, 0, 0, 0.15);\n",
              "      filter: drop-shadow(0px 1px 2px rgba(0, 0, 0, 0.3));\n",
              "      fill: #FFFFFF;\n",
              "    }\n",
              "  </style>\n",
              "\n",
              "    <script>\n",
              "      const buttonEl =\n",
              "        document.querySelector('#df-e2f8620d-506d-4eaa-b06b-74eab2c9ea8f button.colab-df-convert');\n",
              "      buttonEl.style.display =\n",
              "        google.colab.kernel.accessAllowed ? 'block' : 'none';\n",
              "\n",
              "      async function convertToInteractive(key) {\n",
              "        const element = document.querySelector('#df-e2f8620d-506d-4eaa-b06b-74eab2c9ea8f');\n",
              "        const dataTable =\n",
              "          await google.colab.kernel.invokeFunction('convertToInteractive',\n",
              "                                                    [key], {});\n",
              "        if (!dataTable) return;\n",
              "\n",
              "        const docLinkHtml = 'Like what you see? Visit the ' +\n",
              "          '<a target=\"_blank\" href=https://colab.research.google.com/notebooks/data_table.ipynb>data table notebook</a>'\n",
              "          + ' to learn more about interactive tables.';\n",
              "        element.innerHTML = '';\n",
              "        dataTable['output_type'] = 'display_data';\n",
              "        await google.colab.output.renderOutput(dataTable, element);\n",
              "        const docLink = document.createElement('div');\n",
              "        docLink.innerHTML = docLinkHtml;\n",
              "        element.appendChild(docLink);\n",
              "      }\n",
              "    </script>\n",
              "  </div>\n",
              "\n",
              "\n",
              "<div id=\"df-0f340525-8fd6-454f-a733-1ae461f566a8\">\n",
              "  <button class=\"colab-df-quickchart\" onclick=\"quickchart('df-0f340525-8fd6-454f-a733-1ae461f566a8')\"\n",
              "            title=\"Suggest charts\"\n",
              "            style=\"display:none;\">\n",
              "\n",
              "<svg xmlns=\"http://www.w3.org/2000/svg\" height=\"24px\"viewBox=\"0 0 24 24\"\n",
              "     width=\"24px\">\n",
              "    <g>\n",
              "        <path d=\"M19 3H5c-1.1 0-2 .9-2 2v14c0 1.1.9 2 2 2h14c1.1 0 2-.9 2-2V5c0-1.1-.9-2-2-2zM9 17H7v-7h2v7zm4 0h-2V7h2v10zm4 0h-2v-4h2v4z\"/>\n",
              "    </g>\n",
              "</svg>\n",
              "  </button>\n",
              "\n",
              "<style>\n",
              "  .colab-df-quickchart {\n",
              "      --bg-color: #E8F0FE;\n",
              "      --fill-color: #1967D2;\n",
              "      --hover-bg-color: #E2EBFA;\n",
              "      --hover-fill-color: #174EA6;\n",
              "      --disabled-fill-color: #AAA;\n",
              "      --disabled-bg-color: #DDD;\n",
              "  }\n",
              "\n",
              "  [theme=dark] .colab-df-quickchart {\n",
              "      --bg-color: #3B4455;\n",
              "      --fill-color: #D2E3FC;\n",
              "      --hover-bg-color: #434B5C;\n",
              "      --hover-fill-color: #FFFFFF;\n",
              "      --disabled-bg-color: #3B4455;\n",
              "      --disabled-fill-color: #666;\n",
              "  }\n",
              "\n",
              "  .colab-df-quickchart {\n",
              "    background-color: var(--bg-color);\n",
              "    border: none;\n",
              "    border-radius: 50%;\n",
              "    cursor: pointer;\n",
              "    display: none;\n",
              "    fill: var(--fill-color);\n",
              "    height: 32px;\n",
              "    padding: 0;\n",
              "    width: 32px;\n",
              "  }\n",
              "\n",
              "  .colab-df-quickchart:hover {\n",
              "    background-color: var(--hover-bg-color);\n",
              "    box-shadow: 0 1px 2px rgba(60, 64, 67, 0.3), 0 1px 3px 1px rgba(60, 64, 67, 0.15);\n",
              "    fill: var(--button-hover-fill-color);\n",
              "  }\n",
              "\n",
              "  .colab-df-quickchart-complete:disabled,\n",
              "  .colab-df-quickchart-complete:disabled:hover {\n",
              "    background-color: var(--disabled-bg-color);\n",
              "    fill: var(--disabled-fill-color);\n",
              "    box-shadow: none;\n",
              "  }\n",
              "\n",
              "  .colab-df-spinner {\n",
              "    border: 2px solid var(--fill-color);\n",
              "    border-color: transparent;\n",
              "    border-bottom-color: var(--fill-color);\n",
              "    animation:\n",
              "      spin 1s steps(1) infinite;\n",
              "  }\n",
              "\n",
              "  @keyframes spin {\n",
              "    0% {\n",
              "      border-color: transparent;\n",
              "      border-bottom-color: var(--fill-color);\n",
              "      border-left-color: var(--fill-color);\n",
              "    }\n",
              "    20% {\n",
              "      border-color: transparent;\n",
              "      border-left-color: var(--fill-color);\n",
              "      border-top-color: var(--fill-color);\n",
              "    }\n",
              "    30% {\n",
              "      border-color: transparent;\n",
              "      border-left-color: var(--fill-color);\n",
              "      border-top-color: var(--fill-color);\n",
              "      border-right-color: var(--fill-color);\n",
              "    }\n",
              "    40% {\n",
              "      border-color: transparent;\n",
              "      border-right-color: var(--fill-color);\n",
              "      border-top-color: var(--fill-color);\n",
              "    }\n",
              "    60% {\n",
              "      border-color: transparent;\n",
              "      border-right-color: var(--fill-color);\n",
              "    }\n",
              "    80% {\n",
              "      border-color: transparent;\n",
              "      border-right-color: var(--fill-color);\n",
              "      border-bottom-color: var(--fill-color);\n",
              "    }\n",
              "    90% {\n",
              "      border-color: transparent;\n",
              "      border-bottom-color: var(--fill-color);\n",
              "    }\n",
              "  }\n",
              "</style>\n",
              "\n",
              "  <script>\n",
              "    async function quickchart(key) {\n",
              "      const quickchartButtonEl =\n",
              "        document.querySelector('#' + key + ' button');\n",
              "      quickchartButtonEl.disabled = true;  // To prevent multiple clicks.\n",
              "      quickchartButtonEl.classList.add('colab-df-spinner');\n",
              "      try {\n",
              "        const charts = await google.colab.kernel.invokeFunction(\n",
              "            'suggestCharts', [key], {});\n",
              "      } catch (error) {\n",
              "        console.error('Error during call to suggestCharts:', error);\n",
              "      }\n",
              "      quickchartButtonEl.classList.remove('colab-df-spinner');\n",
              "      quickchartButtonEl.classList.add('colab-df-quickchart-complete');\n",
              "    }\n",
              "    (() => {\n",
              "      let quickchartButtonEl =\n",
              "        document.querySelector('#df-0f340525-8fd6-454f-a733-1ae461f566a8 button');\n",
              "      quickchartButtonEl.style.display =\n",
              "        google.colab.kernel.accessAllowed ? 'block' : 'none';\n",
              "    })();\n",
              "  </script>\n",
              "</div>\n",
              "\n",
              "    </div>\n",
              "  </div>\n"
            ],
            "application/vnd.google.colaboratory.intrinsic+json": {
              "type": "dataframe",
              "summary": "{\n  \"name\": \"dge\",\n  \"rows\": 40,\n  \"fields\": [\n    {\n      \"column\": \"index\",\n      \"properties\": {\n        \"dtype\": \"number\",\n        \"std\": 2,\n        \"min\": 0,\n        \"max\": 7,\n        \"num_unique_values\": 8,\n        \"samples\": [\n          1,\n          5,\n          0\n        ],\n        \"semantic_type\": \"\",\n        \"description\": \"\"\n      }\n    },\n    {\n      \"column\": \"Class\",\n      \"properties\": {\n        \"dtype\": \"string\",\n        \"num_unique_values\": 40,\n        \"samples\": [\n          \"GE 161 2A\",\n          \"CE 29 THW2\",\n          \"Physics 72 X8-3\"\n        ],\n        \"semantic_type\": \"\",\n        \"description\": \"\"\n      }\n    },\n    {\n      \"column\": \"Instructor/s\",\n      \"properties\": {\n        \"dtype\": \"string\",\n        \"num_unique_values\": 37,\n        \"samples\": [\n          \"ZAMORA, MA. BEA ANGELA\",\n          \"RIVERA, NOEL\",\n          \"NIP, NIP; CABANILLA, JAYSON\"\n        ],\n        \"semantic_type\": \"\",\n        \"description\": \"\"\n      }\n    },\n    {\n      \"column\": \"Units\",\n      \"properties\": {\n        \"dtype\": \"number\",\n        \"std\": 0.9195177108206346,\n        \"min\": 1.0,\n        \"max\": 4.0,\n        \"num_unique_values\": 4,\n        \"samples\": [\n          3.0,\n          2.0,\n          1.0\n        ],\n        \"semantic_type\": \"\",\n        \"description\": \"\"\n      }\n    },\n    {\n      \"column\": \"Grade\",\n      \"properties\": {\n        \"dtype\": \"number\",\n        \"std\": 1.7419687506396686,\n        \"min\": 1.0,\n        \"max\": 6.0,\n        \"num_unique_values\": 11,\n        \"samples\": [\n          1.5,\n          1.0,\n          2.5\n        ],\n        \"semantic_type\": \"\",\n        \"description\": \"\"\n      }\n    },\n    {\n      \"column\": \"sem\",\n      \"properties\": {\n        \"dtype\": \"category\",\n        \"num_unique_values\": 7,\n        \"samples\": [\n          \"First Semester AY 2022-2023\",\n          \"Second Semester AY 2022-2023\",\n          \"Midyear Term 2024\"\n        ],\n        \"semantic_type\": \"\",\n        \"description\": \"\"\n      }\n    },\n    {\n      \"column\": \"course\",\n      \"properties\": {\n        \"dtype\": \"string\",\n        \"num_unique_values\": 36,\n        \"samples\": [\n          \"GsE 189\",\n          \"Physics 72\",\n          \"GE 168\"\n        ],\n        \"semantic_type\": \"\",\n        \"description\": \"\"\n      }\n    },\n    {\n      \"column\": \"section\",\n      \"properties\": {\n        \"dtype\": \"string\",\n        \"num_unique_values\": 25,\n        \"samples\": [\n          \"TWHFV-3\",\n          \"THX\",\n          \"1AB\"\n        ],\n        \"semantic_type\": \"\",\n        \"description\": \"\"\n      }\n    }\n  ]\n}"
            }
          },
          "metadata": {},
          "execution_count": 14
        }
      ]
    },
    {
      "cell_type": "code",
      "source": [
        "[i.name for i in list(dge.students[0].curriculum.subjects.values()) if i.currentGrade==6]"
      ],
      "metadata": {
        "colab": {
          "base_uri": "https://localhost:8080/"
        },
        "id": "kOuWGHBbIpVC",
        "outputId": "75de42b7-f908-4cb6-dec2-a3dd71531b92"
      },
      "execution_count": null,
      "outputs": [
        {
          "output_type": "execute_result",
          "data": {
            "text/plain": [
              "['GE 144', 'GE 116', 'GIM 176', 'GsE 188', 'GsE 189']"
            ]
          },
          "metadata": {},
          "execution_count": 107
        }
      ]
    },
    {
      "cell_type": "code",
      "source": [
        "dge.students[0].isOngoing()"
      ],
      "metadata": {
        "colab": {
          "base_uri": "https://localhost:8080/"
        },
        "id": "9auQBCfm5HDV",
        "outputId": "0aae00c4-ee4c-453f-842d-ee70565e9240"
      },
      "execution_count": null,
      "outputs": [
        {
          "output_type": "stream",
          "name": "stdout",
          "text": [
            "[2.5, 1.25, 3.0, 1.0, 2.25, nan, nan, nan, 1.75, 2.0, 1.75, 1.25, 1.5, 2.75, 2.75, nan, 2.75, 3.0, 1.5, 3.0, 2.75, 1.75, 2.0, 2.25, 2.0, 1.25, 2.75, 2.75, 1.0, 6.0, 6.0, 6.0, 6.0, nan, 6.0, nan, nan, nan, nan, nan, nan, nan, nan, nan, nan, nan, nan, nan, nan, nan, nan, nan, nan, nan, nan, nan, nan, nan, nan]\n"
          ]
        },
        {
          "output_type": "execute_result",
          "data": {
            "text/plain": [
              "['GE 144', 'GE 116', 'GIM 176', 'GsE 188', 'GsE 189']"
            ]
          },
          "metadata": {},
          "execution_count": 15
        }
      ]
    },
    {
      "cell_type": "code",
      "source": [
        "[ for i in dge.students[0].curriculum.subjects.values()][0].takes"
      ],
      "metadata": {
        "colab": {
          "base_uri": "https://localhost:8080/"
        },
        "id": "K_x5rBWC5KBl",
        "outputId": "a79d6e7c-944a-49f1-8f3c-2ece6d23df75"
      },
      "execution_count": null,
      "outputs": [
        {
          "output_type": "execute_result",
          "data": {
            "text/plain": [
              "2"
            ]
          },
          "metadata": {},
          "execution_count": 54
        }
      ]
    },
    {
      "cell_type": "code",
      "source": [
        "[i.name for i in dge.students[0].curriculum.subjects.values() if i.currentGrade == 6]"
      ],
      "metadata": {
        "colab": {
          "base_uri": "https://localhost:8080/"
        },
        "id": "pt-m1Qy2OSue",
        "outputId": "8d44137a-4a7d-4970-ad48-5661fac66d5b"
      },
      "execution_count": null,
      "outputs": [
        {
          "output_type": "execute_result",
          "data": {
            "text/plain": [
              "['GE 144', 'GE 116', 'GIM 176', 'GsE 188', 'GsE 189']"
            ]
          },
          "metadata": {},
          "execution_count": 113
        }
      ]
    },
    {
      "cell_type": "code",
      "source": [
        "all =[]\n",
        "profs = []\n",
        "for student in dge.students:\n",
        "  clustergrade = student.solveCluster()\n",
        "  clustergrade['name'] = student.name\n",
        "  clustergrade['sn'] = student.sn\n",
        "  all.append(clustergrade)\n",
        "  #profs.append(clusterprofs)"
      ],
      "metadata": {
        "id": "4OzHiOT9yRR5"
      },
      "execution_count": null,
      "outputs": []
    },
    {
      "cell_type": "code",
      "source": [
        "all_df = pd.DataFrame(all)\n",
        "all_df.to_csv('clustergrade.csv')"
      ],
      "metadata": {
        "id": "mfzf8_x5y82Q"
      },
      "execution_count": null,
      "outputs": []
    },
    {
      "cell_type": "code",
      "execution_count": null,
      "metadata": {
        "id": "re4v8IxteVni"
      },
      "outputs": [],
      "source": [
        "student = Student(f)\n",
        "clustergrade = student.solveCluster()\n",
        "clustergrade['name'] = student.name\n",
        "clustergrade['sn'] = student.sn\n",
        "all.append(clustergrade)\n",
        "profs.append(clusterprofs)"
      ]
    },
    {
      "cell_type": "code",
      "execution_count": null,
      "metadata": {
        "id": "CqIa_YRNd3qf"
      },
      "outputs": [],
      "source": [
        "files = glob.glob('/content/drive/MyDrive/DGE_Files/UStAC/BSGE2023 Grades/*.html')\n",
        "all =[]\n",
        "profs = []\n",
        "for f in files:\n",
        "  student = Student(f)\n",
        "  clustergrade = student.solveCluster()\n",
        "  clustergrade['name'] = student.name\n",
        "  clustergrade['sn'] = student.sn\n",
        "  all.append(clustergrade)\n",
        "  profs.append(clusterprofs)"
      ]
    }
  ],
  "metadata": {
    "colab": {
      "provenance": [],
      "toc_visible": true,
      "mount_file_id": "13vBt4PtHeCE4bO4_WIeyG3OfDTg-J8W-",
      "authorship_tag": "ABX9TyMJ40Nqyh/o0LUqfJqjJlAv",
      "include_colab_link": true
    },
    "kernelspec": {
      "display_name": "Python 3",
      "name": "python3"
    },
    "language_info": {
      "name": "python"
    }
  },
  "nbformat": 4,
  "nbformat_minor": 0
}