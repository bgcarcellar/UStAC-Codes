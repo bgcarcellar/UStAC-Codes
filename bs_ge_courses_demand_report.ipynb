{
  "cells": [
    {
      "cell_type": "markdown",
      "metadata": {
        "id": "view-in-github",
        "colab_type": "text"
      },
      "source": [
        "<a href=\"https://colab.research.google.com/github/bgcarcellar/UStAC-Codes/blob/main/bs_ge_courses_demand_report.ipynb\" target=\"_parent\"><img src=\"https://colab.research.google.com/assets/colab-badge.svg\" alt=\"Open In Colab\"/></a>"
      ]
    },
    {
      "cell_type": "code",
      "execution_count": 1,
      "metadata": {
        "colab": {
          "base_uri": "https://localhost:8080/"
        },
        "id": "SW21hGrtIS29",
        "outputId": "0d107da1-4c68-431f-ac47-8ecf75788fe8"
      },
      "outputs": [
        {
          "output_type": "stream",
          "name": "stdout",
          "text": [
            "Collecting google-colab-selenium\n",
            "  Downloading google_colab_selenium-1.0.15-py3-none-any.whl.metadata (2.8 kB)\n",
            "Requirement already satisfied: notebook>=6.5.7 in /usr/local/lib/python3.11/dist-packages (from google-colab-selenium) (6.5.7)\n",
            "Collecting selenium (from google-colab-selenium)\n",
            "  Downloading selenium-4.34.2-py3-none-any.whl.metadata (7.5 kB)\n",
            "Requirement already satisfied: jinja2 in /usr/local/lib/python3.11/dist-packages (from notebook>=6.5.7->google-colab-selenium) (3.1.6)\n",
            "Requirement already satisfied: tornado>=6.1 in /usr/local/lib/python3.11/dist-packages (from notebook>=6.5.7->google-colab-selenium) (6.4.2)\n",
            "Requirement already satisfied: pyzmq>=17 in /usr/local/lib/python3.11/dist-packages (from notebook>=6.5.7->google-colab-selenium) (26.2.1)\n",
            "Requirement already satisfied: argon2-cffi in /usr/local/lib/python3.11/dist-packages (from notebook>=6.5.7->google-colab-selenium) (25.1.0)\n",
            "Requirement already satisfied: traitlets>=4.2.1 in /usr/local/lib/python3.11/dist-packages (from notebook>=6.5.7->google-colab-selenium) (5.7.1)\n",
            "Requirement already satisfied: jupyter-core>=4.6.1 in /usr/local/lib/python3.11/dist-packages (from notebook>=6.5.7->google-colab-selenium) (5.8.1)\n",
            "Requirement already satisfied: jupyter-client<8,>=5.3.4 in /usr/local/lib/python3.11/dist-packages (from notebook>=6.5.7->google-colab-selenium) (6.1.12)\n",
            "Requirement already satisfied: ipython-genutils in /usr/local/lib/python3.11/dist-packages (from notebook>=6.5.7->google-colab-selenium) (0.2.0)\n",
            "Requirement already satisfied: nbformat in /usr/local/lib/python3.11/dist-packages (from notebook>=6.5.7->google-colab-selenium) (5.10.4)\n",
            "Requirement already satisfied: nbconvert>=5 in /usr/local/lib/python3.11/dist-packages (from notebook>=6.5.7->google-colab-selenium) (7.16.6)\n",
            "Requirement already satisfied: nest-asyncio>=1.5 in /usr/local/lib/python3.11/dist-packages (from notebook>=6.5.7->google-colab-selenium) (1.6.0)\n",
            "Requirement already satisfied: ipykernel in /usr/local/lib/python3.11/dist-packages (from notebook>=6.5.7->google-colab-selenium) (6.17.1)\n",
            "Requirement already satisfied: Send2Trash>=1.8.0 in /usr/local/lib/python3.11/dist-packages (from notebook>=6.5.7->google-colab-selenium) (1.8.3)\n",
            "Requirement already satisfied: terminado>=0.8.3 in /usr/local/lib/python3.11/dist-packages (from notebook>=6.5.7->google-colab-selenium) (0.18.1)\n",
            "Requirement already satisfied: prometheus-client in /usr/local/lib/python3.11/dist-packages (from notebook>=6.5.7->google-colab-selenium) (0.22.1)\n",
            "Requirement already satisfied: nbclassic>=0.4.7 in /usr/local/lib/python3.11/dist-packages (from notebook>=6.5.7->google-colab-selenium) (1.3.1)\n",
            "Requirement already satisfied: urllib3~=2.5.0 in /usr/local/lib/python3.11/dist-packages (from urllib3[socks]~=2.5.0->selenium->google-colab-selenium) (2.5.0)\n",
            "Collecting trio~=0.30.0 (from selenium->google-colab-selenium)\n",
            "  Downloading trio-0.30.0-py3-none-any.whl.metadata (8.5 kB)\n",
            "Collecting trio-websocket~=0.12.2 (from selenium->google-colab-selenium)\n",
            "  Downloading trio_websocket-0.12.2-py3-none-any.whl.metadata (5.1 kB)\n",
            "Requirement already satisfied: certifi>=2025.6.15 in /usr/local/lib/python3.11/dist-packages (from selenium->google-colab-selenium) (2025.7.14)\n",
            "Requirement already satisfied: typing_extensions~=4.14.0 in /usr/local/lib/python3.11/dist-packages (from selenium->google-colab-selenium) (4.14.1)\n",
            "Requirement already satisfied: websocket-client~=1.8.0 in /usr/local/lib/python3.11/dist-packages (from selenium->google-colab-selenium) (1.8.0)\n",
            "Requirement already satisfied: python-dateutil>=2.1 in /usr/local/lib/python3.11/dist-packages (from jupyter-client<8,>=5.3.4->notebook>=6.5.7->google-colab-selenium) (2.9.0.post0)\n",
            "Requirement already satisfied: platformdirs>=2.5 in /usr/local/lib/python3.11/dist-packages (from jupyter-core>=4.6.1->notebook>=6.5.7->google-colab-selenium) (4.3.8)\n",
            "Requirement already satisfied: notebook-shim>=0.2.3 in /usr/local/lib/python3.11/dist-packages (from nbclassic>=0.4.7->notebook>=6.5.7->google-colab-selenium) (0.2.4)\n",
            "Requirement already satisfied: beautifulsoup4 in /usr/local/lib/python3.11/dist-packages (from nbconvert>=5->notebook>=6.5.7->google-colab-selenium) (4.13.4)\n",
            "Requirement already satisfied: bleach!=5.0.0 in /usr/local/lib/python3.11/dist-packages (from bleach[css]!=5.0.0->nbconvert>=5->notebook>=6.5.7->google-colab-selenium) (6.2.0)\n",
            "Requirement already satisfied: defusedxml in /usr/local/lib/python3.11/dist-packages (from nbconvert>=5->notebook>=6.5.7->google-colab-selenium) (0.7.1)\n",
            "Requirement already satisfied: jupyterlab-pygments in /usr/local/lib/python3.11/dist-packages (from nbconvert>=5->notebook>=6.5.7->google-colab-selenium) (0.3.0)\n",
            "Requirement already satisfied: markupsafe>=2.0 in /usr/local/lib/python3.11/dist-packages (from nbconvert>=5->notebook>=6.5.7->google-colab-selenium) (3.0.2)\n",
            "Requirement already satisfied: mistune<4,>=2.0.3 in /usr/local/lib/python3.11/dist-packages (from nbconvert>=5->notebook>=6.5.7->google-colab-selenium) (3.1.3)\n",
            "Requirement already satisfied: nbclient>=0.5.0 in /usr/local/lib/python3.11/dist-packages (from nbconvert>=5->notebook>=6.5.7->google-colab-selenium) (0.10.2)\n",
            "Requirement already satisfied: packaging in /usr/local/lib/python3.11/dist-packages (from nbconvert>=5->notebook>=6.5.7->google-colab-selenium) (25.0)\n",
            "Requirement already satisfied: pandocfilters>=1.4.1 in /usr/local/lib/python3.11/dist-packages (from nbconvert>=5->notebook>=6.5.7->google-colab-selenium) (1.5.1)\n",
            "Requirement already satisfied: pygments>=2.4.1 in /usr/local/lib/python3.11/dist-packages (from nbconvert>=5->notebook>=6.5.7->google-colab-selenium) (2.19.2)\n",
            "Requirement already satisfied: fastjsonschema>=2.15 in /usr/local/lib/python3.11/dist-packages (from nbformat->notebook>=6.5.7->google-colab-selenium) (2.21.1)\n",
            "Requirement already satisfied: jsonschema>=2.6 in /usr/local/lib/python3.11/dist-packages (from nbformat->notebook>=6.5.7->google-colab-selenium) (4.25.0)\n",
            "Requirement already satisfied: ptyprocess in /usr/local/lib/python3.11/dist-packages (from terminado>=0.8.3->notebook>=6.5.7->google-colab-selenium) (0.7.0)\n",
            "Requirement already satisfied: attrs>=23.2.0 in /usr/local/lib/python3.11/dist-packages (from trio~=0.30.0->selenium->google-colab-selenium) (25.3.0)\n",
            "Requirement already satisfied: sortedcontainers in /usr/local/lib/python3.11/dist-packages (from trio~=0.30.0->selenium->google-colab-selenium) (2.4.0)\n",
            "Requirement already satisfied: idna in /usr/local/lib/python3.11/dist-packages (from trio~=0.30.0->selenium->google-colab-selenium) (3.10)\n",
            "Collecting outcome (from trio~=0.30.0->selenium->google-colab-selenium)\n",
            "  Downloading outcome-1.3.0.post0-py2.py3-none-any.whl.metadata (2.6 kB)\n",
            "Requirement already satisfied: sniffio>=1.3.0 in /usr/local/lib/python3.11/dist-packages (from trio~=0.30.0->selenium->google-colab-selenium) (1.3.1)\n",
            "Collecting wsproto>=0.14 (from trio-websocket~=0.12.2->selenium->google-colab-selenium)\n",
            "  Downloading wsproto-1.2.0-py3-none-any.whl.metadata (5.6 kB)\n",
            "Requirement already satisfied: pysocks!=1.5.7,<2.0,>=1.5.6 in /usr/local/lib/python3.11/dist-packages (from urllib3[socks]~=2.5.0->selenium->google-colab-selenium) (1.7.1)\n",
            "Requirement already satisfied: argon2-cffi-bindings in /usr/local/lib/python3.11/dist-packages (from argon2-cffi->notebook>=6.5.7->google-colab-selenium) (25.1.0)\n",
            "Requirement already satisfied: debugpy>=1.0 in /usr/local/lib/python3.11/dist-packages (from ipykernel->notebook>=6.5.7->google-colab-selenium) (1.8.15)\n",
            "Requirement already satisfied: ipython>=7.23.1 in /usr/local/lib/python3.11/dist-packages (from ipykernel->notebook>=6.5.7->google-colab-selenium) (7.34.0)\n",
            "Requirement already satisfied: matplotlib-inline>=0.1 in /usr/local/lib/python3.11/dist-packages (from ipykernel->notebook>=6.5.7->google-colab-selenium) (0.1.7)\n",
            "Requirement already satisfied: psutil in /usr/local/lib/python3.11/dist-packages (from ipykernel->notebook>=6.5.7->google-colab-selenium) (5.9.5)\n",
            "Requirement already satisfied: webencodings in /usr/local/lib/python3.11/dist-packages (from bleach!=5.0.0->bleach[css]!=5.0.0->nbconvert>=5->notebook>=6.5.7->google-colab-selenium) (0.5.1)\n",
            "Requirement already satisfied: tinycss2<1.5,>=1.1.0 in /usr/local/lib/python3.11/dist-packages (from bleach[css]!=5.0.0->nbconvert>=5->notebook>=6.5.7->google-colab-selenium) (1.4.0)\n",
            "Requirement already satisfied: setuptools>=18.5 in /usr/local/lib/python3.11/dist-packages (from ipython>=7.23.1->ipykernel->notebook>=6.5.7->google-colab-selenium) (75.2.0)\n",
            "Collecting jedi>=0.16 (from ipython>=7.23.1->ipykernel->notebook>=6.5.7->google-colab-selenium)\n",
            "  Downloading jedi-0.19.2-py2.py3-none-any.whl.metadata (22 kB)\n",
            "Requirement already satisfied: decorator in /usr/local/lib/python3.11/dist-packages (from ipython>=7.23.1->ipykernel->notebook>=6.5.7->google-colab-selenium) (4.4.2)\n",
            "Requirement already satisfied: pickleshare in /usr/local/lib/python3.11/dist-packages (from ipython>=7.23.1->ipykernel->notebook>=6.5.7->google-colab-selenium) (0.7.5)\n",
            "Requirement already satisfied: prompt-toolkit!=3.0.0,!=3.0.1,<3.1.0,>=2.0.0 in /usr/local/lib/python3.11/dist-packages (from ipython>=7.23.1->ipykernel->notebook>=6.5.7->google-colab-selenium) (3.0.51)\n",
            "Requirement already satisfied: backcall in /usr/local/lib/python3.11/dist-packages (from ipython>=7.23.1->ipykernel->notebook>=6.5.7->google-colab-selenium) (0.2.0)\n",
            "Requirement already satisfied: pexpect>4.3 in /usr/local/lib/python3.11/dist-packages (from ipython>=7.23.1->ipykernel->notebook>=6.5.7->google-colab-selenium) (4.9.0)\n",
            "Requirement already satisfied: jsonschema-specifications>=2023.03.6 in /usr/local/lib/python3.11/dist-packages (from jsonschema>=2.6->nbformat->notebook>=6.5.7->google-colab-selenium) (2025.4.1)\n",
            "Requirement already satisfied: referencing>=0.28.4 in /usr/local/lib/python3.11/dist-packages (from jsonschema>=2.6->nbformat->notebook>=6.5.7->google-colab-selenium) (0.36.2)\n",
            "Requirement already satisfied: rpds-py>=0.7.1 in /usr/local/lib/python3.11/dist-packages (from jsonschema>=2.6->nbformat->notebook>=6.5.7->google-colab-selenium) (0.26.0)\n",
            "Requirement already satisfied: jupyter-server<3,>=1.8 in /usr/local/lib/python3.11/dist-packages (from notebook-shim>=0.2.3->nbclassic>=0.4.7->notebook>=6.5.7->google-colab-selenium) (1.16.0)\n",
            "Requirement already satisfied: six>=1.5 in /usr/local/lib/python3.11/dist-packages (from python-dateutil>=2.1->jupyter-client<8,>=5.3.4->notebook>=6.5.7->google-colab-selenium) (1.17.0)\n",
            "Requirement already satisfied: h11<1,>=0.9.0 in /usr/local/lib/python3.11/dist-packages (from wsproto>=0.14->trio-websocket~=0.12.2->selenium->google-colab-selenium) (0.16.0)\n",
            "Requirement already satisfied: cffi>=1.0.1 in /usr/local/lib/python3.11/dist-packages (from argon2-cffi-bindings->argon2-cffi->notebook>=6.5.7->google-colab-selenium) (1.17.1)\n",
            "Requirement already satisfied: soupsieve>1.2 in /usr/local/lib/python3.11/dist-packages (from beautifulsoup4->nbconvert>=5->notebook>=6.5.7->google-colab-selenium) (2.7)\n",
            "Requirement already satisfied: pycparser in /usr/local/lib/python3.11/dist-packages (from cffi>=1.0.1->argon2-cffi-bindings->argon2-cffi->notebook>=6.5.7->google-colab-selenium) (2.22)\n",
            "Requirement already satisfied: parso<0.9.0,>=0.8.4 in /usr/local/lib/python3.11/dist-packages (from jedi>=0.16->ipython>=7.23.1->ipykernel->notebook>=6.5.7->google-colab-selenium) (0.8.4)\n",
            "Requirement already satisfied: anyio>=3.1.0 in /usr/local/lib/python3.11/dist-packages (from jupyter-server<3,>=1.8->notebook-shim>=0.2.3->nbclassic>=0.4.7->notebook>=6.5.7->google-colab-selenium) (4.9.0)\n",
            "Requirement already satisfied: wcwidth in /usr/local/lib/python3.11/dist-packages (from prompt-toolkit!=3.0.0,!=3.0.1,<3.1.0,>=2.0.0->ipython>=7.23.1->ipykernel->notebook>=6.5.7->google-colab-selenium) (0.2.13)\n",
            "Downloading google_colab_selenium-1.0.15-py3-none-any.whl (8.3 kB)\n",
            "Downloading selenium-4.34.2-py3-none-any.whl (9.4 MB)\n",
            "\u001b[2K   \u001b[90m━━━━━━━━━━━━━━━━━━━━━━━━━━━━━━━━━━━━━━━━\u001b[0m \u001b[32m9.4/9.4 MB\u001b[0m \u001b[31m70.4 MB/s\u001b[0m eta \u001b[36m0:00:00\u001b[0m\n",
            "\u001b[?25hDownloading trio-0.30.0-py3-none-any.whl (499 kB)\n",
            "\u001b[2K   \u001b[90m━━━━━━━━━━━━━━━━━━━━━━━━━━━━━━━━━━━━━━━━\u001b[0m \u001b[32m499.2/499.2 kB\u001b[0m \u001b[31m32.7 MB/s\u001b[0m eta \u001b[36m0:00:00\u001b[0m\n",
            "\u001b[?25hDownloading trio_websocket-0.12.2-py3-none-any.whl (21 kB)\n",
            "Downloading outcome-1.3.0.post0-py2.py3-none-any.whl (10 kB)\n",
            "Downloading wsproto-1.2.0-py3-none-any.whl (24 kB)\n",
            "Downloading jedi-0.19.2-py2.py3-none-any.whl (1.6 MB)\n",
            "\u001b[2K   \u001b[90m━━━━━━━━━━━━━━━━━━━━━━━━━━━━━━━━━━━━━━━━\u001b[0m \u001b[32m1.6/1.6 MB\u001b[0m \u001b[31m60.8 MB/s\u001b[0m eta \u001b[36m0:00:00\u001b[0m\n",
            "\u001b[?25hInstalling collected packages: wsproto, outcome, jedi, trio, trio-websocket, selenium, google-colab-selenium\n",
            "Successfully installed google-colab-selenium-1.0.15 jedi-0.19.2 outcome-1.3.0.post0 selenium-4.34.2 trio-0.30.0 trio-websocket-0.12.2 wsproto-1.2.0\n"
          ]
        }
      ],
      "source": [
        "%pip install google-colab-selenium"
      ]
    },
    {
      "cell_type": "code",
      "execution_count": 2,
      "metadata": {
        "id": "dt8Fn8Km791M"
      },
      "outputs": [],
      "source": [
        "from selenium import webdriver\n",
        "from selenium.webdriver.common.by import By\n",
        "from selenium.webdriver.common.keys import Keys\n",
        "from selenium.webdriver.common.action_chains import ActionChains\n",
        "import google_colab_selenium as gs\n",
        "from selenium.webdriver.chrome.service import Service\n",
        "from selenium.webdriver.chrome.options import Options\n",
        "from selenium.webdriver.support.ui import WebDriverWait\n",
        "from selenium.webdriver.support import expected_conditions as EC"
      ]
    },
    {
      "cell_type": "markdown",
      "metadata": {
        "id": "FPYtN5zGduhb"
      },
      "source": [
        "#Grades Extractor"
      ]
    },
    {
      "cell_type": "code",
      "execution_count": 3,
      "metadata": {
        "id": "Ojs72PAZ6kzM"
      },
      "outputs": [],
      "source": [
        "import re\n",
        "import numpy as np\n",
        "import json\n",
        "import pandas as pd\n",
        "import glob"
      ]
    },
    {
      "cell_type": "code",
      "execution_count": 23,
      "metadata": {
        "id": "NA2N4ANqdyes"
      },
      "outputs": [],
      "source": [
        "def completedGrade(x):\n",
        "  if str(x) == \"P\":\n",
        "    return 0\n",
        "  elif str(x) == \"DRP\":\n",
        "    return 3.5\n",
        "\n",
        "  try:\n",
        "    grade = re.findall(r\"[-+]?\\d*\\.\\d+|\\d+\", str(x))[-1]\n",
        "    return float(grade)\n",
        "  except:\n",
        "    return np.nan"
      ]
    },
    {
      "cell_type": "code",
      "execution_count": 24,
      "metadata": {
        "id": "zg3d5kewFF7l"
      },
      "outputs": [],
      "source": [
        "def gen_sns(allfiles):\n",
        "  snlist = []\n",
        "  for f in allfiles:\n",
        "    df = pd.read_csv(f,skiprows=9)\n",
        "    df = pd.read_csv(f)\n",
        "    f_list = list(df.STUDENTNO.unique())\n",
        "    snlist += f_list\n",
        "  snlist = list(set(snlist))\n",
        "  # Convert snlist to a NumPy array\n",
        "  snlist = np.array(snlist)\n",
        "  # Use a boolean array to filter out NaN values\n",
        "  snlist = snlist[~np.isnan(snlist)]\n",
        "  # Convert snlist back to a list\n",
        "  snlist = snlist.tolist()\n",
        "  return snlist"
      ]
    },
    {
      "cell_type": "code",
      "execution_count": 25,
      "metadata": {
        "id": "3qugyGx4jwxY"
      },
      "outputs": [],
      "source": [
        "class Subject:\n",
        "\n",
        "  def __init__(self,name,units,prereqID = [], coreqID = [],alias = []):\n",
        "    self.name = name\n",
        "    self.units = units\n",
        "    self.prereqID = prereqID\n",
        "    self.coreqID = coreqID\n",
        "    self.takes = 0\n",
        "    self.grades = []\n",
        "    self.prof = []\n",
        "    self.currentProf = ''\n",
        "    self.currentGrade = np.nan\n",
        "    self.alias = alias\n",
        "    self.prereq = []\n",
        "    self.coreq = []\n",
        "\n",
        "  def addCoreq(self,subj):\n",
        "    self.coreq.append(subj)\n",
        "\n",
        "  def addTake(self, prof,grade):\n",
        "    self.prof.append(prof)\n",
        "    self.grades.append(grade)\n",
        "    self.takes += 1\n",
        "    self.currentProf = prof\n",
        "    self.currentGrade = grade\n",
        "\n",
        "  def addPrereq(self,subj):\n",
        "    self.prereq.append(subj)\n",
        "\n",
        "  def getGrade(self):\n",
        "    return sum(self.grades)/self.takes\n",
        "\n",
        "  def __repr__(self):\n",
        "    return self.name"
      ]
    },
    {
      "cell_type": "code",
      "execution_count": 26,
      "metadata": {
        "id": "FHKldKUUmTUF"
      },
      "outputs": [],
      "source": [
        "class Curriculum:\n",
        "  def __init__(self,json_file):\n",
        "      with open(json_file, 'r') as file:\n",
        "          data = json.load(file)\n",
        "      self.name = data.get('name')\n",
        "      self.year = data.get('year')\n",
        "      self.subjects = self.populateSubj(data.get('subjects'))\n",
        "\n",
        "      for subs in self.subjects.values():\n",
        "        for i in subs.prereqID:\n",
        "          subs.addPrereq(self.subjects[i])\n",
        "        for i in subs.coreqID:\n",
        "          subs.addCoreq(self.subjects[i])\n",
        "\n",
        "  def populateSubj(self,subs):\n",
        "    subjects = {}\n",
        "    for i in subs:\n",
        "      subj = Subject(i.get('title'),i.get('unit'), i.get('prereq'), i.get('coreq'), alias = i.get('alias'))\n",
        "      subjects[i.get('id')] = subj\n",
        "    return subjects"
      ]
    },
    {
      "cell_type": "code",
      "execution_count": 27,
      "metadata": {
        "id": "jGVxMYYnwr7r"
      },
      "outputs": [],
      "source": [
        "class Student:\n",
        "  def __init__(self, f, curriculum_json):\n",
        "    self.curriculum = Curriculum(curriculum_json)\n",
        "    self.othersubs = []\n",
        "\n",
        "    try:\n",
        "      self.name, self.sn, self.subjects = self.openHTML(f)\n",
        "      name_to_id = {i.name: id for id, i in self.curriculum.subjects.items()}\n",
        "      for index, row in self.subjects.iterrows():\n",
        "        subject_id = name_to_id.get(row['course'])\n",
        "        if subject_id != None:\n",
        "          self.curriculum.subjects[subject_id].addTake(row['Instructor/s'],row['Grade'])\n",
        "        else:\n",
        "          sub = Subject(row['course'],row['Units'])\n",
        "          sub.addTake(row['Instructor/s'],row['Grade'])\n",
        "          self.othersubs.append(sub)\n",
        "\n",
        "\n",
        "      self.grades = pd.DataFrame({\n",
        "          'course': [i.name for i in list(self.curriculum.subjects.values())],\n",
        "          'takes': [i.takes for i in list(self.curriculum.subjects.values())],\n",
        "          'current grade': [i.currentGrade if hasattr(i,'currentGrade') else None for i in list(self.curriculum.subjects.values())]\n",
        "      })\n",
        "\n",
        "    except:\n",
        "      raise ValueError('Unsupported file type for f argument')\n",
        "\n",
        "  def openHTML(self,f):\n",
        "    grades = pd.read_html(f)\n",
        "    master = pd.DataFrame({})\n",
        "    name = grades[0].loc[0,0]\n",
        "    sn = grades[0].loc[1,0]\n",
        "\n",
        "    for i in range(1,len(grades)-5):\n",
        "      try:\n",
        "        sem = (grades[i].columns[0][0])\n",
        "        grades[i].columns = [a[1] for a in  grades[i].columns.to_flat_index()]\n",
        "        grades[i]['sem']=sem\n",
        "        master = pd.concat([master,grades[i][['Class','Instructor/s','Units','Grade','sem']]])\n",
        "      except:\n",
        "        sem = (grades[i].columns[0][0])\n",
        "        print(sem)\n",
        "        continue\n",
        "    print(\"Columns after reading HTML:\", master.columns) # Added print statement\n",
        "    master['Instructor/s'] = master['Instructor/s'].fillna('No Record')\n",
        "    master['Grade'] = master['Grade'].fillna(6)\n",
        "    master = master.dropna()\n",
        "    master = master.reset_index()\n",
        "    master[['course','section']] = master['Class'].str.extract(r'(\\w+\\s[\\d.]+)\\s(.*)')\n",
        "    master['Grade'] = master.Grade.apply(completedGrade)\n",
        "    master['Units'] = master.Units.apply(completedGrade)\n",
        "    return name, sn, master\n",
        "\n",
        "  def solveCluster(self):\n",
        "    cluster = {\n",
        "        'GC' : ['GE 120','GE 122','GE 127','GE 128','GE 129'],\n",
        "        'G' : ['GE 161','GE 162','GE 168','GE 169','GE 151','GE 152','GE 153','GE 154','GE 155','GE 155.1','GE 155.2'],\n",
        "        'S' : ['GE 10','GE 12','GE 116','GE 117','GE 118','GE 119','GE 193'],\n",
        "        'GIS' : ['GE 30','GE 173','GIM 165','GIM 175','GIM 176','GIM 177'],\n",
        "        'RS' : ['GsE 188','GsE 189'],\n",
        "        'L' : ['GE 142','GE 143','GE 144','GE 148','GE 149'],\n",
        "        'RP' : ['GE 2','GE 192','GE 197','GE 191','GE 190','GE 199','GE 200'],\n",
        "        'MP' : ['Math 21','Math 22','Math 23','Math 17','Math 53','Math 54','Math 55','Physics 71','Physics 72','Physics 73','Physics 71.1','Physics 72.1','Physics 73.1'],\n",
        "        'Gen': ['Kas 1','Arts 1','Speech 30','Fil 40','Philo 1','Soc Sci 2','Eng 13','Eng 13','STS 1']\n",
        "    }\n",
        "    clusterGrade = {}\n",
        "    for i in cluster.keys():\n",
        "      filter = self.grades[self.grades['course'].isin(cluster[i])]\n",
        "      filter = filter.dropna()\n",
        "      prof = list(set(filter['Instructor/s'].values))\n",
        "      clusterGrade[i+'_prof'] = prof\n",
        "      total_units = sum(filter.Units)\n",
        "      if total_units != 0:\n",
        "        clusterGrade[i]=sum(filter.Units*filter.Grade)/total_units\n",
        "      else:\n",
        "        clusterGrade[i] = np.nan\n",
        "    return clusterGrade\n",
        "\n",
        "  def checkPrereq(self,subject,overrides = []):\n",
        "    subs = [i for i in self.curriculum.subjects.values() if i.name == subject ]\n",
        "    if subs:\n",
        "      prereq_grade = [j.currentGrade for j in subs[0].prereq if j.name not in overrides]\n",
        "      coreq_prereq_grade =[]\n",
        "      for j in subs[0].coreq:\n",
        "        cp_grade = [k.currentGrade for k in j.prereq if k.name not in overrides]\n",
        "        coreq_prereq_grade += cp_grade\n",
        "\n",
        "      all_grades = prereq_grade + coreq_prereq_grade\n",
        "      return (not np.any(np.isnan(all_grades))) and (not (np.any((np.array(all_grades) == 5) | (np.array(all_grades) == 4) | (np.array(all_grades) == 3.5))))\n",
        "\n",
        "    else:\n",
        "      return False\n",
        "\n",
        "  def checkTaken(self, subject):\n",
        "    subs = [i for i in self.curriculum.subjects.values() if i.name == subject ]\n",
        "    if subs:\n",
        "      if subs[0].takes > 0:\n",
        "        return True\n",
        "      else:\n",
        "        return False\n",
        "    else:\n",
        "      return False\n",
        "\n",
        "  def hasTakenAndPassed(self,subject):\n",
        "    subs = [i for i in self.curriculum.subjects.values() if i.name == subject ]\n",
        "    if subs:\n",
        "      if subs[0].takes > 0:\n",
        "        if subs[0].currentGrade <= 3:\n",
        "          return True\n",
        "        else:\n",
        "          return False\n",
        "      else:\n",
        "        return False\n",
        "    else:\n",
        "      return False\n",
        "\n",
        "  def isGraduate(self):\n",
        "    course_to_remove = ['[PE]', 'NSTP 1','NSTP 2','[Elective]','[GE]']\n",
        "    filtered_df = self.grades[~self.grades['course'].isin(course_to_remove)]\n",
        "    filtered_df = filtered_df[filtered_df['current grade'].isnull()]\n",
        "    print(filtered_df)\n",
        "    return not filtered_df.isnull().values.any()\n",
        "\n",
        "  def subsToTake(self):\n",
        "    course_to_remove = ['[PE]', 'NSTP 1','NSTP 2','[Elective]','[GE]']\n",
        "    filtered_df = self.grades[~self.grades['course'].isin(course_to_remove)]\n",
        "    filtered_df = filtered_df[(filtered_df['current grade'].isnull()) | (filtered_df['current grade'] < 3)]\n",
        "    return filtered_df\n",
        "\n",
        "  def isOngoing(self):\n",
        "    [i.currentGrade for i in list(self.curriculum.subjects.values())]\n",
        "    return [i.name for i in list(self.curriculum.subjects.values()) if i.currentGrade==6]"
      ]
    },
    {
      "cell_type": "code",
      "execution_count": 28,
      "metadata": {
        "id": "JDkLYJ-N3DqW"
      },
      "outputs": [],
      "source": [
        "class Department:\n",
        "  def __init__(self, name, current_curriculum):\n",
        "    self.name = name\n",
        "    self.students = []\n",
        "    self.student_graduates = []\n",
        "    self.student_ongoing = []\n",
        "    self.current_curriculum = Curriculum(current_curriculum)\n",
        "\n",
        "  def addStudent(self,student):\n",
        "    self.students.append(student)\n",
        "\n",
        "  def checkDemand(self, subject,overrides = []):\n",
        "    subs = [i for i in self.current_curriculum.subjects.values() if i.name == subject ]\n",
        "    if subs:\n",
        "      print(f'Checking prerequisites for {subs[0].name}')\n",
        "      print('Prerequisites:')\n",
        "      for j in subs[0].prereq:\n",
        "        print(j.name)\n",
        "      print('Corequisites:')\n",
        "      for j in subs[0].coreq:\n",
        "        print(j.name)\n",
        "      for j in overrides:\n",
        "        print(f'Overriding grades for {j}')\n",
        "\n",
        "      filtered_students = [student for student in self.students if ((student.checkPrereq(subject,overrides)) and not (student.hasTakenAndPassed(subject)))]\n",
        "      subs = [i for i in self.current_curriculum.subjects.values() if i.name == subject ][0]\n",
        "      subs_keys = [i for i in self.current_curriculum.subjects.keys() if self.current_curriculum.subjects[i].name == subject][0]\n",
        "\n",
        "      cp = [j.prereq for j in subs.coreq if j.name not in overrides]\n",
        "      coreq_prereq = [item for sublist in cp for item in sublist]\n",
        "      all_subs = list(set(coreq_prereq + subs.prereq))\n",
        "\n",
        "      subj_df = pd.DataFrame({\n",
        "          'name': [i.name for i in filtered_students],\n",
        "          'sn': [i.sn for i in filtered_students],\n",
        "          'takes': [i.curriculum.subjects[subs_keys].takes for i in filtered_students],\n",
        "          'current grade': [i.curriculum.subjects[subs_keys].currentGrade for i in filtered_students],\n",
        "          'prereq': [i.checkPrereq(subject) for i in filtered_students],\n",
        "      })\n",
        "\n",
        "      for subj in all_subs:\n",
        "        subj_df[str(subj.name)] = [i.grades[i.grades['course'] == subj.name]['current grade'].values[0] for i in filtered_students]\n",
        "\n",
        "      for subj in overrides:\n",
        "        subj_df[subj + \"_ongoing\"] = [(subj in i.isOngoing()) for i in filtered_students]\n",
        "\n",
        "      return(subj_df)\n",
        "    else:\n",
        "      print(f'No subject {subject} found in department current curriculum')\n"
      ]
    },
    {
      "cell_type": "markdown",
      "metadata": {
        "id": "ewpIwc1BNn8q"
      },
      "source": [
        "# Demand Generation"
      ]
    },
    {
      "cell_type": "code",
      "execution_count": 29,
      "metadata": {
        "id": "RkiDrLslExoC"
      },
      "outputs": [],
      "source": [
        "dge = Department('DGE','/content/BSGE_2019 (1).json')\n",
        "sn_list = gen_sns(glob.glob('/content/*.csv'))"
      ]
    },
    {
      "cell_type": "code",
      "source": [
        "# Step 1: Define the login URL and payload\n",
        "login_url = 'https://crs.upd.edu.ph/'\n",
        "target_url = 'https://crs.upd.edu.ph/viewgrades/'\n",
        "payload = {\n",
        "    'username': 'dge',\n",
        "    'password': 'updgecrs1937',\n",
        "    # Include any additional fields required by the login form\n",
        "}\n",
        "\n",
        "# Set up Chrome options\n",
        "chrome_options = Options()\n",
        "chrome_options.add_argument('--headless')\n",
        "chrome_options.add_argument('--no-sandbox')\n",
        "chrome_options.add_argument('--disable-dev-shm-usage')\n",
        "\n",
        "# Set up ChromeDriver\n",
        "service = Service('/usr/local/bin/chromedriver')\n",
        "driver = gs.Chrome()\n",
        "\n",
        "wait = WebDriverWait(driver, 30)\n",
        "driver.get(login_url)\n",
        "wait.until(EC.element_to_be_clickable((By.NAME, \"txt_login\"))).send_keys(payload['username'])\n",
        "\n",
        "password_field = driver.find_element(By.NAME, 'pwd_password')\n",
        "password_field.send_keys(payload['password'])\n",
        "\n",
        "# Submit the login form\n",
        "password_field.send_keys(Keys.RETURN)\n",
        "print(\"Logged in\")\n",
        "\n",
        "# Navigate to the target URL\n",
        "driver.get(target_url)\n",
        "error_sns = []\n",
        "\n",
        "for studentno in sn_list:\n",
        "  # Find the text box element (adjust the locator as needed)\n",
        "  text_box = driver.find_element(By.ID,'txt_studentno')\n",
        "  # Enter a value into the text box\n",
        "  text_box.send_keys(str(studentno))\n",
        "  text_box.submit()\n",
        "\n",
        "  # Optionally, wait for the page to load or for certain elements to appear\n",
        "  driver.implicitly_wait(10)\n",
        "\n",
        "  page_source = driver.page_source\n",
        "  try:\n",
        "    student = Student(page_source, '/content/BSGE_2019 (1).json')\n",
        "  except:\n",
        "    print(studentno)\n",
        "    error_sns.append(studentno)\n",
        "    continue\n",
        "  dge.addStudent(student)\n",
        "  break"
      ],
      "metadata": {
        "colab": {
          "base_uri": "https://localhost:8080/",
          "height": 129
        },
        "id": "s8JJ9xrnFxt8",
        "outputId": "9b264645-c0aa-4948-8d48-21d55c35fc23"
      },
      "execution_count": 30,
      "outputs": [
        {
          "output_type": "display_data",
          "data": {
            "text/plain": [
              "<IPython.core.display.HTML object>"
            ],
            "text/html": [
              "\n",
              "            <div class=\"spinner-container\">\n",
              "                <div class=\"spinner\" id=\"6c99664f-15a3-4cd3-89ea-8c35056caebc-circle\"></div>\n",
              "                <div class=\"spinner-text\" id=\"6c99664f-15a3-4cd3-89ea-8c35056caebc-text\">Initializing Chromedriver</div>\n",
              "            </div>\n",
              "            <style>\n",
              "                @keyframes spin {\n",
              "                    from { transform: rotate(0deg); }\n",
              "                    to { transform: rotate(360deg); }\n",
              "                }\n",
              "\n",
              "                .spinner-container {\n",
              "                    display: flex;\n",
              "                    align-items: center;\n",
              "                    margin-bottom: 3px;\n",
              "                }\n",
              "\n",
              "                .spinner {\n",
              "                    border: 3px solid rgba(0, 0, 0, 0.1);\n",
              "                    border-left-color: lightblue;\n",
              "                    border-radius: 50%;\n",
              "                    width: 12px;\n",
              "                    height: 12px;\n",
              "                    animation: spin 1s linear infinite;\n",
              "                }\n",
              "\n",
              "                .spinner-text {\n",
              "                    padding-left: 6px;\n",
              "                }\n",
              "            </style>\n",
              "        "
            ]
          },
          "metadata": {}
        },
        {
          "output_type": "display_data",
          "data": {
            "text/plain": [
              "<IPython.core.display.Javascript object>"
            ],
            "application/javascript": [
              "\n",
              "            const element = document.getElementById(\"6c99664f-15a3-4cd3-89ea-8c35056caebc-circle\");\n",
              "            element.style.border = \"3px solid limegreen\";\n",
              "            element.style.animation = \"none\";\n",
              "\n",
              "            const text = document.getElementById(\"6c99664f-15a3-4cd3-89ea-8c35056caebc-text\");\n",
              "            text.innerText = \"Initialized Chromedriver\";\n",
              "        "
            ]
          },
          "metadata": {}
        },
        {
          "output_type": "stream",
          "name": "stdout",
          "text": [
            "Logged in\n"
          ]
        },
        {
          "output_type": "stream",
          "name": "stderr",
          "text": [
            "/tmp/ipython-input-3295442611.py:29: FutureWarning: Passing literal html to 'read_html' is deprecated and will be removed in a future version. To read from a literal string, wrap it in a 'StringIO' object.\n",
            "  grades = pd.read_html(f)\n"
          ]
        },
        {
          "output_type": "stream",
          "name": "stdout",
          "text": [
            "202313733\n"
          ]
        }
      ]
    },
    {
      "cell_type": "code",
      "execution_count": 31,
      "metadata": {
        "colab": {
          "base_uri": "https://localhost:8080/",
          "height": 1000
        },
        "id": "y5P2Dz0AnW1G",
        "outputId": "02c0f0be-1fc5-4641-d159-f3b7b6da023d"
      },
      "outputs": [
        {
          "output_type": "display_data",
          "data": {
            "text/plain": [
              "<IPython.core.display.HTML object>"
            ],
            "text/html": [
              "\n",
              "            <div class=\"spinner-container\">\n",
              "                <div class=\"spinner\" id=\"64199962-c0f1-4252-9b1e-e639d5fa636c-circle\"></div>\n",
              "                <div class=\"spinner-text\" id=\"64199962-c0f1-4252-9b1e-e639d5fa636c-text\">Initializing Chromedriver</div>\n",
              "            </div>\n",
              "            <style>\n",
              "                @keyframes spin {\n",
              "                    from { transform: rotate(0deg); }\n",
              "                    to { transform: rotate(360deg); }\n",
              "                }\n",
              "\n",
              "                .spinner-container {\n",
              "                    display: flex;\n",
              "                    align-items: center;\n",
              "                    margin-bottom: 3px;\n",
              "                }\n",
              "\n",
              "                .spinner {\n",
              "                    border: 3px solid rgba(0, 0, 0, 0.1);\n",
              "                    border-left-color: lightblue;\n",
              "                    border-radius: 50%;\n",
              "                    width: 12px;\n",
              "                    height: 12px;\n",
              "                    animation: spin 1s linear infinite;\n",
              "                }\n",
              "\n",
              "                .spinner-text {\n",
              "                    padding-left: 6px;\n",
              "                }\n",
              "            </style>\n",
              "        "
            ]
          },
          "metadata": {}
        },
        {
          "output_type": "display_data",
          "data": {
            "text/plain": [
              "<IPython.core.display.Javascript object>"
            ],
            "application/javascript": [
              "\n",
              "            const element = document.getElementById(\"64199962-c0f1-4252-9b1e-e639d5fa636c-circle\");\n",
              "            element.style.border = \"3px solid limegreen\";\n",
              "            element.style.animation = \"none\";\n",
              "\n",
              "            const text = document.getElementById(\"64199962-c0f1-4252-9b1e-e639d5fa636c-text\");\n",
              "            text.innerText = \"Initialized Chromedriver\";\n",
              "        "
            ]
          },
          "metadata": {}
        },
        {
          "output_type": "stream",
          "name": "stdout",
          "text": [
            "Logged in\n"
          ]
        },
        {
          "output_type": "stream",
          "name": "stderr",
          "text": [
            "/tmp/ipython-input-3295442611.py:29: FutureWarning: Passing literal html to 'read_html' is deprecated and will be removed in a future version. To read from a literal string, wrap it in a 'StringIO' object.\n",
            "  grades = pd.read_html(f)\n"
          ]
        },
        {
          "output_type": "stream",
          "name": "stdout",
          "text": [
            "❌ Error loading 202313733\n"
          ]
        },
        {
          "output_type": "stream",
          "name": "stderr",
          "text": [
            "/tmp/ipython-input-3295442611.py:29: FutureWarning: Passing literal html to 'read_html' is deprecated and will be removed in a future version. To read from a literal string, wrap it in a 'StringIO' object.\n",
            "  grades = pd.read_html(f)\n"
          ]
        },
        {
          "output_type": "stream",
          "name": "stdout",
          "text": [
            "❌ Error loading 202420241\n",
            "❌ Error loading 202412050\n"
          ]
        },
        {
          "output_type": "stream",
          "name": "stderr",
          "text": [
            "/tmp/ipython-input-3295442611.py:29: FutureWarning: Passing literal html to 'read_html' is deprecated and will be removed in a future version. To read from a literal string, wrap it in a 'StringIO' object.\n",
            "  grades = pd.read_html(f)\n"
          ]
        },
        {
          "output_type": "stream",
          "name": "stdout",
          "text": [
            "❌ Error loading 202405915\n",
            "❌ Error loading 202407970\n"
          ]
        },
        {
          "output_type": "stream",
          "name": "stderr",
          "text": [
            "/tmp/ipython-input-3295442611.py:29: FutureWarning: Passing literal html to 'read_html' is deprecated and will be removed in a future version. To read from a literal string, wrap it in a 'StringIO' object.\n",
            "  grades = pd.read_html(f)\n"
          ]
        },
        {
          "output_type": "stream",
          "name": "stdout",
          "text": [
            "S\n"
          ]
        },
        {
          "output_type": "stream",
          "name": "stderr",
          "text": [
            "/tmp/ipython-input-3295442611.py:29: FutureWarning: Passing literal html to 'read_html' is deprecated and will be removed in a future version. To read from a literal string, wrap it in a 'StringIO' object.\n",
            "  grades = pd.read_html(f)\n"
          ]
        },
        {
          "output_type": "stream",
          "name": "stdout",
          "text": [
            "❌ Error loading 202408004\n"
          ]
        },
        {
          "output_type": "stream",
          "name": "stderr",
          "text": [
            "/tmp/ipython-input-3295442611.py:29: FutureWarning: Passing literal html to 'read_html' is deprecated and will be removed in a future version. To read from a literal string, wrap it in a 'StringIO' object.\n",
            "  grades = pd.read_html(f)\n"
          ]
        },
        {
          "output_type": "stream",
          "name": "stdout",
          "text": [
            "❌ Error loading 202311762\n",
            "C\n",
            "S\n"
          ]
        },
        {
          "output_type": "stream",
          "name": "stderr",
          "text": [
            "/tmp/ipython-input-3295442611.py:29: FutureWarning: Passing literal html to 'read_html' is deprecated and will be removed in a future version. To read from a literal string, wrap it in a 'StringIO' object.\n",
            "  grades = pd.read_html(f)\n"
          ]
        },
        {
          "output_type": "stream",
          "name": "stdout",
          "text": [
            "i\n",
            "S\n"
          ]
        },
        {
          "output_type": "stream",
          "name": "stderr",
          "text": [
            "/tmp/ipython-input-3295442611.py:29: FutureWarning: Passing literal html to 'read_html' is deprecated and will be removed in a future version. To read from a literal string, wrap it in a 'StringIO' object.\n",
            "  grades = pd.read_html(f)\n",
            "/tmp/ipython-input-3295442611.py:29: FutureWarning: Passing literal html to 'read_html' is deprecated and will be removed in a future version. To read from a literal string, wrap it in a 'StringIO' object.\n",
            "  grades = pd.read_html(f)\n"
          ]
        },
        {
          "output_type": "stream",
          "name": "stdout",
          "text": [
            "❌ Error loading 202201205\n",
            "❌ Error loading 202211456\n",
            "❌ Error loading 202315905\n",
            "❌ Error loading 202401929\n",
            "C\n",
            "i\n"
          ]
        },
        {
          "output_type": "stream",
          "name": "stderr",
          "text": [
            "/tmp/ipython-input-3295442611.py:29: FutureWarning: Passing literal html to 'read_html' is deprecated and will be removed in a future version. To read from a literal string, wrap it in a 'StringIO' object.\n",
            "  grades = pd.read_html(f)\n"
          ]
        },
        {
          "output_type": "stream",
          "name": "stdout",
          "text": [
            "❌ Error loading 202305683\n"
          ]
        },
        {
          "output_type": "stream",
          "name": "stderr",
          "text": [
            "/tmp/ipython-input-3295442611.py:29: FutureWarning: Passing literal html to 'read_html' is deprecated and will be removed in a future version. To read from a literal string, wrap it in a 'StringIO' object.\n",
            "  grades = pd.read_html(f)\n"
          ]
        },
        {
          "output_type": "stream",
          "name": "stdout",
          "text": [
            "❌ Error loading 202311836\n",
            "S\n"
          ]
        },
        {
          "output_type": "stream",
          "name": "stderr",
          "text": [
            "/tmp/ipython-input-3295442611.py:29: FutureWarning: Passing literal html to 'read_html' is deprecated and will be removed in a future version. To read from a literal string, wrap it in a 'StringIO' object.\n",
            "  grades = pd.read_html(f)\n",
            "/tmp/ipython-input-3295442611.py:29: FutureWarning: Passing literal html to 'read_html' is deprecated and will be removed in a future version. To read from a literal string, wrap it in a 'StringIO' object.\n",
            "  grades = pd.read_html(f)\n"
          ]
        },
        {
          "output_type": "stream",
          "name": "stdout",
          "text": [
            "S\n"
          ]
        },
        {
          "output_type": "stream",
          "name": "stderr",
          "text": [
            "/tmp/ipython-input-3295442611.py:29: FutureWarning: Passing literal html to 'read_html' is deprecated and will be removed in a future version. To read from a literal string, wrap it in a 'StringIO' object.\n",
            "  grades = pd.read_html(f)\n"
          ]
        },
        {
          "output_type": "stream",
          "name": "stdout",
          "text": [
            "❌ Error loading 202408126\n"
          ]
        },
        {
          "output_type": "stream",
          "name": "stderr",
          "text": [
            "/tmp/ipython-input-3295442611.py:29: FutureWarning: Passing literal html to 'read_html' is deprecated and will be removed in a future version. To read from a literal string, wrap it in a 'StringIO' object.\n",
            "  grades = pd.read_html(f)\n"
          ]
        },
        {
          "output_type": "stream",
          "name": "stdout",
          "text": [
            "❌ Error loading 202410184\n",
            "S\n"
          ]
        },
        {
          "output_type": "stream",
          "name": "stderr",
          "text": [
            "/tmp/ipython-input-3295442611.py:29: FutureWarning: Passing literal html to 'read_html' is deprecated and will be removed in a future version. To read from a literal string, wrap it in a 'StringIO' object.\n",
            "  grades = pd.read_html(f)\n"
          ]
        },
        {
          "output_type": "stream",
          "name": "stdout",
          "text": [
            "❌ Error loading 202203345\n",
            "❌ Error loading 202209499\n"
          ]
        },
        {
          "output_type": "stream",
          "name": "stderr",
          "text": [
            "/tmp/ipython-input-3295442611.py:29: FutureWarning: Passing literal html to 'read_html' is deprecated and will be removed in a future version. To read from a literal string, wrap it in a 'StringIO' object.\n",
            "  grades = pd.read_html(f)\n"
          ]
        },
        {
          "output_type": "stream",
          "name": "stdout",
          "text": [
            "e\n",
            "S\n"
          ]
        },
        {
          "output_type": "stream",
          "name": "stderr",
          "text": [
            "/tmp/ipython-input-3295442611.py:29: FutureWarning: Passing literal html to 'read_html' is deprecated and will be removed in a future version. To read from a literal string, wrap it in a 'StringIO' object.\n",
            "  grades = pd.read_html(f)\n"
          ]
        },
        {
          "output_type": "stream",
          "name": "stdout",
          "text": [
            "❌ Error loading 202402026\n",
            "S\n"
          ]
        },
        {
          "output_type": "stream",
          "name": "stderr",
          "text": [
            "/tmp/ipython-input-3295442611.py:29: FutureWarning: Passing literal html to 'read_html' is deprecated and will be removed in a future version. To read from a literal string, wrap it in a 'StringIO' object.\n",
            "  grades = pd.read_html(f)\n"
          ]
        },
        {
          "output_type": "stream",
          "name": "stdout",
          "text": [
            "C\n"
          ]
        },
        {
          "output_type": "stream",
          "name": "stderr",
          "text": [
            "/tmp/ipython-input-3295442611.py:29: FutureWarning: Passing literal html to 'read_html' is deprecated and will be removed in a future version. To read from a literal string, wrap it in a 'StringIO' object.\n",
            "  grades = pd.read_html(f)\n"
          ]
        },
        {
          "output_type": "stream",
          "name": "stdout",
          "text": [
            "❌ Error loading 202313974\n",
            "❌ Error loading 202402040\n",
            "C\n",
            "S\n"
          ]
        },
        {
          "output_type": "stream",
          "name": "stderr",
          "text": [
            "/tmp/ipython-input-3295442611.py:29: FutureWarning: Passing literal html to 'read_html' is deprecated and will be removed in a future version. To read from a literal string, wrap it in a 'StringIO' object.\n",
            "  grades = pd.read_html(f)\n"
          ]
        },
        {
          "output_type": "stream",
          "name": "stdout",
          "text": [
            "e\n",
            "i\n",
            "i\n",
            "S\n"
          ]
        },
        {
          "output_type": "stream",
          "name": "stderr",
          "text": [
            "/tmp/ipython-input-3295442611.py:29: FutureWarning: Passing literal html to 'read_html' is deprecated and will be removed in a future version. To read from a literal string, wrap it in a 'StringIO' object.\n",
            "  grades = pd.read_html(f)\n",
            "/tmp/ipython-input-3295442611.py:29: FutureWarning: Passing literal html to 'read_html' is deprecated and will be removed in a future version. To read from a literal string, wrap it in a 'StringIO' object.\n",
            "  grades = pd.read_html(f)\n",
            "/tmp/ipython-input-3295442611.py:29: FutureWarning: Passing literal html to 'read_html' is deprecated and will be removed in a future version. To read from a literal string, wrap it in a 'StringIO' object.\n",
            "  grades = pd.read_html(f)\n",
            "/tmp/ipython-input-3295442611.py:29: FutureWarning: Passing literal html to 'read_html' is deprecated and will be removed in a future version. To read from a literal string, wrap it in a 'StringIO' object.\n",
            "  grades = pd.read_html(f)\n",
            "/tmp/ipython-input-3295442611.py:29: FutureWarning: Passing literal html to 'read_html' is deprecated and will be removed in a future version. To read from a literal string, wrap it in a 'StringIO' object.\n",
            "  grades = pd.read_html(f)\n"
          ]
        },
        {
          "output_type": "stream",
          "name": "stdout",
          "text": [
            "❌ Error loading 202400017\n",
            "❌ Error loading 202311957\n",
            "❌ Error loading 201490729\n",
            "❌ Error loading 202414387\n"
          ]
        },
        {
          "output_type": "stream",
          "name": "stderr",
          "text": [
            "/tmp/ipython-input-3295442611.py:29: FutureWarning: Passing literal html to 'read_html' is deprecated and will be removed in a future version. To read from a literal string, wrap it in a 'StringIO' object.\n",
            "  grades = pd.read_html(f)\n"
          ]
        },
        {
          "output_type": "stream",
          "name": "stdout",
          "text": [
            "❌ Error loading 202201399\n",
            "❌ Error loading 202207544\n"
          ]
        },
        {
          "output_type": "stream",
          "name": "stderr",
          "text": [
            "/tmp/ipython-input-3295442611.py:29: FutureWarning: Passing literal html to 'read_html' is deprecated and will be removed in a future version. To read from a literal string, wrap it in a 'StringIO' object.\n",
            "  grades = pd.read_html(f)\n",
            "/tmp/ipython-input-3295442611.py:29: FutureWarning: Passing literal html to 'read_html' is deprecated and will be removed in a future version. To read from a literal string, wrap it in a 'StringIO' object.\n",
            "  grades = pd.read_html(f)\n"
          ]
        },
        {
          "output_type": "stream",
          "name": "stdout",
          "text": [
            "❌ Error loading 202404191\n",
            "❌ Error loading 202404192\n",
            "❌ Error loading 202410345\n",
            "❌ Error loading 202113389\n",
            "❌ Error loading 202406254\n",
            "❌ Error loading 202307951\n",
            "❌ Error loading 202408308\n"
          ]
        },
        {
          "output_type": "stream",
          "name": "stderr",
          "text": [
            "/tmp/ipython-input-3295442611.py:29: FutureWarning: Passing literal html to 'read_html' is deprecated and will be removed in a future version. To read from a literal string, wrap it in a 'StringIO' object.\n",
            "  grades = pd.read_html(f)\n"
          ]
        },
        {
          "output_type": "stream",
          "name": "stdout",
          "text": [
            "S\n"
          ]
        },
        {
          "output_type": "stream",
          "name": "stderr",
          "text": [
            "/tmp/ipython-input-3295442611.py:29: FutureWarning: Passing literal html to 'read_html' is deprecated and will be removed in a future version. To read from a literal string, wrap it in a 'StringIO' object.\n",
            "  grades = pd.read_html(f)\n",
            "/tmp/ipython-input-3295442611.py:29: FutureWarning: Passing literal html to 'read_html' is deprecated and will be removed in a future version. To read from a literal string, wrap it in a 'StringIO' object.\n",
            "  grades = pd.read_html(f)\n"
          ]
        },
        {
          "output_type": "stream",
          "name": "stdout",
          "text": [
            "❌ Error loading 202416506\n",
            "S\n"
          ]
        },
        {
          "output_type": "stream",
          "name": "stderr",
          "text": [
            "/tmp/ipython-input-3295442611.py:29: FutureWarning: Passing literal html to 'read_html' is deprecated and will be removed in a future version. To read from a literal string, wrap it in a 'StringIO' object.\n",
            "  grades = pd.read_html(f)\n"
          ]
        },
        {
          "output_type": "stream",
          "name": "stdout",
          "text": [
            "❌ Error loading 202402184\n"
          ]
        },
        {
          "output_type": "stream",
          "name": "stderr",
          "text": [
            "/tmp/ipython-input-3295442611.py:29: FutureWarning: Passing literal html to 'read_html' is deprecated and will be removed in a future version. To read from a literal string, wrap it in a 'StringIO' object.\n",
            "  grades = pd.read_html(f)\n"
          ]
        },
        {
          "output_type": "stream",
          "name": "stdout",
          "text": [
            "❌ Error loading 202213782\n",
            "❌ Error loading 202404260\n",
            "❌ Error loading 202408357\n"
          ]
        },
        {
          "output_type": "stream",
          "name": "stderr",
          "text": [
            "/tmp/ipython-input-3295442611.py:29: FutureWarning: Passing literal html to 'read_html' is deprecated and will be removed in a future version. To read from a literal string, wrap it in a 'StringIO' object.\n",
            "  grades = pd.read_html(f)\n"
          ]
        },
        {
          "output_type": "stream",
          "name": "stdout",
          "text": [
            "i\n",
            "i\n",
            "i\n",
            "e\n",
            "S\n"
          ]
        },
        {
          "output_type": "stream",
          "name": "stderr",
          "text": [
            "/tmp/ipython-input-3295442611.py:29: FutureWarning: Passing literal html to 'read_html' is deprecated and will be removed in a future version. To read from a literal string, wrap it in a 'StringIO' object.\n",
            "  grades = pd.read_html(f)\n",
            "/tmp/ipython-input-3295442611.py:29: FutureWarning: Passing literal html to 'read_html' is deprecated and will be removed in a future version. To read from a literal string, wrap it in a 'StringIO' object.\n",
            "  grades = pd.read_html(f)\n"
          ]
        },
        {
          "output_type": "stream",
          "name": "stdout",
          "text": [
            "❌ Error loading 202303941\n"
          ]
        },
        {
          "output_type": "stream",
          "name": "stderr",
          "text": [
            "/tmp/ipython-input-3295442611.py:29: FutureWarning: Passing literal html to 'read_html' is deprecated and will be removed in a future version. To read from a literal string, wrap it in a 'StringIO' object.\n",
            "  grades = pd.read_html(f)\n"
          ]
        },
        {
          "output_type": "stream",
          "name": "stdout",
          "text": [
            "❌ Error loading 202303942\n",
            "S\n"
          ]
        },
        {
          "output_type": "stream",
          "name": "stderr",
          "text": [
            "/tmp/ipython-input-3295442611.py:29: FutureWarning: Passing literal html to 'read_html' is deprecated and will be removed in a future version. To read from a literal string, wrap it in a 'StringIO' object.\n",
            "  grades = pd.read_html(f)\n"
          ]
        },
        {
          "output_type": "stream",
          "name": "stdout",
          "text": [
            "❌ Error loading 202303947\n",
            "❌ Error loading 202111451\n"
          ]
        },
        {
          "output_type": "stream",
          "name": "stderr",
          "text": [
            "/tmp/ipython-input-3295442611.py:29: FutureWarning: Passing literal html to 'read_html' is deprecated and will be removed in a future version. To read from a literal string, wrap it in a 'StringIO' object.\n",
            "  grades = pd.read_html(f)\n"
          ]
        },
        {
          "output_type": "stream",
          "name": "stdout",
          "text": [
            "❌ Error loading 202420702\n",
            "❌ Error loading 202414564\n",
            "❌ Error loading 202308088\n",
            "❌ Error loading 202406395\n"
          ]
        },
        {
          "output_type": "stream",
          "name": "stderr",
          "text": [
            "/tmp/ipython-input-3295442611.py:29: FutureWarning: Passing literal html to 'read_html' is deprecated and will be removed in a future version. To read from a literal string, wrap it in a 'StringIO' object.\n",
            "  grades = pd.read_html(f)\n",
            "/tmp/ipython-input-3295442611.py:29: FutureWarning: Passing literal html to 'read_html' is deprecated and will be removed in a future version. To read from a literal string, wrap it in a 'StringIO' object.\n",
            "  grades = pd.read_html(f)\n"
          ]
        },
        {
          "output_type": "stream",
          "name": "stdout",
          "text": [
            "❌ Error loading 202308103\n",
            "❌ Error loading 202400279\n",
            "❌ Error loading 202404377\n",
            "❌ Error loading 202308124\n",
            "e\n",
            "e\n",
            "S\n"
          ]
        },
        {
          "output_type": "stream",
          "name": "stderr",
          "text": [
            "/tmp/ipython-input-3295442611.py:29: FutureWarning: Passing literal html to 'read_html' is deprecated and will be removed in a future version. To read from a literal string, wrap it in a 'StringIO' object.\n",
            "  grades = pd.read_html(f)\n"
          ]
        },
        {
          "output_type": "stream",
          "name": "stdout",
          "text": [
            "❌ Error loading 202203677\n",
            "❌ Error loading 202301991\n"
          ]
        },
        {
          "output_type": "stream",
          "name": "stderr",
          "text": [
            "/tmp/ipython-input-3295442611.py:29: FutureWarning: Passing literal html to 'read_html' is deprecated and will be removed in a future version. To read from a literal string, wrap it in a 'StringIO' object.\n",
            "  grades = pd.read_html(f)\n",
            "/tmp/ipython-input-3295442611.py:29: FutureWarning: Passing literal html to 'read_html' is deprecated and will be removed in a future version. To read from a literal string, wrap it in a 'StringIO' object.\n",
            "  grades = pd.read_html(f)\n"
          ]
        },
        {
          "output_type": "stream",
          "name": "stdout",
          "text": [
            "S\n"
          ]
        },
        {
          "output_type": "stream",
          "name": "stderr",
          "text": [
            "/tmp/ipython-input-3295442611.py:29: FutureWarning: Passing literal html to 'read_html' is deprecated and will be removed in a future version. To read from a literal string, wrap it in a 'StringIO' object.\n",
            "  grades = pd.read_html(f)\n",
            "/tmp/ipython-input-3295442611.py:29: FutureWarning: Passing literal html to 'read_html' is deprecated and will be removed in a future version. To read from a literal string, wrap it in a 'StringIO' object.\n",
            "  grades = pd.read_html(f)\n"
          ]
        },
        {
          "output_type": "stream",
          "name": "stdout",
          "text": [
            "❌ Error loading 202410579\n",
            "e\n",
            "S\n"
          ]
        },
        {
          "output_type": "stream",
          "name": "stderr",
          "text": [
            "/tmp/ipython-input-3295442611.py:29: FutureWarning: Passing literal html to 'read_html' is deprecated and will be removed in a future version. To read from a literal string, wrap it in a 'StringIO' object.\n",
            "  grades = pd.read_html(f)\n"
          ]
        },
        {
          "output_type": "stream",
          "name": "stdout",
          "text": [
            "❌ Error loading 202404453\n",
            "❌ Error loading 202304104\n",
            "❌ Error loading 202402416\n"
          ]
        },
        {
          "output_type": "stream",
          "name": "stderr",
          "text": [
            "/tmp/ipython-input-3295442611.py:29: FutureWarning: Passing literal html to 'read_html' is deprecated and will be removed in a future version. To read from a literal string, wrap it in a 'StringIO' object.\n",
            "  grades = pd.read_html(f)\n"
          ]
        },
        {
          "output_type": "stream",
          "name": "stdout",
          "text": [
            "❌ Error loading 202306169\n",
            "❌ Error loading 202306178\n",
            "i\n",
            "S\n"
          ]
        },
        {
          "output_type": "stream",
          "name": "stderr",
          "text": [
            "/tmp/ipython-input-3295442611.py:29: FutureWarning: Passing literal html to 'read_html' is deprecated and will be removed in a future version. To read from a literal string, wrap it in a 'StringIO' object.\n",
            "  grades = pd.read_html(f)\n"
          ]
        },
        {
          "output_type": "stream",
          "name": "stdout",
          "text": [
            "i\n",
            "i\n",
            "e\n",
            "i\n",
            "S\n"
          ]
        },
        {
          "output_type": "stream",
          "name": "stderr",
          "text": [
            "/tmp/ipython-input-3295442611.py:29: FutureWarning: Passing literal html to 'read_html' is deprecated and will be removed in a future version. To read from a literal string, wrap it in a 'StringIO' object.\n",
            "  grades = pd.read_html(f)\n"
          ]
        },
        {
          "output_type": "stream",
          "name": "stdout",
          "text": [
            "i\n",
            "i\n"
          ]
        },
        {
          "output_type": "stream",
          "name": "stderr",
          "text": [
            "/tmp/ipython-input-3295442611.py:29: FutureWarning: Passing literal html to 'read_html' is deprecated and will be removed in a future version. To read from a literal string, wrap it in a 'StringIO' object.\n",
            "  grades = pd.read_html(f)\n"
          ]
        },
        {
          "output_type": "stream",
          "name": "stdout",
          "text": [
            "❌ Error loading 202310300\n"
          ]
        },
        {
          "output_type": "stream",
          "name": "stderr",
          "text": [
            "/tmp/ipython-input-3295442611.py:29: FutureWarning: Passing literal html to 'read_html' is deprecated and will be removed in a future version. To read from a literal string, wrap it in a 'StringIO' object.\n",
            "  grades = pd.read_html(f)\n"
          ]
        },
        {
          "output_type": "stream",
          "name": "stdout",
          "text": [
            "e\n",
            "S\n"
          ]
        },
        {
          "output_type": "stream",
          "name": "stderr",
          "text": [
            "/tmp/ipython-input-3295442611.py:29: FutureWarning: Passing literal html to 'read_html' is deprecated and will be removed in a future version. To read from a literal string, wrap it in a 'StringIO' object.\n",
            "  grades = pd.read_html(f)\n"
          ]
        },
        {
          "output_type": "stream",
          "name": "stdout",
          "text": [
            "❌ Error loading 202300081\n",
            "❌ Error loading 202300083\n",
            "❌ Error loading 202412739\n",
            "❌ Error loading 202201797\n",
            "❌ Error loading 202111689\n"
          ]
        },
        {
          "output_type": "stream",
          "name": "stderr",
          "text": [
            "/tmp/ipython-input-3295442611.py:29: FutureWarning: Passing literal html to 'read_html' is deprecated and will be removed in a future version. To read from a literal string, wrap it in a 'StringIO' object.\n",
            "  grades = pd.read_html(f)\n"
          ]
        },
        {
          "output_type": "stream",
          "name": "stdout",
          "text": [
            "❌ Error loading 202212041\n",
            "C\n",
            "S\n"
          ]
        },
        {
          "output_type": "stream",
          "name": "stderr",
          "text": [
            "/tmp/ipython-input-3295442611.py:29: FutureWarning: Passing literal html to 'read_html' is deprecated and will be removed in a future version. To read from a literal string, wrap it in a 'StringIO' object.\n",
            "  grades = pd.read_html(f)\n"
          ]
        },
        {
          "output_type": "stream",
          "name": "stdout",
          "text": [
            "❌ Error loading 202316500\n",
            "❌ Error loading 202201857\n",
            "e\n"
          ]
        },
        {
          "output_type": "stream",
          "name": "stderr",
          "text": [
            "/tmp/ipython-input-3295442611.py:29: FutureWarning: Passing literal html to 'read_html' is deprecated and will be removed in a future version. To read from a literal string, wrap it in a 'StringIO' object.\n",
            "  grades = pd.read_html(f)\n"
          ]
        },
        {
          "output_type": "stream",
          "name": "stdout",
          "text": [
            "❌ Error loading 202314501\n",
            "❌ Error loading 202404614\n",
            "❌ Error loading 202302227\n",
            "i\n",
            "i\n",
            "e\n",
            "S\n"
          ]
        },
        {
          "output_type": "stream",
          "name": "stderr",
          "text": [
            "/tmp/ipython-input-3295442611.py:29: FutureWarning: Passing literal html to 'read_html' is deprecated and will be removed in a future version. To read from a literal string, wrap it in a 'StringIO' object.\n",
            "  grades = pd.read_html(f)\n"
          ]
        },
        {
          "output_type": "stream",
          "name": "stdout",
          "text": [
            "❌ Error loading 202320668\n"
          ]
        },
        {
          "output_type": "stream",
          "name": "stderr",
          "text": [
            "/tmp/ipython-input-3295442611.py:29: FutureWarning: Passing literal html to 'read_html' is deprecated and will be removed in a future version. To read from a literal string, wrap it in a 'StringIO' object.\n",
            "  grades = pd.read_html(f)\n",
            "/tmp/ipython-input-3295442611.py:29: FutureWarning: Passing literal html to 'read_html' is deprecated and will be removed in a future version. To read from a literal string, wrap it in a 'StringIO' object.\n",
            "  grades = pd.read_html(f)\n"
          ]
        },
        {
          "output_type": "stream",
          "name": "stdout",
          "text": [
            "❌ Error loading 202404658\n"
          ]
        },
        {
          "output_type": "stream",
          "name": "stderr",
          "text": [
            "/tmp/ipython-input-3295442611.py:29: FutureWarning: Passing literal html to 'read_html' is deprecated and will be removed in a future version. To read from a literal string, wrap it in a 'StringIO' object.\n",
            "  grades = pd.read_html(f)\n"
          ]
        },
        {
          "output_type": "stream",
          "name": "stdout",
          "text": [
            "❌ Error loading 202312518\n"
          ]
        },
        {
          "output_type": "stream",
          "name": "stderr",
          "text": [
            "/tmp/ipython-input-3295442611.py:29: FutureWarning: Passing literal html to 'read_html' is deprecated and will be removed in a future version. To read from a literal string, wrap it in a 'StringIO' object.\n",
            "  grades = pd.read_html(f)\n"
          ]
        },
        {
          "output_type": "stream",
          "name": "stdout",
          "text": [
            "❌ Error loading 202408788\n",
            "❌ Error loading 202408792\n",
            "❌ Error loading 202300252\n",
            "❌ Error loading 202306414\n",
            "❌ Error loading 202308463\n",
            "❌ Error loading 202404724\n",
            "S\n"
          ]
        },
        {
          "output_type": "stream",
          "name": "stderr",
          "text": [
            "/tmp/ipython-input-3295442611.py:29: FutureWarning: Passing literal html to 'read_html' is deprecated and will be removed in a future version. To read from a literal string, wrap it in a 'StringIO' object.\n",
            "  grades = pd.read_html(f)\n",
            "/tmp/ipython-input-3295442611.py:29: FutureWarning: Passing literal html to 'read_html' is deprecated and will be removed in a future version. To read from a literal string, wrap it in a 'StringIO' object.\n",
            "  grades = pd.read_html(f)\n"
          ]
        },
        {
          "output_type": "stream",
          "name": "stdout",
          "text": [
            "❌ Error loading 202212227\n",
            "❌ Error loading 202412935\n"
          ]
        },
        {
          "output_type": "stream",
          "name": "stderr",
          "text": [
            "/tmp/ipython-input-3295442611.py:29: FutureWarning: Passing literal html to 'read_html' is deprecated and will be removed in a future version. To read from a literal string, wrap it in a 'StringIO' object.\n",
            "  grades = pd.read_html(f)\n",
            "/tmp/ipython-input-3295442611.py:29: FutureWarning: Passing literal html to 'read_html' is deprecated and will be removed in a future version. To read from a literal string, wrap it in a 'StringIO' object.\n",
            "  grades = pd.read_html(f)\n",
            "/tmp/ipython-input-3295442611.py:29: FutureWarning: Passing literal html to 'read_html' is deprecated and will be removed in a future version. To read from a literal string, wrap it in a 'StringIO' object.\n",
            "  grades = pd.read_html(f)\n"
          ]
        },
        {
          "output_type": "stream",
          "name": "stdout",
          "text": [
            "❌ Error loading 202402719\n",
            "❌ Error loading 202212259\n",
            "e\n"
          ]
        },
        {
          "output_type": "stream",
          "name": "stderr",
          "text": [
            "/tmp/ipython-input-3295442611.py:29: FutureWarning: Passing literal html to 'read_html' is deprecated and will be removed in a future version. To read from a literal string, wrap it in a 'StringIO' object.\n",
            "  grades = pd.read_html(f)\n",
            "/tmp/ipython-input-3295442611.py:29: FutureWarning: Passing literal html to 'read_html' is deprecated and will be removed in a future version. To read from a literal string, wrap it in a 'StringIO' object.\n",
            "  grades = pd.read_html(f)\n"
          ]
        },
        {
          "output_type": "stream",
          "name": "stdout",
          "text": [
            "i\n",
            "e\n"
          ]
        },
        {
          "output_type": "stream",
          "name": "stderr",
          "text": [
            "/tmp/ipython-input-3295442611.py:29: FutureWarning: Passing literal html to 'read_html' is deprecated and will be removed in a future version. To read from a literal string, wrap it in a 'StringIO' object.\n",
            "  grades = pd.read_html(f)\n",
            "/tmp/ipython-input-3295442611.py:29: FutureWarning: Passing literal html to 'read_html' is deprecated and will be removed in a future version. To read from a literal string, wrap it in a 'StringIO' object.\n",
            "  grades = pd.read_html(f)\n"
          ]
        },
        {
          "output_type": "stream",
          "name": "stdout",
          "text": [
            "e\n",
            "S\n"
          ]
        },
        {
          "output_type": "stream",
          "name": "stderr",
          "text": [
            "/tmp/ipython-input-3295442611.py:29: FutureWarning: Passing literal html to 'read_html' is deprecated and will be removed in a future version. To read from a literal string, wrap it in a 'StringIO' object.\n",
            "  grades = pd.read_html(f)\n"
          ]
        },
        {
          "output_type": "stream",
          "name": "stdout",
          "text": [
            "❌ Error loading 202300393\n"
          ]
        },
        {
          "output_type": "stream",
          "name": "stderr",
          "text": [
            "/tmp/ipython-input-3295442611.py:29: FutureWarning: Passing literal html to 'read_html' is deprecated and will be removed in a future version. To read from a literal string, wrap it in a 'StringIO' object.\n",
            "  grades = pd.read_html(f)\n"
          ]
        },
        {
          "output_type": "stream",
          "name": "stdout",
          "text": [
            "S\n"
          ]
        },
        {
          "output_type": "stream",
          "name": "stderr",
          "text": [
            "/tmp/ipython-input-3295442611.py:29: FutureWarning: Passing literal html to 'read_html' is deprecated and will be removed in a future version. To read from a literal string, wrap it in a 'StringIO' object.\n",
            "  grades = pd.read_html(f)\n"
          ]
        },
        {
          "output_type": "stream",
          "name": "stdout",
          "text": [
            "❌ Error loading 202415087\n"
          ]
        },
        {
          "output_type": "stream",
          "name": "stderr",
          "text": [
            "/tmp/ipython-input-3295442611.py:29: FutureWarning: Passing literal html to 'read_html' is deprecated and will be removed in a future version. To read from a literal string, wrap it in a 'StringIO' object.\n",
            "  grades = pd.read_html(f)\n"
          ]
        },
        {
          "output_type": "stream",
          "name": "stdout",
          "text": [
            "S\n"
          ]
        },
        {
          "output_type": "stream",
          "name": "stderr",
          "text": [
            "/tmp/ipython-input-3295442611.py:29: FutureWarning: Passing literal html to 'read_html' is deprecated and will be removed in a future version. To read from a literal string, wrap it in a 'StringIO' object.\n",
            "  grades = pd.read_html(f)\n"
          ]
        },
        {
          "output_type": "stream",
          "name": "stdout",
          "text": [
            "❌ Error loading 202208279\n",
            "❌ Error loading 202302488\n",
            "i\n",
            "i\n",
            "e\n"
          ]
        },
        {
          "output_type": "stream",
          "name": "stderr",
          "text": [
            "/tmp/ipython-input-3295442611.py:29: FutureWarning: Passing literal html to 'read_html' is deprecated and will be removed in a future version. To read from a literal string, wrap it in a 'StringIO' object.\n",
            "  grades = pd.read_html(f)\n"
          ]
        },
        {
          "output_type": "stream",
          "name": "stdout",
          "text": [
            "❌ Error loading 202408993\n",
            "i\n",
            "S\n"
          ]
        },
        {
          "output_type": "stream",
          "name": "stderr",
          "text": [
            "/tmp/ipython-input-3295442611.py:29: FutureWarning: Passing literal html to 'read_html' is deprecated and will be removed in a future version. To read from a literal string, wrap it in a 'StringIO' object.\n",
            "  grades = pd.read_html(f)\n"
          ]
        },
        {
          "output_type": "stream",
          "name": "stdout",
          "text": [
            "❌ Error loading 202302505\n",
            "S\n"
          ]
        },
        {
          "output_type": "stream",
          "name": "stderr",
          "text": [
            "/tmp/ipython-input-3295442611.py:29: FutureWarning: Passing literal html to 'read_html' is deprecated and will be removed in a future version. To read from a literal string, wrap it in a 'StringIO' object.\n",
            "  grades = pd.read_html(f)\n",
            "/tmp/ipython-input-3295442611.py:29: FutureWarning: Passing literal html to 'read_html' is deprecated and will be removed in a future version. To read from a literal string, wrap it in a 'StringIO' object.\n",
            "  grades = pd.read_html(f)\n",
            "/tmp/ipython-input-3295442611.py:29: FutureWarning: Passing literal html to 'read_html' is deprecated and will be removed in a future version. To read from a literal string, wrap it in a 'StringIO' object.\n",
            "  grades = pd.read_html(f)\n",
            "/tmp/ipython-input-3295442611.py:29: FutureWarning: Passing literal html to 'read_html' is deprecated and will be removed in a future version. To read from a literal string, wrap it in a 'StringIO' object.\n",
            "  grades = pd.read_html(f)\n"
          ]
        },
        {
          "output_type": "stream",
          "name": "stdout",
          "text": [
            "❌ Error loading 202302528\n",
            "S\n"
          ]
        },
        {
          "output_type": "stream",
          "name": "stderr",
          "text": [
            "/tmp/ipython-input-3295442611.py:29: FutureWarning: Passing literal html to 'read_html' is deprecated and will be removed in a future version. To read from a literal string, wrap it in a 'StringIO' object.\n",
            "  grades = pd.read_html(f)\n"
          ]
        },
        {
          "output_type": "stream",
          "name": "stdout",
          "text": [
            "❌ Error loading 202304590\n",
            "❌ Error loading 202406991\n"
          ]
        },
        {
          "output_type": "stream",
          "name": "stderr",
          "text": [
            "/tmp/ipython-input-3295442611.py:29: FutureWarning: Passing literal html to 'read_html' is deprecated and will be removed in a future version. To read from a literal string, wrap it in a 'StringIO' object.\n",
            "  grades = pd.read_html(f)\n",
            "/tmp/ipython-input-3295442611.py:29: FutureWarning: Passing literal html to 'read_html' is deprecated and will be removed in a future version. To read from a literal string, wrap it in a 'StringIO' object.\n",
            "  grades = pd.read_html(f)\n"
          ]
        },
        {
          "output_type": "stream",
          "name": "stdout",
          "text": [
            "❌ Error loading 202400868\n",
            "e\n",
            "S\n"
          ]
        },
        {
          "output_type": "stream",
          "name": "stderr",
          "text": [
            "/tmp/ipython-input-3295442611.py:29: FutureWarning: Passing literal html to 'read_html' is deprecated and will be removed in a future version. To read from a literal string, wrap it in a 'StringIO' object.\n",
            "  grades = pd.read_html(f)\n"
          ]
        },
        {
          "output_type": "stream",
          "name": "stdout",
          "text": [
            "❌ Error loading 202402917\n",
            "❌ Error loading 202402925\n",
            "❌ Error loading 202204269\n",
            "❌ Error loading 202316915\n",
            "❌ Error loading 202321017\n",
            "❌ Error loading 202321018\n",
            "❌ Error loading 202404990\n",
            "i\n",
            "i\n",
            "e\n",
            "i\n",
            "S\n"
          ]
        },
        {
          "output_type": "stream",
          "name": "stderr",
          "text": [
            "/tmp/ipython-input-3295442611.py:29: FutureWarning: Passing literal html to 'read_html' is deprecated and will be removed in a future version. To read from a literal string, wrap it in a 'StringIO' object.\n",
            "  grades = pd.read_html(f)\n",
            "/tmp/ipython-input-3295442611.py:29: FutureWarning: Passing literal html to 'read_html' is deprecated and will be removed in a future version. To read from a literal string, wrap it in a 'StringIO' object.\n",
            "  grades = pd.read_html(f)\n"
          ]
        },
        {
          "output_type": "stream",
          "name": "stdout",
          "text": [
            "❌ Error loading 202321040\n",
            "❌ Error loading 202304657\n"
          ]
        },
        {
          "output_type": "stream",
          "name": "stderr",
          "text": [
            "/tmp/ipython-input-3295442611.py:29: FutureWarning: Passing literal html to 'read_html' is deprecated and will be removed in a future version. To read from a literal string, wrap it in a 'StringIO' object.\n",
            "  grades = pd.read_html(f)\n"
          ]
        },
        {
          "output_type": "stream",
          "name": "stdout",
          "text": [
            "e\n",
            "S\n"
          ]
        },
        {
          "output_type": "stream",
          "name": "stderr",
          "text": [
            "/tmp/ipython-input-3295442611.py:29: FutureWarning: Passing literal html to 'read_html' is deprecated and will be removed in a future version. To read from a literal string, wrap it in a 'StringIO' object.\n",
            "  grades = pd.read_html(f)\n"
          ]
        },
        {
          "output_type": "stream",
          "name": "stdout",
          "text": [
            "❌ Error loading 202212506\n"
          ]
        },
        {
          "output_type": "stream",
          "name": "stderr",
          "text": [
            "/tmp/ipython-input-3295442611.py:29: FutureWarning: Passing literal html to 'read_html' is deprecated and will be removed in a future version. To read from a literal string, wrap it in a 'StringIO' object.\n",
            "  grades = pd.read_html(f)\n"
          ]
        },
        {
          "output_type": "stream",
          "name": "stdout",
          "text": [
            "❌ Error loading 202409117\n"
          ]
        },
        {
          "output_type": "stream",
          "name": "stderr",
          "text": [
            "/tmp/ipython-input-3295442611.py:29: FutureWarning: Passing literal html to 'read_html' is deprecated and will be removed in a future version. To read from a literal string, wrap it in a 'StringIO' object.\n",
            "  grades = pd.read_html(f)\n"
          ]
        },
        {
          "output_type": "stream",
          "name": "stdout",
          "text": [
            "e\n",
            "S\n"
          ]
        },
        {
          "output_type": "stream",
          "name": "stderr",
          "text": [
            "/tmp/ipython-input-3295442611.py:29: FutureWarning: Passing literal html to 'read_html' is deprecated and will be removed in a future version. To read from a literal string, wrap it in a 'StringIO' object.\n",
            "  grades = pd.read_html(f)\n"
          ]
        },
        {
          "output_type": "stream",
          "name": "stdout",
          "text": [
            "i\n",
            "i\n",
            "e\n",
            "e\n",
            "S\n"
          ]
        },
        {
          "output_type": "stream",
          "name": "stderr",
          "text": [
            "/tmp/ipython-input-3295442611.py:29: FutureWarning: Passing literal html to 'read_html' is deprecated and will be removed in a future version. To read from a literal string, wrap it in a 'StringIO' object.\n",
            "  grades = pd.read_html(f)\n"
          ]
        },
        {
          "output_type": "stream",
          "name": "stdout",
          "text": [
            "❌ Error loading 202400946\n"
          ]
        },
        {
          "output_type": "stream",
          "name": "stderr",
          "text": [
            "/tmp/ipython-input-3295442611.py:29: FutureWarning: Passing literal html to 'read_html' is deprecated and will be removed in a future version. To read from a literal string, wrap it in a 'StringIO' object.\n",
            "  grades = pd.read_html(f)\n"
          ]
        },
        {
          "output_type": "stream",
          "name": "stdout",
          "text": [
            "❌ Error loading 202212532\n",
            "S\n"
          ]
        },
        {
          "output_type": "stream",
          "name": "stderr",
          "text": [
            "/tmp/ipython-input-3295442611.py:29: FutureWarning: Passing literal html to 'read_html' is deprecated and will be removed in a future version. To read from a literal string, wrap it in a 'StringIO' object.\n",
            "  grades = pd.read_html(f)\n",
            "/tmp/ipython-input-3295442611.py:29: FutureWarning: Passing literal html to 'read_html' is deprecated and will be removed in a future version. To read from a literal string, wrap it in a 'StringIO' object.\n",
            "  grades = pd.read_html(f)\n",
            "/tmp/ipython-input-3295442611.py:29: FutureWarning: Passing literal html to 'read_html' is deprecated and will be removed in a future version. To read from a literal string, wrap it in a 'StringIO' object.\n",
            "  grades = pd.read_html(f)\n",
            "/tmp/ipython-input-3295442611.py:29: FutureWarning: Passing literal html to 'read_html' is deprecated and will be removed in a future version. To read from a literal string, wrap it in a 'StringIO' object.\n",
            "  grades = pd.read_html(f)\n"
          ]
        },
        {
          "output_type": "stream",
          "name": "stdout",
          "text": [
            "❌ Error loading 202403042\n"
          ]
        },
        {
          "output_type": "stream",
          "name": "stderr",
          "text": [
            "/tmp/ipython-input-3295442611.py:29: FutureWarning: Passing literal html to 'read_html' is deprecated and will be removed in a future version. To read from a literal string, wrap it in a 'StringIO' object.\n",
            "  grades = pd.read_html(f)\n"
          ]
        },
        {
          "output_type": "stream",
          "name": "stdout",
          "text": [
            "S\n"
          ]
        },
        {
          "output_type": "stream",
          "name": "stderr",
          "text": [
            "/tmp/ipython-input-3295442611.py:29: FutureWarning: Passing literal html to 'read_html' is deprecated and will be removed in a future version. To read from a literal string, wrap it in a 'StringIO' object.\n",
            "  grades = pd.read_html(f)\n",
            "/tmp/ipython-input-3295442611.py:29: FutureWarning: Passing literal html to 'read_html' is deprecated and will be removed in a future version. To read from a literal string, wrap it in a 'StringIO' object.\n",
            "  grades = pd.read_html(f)\n"
          ]
        },
        {
          "output_type": "stream",
          "name": "stdout",
          "text": [
            "C\n"
          ]
        },
        {
          "output_type": "stream",
          "name": "stderr",
          "text": [
            "/tmp/ipython-input-3295442611.py:29: FutureWarning: Passing literal html to 'read_html' is deprecated and will be removed in a future version. To read from a literal string, wrap it in a 'StringIO' object.\n",
            "  grades = pd.read_html(f)\n"
          ]
        },
        {
          "output_type": "stream",
          "name": "stdout",
          "text": [
            "C\n",
            "S\n"
          ]
        },
        {
          "output_type": "stream",
          "name": "stderr",
          "text": [
            "/tmp/ipython-input-3295442611.py:29: FutureWarning: Passing literal html to 'read_html' is deprecated and will be removed in a future version. To read from a literal string, wrap it in a 'StringIO' object.\n",
            "  grades = pd.read_html(f)\n"
          ]
        },
        {
          "output_type": "stream",
          "name": "stdout",
          "text": [
            "❌ Error loading 202317089\n",
            "S\n"
          ]
        },
        {
          "output_type": "stream",
          "name": "stderr",
          "text": [
            "/tmp/ipython-input-3295442611.py:29: FutureWarning: Passing literal html to 'read_html' is deprecated and will be removed in a future version. To read from a literal string, wrap it in a 'StringIO' object.\n",
            "  grades = pd.read_html(f)\n"
          ]
        },
        {
          "output_type": "stream",
          "name": "stdout",
          "text": [
            "❌ Error loading 202401064\n",
            "❌ Error loading 202300715\n",
            "❌ Error loading 202306864\n"
          ]
        },
        {
          "output_type": "stream",
          "name": "stderr",
          "text": [
            "/tmp/ipython-input-3295442611.py:29: FutureWarning: Passing literal html to 'read_html' is deprecated and will be removed in a future version. To read from a literal string, wrap it in a 'StringIO' object.\n",
            "  grades = pd.read_html(f)\n"
          ]
        },
        {
          "output_type": "stream",
          "name": "stdout",
          "text": [
            "S\n"
          ]
        },
        {
          "output_type": "stream",
          "name": "stderr",
          "text": [
            "/tmp/ipython-input-3295442611.py:29: FutureWarning: Passing literal html to 'read_html' is deprecated and will be removed in a future version. To read from a literal string, wrap it in a 'StringIO' object.\n",
            "  grades = pd.read_html(f)\n"
          ]
        },
        {
          "output_type": "stream",
          "name": "stdout",
          "text": [
            "❌ Error loading 202401095\n"
          ]
        },
        {
          "output_type": "stream",
          "name": "stderr",
          "text": [
            "/tmp/ipython-input-3295442611.py:29: FutureWarning: Passing literal html to 'read_html' is deprecated and will be removed in a future version. To read from a literal string, wrap it in a 'StringIO' object.\n",
            "  grades = pd.read_html(f)\n"
          ]
        },
        {
          "output_type": "stream",
          "name": "stdout",
          "text": [
            "❌ Error loading 202210659\n",
            "❌ Error loading 202212713\n",
            "e\n",
            "S\n"
          ]
        },
        {
          "output_type": "stream",
          "name": "stderr",
          "text": [
            "/tmp/ipython-input-3295442611.py:29: FutureWarning: Passing literal html to 'read_html' is deprecated and will be removed in a future version. To read from a literal string, wrap it in a 'StringIO' object.\n",
            "  grades = pd.read_html(f)\n"
          ]
        },
        {
          "output_type": "stream",
          "name": "stdout",
          "text": [
            "❌ Error loading 202200429\n"
          ]
        },
        {
          "output_type": "stream",
          "name": "stderr",
          "text": [
            "/tmp/ipython-input-3295442611.py:29: FutureWarning: Passing literal html to 'read_html' is deprecated and will be removed in a future version. To read from a literal string, wrap it in a 'StringIO' object.\n",
            "  grades = pd.read_html(f)\n",
            "/tmp/ipython-input-3295442611.py:29: FutureWarning: Passing literal html to 'read_html' is deprecated and will be removed in a future version. To read from a literal string, wrap it in a 'StringIO' object.\n",
            "  grades = pd.read_html(f)\n"
          ]
        },
        {
          "output_type": "stream",
          "name": "stdout",
          "text": [
            "❌ Error loading 202300789\n",
            "❌ Error loading 202311034\n",
            "S\n"
          ]
        },
        {
          "output_type": "stream",
          "name": "stderr",
          "text": [
            "/tmp/ipython-input-3295442611.py:29: FutureWarning: Passing literal html to 'read_html' is deprecated and will be removed in a future version. To read from a literal string, wrap it in a 'StringIO' object.\n",
            "  grades = pd.read_html(f)\n",
            "/tmp/ipython-input-3295442611.py:29: FutureWarning: Passing literal html to 'read_html' is deprecated and will be removed in a future version. To read from a literal string, wrap it in a 'StringIO' object.\n",
            "  grades = pd.read_html(f)\n",
            "/tmp/ipython-input-3295442611.py:29: FutureWarning: Passing literal html to 'read_html' is deprecated and will be removed in a future version. To read from a literal string, wrap it in a 'StringIO' object.\n",
            "  grades = pd.read_html(f)\n",
            "/tmp/ipython-input-3295442611.py:29: FutureWarning: Passing literal html to 'read_html' is deprecated and will be removed in a future version. To read from a literal string, wrap it in a 'StringIO' object.\n",
            "  grades = pd.read_html(f)\n",
            "/tmp/ipython-input-3295442611.py:29: FutureWarning: Passing literal html to 'read_html' is deprecated and will be removed in a future version. To read from a literal string, wrap it in a 'StringIO' object.\n",
            "  grades = pd.read_html(f)\n"
          ]
        },
        {
          "output_type": "stream",
          "name": "stdout",
          "text": [
            "❌ Error loading 202304953\n",
            "❌ Error loading 202200506\n",
            "❌ Error loading 202403260\n"
          ]
        },
        {
          "output_type": "stream",
          "name": "stderr",
          "text": [
            "/tmp/ipython-input-3295442611.py:29: FutureWarning: Passing literal html to 'read_html' is deprecated and will be removed in a future version. To read from a literal string, wrap it in a 'StringIO' object.\n",
            "  grades = pd.read_html(f)\n"
          ]
        },
        {
          "output_type": "stream",
          "name": "stdout",
          "text": [
            "❌ Error loading 202311100\n",
            "❌ Error loading 202200511\n"
          ]
        },
        {
          "output_type": "stream",
          "name": "stderr",
          "text": [
            "/tmp/ipython-input-3295442611.py:29: FutureWarning: Passing literal html to 'read_html' is deprecated and will be removed in a future version. To read from a literal string, wrap it in a 'StringIO' object.\n",
            "  grades = pd.read_html(f)\n"
          ]
        },
        {
          "output_type": "stream",
          "name": "stdout",
          "text": [
            "e\n",
            "S\n"
          ]
        },
        {
          "output_type": "stream",
          "name": "stderr",
          "text": [
            "/tmp/ipython-input-3295442611.py:29: FutureWarning: Passing literal html to 'read_html' is deprecated and will be removed in a future version. To read from a literal string, wrap it in a 'StringIO' object.\n",
            "  grades = pd.read_html(f)\n",
            "/tmp/ipython-input-3295442611.py:29: FutureWarning: Passing literal html to 'read_html' is deprecated and will be removed in a future version. To read from a literal string, wrap it in a 'StringIO' object.\n",
            "  grades = pd.read_html(f)\n"
          ]
        },
        {
          "output_type": "stream",
          "name": "stdout",
          "text": [
            "C\n",
            "S\n"
          ]
        },
        {
          "output_type": "stream",
          "name": "stderr",
          "text": [
            "/tmp/ipython-input-3295442611.py:29: FutureWarning: Passing literal html to 'read_html' is deprecated and will be removed in a future version. To read from a literal string, wrap it in a 'StringIO' object.\n",
            "  grades = pd.read_html(f)\n"
          ]
        },
        {
          "output_type": "stream",
          "name": "stdout",
          "text": [
            "i\n"
          ]
        },
        {
          "output_type": "stream",
          "name": "stderr",
          "text": [
            "/tmp/ipython-input-3295442611.py:29: FutureWarning: Passing literal html to 'read_html' is deprecated and will be removed in a future version. To read from a literal string, wrap it in a 'StringIO' object.\n",
            "  grades = pd.read_html(f)\n",
            "/tmp/ipython-input-3295442611.py:29: FutureWarning: Passing literal html to 'read_html' is deprecated and will be removed in a future version. To read from a literal string, wrap it in a 'StringIO' object.\n",
            "  grades = pd.read_html(f)\n",
            "/tmp/ipython-input-3295442611.py:29: FutureWarning: Passing literal html to 'read_html' is deprecated and will be removed in a future version. To read from a literal string, wrap it in a 'StringIO' object.\n",
            "  grades = pd.read_html(f)\n"
          ]
        },
        {
          "output_type": "stream",
          "name": "stdout",
          "text": [
            "❌ Error loading 202403313\n",
            "e\n",
            "i\n",
            "i\n",
            "S\n"
          ]
        },
        {
          "output_type": "stream",
          "name": "stderr",
          "text": [
            "/tmp/ipython-input-3295442611.py:29: FutureWarning: Passing literal html to 'read_html' is deprecated and will be removed in a future version. To read from a literal string, wrap it in a 'StringIO' object.\n",
            "  grades = pd.read_html(f)\n"
          ]
        },
        {
          "output_type": "stream",
          "name": "stdout",
          "text": [
            "❌ Error loading 202311183\n",
            "❌ Error loading 202204691\n",
            "❌ Error loading 202307094\n"
          ]
        },
        {
          "output_type": "stream",
          "name": "stderr",
          "text": [
            "/tmp/ipython-input-3295442611.py:29: FutureWarning: Passing literal html to 'read_html' is deprecated and will be removed in a future version. To read from a literal string, wrap it in a 'StringIO' object.\n",
            "  grades = pd.read_html(f)\n"
          ]
        },
        {
          "output_type": "stream",
          "name": "stdout",
          "text": [
            "❌ Error loading 202403372\n",
            "❌ Error loading 201905712\n",
            "❌ Error loading 202311218\n",
            "S\n"
          ]
        },
        {
          "output_type": "stream",
          "name": "stderr",
          "text": [
            "/tmp/ipython-input-3295442611.py:29: FutureWarning: Passing literal html to 'read_html' is deprecated and will be removed in a future version. To read from a literal string, wrap it in a 'StringIO' object.\n",
            "  grades = pd.read_html(f)\n",
            "/tmp/ipython-input-3295442611.py:29: FutureWarning: Passing literal html to 'read_html' is deprecated and will be removed in a future version. To read from a literal string, wrap it in a 'StringIO' object.\n",
            "  grades = pd.read_html(f)\n"
          ]
        },
        {
          "output_type": "stream",
          "name": "stdout",
          "text": [
            "i\n",
            "S\n"
          ]
        },
        {
          "output_type": "stream",
          "name": "stderr",
          "text": [
            "/tmp/ipython-input-3295442611.py:29: FutureWarning: Passing literal html to 'read_html' is deprecated and will be removed in a future version. To read from a literal string, wrap it in a 'StringIO' object.\n",
            "  grades = pd.read_html(f)\n"
          ]
        },
        {
          "output_type": "stream",
          "name": "stdout",
          "text": [
            "❌ Error loading 202407492\n"
          ]
        },
        {
          "output_type": "stream",
          "name": "stderr",
          "text": [
            "/tmp/ipython-input-3295442611.py:29: FutureWarning: Passing literal html to 'read_html' is deprecated and will be removed in a future version. To read from a literal string, wrap it in a 'StringIO' object.\n",
            "  grades = pd.read_html(f)\n"
          ]
        },
        {
          "output_type": "stream",
          "name": "stdout",
          "text": [
            "❌ Error loading 202212951\n",
            "i\n",
            "e\n",
            "i\n",
            "S\n"
          ]
        },
        {
          "output_type": "stream",
          "name": "stderr",
          "text": [
            "/tmp/ipython-input-3295442611.py:29: FutureWarning: Passing literal html to 'read_html' is deprecated and will be removed in a future version. To read from a literal string, wrap it in a 'StringIO' object.\n",
            "  grades = pd.read_html(f)\n"
          ]
        },
        {
          "output_type": "stream",
          "name": "stdout",
          "text": [
            "❌ Error loading 202403418\n",
            "❌ Error loading 202411622\n",
            "S\n"
          ]
        },
        {
          "output_type": "stream",
          "name": "stderr",
          "text": [
            "/tmp/ipython-input-3295442611.py:29: FutureWarning: Passing literal html to 'read_html' is deprecated and will be removed in a future version. To read from a literal string, wrap it in a 'StringIO' object.\n",
            "  grades = pd.read_html(f)\n"
          ]
        },
        {
          "output_type": "stream",
          "name": "stdout",
          "text": [
            "❌ Error loading 202303088\n"
          ]
        },
        {
          "output_type": "stream",
          "name": "stderr",
          "text": [
            "/tmp/ipython-input-3295442611.py:29: FutureWarning: Passing literal html to 'read_html' is deprecated and will be removed in a future version. To read from a literal string, wrap it in a 'StringIO' object.\n",
            "  grades = pd.read_html(f)\n",
            "/tmp/ipython-input-3295442611.py:29: FutureWarning: Passing literal html to 'read_html' is deprecated and will be removed in a future version. To read from a literal string, wrap it in a 'StringIO' object.\n",
            "  grades = pd.read_html(f)\n"
          ]
        },
        {
          "output_type": "stream",
          "name": "stdout",
          "text": [
            "❌ Error loading 202313332\n",
            "❌ Error loading 202206838\n"
          ]
        },
        {
          "output_type": "stream",
          "name": "stderr",
          "text": [
            "/tmp/ipython-input-3295442611.py:29: FutureWarning: Passing literal html to 'read_html' is deprecated and will be removed in a future version. To read from a literal string, wrap it in a 'StringIO' object.\n",
            "  grades = pd.read_html(f)\n"
          ]
        },
        {
          "output_type": "stream",
          "name": "stdout",
          "text": [
            "❌ Error loading 202303115\n",
            "❌ Error loading 202305163\n",
            "❌ Error loading 202221207\n",
            "❌ Error loading 202403479\n"
          ]
        },
        {
          "output_type": "stream",
          "name": "stderr",
          "text": [
            "/tmp/ipython-input-3295442611.py:29: FutureWarning: Passing literal html to 'read_html' is deprecated and will be removed in a future version. To read from a literal string, wrap it in a 'StringIO' object.\n",
            "  grades = pd.read_html(f)\n"
          ]
        },
        {
          "output_type": "stream",
          "name": "stdout",
          "text": [
            "i\n",
            "i\n",
            "e\n",
            "e\n",
            "S\n"
          ]
        },
        {
          "output_type": "stream",
          "name": "stderr",
          "text": [
            "/tmp/ipython-input-3295442611.py:29: FutureWarning: Passing literal html to 'read_html' is deprecated and will be removed in a future version. To read from a literal string, wrap it in a 'StringIO' object.\n",
            "  grades = pd.read_html(f)\n",
            "/tmp/ipython-input-3295442611.py:29: FutureWarning: Passing literal html to 'read_html' is deprecated and will be removed in a future version. To read from a literal string, wrap it in a 'StringIO' object.\n",
            "  grades = pd.read_html(f)\n"
          ]
        },
        {
          "output_type": "stream",
          "name": "stdout",
          "text": [
            "❌ Error loading 202403516\n"
          ]
        },
        {
          "output_type": "stream",
          "name": "stderr",
          "text": [
            "/tmp/ipython-input-3295442611.py:29: FutureWarning: Passing literal html to 'read_html' is deprecated and will be removed in a future version. To read from a literal string, wrap it in a 'StringIO' object.\n",
            "  grades = pd.read_html(f)\n"
          ]
        },
        {
          "output_type": "stream",
          "name": "stdout",
          "text": [
            "❌ Error loading 202211032\n",
            "❌ Error loading 202415838\n"
          ]
        },
        {
          "output_type": "stream",
          "name": "stderr",
          "text": [
            "/tmp/ipython-input-3295442611.py:29: FutureWarning: Passing literal html to 'read_html' is deprecated and will be removed in a future version. To read from a literal string, wrap it in a 'StringIO' object.\n",
            "  grades = pd.read_html(f)\n",
            "/tmp/ipython-input-3295442611.py:29: FutureWarning: Passing literal html to 'read_html' is deprecated and will be removed in a future version. To read from a literal string, wrap it in a 'StringIO' object.\n",
            "  grades = pd.read_html(f)\n"
          ]
        },
        {
          "output_type": "stream",
          "name": "stdout",
          "text": [
            "❌ Error loading 202413816\n",
            "i\n",
            "S\n"
          ]
        },
        {
          "output_type": "stream",
          "name": "stderr",
          "text": [
            "/tmp/ipython-input-3295442611.py:29: FutureWarning: Passing literal html to 'read_html' is deprecated and will be removed in a future version. To read from a literal string, wrap it in a 'StringIO' object.\n",
            "  grades = pd.read_html(f)\n"
          ]
        },
        {
          "output_type": "stream",
          "name": "stdout",
          "text": [
            "e\n",
            "S\n"
          ]
        },
        {
          "output_type": "stream",
          "name": "stderr",
          "text": [
            "/tmp/ipython-input-3295442611.py:29: FutureWarning: Passing literal html to 'read_html' is deprecated and will be removed in a future version. To read from a literal string, wrap it in a 'StringIO' object.\n",
            "  grades = pd.read_html(f)\n"
          ]
        },
        {
          "output_type": "stream",
          "name": "stdout",
          "text": [
            "❌ Error loading 202303234\n"
          ]
        },
        {
          "output_type": "stream",
          "name": "stderr",
          "text": [
            "/tmp/ipython-input-3295442611.py:29: FutureWarning: Passing literal html to 'read_html' is deprecated and will be removed in a future version. To read from a literal string, wrap it in a 'StringIO' object.\n",
            "  grades = pd.read_html(f)\n"
          ]
        },
        {
          "output_type": "stream",
          "name": "stdout",
          "text": [
            "❌ Error loading 202405636\n",
            "❌ Error loading 202303240\n",
            "❌ Error loading 202401554\n"
          ]
        },
        {
          "output_type": "stream",
          "name": "stderr",
          "text": [
            "/tmp/ipython-input-3295442611.py:29: FutureWarning: Passing literal html to 'read_html' is deprecated and will be removed in a future version. To read from a literal string, wrap it in a 'StringIO' object.\n",
            "  grades = pd.read_html(f)\n",
            "/tmp/ipython-input-3295442611.py:29: FutureWarning: Passing literal html to 'read_html' is deprecated and will be removed in a future version. To read from a literal string, wrap it in a 'StringIO' object.\n",
            "  grades = pd.read_html(f)\n"
          ]
        },
        {
          "output_type": "stream",
          "name": "stdout",
          "text": [
            "❌ Error loading 202200863\n"
          ]
        },
        {
          "output_type": "stream",
          "name": "stderr",
          "text": [
            "/tmp/ipython-input-3295442611.py:29: FutureWarning: Passing literal html to 'read_html' is deprecated and will be removed in a future version. To read from a literal string, wrap it in a 'StringIO' object.\n",
            "  grades = pd.read_html(f)\n",
            "/tmp/ipython-input-3295442611.py:29: FutureWarning: Passing literal html to 'read_html' is deprecated and will be removed in a future version. To read from a literal string, wrap it in a 'StringIO' object.\n",
            "  grades = pd.read_html(f)\n"
          ]
        },
        {
          "output_type": "stream",
          "name": "stdout",
          "text": [
            "C\n",
            "i\n",
            "S\n"
          ]
        },
        {
          "output_type": "stream",
          "name": "stderr",
          "text": [
            "/tmp/ipython-input-3295442611.py:29: FutureWarning: Passing literal html to 'read_html' is deprecated and will be removed in a future version. To read from a literal string, wrap it in a 'StringIO' object.\n",
            "  grades = pd.read_html(f)\n"
          ]
        },
        {
          "output_type": "stream",
          "name": "stdout",
          "text": [
            "❌ Error loading 202202938\n",
            "❌ Error loading 202205017\n",
            "i\n",
            "S\n"
          ]
        },
        {
          "output_type": "stream",
          "name": "stderr",
          "text": [
            "/tmp/ipython-input-3295442611.py:29: FutureWarning: Passing literal html to 'read_html' is deprecated and will be removed in a future version. To read from a literal string, wrap it in a 'StringIO' object.\n",
            "  grades = pd.read_html(f)\n"
          ]
        },
        {
          "output_type": "stream",
          "name": "stdout",
          "text": [
            "i\n",
            "i\n",
            "e\n",
            "S\n"
          ]
        },
        {
          "output_type": "stream",
          "name": "stderr",
          "text": [
            "/tmp/ipython-input-3295442611.py:29: FutureWarning: Passing literal html to 'read_html' is deprecated and will be removed in a future version. To read from a literal string, wrap it in a 'StringIO' object.\n",
            "  grades = pd.read_html(f)\n"
          ]
        },
        {
          "output_type": "stream",
          "name": "stdout",
          "text": [
            "❌ Error loading 202413930\n",
            "❌ Error loading 202311531\n"
          ]
        },
        {
          "output_type": "stream",
          "name": "stderr",
          "text": [
            "/tmp/ipython-input-3295442611.py:29: FutureWarning: Passing literal html to 'read_html' is deprecated and will be removed in a future version. To read from a literal string, wrap it in a 'StringIO' object.\n",
            "  grades = pd.read_html(f)\n",
            "/tmp/ipython-input-3295442611.py:29: FutureWarning: Passing literal html to 'read_html' is deprecated and will be removed in a future version. To read from a literal string, wrap it in a 'StringIO' object.\n",
            "  grades = pd.read_html(f)\n"
          ]
        },
        {
          "output_type": "stream",
          "name": "stdout",
          "text": [
            "❌ Error loading 202205058\n",
            "❌ Error loading 202305411\n"
          ]
        },
        {
          "output_type": "stream",
          "name": "stderr",
          "text": [
            "/tmp/ipython-input-3295442611.py:29: FutureWarning: Passing literal html to 'read_html' is deprecated and will be removed in a future version. To read from a literal string, wrap it in a 'StringIO' object.\n",
            "  grades = pd.read_html(f)\n",
            "/tmp/ipython-input-3295442611.py:29: FutureWarning: Passing literal html to 'read_html' is deprecated and will be removed in a future version. To read from a literal string, wrap it in a 'StringIO' object.\n",
            "  grades = pd.read_html(f)\n"
          ]
        },
        {
          "output_type": "stream",
          "name": "stdout",
          "text": [
            "❌ Error loading 202409889\n",
            "❌ Error loading 202409891\n",
            "❌ Error loading 202401735\n",
            "❌ Error loading 202311625\n",
            "S\n"
          ]
        },
        {
          "output_type": "stream",
          "name": "stderr",
          "text": [
            "/tmp/ipython-input-3295442611.py:29: FutureWarning: Passing literal html to 'read_html' is deprecated and will be removed in a future version. To read from a literal string, wrap it in a 'StringIO' object.\n",
            "  grades = pd.read_html(f)\n"
          ]
        },
        {
          "output_type": "stream",
          "name": "stdout",
          "text": [
            "❌ Error loading 202311638\n",
            "\n",
            "🔁 Retry Attempt 1 — Errors remaining: 160\n"
          ]
        },
        {
          "output_type": "stream",
          "name": "stderr",
          "text": [
            "/tmp/ipython-input-3295442611.py:29: FutureWarning: Passing literal html to 'read_html' is deprecated and will be removed in a future version. To read from a literal string, wrap it in a 'StringIO' object.\n",
            "  grades = pd.read_html(f)\n",
            "/tmp/ipython-input-3295442611.py:29: FutureWarning: Passing literal html to 'read_html' is deprecated and will be removed in a future version. To read from a literal string, wrap it in a 'StringIO' object.\n",
            "  grades = pd.read_html(f)\n",
            "/tmp/ipython-input-3295442611.py:29: FutureWarning: Passing literal html to 'read_html' is deprecated and will be removed in a future version. To read from a literal string, wrap it in a 'StringIO' object.\n",
            "  grades = pd.read_html(f)\n"
          ]
        },
        {
          "output_type": "stream",
          "name": "stdout",
          "text": [
            "❌ Error loading 202412050\n",
            "❌ Error loading 202405915\n",
            "❌ Error loading 202407970\n"
          ]
        },
        {
          "output_type": "stream",
          "name": "stderr",
          "text": [
            "/tmp/ipython-input-3295442611.py:29: FutureWarning: Passing literal html to 'read_html' is deprecated and will be removed in a future version. To read from a literal string, wrap it in a 'StringIO' object.\n",
            "  grades = pd.read_html(f)\n"
          ]
        },
        {
          "output_type": "stream",
          "name": "stdout",
          "text": [
            "❌ Error loading 202408004\n",
            "❌ Error loading 202311762\n",
            "❌ Error loading 202201205\n",
            "❌ Error loading 202211456\n",
            "❌ Error loading 202315905\n",
            "❌ Error loading 202401929\n",
            "❌ Error loading 202305683\n",
            "❌ Error loading 202311836\n",
            "❌ Error loading 202408126\n",
            "❌ Error loading 202410184\n",
            "❌ Error loading 202203345\n",
            "❌ Error loading 202209499\n",
            "❌ Error loading 202402026\n"
          ]
        },
        {
          "output_type": "stream",
          "name": "stderr",
          "text": [
            "/tmp/ipython-input-3295442611.py:29: FutureWarning: Passing literal html to 'read_html' is deprecated and will be removed in a future version. To read from a literal string, wrap it in a 'StringIO' object.\n",
            "  grades = pd.read_html(f)\n"
          ]
        },
        {
          "output_type": "stream",
          "name": "stdout",
          "text": [
            "❌ Error loading 202402040\n"
          ]
        },
        {
          "output_type": "stream",
          "name": "stderr",
          "text": [
            "/tmp/ipython-input-3295442611.py:29: FutureWarning: Passing literal html to 'read_html' is deprecated and will be removed in a future version. To read from a literal string, wrap it in a 'StringIO' object.\n",
            "  grades = pd.read_html(f)\n",
            "/tmp/ipython-input-3295442611.py:29: FutureWarning: Passing literal html to 'read_html' is deprecated and will be removed in a future version. To read from a literal string, wrap it in a 'StringIO' object.\n",
            "  grades = pd.read_html(f)\n"
          ]
        },
        {
          "output_type": "stream",
          "name": "stdout",
          "text": [
            "❌ Error loading 201490729\n",
            "❌ Error loading 202414387\n",
            "❌ Error loading 202201399\n"
          ]
        },
        {
          "output_type": "stream",
          "name": "stderr",
          "text": [
            "/tmp/ipython-input-3295442611.py:29: FutureWarning: Passing literal html to 'read_html' is deprecated and will be removed in a future version. To read from a literal string, wrap it in a 'StringIO' object.\n",
            "  grades = pd.read_html(f)\n"
          ]
        },
        {
          "output_type": "stream",
          "name": "stdout",
          "text": [
            "❌ Error loading 202404191\n",
            "❌ Error loading 202404192\n",
            "❌ Error loading 202410345\n",
            "❌ Error loading 202113389\n",
            "❌ Error loading 202406254\n",
            "❌ Error loading 202307951\n"
          ]
        },
        {
          "output_type": "stream",
          "name": "stderr",
          "text": [
            "/tmp/ipython-input-3295442611.py:29: FutureWarning: Passing literal html to 'read_html' is deprecated and will be removed in a future version. To read from a literal string, wrap it in a 'StringIO' object.\n",
            "  grades = pd.read_html(f)\n"
          ]
        },
        {
          "output_type": "stream",
          "name": "stdout",
          "text": [
            "❌ Error loading 202416506\n",
            "❌ Error loading 202402184\n",
            "❌ Error loading 202213782\n"
          ]
        },
        {
          "output_type": "stream",
          "name": "stderr",
          "text": [
            "/tmp/ipython-input-3295442611.py:29: FutureWarning: Passing literal html to 'read_html' is deprecated and will be removed in a future version. To read from a literal string, wrap it in a 'StringIO' object.\n",
            "  grades = pd.read_html(f)\n"
          ]
        },
        {
          "output_type": "stream",
          "name": "stdout",
          "text": [
            "❌ Error loading 202408357\n",
            "❌ Error loading 202303941\n",
            "❌ Error loading 202303942\n",
            "❌ Error loading 202303947\n",
            "❌ Error loading 202111451\n"
          ]
        },
        {
          "output_type": "stream",
          "name": "stderr",
          "text": [
            "/tmp/ipython-input-3295442611.py:29: FutureWarning: Passing literal html to 'read_html' is deprecated and will be removed in a future version. To read from a literal string, wrap it in a 'StringIO' object.\n",
            "  grades = pd.read_html(f)\n"
          ]
        },
        {
          "output_type": "stream",
          "name": "stdout",
          "text": [
            "❌ Error loading 202420702\n",
            "❌ Error loading 202414564\n",
            "❌ Error loading 202308088\n",
            "❌ Error loading 202406395\n",
            "❌ Error loading 202308103\n",
            "❌ Error loading 202400279\n",
            "❌ Error loading 202404377\n",
            "❌ Error loading 202308124\n"
          ]
        },
        {
          "output_type": "stream",
          "name": "stderr",
          "text": [
            "/tmp/ipython-input-3295442611.py:29: FutureWarning: Passing literal html to 'read_html' is deprecated and will be removed in a future version. To read from a literal string, wrap it in a 'StringIO' object.\n",
            "  grades = pd.read_html(f)\n"
          ]
        },
        {
          "output_type": "stream",
          "name": "stdout",
          "text": [
            "❌ Error loading 202301991\n",
            "❌ Error loading 202410579\n",
            "❌ Error loading 202404453\n",
            "❌ Error loading 202304104\n",
            "❌ Error loading 202402416\n",
            "❌ Error loading 202306169\n",
            "❌ Error loading 202306178\n",
            "❌ Error loading 202310300\n",
            "❌ Error loading 202300081\n",
            "❌ Error loading 202300083\n",
            "❌ Error loading 202412739\n",
            "❌ Error loading 202201797\n",
            "❌ Error loading 202111689\n"
          ]
        },
        {
          "output_type": "stream",
          "name": "stderr",
          "text": [
            "/tmp/ipython-input-3295442611.py:29: FutureWarning: Passing literal html to 'read_html' is deprecated and will be removed in a future version. To read from a literal string, wrap it in a 'StringIO' object.\n",
            "  grades = pd.read_html(f)\n"
          ]
        },
        {
          "output_type": "stream",
          "name": "stdout",
          "text": [
            "❌ Error loading 202212041\n",
            "❌ Error loading 202316500\n",
            "❌ Error loading 202201857\n",
            "❌ Error loading 202314501\n",
            "❌ Error loading 202404614\n",
            "❌ Error loading 202302227\n",
            "❌ Error loading 202320668\n"
          ]
        },
        {
          "output_type": "stream",
          "name": "stderr",
          "text": [
            "/tmp/ipython-input-3295442611.py:29: FutureWarning: Passing literal html to 'read_html' is deprecated and will be removed in a future version. To read from a literal string, wrap it in a 'StringIO' object.\n",
            "  grades = pd.read_html(f)\n"
          ]
        },
        {
          "output_type": "stream",
          "name": "stdout",
          "text": [
            "❌ Error loading 202404658\n",
            "❌ Error loading 202312518\n",
            "❌ Error loading 202408788\n",
            "❌ Error loading 202408792\n",
            "❌ Error loading 202300252\n",
            "❌ Error loading 202306414\n",
            "❌ Error loading 202308463\n",
            "❌ Error loading 202404724\n",
            "❌ Error loading 202212227\n",
            "❌ Error loading 202412935\n",
            "❌ Error loading 202402719\n"
          ]
        },
        {
          "output_type": "stream",
          "name": "stderr",
          "text": [
            "/tmp/ipython-input-3295442611.py:29: FutureWarning: Passing literal html to 'read_html' is deprecated and will be removed in a future version. To read from a literal string, wrap it in a 'StringIO' object.\n",
            "  grades = pd.read_html(f)\n"
          ]
        },
        {
          "output_type": "stream",
          "name": "stdout",
          "text": [
            "❌ Error loading 202300393\n",
            "❌ Error loading 202415087\n",
            "❌ Error loading 202208279\n"
          ]
        },
        {
          "output_type": "stream",
          "name": "stderr",
          "text": [
            "/tmp/ipython-input-3295442611.py:29: FutureWarning: Passing literal html to 'read_html' is deprecated and will be removed in a future version. To read from a literal string, wrap it in a 'StringIO' object.\n",
            "  grades = pd.read_html(f)\n"
          ]
        },
        {
          "output_type": "stream",
          "name": "stdout",
          "text": [
            "❌ Error loading 202408993\n",
            "❌ Error loading 202302505\n",
            "❌ Error loading 202302528\n",
            "❌ Error loading 202304590\n",
            "❌ Error loading 202406991\n"
          ]
        },
        {
          "output_type": "stream",
          "name": "stderr",
          "text": [
            "/tmp/ipython-input-3295442611.py:29: FutureWarning: Passing literal html to 'read_html' is deprecated and will be removed in a future version. To read from a literal string, wrap it in a 'StringIO' object.\n",
            "  grades = pd.read_html(f)\n"
          ]
        },
        {
          "output_type": "stream",
          "name": "stdout",
          "text": [
            "❌ Error loading 202402917\n",
            "❌ Error loading 202402925\n"
          ]
        },
        {
          "output_type": "stream",
          "name": "stderr",
          "text": [
            "/tmp/ipython-input-3295442611.py:29: FutureWarning: Passing literal html to 'read_html' is deprecated and will be removed in a future version. To read from a literal string, wrap it in a 'StringIO' object.\n",
            "  grades = pd.read_html(f)\n"
          ]
        },
        {
          "output_type": "stream",
          "name": "stdout",
          "text": [
            "❌ Error loading 202204269\n",
            "❌ Error loading 202316915\n",
            "❌ Error loading 202321017\n",
            "❌ Error loading 202321018\n",
            "❌ Error loading 202404990\n",
            "❌ Error loading 202321040\n",
            "❌ Error loading 202304657\n",
            "❌ Error loading 202212506\n",
            "❌ Error loading 202409117\n"
          ]
        },
        {
          "output_type": "stream",
          "name": "stderr",
          "text": [
            "/tmp/ipython-input-3295442611.py:29: FutureWarning: Passing literal html to 'read_html' is deprecated and will be removed in a future version. To read from a literal string, wrap it in a 'StringIO' object.\n",
            "  grades = pd.read_html(f)\n",
            "/tmp/ipython-input-3295442611.py:29: FutureWarning: Passing literal html to 'read_html' is deprecated and will be removed in a future version. To read from a literal string, wrap it in a 'StringIO' object.\n",
            "  grades = pd.read_html(f)\n"
          ]
        },
        {
          "output_type": "stream",
          "name": "stdout",
          "text": [
            "❌ Error loading 202403042\n",
            "❌ Error loading 202317089\n",
            "❌ Error loading 202401064\n",
            "❌ Error loading 202300715\n",
            "❌ Error loading 202306864\n",
            "❌ Error loading 202401095\n"
          ]
        },
        {
          "output_type": "stream",
          "name": "stderr",
          "text": [
            "/tmp/ipython-input-3295442611.py:29: FutureWarning: Passing literal html to 'read_html' is deprecated and will be removed in a future version. To read from a literal string, wrap it in a 'StringIO' object.\n",
            "  grades = pd.read_html(f)\n"
          ]
        },
        {
          "output_type": "stream",
          "name": "stdout",
          "text": [
            "❌ Error loading 202212713\n",
            "❌ Error loading 202200429\n"
          ]
        },
        {
          "output_type": "stream",
          "name": "stderr",
          "text": [
            "/tmp/ipython-input-3295442611.py:29: FutureWarning: Passing literal html to 'read_html' is deprecated and will be removed in a future version. To read from a literal string, wrap it in a 'StringIO' object.\n",
            "  grades = pd.read_html(f)\n",
            "/tmp/ipython-input-3295442611.py:29: FutureWarning: Passing literal html to 'read_html' is deprecated and will be removed in a future version. To read from a literal string, wrap it in a 'StringIO' object.\n",
            "  grades = pd.read_html(f)\n",
            "/tmp/ipython-input-3295442611.py:29: FutureWarning: Passing literal html to 'read_html' is deprecated and will be removed in a future version. To read from a literal string, wrap it in a 'StringIO' object.\n",
            "  grades = pd.read_html(f)\n"
          ]
        },
        {
          "output_type": "stream",
          "name": "stdout",
          "text": [
            "❌ Error loading 202304953\n",
            "❌ Error loading 202200506\n",
            "❌ Error loading 202403260\n",
            "❌ Error loading 202311100\n",
            "❌ Error loading 202200511\n",
            "❌ Error loading 202403313\n",
            "❌ Error loading 202311183\n",
            "❌ Error loading 202204691\n",
            "❌ Error loading 202307094\n",
            "❌ Error loading 202403372\n",
            "C\n"
          ]
        },
        {
          "output_type": "stream",
          "name": "stderr",
          "text": [
            "/tmp/ipython-input-3295442611.py:29: FutureWarning: Passing literal html to 'read_html' is deprecated and will be removed in a future version. To read from a literal string, wrap it in a 'StringIO' object.\n",
            "  grades = pd.read_html(f)\n"
          ]
        },
        {
          "output_type": "stream",
          "name": "stdout",
          "text": [
            "❌ Error loading 202311218\n",
            "❌ Error loading 202407492\n"
          ]
        },
        {
          "output_type": "stream",
          "name": "stderr",
          "text": [
            "/tmp/ipython-input-3295442611.py:29: FutureWarning: Passing literal html to 'read_html' is deprecated and will be removed in a future version. To read from a literal string, wrap it in a 'StringIO' object.\n",
            "  grades = pd.read_html(f)\n"
          ]
        },
        {
          "output_type": "stream",
          "name": "stdout",
          "text": [
            "❌ Error loading 202403418\n",
            "❌ Error loading 202411622\n",
            "❌ Error loading 202303088\n"
          ]
        },
        {
          "output_type": "stream",
          "name": "stderr",
          "text": [
            "/tmp/ipython-input-3295442611.py:29: FutureWarning: Passing literal html to 'read_html' is deprecated and will be removed in a future version. To read from a literal string, wrap it in a 'StringIO' object.\n",
            "  grades = pd.read_html(f)\n"
          ]
        },
        {
          "output_type": "stream",
          "name": "stdout",
          "text": [
            "i\n"
          ]
        },
        {
          "output_type": "stream",
          "name": "stderr",
          "text": [
            "/tmp/ipython-input-3295442611.py:29: FutureWarning: Passing literal html to 'read_html' is deprecated and will be removed in a future version. To read from a literal string, wrap it in a 'StringIO' object.\n",
            "  grades = pd.read_html(f)\n",
            "/tmp/ipython-input-3295442611.py:29: FutureWarning: Passing literal html to 'read_html' is deprecated and will be removed in a future version. To read from a literal string, wrap it in a 'StringIO' object.\n",
            "  grades = pd.read_html(f)\n"
          ]
        },
        {
          "output_type": "stream",
          "name": "stdout",
          "text": [
            "❌ Error loading 202303115\n",
            "❌ Error loading 202305163\n",
            "❌ Error loading 202221207\n",
            "❌ Error loading 202403479\n",
            "❌ Error loading 202403516\n",
            "❌ Error loading 202211032\n",
            "❌ Error loading 202415838\n",
            "❌ Error loading 202413816\n",
            "❌ Error loading 202303234\n",
            "❌ Error loading 202405636\n",
            "❌ Error loading 202303240\n",
            "❌ Error loading 202401554\n",
            "❌ Error loading 202200863\n"
          ]
        },
        {
          "output_type": "stream",
          "name": "stderr",
          "text": [
            "/tmp/ipython-input-3295442611.py:29: FutureWarning: Passing literal html to 'read_html' is deprecated and will be removed in a future version. To read from a literal string, wrap it in a 'StringIO' object.\n",
            "  grades = pd.read_html(f)\n",
            "/tmp/ipython-input-3295442611.py:29: FutureWarning: Passing literal html to 'read_html' is deprecated and will be removed in a future version. To read from a literal string, wrap it in a 'StringIO' object.\n",
            "  grades = pd.read_html(f)\n",
            "/tmp/ipython-input-3295442611.py:29: FutureWarning: Passing literal html to 'read_html' is deprecated and will be removed in a future version. To read from a literal string, wrap it in a 'StringIO' object.\n",
            "  grades = pd.read_html(f)\n"
          ]
        },
        {
          "output_type": "stream",
          "name": "stdout",
          "text": [
            "❌ Error loading 202413930\n",
            "❌ Error loading 202311531\n"
          ]
        },
        {
          "output_type": "stream",
          "name": "stderr",
          "text": [
            "/tmp/ipython-input-3295442611.py:29: FutureWarning: Passing literal html to 'read_html' is deprecated and will be removed in a future version. To read from a literal string, wrap it in a 'StringIO' object.\n",
            "  grades = pd.read_html(f)\n"
          ]
        },
        {
          "output_type": "stream",
          "name": "stdout",
          "text": [
            "❌ Error loading 202305411\n",
            "❌ Error loading 202409889\n",
            "❌ Error loading 202409891\n",
            "❌ Error loading 202401735\n",
            "❌ Error loading 202311625\n",
            "ℹ️ Students recovered this round: {202205058, 202313733, 202420241, 202400017, 202311957, 202302488, 202203677, 202212259, 202404260, 201905712, 202400946, 202212532, 202207544, 202202938, 202311638, 202212951, 202205017, 202210659, 202400868, 202313332, 202408308, 202206838, 202313974, 202300789, 202311034}\n",
            "\n",
            "🔁 Retry Attempt 2 — Errors remaining: 135\n"
          ]
        },
        {
          "output_type": "stream",
          "name": "stderr",
          "text": [
            "/tmp/ipython-input-3295442611.py:29: FutureWarning: Passing literal html to 'read_html' is deprecated and will be removed in a future version. To read from a literal string, wrap it in a 'StringIO' object.\n",
            "  grades = pd.read_html(f)\n"
          ]
        },
        {
          "output_type": "stream",
          "name": "stdout",
          "text": [
            "❌ Error loading 202412050\n",
            "❌ Error loading 202405915\n",
            "❌ Error loading 202407970\n"
          ]
        },
        {
          "output_type": "stream",
          "name": "stderr",
          "text": [
            "/tmp/ipython-input-3295442611.py:29: FutureWarning: Passing literal html to 'read_html' is deprecated and will be removed in a future version. To read from a literal string, wrap it in a 'StringIO' object.\n",
            "  grades = pd.read_html(f)\n"
          ]
        },
        {
          "output_type": "stream",
          "name": "stdout",
          "text": [
            "❌ Error loading 202408004\n",
            "❌ Error loading 202311762\n"
          ]
        },
        {
          "output_type": "stream",
          "name": "stderr",
          "text": [
            "/tmp/ipython-input-3295442611.py:29: FutureWarning: Passing literal html to 'read_html' is deprecated and will be removed in a future version. To read from a literal string, wrap it in a 'StringIO' object.\n",
            "  grades = pd.read_html(f)\n"
          ]
        },
        {
          "output_type": "stream",
          "name": "stdout",
          "text": [
            "❌ Error loading 202211456\n",
            "❌ Error loading 202315905\n",
            "❌ Error loading 202401929\n",
            "❌ Error loading 202305683\n",
            "❌ Error loading 202311836\n",
            "❌ Error loading 202408126\n",
            "❌ Error loading 202410184\n",
            "S\n"
          ]
        },
        {
          "output_type": "stream",
          "name": "stderr",
          "text": [
            "/tmp/ipython-input-3295442611.py:29: FutureWarning: Passing literal html to 'read_html' is deprecated and will be removed in a future version. To read from a literal string, wrap it in a 'StringIO' object.\n",
            "  grades = pd.read_html(f)\n"
          ]
        },
        {
          "output_type": "stream",
          "name": "stdout",
          "text": [
            "❌ Error loading 202209499\n",
            "❌ Error loading 202402026\n"
          ]
        },
        {
          "output_type": "stream",
          "name": "stderr",
          "text": [
            "/tmp/ipython-input-3295442611.py:29: FutureWarning: Passing literal html to 'read_html' is deprecated and will be removed in a future version. To read from a literal string, wrap it in a 'StringIO' object.\n",
            "  grades = pd.read_html(f)\n"
          ]
        },
        {
          "output_type": "stream",
          "name": "stdout",
          "text": [
            "❌ Error loading 201490729\n",
            "❌ Error loading 202414387\n",
            "❌ Error loading 202201399\n",
            "❌ Error loading 202404191\n",
            "❌ Error loading 202404192\n"
          ]
        },
        {
          "output_type": "stream",
          "name": "stderr",
          "text": [
            "/tmp/ipython-input-3295442611.py:29: FutureWarning: Passing literal html to 'read_html' is deprecated and will be removed in a future version. To read from a literal string, wrap it in a 'StringIO' object.\n",
            "  grades = pd.read_html(f)\n"
          ]
        },
        {
          "output_type": "stream",
          "name": "stdout",
          "text": [
            "S\n"
          ]
        },
        {
          "output_type": "stream",
          "name": "stderr",
          "text": [
            "/tmp/ipython-input-3295442611.py:29: FutureWarning: Passing literal html to 'read_html' is deprecated and will be removed in a future version. To read from a literal string, wrap it in a 'StringIO' object.\n",
            "  grades = pd.read_html(f)\n"
          ]
        },
        {
          "output_type": "stream",
          "name": "stdout",
          "text": [
            "❌ Error loading 202406254\n",
            "❌ Error loading 202307951\n",
            "❌ Error loading 202416506\n",
            "❌ Error loading 202402184\n"
          ]
        },
        {
          "output_type": "stream",
          "name": "stderr",
          "text": [
            "/tmp/ipython-input-3295442611.py:29: FutureWarning: Passing literal html to 'read_html' is deprecated and will be removed in a future version. To read from a literal string, wrap it in a 'StringIO' object.\n",
            "  grades = pd.read_html(f)\n"
          ]
        },
        {
          "output_type": "stream",
          "name": "stdout",
          "text": [
            "❌ Error loading 202408357\n",
            "❌ Error loading 202303941\n",
            "❌ Error loading 202303942\n",
            "❌ Error loading 202303947\n",
            "❌ Error loading 202111451\n"
          ]
        },
        {
          "output_type": "stream",
          "name": "stderr",
          "text": [
            "/tmp/ipython-input-3295442611.py:29: FutureWarning: Passing literal html to 'read_html' is deprecated and will be removed in a future version. To read from a literal string, wrap it in a 'StringIO' object.\n",
            "  grades = pd.read_html(f)\n"
          ]
        },
        {
          "output_type": "stream",
          "name": "stdout",
          "text": [
            "❌ Error loading 202420702\n",
            "❌ Error loading 202414564\n",
            "❌ Error loading 202308088\n"
          ]
        },
        {
          "output_type": "stream",
          "name": "stderr",
          "text": [
            "/tmp/ipython-input-3295442611.py:29: FutureWarning: Passing literal html to 'read_html' is deprecated and will be removed in a future version. To read from a literal string, wrap it in a 'StringIO' object.\n",
            "  grades = pd.read_html(f)\n"
          ]
        },
        {
          "output_type": "stream",
          "name": "stdout",
          "text": [
            "❌ Error loading 202308103\n",
            "❌ Error loading 202400279\n",
            "❌ Error loading 202404377\n",
            "❌ Error loading 202308124\n",
            "❌ Error loading 202301991\n",
            "❌ Error loading 202410579\n",
            "❌ Error loading 202404453\n",
            "❌ Error loading 202304104\n",
            "❌ Error loading 202402416\n",
            "❌ Error loading 202306169\n",
            "❌ Error loading 202306178\n",
            "❌ Error loading 202310300\n"
          ]
        },
        {
          "output_type": "stream",
          "name": "stderr",
          "text": [
            "/tmp/ipython-input-3295442611.py:29: FutureWarning: Passing literal html to 'read_html' is deprecated and will be removed in a future version. To read from a literal string, wrap it in a 'StringIO' object.\n",
            "  grades = pd.read_html(f)\n"
          ]
        },
        {
          "output_type": "stream",
          "name": "stdout",
          "text": [
            "❌ Error loading 202300083\n",
            "❌ Error loading 202412739\n"
          ]
        },
        {
          "output_type": "stream",
          "name": "stderr",
          "text": [
            "/tmp/ipython-input-3295442611.py:29: FutureWarning: Passing literal html to 'read_html' is deprecated and will be removed in a future version. To read from a literal string, wrap it in a 'StringIO' object.\n",
            "  grades = pd.read_html(f)\n"
          ]
        },
        {
          "output_type": "stream",
          "name": "stdout",
          "text": [
            "❌ Error loading 202111689\n"
          ]
        },
        {
          "output_type": "stream",
          "name": "stderr",
          "text": [
            "/tmp/ipython-input-3295442611.py:29: FutureWarning: Passing literal html to 'read_html' is deprecated and will be removed in a future version. To read from a literal string, wrap it in a 'StringIO' object.\n",
            "  grades = pd.read_html(f)\n"
          ]
        },
        {
          "output_type": "stream",
          "name": "stdout",
          "text": [
            "❌ Error loading 202212041\n",
            "❌ Error loading 202316500\n",
            "❌ Error loading 202201857\n",
            "❌ Error loading 202314501\n",
            "❌ Error loading 202404614\n",
            "❌ Error loading 202302227\n",
            "❌ Error loading 202320668\n"
          ]
        },
        {
          "output_type": "stream",
          "name": "stderr",
          "text": [
            "/tmp/ipython-input-3295442611.py:29: FutureWarning: Passing literal html to 'read_html' is deprecated and will be removed in a future version. To read from a literal string, wrap it in a 'StringIO' object.\n",
            "  grades = pd.read_html(f)\n"
          ]
        },
        {
          "output_type": "stream",
          "name": "stdout",
          "text": [
            "❌ Error loading 202404658\n",
            "❌ Error loading 202312518\n"
          ]
        },
        {
          "output_type": "stream",
          "name": "stderr",
          "text": [
            "/tmp/ipython-input-3295442611.py:29: FutureWarning: Passing literal html to 'read_html' is deprecated and will be removed in a future version. To read from a literal string, wrap it in a 'StringIO' object.\n",
            "  grades = pd.read_html(f)\n"
          ]
        },
        {
          "output_type": "stream",
          "name": "stdout",
          "text": [
            "❌ Error loading 202408792\n",
            "❌ Error loading 202300252\n",
            "❌ Error loading 202306414\n",
            "❌ Error loading 202308463\n",
            "❌ Error loading 202404724\n",
            "❌ Error loading 202212227\n",
            "❌ Error loading 202412935\n",
            "❌ Error loading 202402719\n"
          ]
        },
        {
          "output_type": "stream",
          "name": "stderr",
          "text": [
            "/tmp/ipython-input-3295442611.py:29: FutureWarning: Passing literal html to 'read_html' is deprecated and will be removed in a future version. To read from a literal string, wrap it in a 'StringIO' object.\n",
            "  grades = pd.read_html(f)\n"
          ]
        },
        {
          "output_type": "stream",
          "name": "stdout",
          "text": [
            "❌ Error loading 202415087\n",
            "❌ Error loading 202208279\n",
            "❌ Error loading 202408993\n",
            "❌ Error loading 202302505\n",
            "❌ Error loading 202302528\n",
            "❌ Error loading 202304590\n",
            "❌ Error loading 202406991\n",
            "❌ Error loading 202402917\n",
            "❌ Error loading 202402925\n",
            "❌ Error loading 202204269\n",
            "❌ Error loading 202316915\n",
            "❌ Error loading 202321017\n",
            "❌ Error loading 202321018\n",
            "❌ Error loading 202404990\n",
            "❌ Error loading 202321040\n",
            "❌ Error loading 202304657\n",
            "❌ Error loading 202212506\n",
            "❌ Error loading 202409117\n",
            "❌ Error loading 202403042\n",
            "❌ Error loading 202317089\n",
            "❌ Error loading 202401064\n",
            "❌ Error loading 202300715\n",
            "❌ Error loading 202306864\n",
            "❌ Error loading 202401095\n",
            "❌ Error loading 202212713\n",
            "❌ Error loading 202200429\n"
          ]
        },
        {
          "output_type": "stream",
          "name": "stderr",
          "text": [
            "/tmp/ipython-input-3295442611.py:29: FutureWarning: Passing literal html to 'read_html' is deprecated and will be removed in a future version. To read from a literal string, wrap it in a 'StringIO' object.\n",
            "  grades = pd.read_html(f)\n"
          ]
        },
        {
          "output_type": "stream",
          "name": "stdout",
          "text": [
            "❌ Error loading 202304953\n",
            "❌ Error loading 202200506\n",
            "❌ Error loading 202403260\n",
            "❌ Error loading 202311100\n",
            "❌ Error loading 202200511\n",
            "❌ Error loading 202403313\n"
          ]
        },
        {
          "output_type": "stream",
          "name": "stderr",
          "text": [
            "/tmp/ipython-input-3295442611.py:29: FutureWarning: Passing literal html to 'read_html' is deprecated and will be removed in a future version. To read from a literal string, wrap it in a 'StringIO' object.\n",
            "  grades = pd.read_html(f)\n"
          ]
        },
        {
          "output_type": "stream",
          "name": "stdout",
          "text": [
            "❌ Error loading 202204691\n",
            "❌ Error loading 202307094\n",
            "❌ Error loading 202403372\n",
            "❌ Error loading 202311218\n",
            "❌ Error loading 202407492\n",
            "❌ Error loading 202403418\n",
            "❌ Error loading 202411622\n",
            "❌ Error loading 202303088\n"
          ]
        },
        {
          "output_type": "stream",
          "name": "stderr",
          "text": [
            "/tmp/ipython-input-3295442611.py:29: FutureWarning: Passing literal html to 'read_html' is deprecated and will be removed in a future version. To read from a literal string, wrap it in a 'StringIO' object.\n",
            "  grades = pd.read_html(f)\n",
            "/tmp/ipython-input-3295442611.py:29: FutureWarning: Passing literal html to 'read_html' is deprecated and will be removed in a future version. To read from a literal string, wrap it in a 'StringIO' object.\n",
            "  grades = pd.read_html(f)\n",
            "/tmp/ipython-input-3295442611.py:29: FutureWarning: Passing literal html to 'read_html' is deprecated and will be removed in a future version. To read from a literal string, wrap it in a 'StringIO' object.\n",
            "  grades = pd.read_html(f)\n"
          ]
        },
        {
          "output_type": "stream",
          "name": "stdout",
          "text": [
            "❌ Error loading 202221207\n",
            "❌ Error loading 202403479\n",
            "❌ Error loading 202403516\n",
            "❌ Error loading 202211032\n"
          ]
        },
        {
          "output_type": "stream",
          "name": "stderr",
          "text": [
            "/tmp/ipython-input-3295442611.py:29: FutureWarning: Passing literal html to 'read_html' is deprecated and will be removed in a future version. To read from a literal string, wrap it in a 'StringIO' object.\n",
            "  grades = pd.read_html(f)\n",
            "/tmp/ipython-input-3295442611.py:29: FutureWarning: Passing literal html to 'read_html' is deprecated and will be removed in a future version. To read from a literal string, wrap it in a 'StringIO' object.\n",
            "  grades = pd.read_html(f)\n"
          ]
        },
        {
          "output_type": "stream",
          "name": "stdout",
          "text": [
            "❌ Error loading 202303234\n",
            "❌ Error loading 202405636\n",
            "❌ Error loading 202303240\n",
            "❌ Error loading 202401554\n",
            "❌ Error loading 202200863\n"
          ]
        },
        {
          "output_type": "stream",
          "name": "stderr",
          "text": [
            "/tmp/ipython-input-3295442611.py:29: FutureWarning: Passing literal html to 'read_html' is deprecated and will be removed in a future version. To read from a literal string, wrap it in a 'StringIO' object.\n",
            "  grades = pd.read_html(f)\n"
          ]
        },
        {
          "output_type": "stream",
          "name": "stdout",
          "text": [
            "❌ Error loading 202413930\n"
          ]
        },
        {
          "output_type": "stream",
          "name": "stderr",
          "text": [
            "/tmp/ipython-input-3295442611.py:29: FutureWarning: Passing literal html to 'read_html' is deprecated and will be removed in a future version. To read from a literal string, wrap it in a 'StringIO' object.\n",
            "  grades = pd.read_html(f)\n"
          ]
        },
        {
          "output_type": "stream",
          "name": "stdout",
          "text": [
            "❌ Error loading 202305411\n"
          ]
        },
        {
          "output_type": "stream",
          "name": "stderr",
          "text": [
            "/tmp/ipython-input-3295442611.py:29: FutureWarning: Passing literal html to 'read_html' is deprecated and will be removed in a future version. To read from a literal string, wrap it in a 'StringIO' object.\n",
            "  grades = pd.read_html(f)\n"
          ]
        },
        {
          "output_type": "stream",
          "name": "stdout",
          "text": [
            "❌ Error loading 202409889\n",
            "❌ Error loading 202409891\n",
            "❌ Error loading 202401735\n",
            "ℹ️ Students recovered this round: {202201797, 202410345, 202311625, 202303115, 202305163, 202311531, 202113389, 202311183, 202413816, 202300081, 202203345, 202300393, 202408788, 202201205, 202213782, 202402040, 202406395, 202415838}\n",
            "\n",
            "🔁 Retry Attempt 3 — Errors remaining: 117\n"
          ]
        },
        {
          "output_type": "stream",
          "name": "stderr",
          "text": [
            "/tmp/ipython-input-3295442611.py:29: FutureWarning: Passing literal html to 'read_html' is deprecated and will be removed in a future version. To read from a literal string, wrap it in a 'StringIO' object.\n",
            "  grades = pd.read_html(f)\n"
          ]
        },
        {
          "output_type": "stream",
          "name": "stdout",
          "text": [
            "❌ Error loading 202412050\n",
            "❌ Error loading 202405915\n",
            "❌ Error loading 202407970\n"
          ]
        },
        {
          "output_type": "stream",
          "name": "stderr",
          "text": [
            "/tmp/ipython-input-3295442611.py:29: FutureWarning: Passing literal html to 'read_html' is deprecated and will be removed in a future version. To read from a literal string, wrap it in a 'StringIO' object.\n",
            "  grades = pd.read_html(f)\n"
          ]
        },
        {
          "output_type": "stream",
          "name": "stdout",
          "text": [
            "❌ Error loading 202408004\n",
            "❌ Error loading 202311762\n",
            "❌ Error loading 202211456\n",
            "❌ Error loading 202315905\n",
            "❌ Error loading 202401929\n",
            "❌ Error loading 202305683\n",
            "❌ Error loading 202311836\n"
          ]
        },
        {
          "output_type": "stream",
          "name": "stderr",
          "text": [
            "/tmp/ipython-input-3295442611.py:29: FutureWarning: Passing literal html to 'read_html' is deprecated and will be removed in a future version. To read from a literal string, wrap it in a 'StringIO' object.\n",
            "  grades = pd.read_html(f)\n"
          ]
        },
        {
          "output_type": "stream",
          "name": "stdout",
          "text": [
            "❌ Error loading 202410184\n",
            "❌ Error loading 202209499\n",
            "❌ Error loading 202402026\n",
            "❌ Error loading 201490729\n",
            "❌ Error loading 202414387\n",
            "❌ Error loading 202201399\n",
            "❌ Error loading 202404191\n",
            "❌ Error loading 202404192\n"
          ]
        },
        {
          "output_type": "stream",
          "name": "stderr",
          "text": [
            "/tmp/ipython-input-3295442611.py:29: FutureWarning: Passing literal html to 'read_html' is deprecated and will be removed in a future version. To read from a literal string, wrap it in a 'StringIO' object.\n",
            "  grades = pd.read_html(f)\n"
          ]
        },
        {
          "output_type": "stream",
          "name": "stdout",
          "text": [
            "❌ Error loading 202307951\n",
            "❌ Error loading 202416506\n",
            "❌ Error loading 202402184\n",
            "❌ Error loading 202408357\n",
            "❌ Error loading 202303941\n",
            "❌ Error loading 202303942\n",
            "❌ Error loading 202303947\n",
            "❌ Error loading 202111451\n"
          ]
        },
        {
          "output_type": "stream",
          "name": "stderr",
          "text": [
            "/tmp/ipython-input-3295442611.py:29: FutureWarning: Passing literal html to 'read_html' is deprecated and will be removed in a future version. To read from a literal string, wrap it in a 'StringIO' object.\n",
            "  grades = pd.read_html(f)\n"
          ]
        },
        {
          "output_type": "stream",
          "name": "stdout",
          "text": [
            "❌ Error loading 202420702\n",
            "❌ Error loading 202414564\n",
            "❌ Error loading 202308088\n",
            "❌ Error loading 202308103\n",
            "❌ Error loading 202400279\n",
            "❌ Error loading 202404377\n",
            "❌ Error loading 202308124\n",
            "❌ Error loading 202301991\n",
            "❌ Error loading 202410579\n",
            "❌ Error loading 202404453\n",
            "❌ Error loading 202304104\n"
          ]
        },
        {
          "output_type": "stream",
          "name": "stderr",
          "text": [
            "/tmp/ipython-input-3295442611.py:29: FutureWarning: Passing literal html to 'read_html' is deprecated and will be removed in a future version. To read from a literal string, wrap it in a 'StringIO' object.\n",
            "  grades = pd.read_html(f)\n"
          ]
        },
        {
          "output_type": "stream",
          "name": "stdout",
          "text": [
            "❌ Error loading 202402416\n",
            "❌ Error loading 202306169\n",
            "❌ Error loading 202306178\n",
            "❌ Error loading 202310300\n",
            "❌ Error loading 202300083\n",
            "❌ Error loading 202412739\n",
            "❌ Error loading 202111689\n"
          ]
        },
        {
          "output_type": "stream",
          "name": "stderr",
          "text": [
            "/tmp/ipython-input-3295442611.py:29: FutureWarning: Passing literal html to 'read_html' is deprecated and will be removed in a future version. To read from a literal string, wrap it in a 'StringIO' object.\n",
            "  grades = pd.read_html(f)\n"
          ]
        },
        {
          "output_type": "stream",
          "name": "stdout",
          "text": [
            "❌ Error loading 202212041\n",
            "❌ Error loading 202316500\n"
          ]
        },
        {
          "output_type": "stream",
          "name": "stderr",
          "text": [
            "/tmp/ipython-input-3295442611.py:29: FutureWarning: Passing literal html to 'read_html' is deprecated and will be removed in a future version. To read from a literal string, wrap it in a 'StringIO' object.\n",
            "  grades = pd.read_html(f)\n"
          ]
        },
        {
          "output_type": "stream",
          "name": "stdout",
          "text": [
            "❌ Error loading 202314501\n",
            "❌ Error loading 202404614\n",
            "❌ Error loading 202302227\n",
            "❌ Error loading 202320668\n"
          ]
        },
        {
          "output_type": "stream",
          "name": "stderr",
          "text": [
            "/tmp/ipython-input-3295442611.py:29: FutureWarning: Passing literal html to 'read_html' is deprecated and will be removed in a future version. To read from a literal string, wrap it in a 'StringIO' object.\n",
            "  grades = pd.read_html(f)\n"
          ]
        },
        {
          "output_type": "stream",
          "name": "stdout",
          "text": [
            "❌ Error loading 202404658\n",
            "❌ Error loading 202312518\n",
            "❌ Error loading 202408792\n",
            "❌ Error loading 202300252\n",
            "❌ Error loading 202306414\n"
          ]
        },
        {
          "output_type": "stream",
          "name": "stderr",
          "text": [
            "/tmp/ipython-input-3295442611.py:29: FutureWarning: Passing literal html to 'read_html' is deprecated and will be removed in a future version. To read from a literal string, wrap it in a 'StringIO' object.\n",
            "  grades = pd.read_html(f)\n"
          ]
        },
        {
          "output_type": "stream",
          "name": "stdout",
          "text": [
            "❌ Error loading 202404724\n"
          ]
        },
        {
          "output_type": "stream",
          "name": "stderr",
          "text": [
            "/tmp/ipython-input-3295442611.py:29: FutureWarning: Passing literal html to 'read_html' is deprecated and will be removed in a future version. To read from a literal string, wrap it in a 'StringIO' object.\n",
            "  grades = pd.read_html(f)\n"
          ]
        },
        {
          "output_type": "stream",
          "name": "stdout",
          "text": [
            "❌ Error loading 202412935\n",
            "❌ Error loading 202402719\n",
            "S\n"
          ]
        },
        {
          "output_type": "stream",
          "name": "stderr",
          "text": [
            "/tmp/ipython-input-3295442611.py:29: FutureWarning: Passing literal html to 'read_html' is deprecated and will be removed in a future version. To read from a literal string, wrap it in a 'StringIO' object.\n",
            "  grades = pd.read_html(f)\n"
          ]
        },
        {
          "output_type": "stream",
          "name": "stdout",
          "text": [
            "S\n"
          ]
        },
        {
          "output_type": "stream",
          "name": "stderr",
          "text": [
            "/tmp/ipython-input-3295442611.py:29: FutureWarning: Passing literal html to 'read_html' is deprecated and will be removed in a future version. To read from a literal string, wrap it in a 'StringIO' object.\n",
            "  grades = pd.read_html(f)\n"
          ]
        },
        {
          "output_type": "stream",
          "name": "stdout",
          "text": [
            "❌ Error loading 202408993\n"
          ]
        },
        {
          "output_type": "stream",
          "name": "stderr",
          "text": [
            "/tmp/ipython-input-3295442611.py:29: FutureWarning: Passing literal html to 'read_html' is deprecated and will be removed in a future version. To read from a literal string, wrap it in a 'StringIO' object.\n",
            "  grades = pd.read_html(f)\n"
          ]
        },
        {
          "output_type": "stream",
          "name": "stdout",
          "text": [
            "❌ Error loading 202302528\n",
            "❌ Error loading 202304590\n",
            "S\n"
          ]
        },
        {
          "output_type": "stream",
          "name": "stderr",
          "text": [
            "/tmp/ipython-input-3295442611.py:29: FutureWarning: Passing literal html to 'read_html' is deprecated and will be removed in a future version. To read from a literal string, wrap it in a 'StringIO' object.\n",
            "  grades = pd.read_html(f)\n"
          ]
        },
        {
          "output_type": "stream",
          "name": "stdout",
          "text": [
            "❌ Error loading 202402917\n",
            "❌ Error loading 202402925\n"
          ]
        },
        {
          "output_type": "stream",
          "name": "stderr",
          "text": [
            "/tmp/ipython-input-3295442611.py:29: FutureWarning: Passing literal html to 'read_html' is deprecated and will be removed in a future version. To read from a literal string, wrap it in a 'StringIO' object.\n",
            "  grades = pd.read_html(f)\n"
          ]
        },
        {
          "output_type": "stream",
          "name": "stdout",
          "text": [
            "❌ Error loading 202316915\n",
            "❌ Error loading 202321017\n",
            "❌ Error loading 202321018\n",
            "❌ Error loading 202404990\n",
            "❌ Error loading 202321040\n",
            "❌ Error loading 202304657\n",
            "❌ Error loading 202212506\n",
            "❌ Error loading 202409117\n",
            "❌ Error loading 202403042\n",
            "❌ Error loading 202317089\n",
            "❌ Error loading 202401064\n",
            "❌ Error loading 202300715\n",
            "❌ Error loading 202306864\n",
            "❌ Error loading 202401095\n",
            "❌ Error loading 202212713\n",
            "❌ Error loading 202200429\n"
          ]
        },
        {
          "output_type": "stream",
          "name": "stderr",
          "text": [
            "/tmp/ipython-input-3295442611.py:29: FutureWarning: Passing literal html to 'read_html' is deprecated and will be removed in a future version. To read from a literal string, wrap it in a 'StringIO' object.\n",
            "  grades = pd.read_html(f)\n",
            "/tmp/ipython-input-3295442611.py:29: FutureWarning: Passing literal html to 'read_html' is deprecated and will be removed in a future version. To read from a literal string, wrap it in a 'StringIO' object.\n",
            "  grades = pd.read_html(f)\n"
          ]
        },
        {
          "output_type": "stream",
          "name": "stdout",
          "text": [
            "❌ Error loading 202200506\n",
            "❌ Error loading 202403260\n",
            "❌ Error loading 202311100\n",
            "❌ Error loading 202200511\n",
            "❌ Error loading 202403313\n",
            "S\n"
          ]
        },
        {
          "output_type": "stream",
          "name": "stderr",
          "text": [
            "/tmp/ipython-input-3295442611.py:29: FutureWarning: Passing literal html to 'read_html' is deprecated and will be removed in a future version. To read from a literal string, wrap it in a 'StringIO' object.\n",
            "  grades = pd.read_html(f)\n"
          ]
        },
        {
          "output_type": "stream",
          "name": "stdout",
          "text": [
            "❌ Error loading 202307094\n",
            "❌ Error loading 202403372\n",
            "❌ Error loading 202311218\n",
            "❌ Error loading 202407492\n",
            "❌ Error loading 202403418\n",
            "❌ Error loading 202411622\n",
            "❌ Error loading 202303088\n"
          ]
        },
        {
          "output_type": "stream",
          "name": "stderr",
          "text": [
            "/tmp/ipython-input-3295442611.py:29: FutureWarning: Passing literal html to 'read_html' is deprecated and will be removed in a future version. To read from a literal string, wrap it in a 'StringIO' object.\n",
            "  grades = pd.read_html(f)\n"
          ]
        },
        {
          "output_type": "stream",
          "name": "stdout",
          "text": [
            "❌ Error loading 202221207\n"
          ]
        },
        {
          "output_type": "stream",
          "name": "stderr",
          "text": [
            "/tmp/ipython-input-3295442611.py:29: FutureWarning: Passing literal html to 'read_html' is deprecated and will be removed in a future version. To read from a literal string, wrap it in a 'StringIO' object.\n",
            "  grades = pd.read_html(f)\n"
          ]
        },
        {
          "output_type": "stream",
          "name": "stdout",
          "text": [
            "❌ Error loading 202403516\n",
            "❌ Error loading 202211032\n",
            "❌ Error loading 202303234\n",
            "❌ Error loading 202405636\n",
            "❌ Error loading 202303240\n",
            "❌ Error loading 202401554\n",
            "❌ Error loading 202200863\n"
          ]
        },
        {
          "output_type": "stream",
          "name": "stderr",
          "text": [
            "/tmp/ipython-input-3295442611.py:29: FutureWarning: Passing literal html to 'read_html' is deprecated and will be removed in a future version. To read from a literal string, wrap it in a 'StringIO' object.\n",
            "  grades = pd.read_html(f)\n"
          ]
        },
        {
          "output_type": "stream",
          "name": "stdout",
          "text": [
            "❌ Error loading 202413930\n",
            "❌ Error loading 202305411\n",
            "❌ Error loading 202409889\n",
            "❌ Error loading 202409891\n",
            "❌ Error loading 202401735\n",
            "ℹ️ Students recovered this round: {202201857, 202212227, 202403479, 202302505, 202204269, 202406254, 202406991, 202308463, 202415087, 202204691, 202208279, 202304953, 202408126}\n",
            "\n",
            "🔁 Retry Attempt 4 — Errors remaining: 104\n",
            "❌ Error loading 202412050\n"
          ]
        },
        {
          "output_type": "stream",
          "name": "stderr",
          "text": [
            "/tmp/ipython-input-3295442611.py:29: FutureWarning: Passing literal html to 'read_html' is deprecated and will be removed in a future version. To read from a literal string, wrap it in a 'StringIO' object.\n",
            "  grades = pd.read_html(f)\n"
          ]
        },
        {
          "output_type": "stream",
          "name": "stdout",
          "text": [
            "❌ Error loading 202405915\n",
            "❌ Error loading 202407970\n"
          ]
        },
        {
          "output_type": "stream",
          "name": "stderr",
          "text": [
            "/tmp/ipython-input-3295442611.py:29: FutureWarning: Passing literal html to 'read_html' is deprecated and will be removed in a future version. To read from a literal string, wrap it in a 'StringIO' object.\n",
            "  grades = pd.read_html(f)\n"
          ]
        },
        {
          "output_type": "stream",
          "name": "stdout",
          "text": [
            "❌ Error loading 202408004\n",
            "❌ Error loading 202311762\n",
            "❌ Error loading 202211456\n"
          ]
        },
        {
          "output_type": "stream",
          "name": "stderr",
          "text": [
            "/tmp/ipython-input-3295442611.py:29: FutureWarning: Passing literal html to 'read_html' is deprecated and will be removed in a future version. To read from a literal string, wrap it in a 'StringIO' object.\n",
            "  grades = pd.read_html(f)\n"
          ]
        },
        {
          "output_type": "stream",
          "name": "stdout",
          "text": [
            "❌ Error loading 202401929\n",
            "❌ Error loading 202305683\n",
            "❌ Error loading 202311836\n",
            "❌ Error loading 202410184\n",
            "❌ Error loading 202209499\n",
            "❌ Error loading 202402026\n",
            "❌ Error loading 201490729\n",
            "❌ Error loading 202414387\n",
            "❌ Error loading 202201399\n",
            "❌ Error loading 202404191\n",
            "❌ Error loading 202404192\n",
            "❌ Error loading 202307951\n",
            "❌ Error loading 202416506\n",
            "❌ Error loading 202402184\n",
            "❌ Error loading 202408357\n",
            "❌ Error loading 202303941\n",
            "❌ Error loading 202303942\n",
            "❌ Error loading 202303947\n",
            "❌ Error loading 202111451\n"
          ]
        },
        {
          "output_type": "stream",
          "name": "stderr",
          "text": [
            "/tmp/ipython-input-3295442611.py:29: FutureWarning: Passing literal html to 'read_html' is deprecated and will be removed in a future version. To read from a literal string, wrap it in a 'StringIO' object.\n",
            "  grades = pd.read_html(f)\n"
          ]
        },
        {
          "output_type": "stream",
          "name": "stdout",
          "text": [
            "❌ Error loading 202420702\n",
            "S\n"
          ]
        },
        {
          "output_type": "stream",
          "name": "stderr",
          "text": [
            "/tmp/ipython-input-3295442611.py:29: FutureWarning: Passing literal html to 'read_html' is deprecated and will be removed in a future version. To read from a literal string, wrap it in a 'StringIO' object.\n",
            "  grades = pd.read_html(f)\n"
          ]
        },
        {
          "output_type": "stream",
          "name": "stdout",
          "text": [
            "❌ Error loading 202308088\n",
            "❌ Error loading 202308103\n",
            "❌ Error loading 202400279\n",
            "❌ Error loading 202404377\n",
            "❌ Error loading 202308124\n",
            "❌ Error loading 202301991\n",
            "❌ Error loading 202410579\n",
            "❌ Error loading 202404453\n",
            "❌ Error loading 202304104\n"
          ]
        },
        {
          "output_type": "stream",
          "name": "stderr",
          "text": [
            "/tmp/ipython-input-3295442611.py:29: FutureWarning: Passing literal html to 'read_html' is deprecated and will be removed in a future version. To read from a literal string, wrap it in a 'StringIO' object.\n",
            "  grades = pd.read_html(f)\n"
          ]
        },
        {
          "output_type": "stream",
          "name": "stdout",
          "text": [
            "❌ Error loading 202306169\n",
            "❌ Error loading 202306178\n",
            "❌ Error loading 202310300\n",
            "❌ Error loading 202300083\n",
            "❌ Error loading 202412739\n",
            "❌ Error loading 202111689\n"
          ]
        },
        {
          "output_type": "stream",
          "name": "stderr",
          "text": [
            "/tmp/ipython-input-3295442611.py:29: FutureWarning: Passing literal html to 'read_html' is deprecated and will be removed in a future version. To read from a literal string, wrap it in a 'StringIO' object.\n",
            "  grades = pd.read_html(f)\n",
            "/tmp/ipython-input-3295442611.py:29: FutureWarning: Passing literal html to 'read_html' is deprecated and will be removed in a future version. To read from a literal string, wrap it in a 'StringIO' object.\n",
            "  grades = pd.read_html(f)\n"
          ]
        },
        {
          "output_type": "stream",
          "name": "stdout",
          "text": [
            "❌ Error loading 202316500\n",
            "❌ Error loading 202314501\n",
            "❌ Error loading 202404614\n",
            "❌ Error loading 202302227\n",
            "❌ Error loading 202320668\n"
          ]
        },
        {
          "output_type": "stream",
          "name": "stderr",
          "text": [
            "/tmp/ipython-input-3295442611.py:29: FutureWarning: Passing literal html to 'read_html' is deprecated and will be removed in a future version. To read from a literal string, wrap it in a 'StringIO' object.\n",
            "  grades = pd.read_html(f)\n"
          ]
        },
        {
          "output_type": "stream",
          "name": "stdout",
          "text": [
            "❌ Error loading 202404658\n",
            "❌ Error loading 202312518\n",
            "❌ Error loading 202408792\n",
            "❌ Error loading 202300252\n",
            "❌ Error loading 202306414\n",
            "❌ Error loading 202404724\n",
            "❌ Error loading 202412935\n",
            "❌ Error loading 202402719\n",
            "❌ Error loading 202408993\n"
          ]
        },
        {
          "output_type": "stream",
          "name": "stderr",
          "text": [
            "/tmp/ipython-input-3295442611.py:29: FutureWarning: Passing literal html to 'read_html' is deprecated and will be removed in a future version. To read from a literal string, wrap it in a 'StringIO' object.\n",
            "  grades = pd.read_html(f)\n"
          ]
        },
        {
          "output_type": "stream",
          "name": "stdout",
          "text": [
            "❌ Error loading 202304590\n",
            "❌ Error loading 202402917\n"
          ]
        },
        {
          "output_type": "stream",
          "name": "stderr",
          "text": [
            "/tmp/ipython-input-3295442611.py:29: FutureWarning: Passing literal html to 'read_html' is deprecated and will be removed in a future version. To read from a literal string, wrap it in a 'StringIO' object.\n",
            "  grades = pd.read_html(f)\n",
            "/tmp/ipython-input-3295442611.py:29: FutureWarning: Passing literal html to 'read_html' is deprecated and will be removed in a future version. To read from a literal string, wrap it in a 'StringIO' object.\n",
            "  grades = pd.read_html(f)\n",
            "/tmp/ipython-input-3295442611.py:29: FutureWarning: Passing literal html to 'read_html' is deprecated and will be removed in a future version. To read from a literal string, wrap it in a 'StringIO' object.\n",
            "  grades = pd.read_html(f)\n"
          ]
        },
        {
          "output_type": "stream",
          "name": "stdout",
          "text": [
            "C\n"
          ]
        },
        {
          "output_type": "stream",
          "name": "stderr",
          "text": [
            "/tmp/ipython-input-3295442611.py:29: FutureWarning: Passing literal html to 'read_html' is deprecated and will be removed in a future version. To read from a literal string, wrap it in a 'StringIO' object.\n",
            "  grades = pd.read_html(f)\n"
          ]
        },
        {
          "output_type": "stream",
          "name": "stdout",
          "text": [
            "❌ Error loading 202404990\n",
            "❌ Error loading 202321040\n",
            "❌ Error loading 202304657\n",
            "❌ Error loading 202212506\n",
            "❌ Error loading 202409117\n"
          ]
        },
        {
          "output_type": "stream",
          "name": "stderr",
          "text": [
            "/tmp/ipython-input-3295442611.py:29: FutureWarning: Passing literal html to 'read_html' is deprecated and will be removed in a future version. To read from a literal string, wrap it in a 'StringIO' object.\n",
            "  grades = pd.read_html(f)\n"
          ]
        },
        {
          "output_type": "stream",
          "name": "stdout",
          "text": [
            "❌ Error loading 202317089\n",
            "❌ Error loading 202401064\n",
            "❌ Error loading 202300715\n",
            "❌ Error loading 202306864\n",
            "❌ Error loading 202401095\n",
            "❌ Error loading 202212713\n",
            "❌ Error loading 202200429\n"
          ]
        },
        {
          "output_type": "stream",
          "name": "stderr",
          "text": [
            "/tmp/ipython-input-3295442611.py:29: FutureWarning: Passing literal html to 'read_html' is deprecated and will be removed in a future version. To read from a literal string, wrap it in a 'StringIO' object.\n",
            "  grades = pd.read_html(f)\n"
          ]
        },
        {
          "output_type": "stream",
          "name": "stdout",
          "text": [
            "❌ Error loading 202200506\n",
            "❌ Error loading 202403260\n",
            "❌ Error loading 202311100\n",
            "❌ Error loading 202200511\n",
            "❌ Error loading 202403313\n",
            "❌ Error loading 202307094\n",
            "❌ Error loading 202403372\n",
            "❌ Error loading 202311218\n",
            "❌ Error loading 202407492\n",
            "❌ Error loading 202403418\n",
            "❌ Error loading 202411622\n",
            "❌ Error loading 202303088\n"
          ]
        },
        {
          "output_type": "stream",
          "name": "stderr",
          "text": [
            "/tmp/ipython-input-3295442611.py:29: FutureWarning: Passing literal html to 'read_html' is deprecated and will be removed in a future version. To read from a literal string, wrap it in a 'StringIO' object.\n",
            "  grades = pd.read_html(f)\n"
          ]
        },
        {
          "output_type": "stream",
          "name": "stdout",
          "text": [
            "❌ Error loading 202221207\n",
            "❌ Error loading 202403516\n",
            "❌ Error loading 202211032\n",
            "❌ Error loading 202303234\n"
          ]
        },
        {
          "output_type": "stream",
          "name": "stderr",
          "text": [
            "/tmp/ipython-input-3295442611.py:29: FutureWarning: Passing literal html to 'read_html' is deprecated and will be removed in a future version. To read from a literal string, wrap it in a 'StringIO' object.\n",
            "  grades = pd.read_html(f)\n"
          ]
        },
        {
          "output_type": "stream",
          "name": "stdout",
          "text": [
            "❌ Error loading 202303240\n",
            "❌ Error loading 202401554\n",
            "❌ Error loading 202200863\n"
          ]
        },
        {
          "output_type": "stream",
          "name": "stderr",
          "text": [
            "/tmp/ipython-input-3295442611.py:29: FutureWarning: Passing literal html to 'read_html' is deprecated and will be removed in a future version. To read from a literal string, wrap it in a 'StringIO' object.\n",
            "  grades = pd.read_html(f)\n"
          ]
        },
        {
          "output_type": "stream",
          "name": "stdout",
          "text": [
            "❌ Error loading 202413930\n",
            "❌ Error loading 202305411\n",
            "❌ Error loading 202409889\n",
            "❌ Error loading 202409891\n",
            "❌ Error loading 202401735\n",
            "ℹ️ Students recovered this round: {202302528, 202315905, 202403042, 202405636, 202414564, 202212041, 202402925, 202402416, 202316915, 202321017, 202321018}\n",
            "\n",
            "🔁 Retry Attempt 5 — Errors remaining: 93\n",
            "❌ Error loading 202412050\n",
            "❌ Error loading 202405915\n",
            "❌ Error loading 202407970\n"
          ]
        },
        {
          "output_type": "stream",
          "name": "stderr",
          "text": [
            "/tmp/ipython-input-3295442611.py:29: FutureWarning: Passing literal html to 'read_html' is deprecated and will be removed in a future version. To read from a literal string, wrap it in a 'StringIO' object.\n",
            "  grades = pd.read_html(f)\n"
          ]
        },
        {
          "output_type": "stream",
          "name": "stdout",
          "text": [
            "❌ Error loading 202408004\n",
            "❌ Error loading 202311762\n"
          ]
        },
        {
          "output_type": "stream",
          "name": "stderr",
          "text": [
            "/tmp/ipython-input-3295442611.py:29: FutureWarning: Passing literal html to 'read_html' is deprecated and will be removed in a future version. To read from a literal string, wrap it in a 'StringIO' object.\n",
            "  grades = pd.read_html(f)\n",
            "/tmp/ipython-input-3295442611.py:29: FutureWarning: Passing literal html to 'read_html' is deprecated and will be removed in a future version. To read from a literal string, wrap it in a 'StringIO' object.\n",
            "  grades = pd.read_html(f)\n"
          ]
        },
        {
          "output_type": "stream",
          "name": "stdout",
          "text": [
            "❌ Error loading 202305683\n",
            "❌ Error loading 202311836\n",
            "❌ Error loading 202410184\n",
            "❌ Error loading 202209499\n",
            "❌ Error loading 202402026\n",
            "❌ Error loading 201490729\n",
            "❌ Error loading 202414387\n",
            "❌ Error loading 202201399\n",
            "❌ Error loading 202404191\n"
          ]
        },
        {
          "output_type": "stream",
          "name": "stderr",
          "text": [
            "/tmp/ipython-input-3295442611.py:29: FutureWarning: Passing literal html to 'read_html' is deprecated and will be removed in a future version. To read from a literal string, wrap it in a 'StringIO' object.\n",
            "  grades = pd.read_html(f)\n"
          ]
        },
        {
          "output_type": "stream",
          "name": "stdout",
          "text": [
            "❌ Error loading 202307951\n",
            "❌ Error loading 202416506\n",
            "❌ Error loading 202402184\n",
            "❌ Error loading 202408357\n",
            "❌ Error loading 202303941\n",
            "❌ Error loading 202303942\n",
            "❌ Error loading 202303947\n",
            "❌ Error loading 202111451\n"
          ]
        },
        {
          "output_type": "stream",
          "name": "stderr",
          "text": [
            "/tmp/ipython-input-3295442611.py:29: FutureWarning: Passing literal html to 'read_html' is deprecated and will be removed in a future version. To read from a literal string, wrap it in a 'StringIO' object.\n",
            "  grades = pd.read_html(f)\n"
          ]
        },
        {
          "output_type": "stream",
          "name": "stdout",
          "text": [
            "❌ Error loading 202420702\n"
          ]
        },
        {
          "output_type": "stream",
          "name": "stderr",
          "text": [
            "/tmp/ipython-input-3295442611.py:29: FutureWarning: Passing literal html to 'read_html' is deprecated and will be removed in a future version. To read from a literal string, wrap it in a 'StringIO' object.\n",
            "  grades = pd.read_html(f)\n"
          ]
        },
        {
          "output_type": "stream",
          "name": "stdout",
          "text": [
            "❌ Error loading 202308103\n"
          ]
        },
        {
          "output_type": "stream",
          "name": "stderr",
          "text": [
            "/tmp/ipython-input-3295442611.py:29: FutureWarning: Passing literal html to 'read_html' is deprecated and will be removed in a future version. To read from a literal string, wrap it in a 'StringIO' object.\n",
            "  grades = pd.read_html(f)\n"
          ]
        },
        {
          "output_type": "stream",
          "name": "stdout",
          "text": [
            "❌ Error loading 202404377\n",
            "❌ Error loading 202308124\n",
            "❌ Error loading 202301991\n",
            "❌ Error loading 202410579\n",
            "❌ Error loading 202404453\n",
            "❌ Error loading 202304104\n",
            "❌ Error loading 202306169\n",
            "❌ Error loading 202306178\n",
            "❌ Error loading 202310300\n",
            "❌ Error loading 202300083\n",
            "❌ Error loading 202412739\n",
            "❌ Error loading 202111689\n"
          ]
        },
        {
          "output_type": "stream",
          "name": "stderr",
          "text": [
            "/tmp/ipython-input-3295442611.py:29: FutureWarning: Passing literal html to 'read_html' is deprecated and will be removed in a future version. To read from a literal string, wrap it in a 'StringIO' object.\n",
            "  grades = pd.read_html(f)\n"
          ]
        },
        {
          "output_type": "stream",
          "name": "stdout",
          "text": [
            "❌ Error loading 202316500\n",
            "❌ Error loading 202314501\n",
            "❌ Error loading 202404614\n"
          ]
        },
        {
          "output_type": "stream",
          "name": "stderr",
          "text": [
            "/tmp/ipython-input-3295442611.py:29: FutureWarning: Passing literal html to 'read_html' is deprecated and will be removed in a future version. To read from a literal string, wrap it in a 'StringIO' object.\n",
            "  grades = pd.read_html(f)\n"
          ]
        },
        {
          "output_type": "stream",
          "name": "stdout",
          "text": [
            "❌ Error loading 202320668\n"
          ]
        },
        {
          "output_type": "stream",
          "name": "stderr",
          "text": [
            "/tmp/ipython-input-3295442611.py:29: FutureWarning: Passing literal html to 'read_html' is deprecated and will be removed in a future version. To read from a literal string, wrap it in a 'StringIO' object.\n",
            "  grades = pd.read_html(f)\n"
          ]
        },
        {
          "output_type": "stream",
          "name": "stdout",
          "text": [
            "❌ Error loading 202404658\n"
          ]
        },
        {
          "output_type": "stream",
          "name": "stderr",
          "text": [
            "/tmp/ipython-input-3295442611.py:29: FutureWarning: Passing literal html to 'read_html' is deprecated and will be removed in a future version. To read from a literal string, wrap it in a 'StringIO' object.\n",
            "  grades = pd.read_html(f)\n"
          ]
        },
        {
          "output_type": "stream",
          "name": "stdout",
          "text": [
            "❌ Error loading 202408792\n",
            "❌ Error loading 202300252\n",
            "❌ Error loading 202306414\n",
            "❌ Error loading 202404724\n",
            "❌ Error loading 202412935\n",
            "❌ Error loading 202402719\n",
            "❌ Error loading 202408993\n",
            "❌ Error loading 202304590\n",
            "❌ Error loading 202402917\n",
            "❌ Error loading 202404990\n",
            "❌ Error loading 202321040\n",
            "❌ Error loading 202304657\n",
            "S\n"
          ]
        },
        {
          "output_type": "stream",
          "name": "stderr",
          "text": [
            "/tmp/ipython-input-3295442611.py:29: FutureWarning: Passing literal html to 'read_html' is deprecated and will be removed in a future version. To read from a literal string, wrap it in a 'StringIO' object.\n",
            "  grades = pd.read_html(f)\n"
          ]
        },
        {
          "output_type": "stream",
          "name": "stdout",
          "text": [
            "❌ Error loading 202409117\n",
            "❌ Error loading 202317089\n",
            "❌ Error loading 202401064\n",
            "❌ Error loading 202300715\n",
            "❌ Error loading 202306864\n",
            "❌ Error loading 202401095\n",
            "❌ Error loading 202212713\n",
            "❌ Error loading 202200429\n"
          ]
        },
        {
          "output_type": "stream",
          "name": "stderr",
          "text": [
            "/tmp/ipython-input-3295442611.py:29: FutureWarning: Passing literal html to 'read_html' is deprecated and will be removed in a future version. To read from a literal string, wrap it in a 'StringIO' object.\n",
            "  grades = pd.read_html(f)\n",
            "/tmp/ipython-input-3295442611.py:29: FutureWarning: Passing literal html to 'read_html' is deprecated and will be removed in a future version. To read from a literal string, wrap it in a 'StringIO' object.\n",
            "  grades = pd.read_html(f)\n"
          ]
        },
        {
          "output_type": "stream",
          "name": "stdout",
          "text": [
            "❌ Error loading 202403260\n",
            "❌ Error loading 202311100\n",
            "❌ Error loading 202200511\n",
            "❌ Error loading 202403313\n",
            "❌ Error loading 202307094\n",
            "❌ Error loading 202403372\n",
            "❌ Error loading 202311218\n",
            "❌ Error loading 202407492\n",
            "❌ Error loading 202403418\n",
            "❌ Error loading 202411622\n",
            "❌ Error loading 202303088\n"
          ]
        },
        {
          "output_type": "stream",
          "name": "stderr",
          "text": [
            "/tmp/ipython-input-3295442611.py:29: FutureWarning: Passing literal html to 'read_html' is deprecated and will be removed in a future version. To read from a literal string, wrap it in a 'StringIO' object.\n",
            "  grades = pd.read_html(f)\n"
          ]
        },
        {
          "output_type": "stream",
          "name": "stdout",
          "text": [
            "C\n",
            "i\n",
            "S\n"
          ]
        },
        {
          "output_type": "stream",
          "name": "stderr",
          "text": [
            "/tmp/ipython-input-3295442611.py:29: FutureWarning: Passing literal html to 'read_html' is deprecated and will be removed in a future version. To read from a literal string, wrap it in a 'StringIO' object.\n",
            "  grades = pd.read_html(f)\n"
          ]
        },
        {
          "output_type": "stream",
          "name": "stdout",
          "text": [
            "❌ Error loading 202403516\n",
            "❌ Error loading 202211032\n"
          ]
        },
        {
          "output_type": "stream",
          "name": "stderr",
          "text": [
            "/tmp/ipython-input-3295442611.py:29: FutureWarning: Passing literal html to 'read_html' is deprecated and will be removed in a future version. To read from a literal string, wrap it in a 'StringIO' object.\n",
            "  grades = pd.read_html(f)\n"
          ]
        },
        {
          "output_type": "stream",
          "name": "stdout",
          "text": [
            "❌ Error loading 202303240\n",
            "❌ Error loading 202401554\n",
            "❌ Error loading 202200863\n"
          ]
        },
        {
          "output_type": "stream",
          "name": "stderr",
          "text": [
            "/tmp/ipython-input-3295442611.py:29: FutureWarning: Passing literal html to 'read_html' is deprecated and will be removed in a future version. To read from a literal string, wrap it in a 'StringIO' object.\n",
            "  grades = pd.read_html(f)\n"
          ]
        },
        {
          "output_type": "stream",
          "name": "stdout",
          "text": [
            "❌ Error loading 202413930\n"
          ]
        },
        {
          "output_type": "stream",
          "name": "stderr",
          "text": [
            "/tmp/ipython-input-3295442611.py:29: FutureWarning: Passing literal html to 'read_html' is deprecated and will be removed in a future version. To read from a literal string, wrap it in a 'StringIO' object.\n",
            "  grades = pd.read_html(f)\n"
          ]
        },
        {
          "output_type": "stream",
          "name": "stdout",
          "text": [
            "❌ Error loading 202409889\n",
            "❌ Error loading 202409891\n",
            "❌ Error loading 202401735\n",
            "ℹ️ Students recovered this round: {202211456, 202404192, 202303234, 202305411, 202400279, 202312518, 202401929, 202200506, 202302227, 202221207, 202308088, 202212506}\n",
            "\n",
            "🏁 Done. Final students with errors:\n",
            "[202412050, 202405915, 202407970, 202408004, 202311762, 202305683, 202311836, 202410184, 202209499, 202402026, 201490729, 202414387, 202201399, 202404191, 202307951, 202416506, 202402184, 202408357, 202303941, 202303942, 202303947, 202111451, 202420702, 202308103, 202404377, 202308124, 202301991, 202410579, 202404453, 202304104, 202306169, 202306178, 202310300, 202300083, 202412739, 202111689, 202316500, 202314501, 202404614, 202320668, 202404658, 202408792, 202300252, 202306414, 202404724, 202412935, 202402719, 202408993, 202304590, 202402917, 202404990, 202321040, 202304657, 202409117, 202317089, 202401064, 202300715, 202306864, 202401095, 202212713, 202200429, 202403260, 202311100, 202200511, 202403313, 202307094, 202403372, 202311218, 202407492, 202403418, 202411622, 202303088, 202403516, 202211032, 202303240, 202401554, 202200863, 202413930, 202409889, 202409891, 202401735]\n"
          ]
        }
      ],
      "source": [
        "# Step 1: Define the login URL and payload\n",
        "login_url = 'https://crs.upd.edu.ph/'\n",
        "target_url = 'https://crs.upd.edu.ph/viewgrades/'\n",
        "payload = {\n",
        "    'username': 'dge',\n",
        "    'password': 'updgecrs1937',\n",
        "    # Include any additional fields required by the login form\n",
        "}\n",
        "\n",
        "# Set up Chrome options\n",
        "chrome_options = Options()\n",
        "chrome_options.add_argument('--headless')\n",
        "chrome_options.add_argument('--no-sandbox')\n",
        "chrome_options.add_argument('--disable-dev-shm-usage')\n",
        "\n",
        "# Set up ChromeDriver\n",
        "service = Service('/usr/local/bin/chromedriver')\n",
        "driver = gs.Chrome()\n",
        "\n",
        "wait = WebDriverWait(driver, 30)\n",
        "driver.get(login_url)\n",
        "wait.until(EC.element_to_be_clickable((By.NAME, \"txt_login\"))).send_keys(payload['username'])\n",
        "\n",
        "password_field = driver.find_element(By.NAME, 'pwd_password')\n",
        "password_field.send_keys(payload['password'])\n",
        "\n",
        "# Submit the login form\n",
        "password_field.send_keys(Keys.RETURN)\n",
        "print(\"Logged in\")\n",
        "\n",
        "# Navigate to the target URL\n",
        "driver.get(target_url)\n",
        "error_sns = []\n",
        "\n",
        "def try_load_students(student_list):\n",
        "    new_errors = []\n",
        "    for studentno in student_list:\n",
        "        try:\n",
        "            text_box = driver.find_element(By.ID, 'txt_studentno')\n",
        "            text_box.clear()\n",
        "            text_box.send_keys(str(studentno))\n",
        "            text_box.submit()\n",
        "\n",
        "            driver.implicitly_wait(10)\n",
        "            page_source = driver.page_source\n",
        "\n",
        "            student = Student(page_source, '/content/BSGE_2019 (1).json')\n",
        "            dge.addStudent(student)\n",
        "        except Exception as e:\n",
        "            print(f\"❌ Error loading {studentno}\")\n",
        "            new_errors.append(studentno)\n",
        "    return new_errors\n",
        "\n",
        "# Initial attempt\n",
        "error_sns = try_load_students(sn_list)\n",
        "\n",
        "# Retry loop\n",
        "max_retries = 5  # prevent infinite loops\n",
        "attempt = 1\n",
        "\n",
        "while attempt <= max_retries:\n",
        "    print(f\"\\n🔁 Retry Attempt {attempt} — Errors remaining: {len(error_sns)}\")\n",
        "\n",
        "    new_errors = try_load_students(error_sns)\n",
        "\n",
        "    if set(new_errors) == set(error_sns):\n",
        "        print(\"✅ No changes in error list. Stopping retries.\")\n",
        "        break\n",
        "    else:\n",
        "        print(f\"ℹ️ Students recovered this round: {set(error_sns) - set(new_errors)}\")\n",
        "        error_sns = new_errors\n",
        "        attempt += 1\n",
        "\n",
        "print(\"\\n🏁 Done. Final students with errors:\")\n",
        "print(error_sns)\n"
      ]
    },
    {
      "cell_type": "code",
      "execution_count": 50,
      "metadata": {
        "colab": {
          "base_uri": "https://localhost:8080/"
        },
        "id": "zC350NSocSxj",
        "outputId": "70e7fd9b-7c80-419a-98f7-25b01f26478d"
      },
      "outputs": [
        {
          "output_type": "stream",
          "name": "stdout",
          "text": [
            "🔄 Retrying 202407970 (Attempt 1)\n"
          ]
        },
        {
          "output_type": "stream",
          "name": "stderr",
          "text": [
            "/tmp/ipython-input-3295442611.py:29: FutureWarning: Passing literal html to 'read_html' is deprecated and will be removed in a future version. To read from a literal string, wrap it in a 'StringIO' object.\n",
            "  grades = pd.read_html(f)\n"
          ]
        },
        {
          "output_type": "stream",
          "name": "stdout",
          "text": [
            "⚠️ Attempt 1 failed for 202407970: Unsupported file type for f argument\n",
            "🔄 Retrying 202407970 (Attempt 2)\n"
          ]
        },
        {
          "output_type": "stream",
          "name": "stderr",
          "text": [
            "/tmp/ipython-input-3295442611.py:29: FutureWarning: Passing literal html to 'read_html' is deprecated and will be removed in a future version. To read from a literal string, wrap it in a 'StringIO' object.\n",
            "  grades = pd.read_html(f)\n"
          ]
        },
        {
          "output_type": "stream",
          "name": "stdout",
          "text": [
            "⚠️ Attempt 2 failed for 202407970: Unsupported file type for f argument\n",
            "🔄 Retrying 202407970 (Attempt 3)\n"
          ]
        },
        {
          "output_type": "stream",
          "name": "stderr",
          "text": [
            "/tmp/ipython-input-3295442611.py:29: FutureWarning: Passing literal html to 'read_html' is deprecated and will be removed in a future version. To read from a literal string, wrap it in a 'StringIO' object.\n",
            "  grades = pd.read_html(f)\n"
          ]
        },
        {
          "output_type": "stream",
          "name": "stdout",
          "text": [
            "⚠️ Attempt 3 failed for 202407970: Unsupported file type for f argument\n",
            "🔄 Retrying 202111451 (Attempt 1)\n"
          ]
        },
        {
          "output_type": "stream",
          "name": "stderr",
          "text": [
            "/tmp/ipython-input-3295442611.py:29: FutureWarning: Passing literal html to 'read_html' is deprecated and will be removed in a future version. To read from a literal string, wrap it in a 'StringIO' object.\n",
            "  grades = pd.read_html(f)\n"
          ]
        },
        {
          "output_type": "stream",
          "name": "stdout",
          "text": [
            "⚠️ Attempt 1 failed for 202111451: Unsupported file type for f argument\n",
            "🔄 Retrying 202111451 (Attempt 2)\n"
          ]
        },
        {
          "output_type": "stream",
          "name": "stderr",
          "text": [
            "/tmp/ipython-input-3295442611.py:29: FutureWarning: Passing literal html to 'read_html' is deprecated and will be removed in a future version. To read from a literal string, wrap it in a 'StringIO' object.\n",
            "  grades = pd.read_html(f)\n"
          ]
        },
        {
          "output_type": "stream",
          "name": "stdout",
          "text": [
            "⚠️ Attempt 2 failed for 202111451: Unsupported file type for f argument\n",
            "🔄 Retrying 202111451 (Attempt 3)\n"
          ]
        },
        {
          "output_type": "stream",
          "name": "stderr",
          "text": [
            "/tmp/ipython-input-3295442611.py:29: FutureWarning: Passing literal html to 'read_html' is deprecated and will be removed in a future version. To read from a literal string, wrap it in a 'StringIO' object.\n",
            "  grades = pd.read_html(f)\n"
          ]
        },
        {
          "output_type": "stream",
          "name": "stdout",
          "text": [
            "⚠️ Attempt 3 failed for 202111451: Unsupported file type for f argument\n",
            "🔄 Retrying 202111689 (Attempt 1)\n"
          ]
        },
        {
          "output_type": "stream",
          "name": "stderr",
          "text": [
            "/tmp/ipython-input-3295442611.py:29: FutureWarning: Passing literal html to 'read_html' is deprecated and will be removed in a future version. To read from a literal string, wrap it in a 'StringIO' object.\n",
            "  grades = pd.read_html(f)\n"
          ]
        },
        {
          "output_type": "stream",
          "name": "stdout",
          "text": [
            "⚠️ Attempt 1 failed for 202111689: Unsupported file type for f argument\n",
            "🔄 Retrying 202111689 (Attempt 2)\n"
          ]
        },
        {
          "output_type": "stream",
          "name": "stderr",
          "text": [
            "/tmp/ipython-input-3295442611.py:29: FutureWarning: Passing literal html to 'read_html' is deprecated and will be removed in a future version. To read from a literal string, wrap it in a 'StringIO' object.\n",
            "  grades = pd.read_html(f)\n"
          ]
        },
        {
          "output_type": "stream",
          "name": "stdout",
          "text": [
            "⚠️ Attempt 2 failed for 202111689: Unsupported file type for f argument\n",
            "🔄 Retrying 202111689 (Attempt 3)\n"
          ]
        },
        {
          "output_type": "stream",
          "name": "stderr",
          "text": [
            "/tmp/ipython-input-3295442611.py:29: FutureWarning: Passing literal html to 'read_html' is deprecated and will be removed in a future version. To read from a literal string, wrap it in a 'StringIO' object.\n",
            "  grades = pd.read_html(f)\n"
          ]
        },
        {
          "output_type": "stream",
          "name": "stdout",
          "text": [
            "⚠️ Attempt 3 failed for 202111689: Unsupported file type for f argument\n",
            "🔄 Retrying 202320668 (Attempt 1)\n"
          ]
        },
        {
          "output_type": "stream",
          "name": "stderr",
          "text": [
            "/tmp/ipython-input-3295442611.py:29: FutureWarning: Passing literal html to 'read_html' is deprecated and will be removed in a future version. To read from a literal string, wrap it in a 'StringIO' object.\n",
            "  grades = pd.read_html(f)\n"
          ]
        },
        {
          "output_type": "stream",
          "name": "stdout",
          "text": [
            "⚠️ Attempt 1 failed for 202320668: Unsupported file type for f argument\n",
            "🔄 Retrying 202320668 (Attempt 2)\n"
          ]
        },
        {
          "output_type": "stream",
          "name": "stderr",
          "text": [
            "/tmp/ipython-input-3295442611.py:29: FutureWarning: Passing literal html to 'read_html' is deprecated and will be removed in a future version. To read from a literal string, wrap it in a 'StringIO' object.\n",
            "  grades = pd.read_html(f)\n"
          ]
        },
        {
          "output_type": "stream",
          "name": "stdout",
          "text": [
            "⚠️ Attempt 2 failed for 202320668: Unsupported file type for f argument\n",
            "🔄 Retrying 202320668 (Attempt 3)\n"
          ]
        },
        {
          "output_type": "stream",
          "name": "stderr",
          "text": [
            "/tmp/ipython-input-3295442611.py:29: FutureWarning: Passing literal html to 'read_html' is deprecated and will be removed in a future version. To read from a literal string, wrap it in a 'StringIO' object.\n",
            "  grades = pd.read_html(f)\n"
          ]
        },
        {
          "output_type": "stream",
          "name": "stdout",
          "text": [
            "⚠️ Attempt 3 failed for 202320668: Unsupported file type for f argument\n",
            "🔄 Retrying 202408792 (Attempt 1)\n"
          ]
        },
        {
          "output_type": "stream",
          "name": "stderr",
          "text": [
            "/tmp/ipython-input-3295442611.py:29: FutureWarning: Passing literal html to 'read_html' is deprecated and will be removed in a future version. To read from a literal string, wrap it in a 'StringIO' object.\n",
            "  grades = pd.read_html(f)\n"
          ]
        },
        {
          "output_type": "stream",
          "name": "stdout",
          "text": [
            "⚠️ Attempt 1 failed for 202408792: Unsupported file type for f argument\n",
            "🔄 Retrying 202408792 (Attempt 2)\n",
            "✅ Successfully loaded: 202408792\n",
            "🔄 Retrying 202200429 (Attempt 1)\n"
          ]
        },
        {
          "output_type": "stream",
          "name": "stderr",
          "text": [
            "/tmp/ipython-input-3295442611.py:29: FutureWarning: Passing literal html to 'read_html' is deprecated and will be removed in a future version. To read from a literal string, wrap it in a 'StringIO' object.\n",
            "  grades = pd.read_html(f)\n"
          ]
        },
        {
          "output_type": "stream",
          "name": "stdout",
          "text": [
            "⚠️ Attempt 1 failed for 202200429: Unsupported file type for f argument\n",
            "🔄 Retrying 202200429 (Attempt 2)\n"
          ]
        },
        {
          "output_type": "stream",
          "name": "stderr",
          "text": [
            "/tmp/ipython-input-3295442611.py:29: FutureWarning: Passing literal html to 'read_html' is deprecated and will be removed in a future version. To read from a literal string, wrap it in a 'StringIO' object.\n",
            "  grades = pd.read_html(f)\n"
          ]
        },
        {
          "output_type": "stream",
          "name": "stdout",
          "text": [
            "⚠️ Attempt 2 failed for 202200429: Unsupported file type for f argument\n",
            "🔄 Retrying 202200429 (Attempt 3)\n"
          ]
        },
        {
          "output_type": "stream",
          "name": "stderr",
          "text": [
            "/tmp/ipython-input-3295442611.py:29: FutureWarning: Passing literal html to 'read_html' is deprecated and will be removed in a future version. To read from a literal string, wrap it in a 'StringIO' object.\n",
            "  grades = pd.read_html(f)\n"
          ]
        },
        {
          "output_type": "stream",
          "name": "stdout",
          "text": [
            "⚠️ Attempt 3 failed for 202200429: Unsupported file type for f argument\n",
            "🔄 Retrying 202303088 (Attempt 1)\n"
          ]
        },
        {
          "output_type": "stream",
          "name": "stderr",
          "text": [
            "/tmp/ipython-input-3295442611.py:29: FutureWarning: Passing literal html to 'read_html' is deprecated and will be removed in a future version. To read from a literal string, wrap it in a 'StringIO' object.\n",
            "  grades = pd.read_html(f)\n"
          ]
        },
        {
          "output_type": "stream",
          "name": "stdout",
          "text": [
            "⚠️ Attempt 1 failed for 202303088: Unsupported file type for f argument\n",
            "🔄 Retrying 202303088 (Attempt 2)\n"
          ]
        },
        {
          "output_type": "stream",
          "name": "stderr",
          "text": [
            "/tmp/ipython-input-3295442611.py:29: FutureWarning: Passing literal html to 'read_html' is deprecated and will be removed in a future version. To read from a literal string, wrap it in a 'StringIO' object.\n",
            "  grades = pd.read_html(f)\n"
          ]
        },
        {
          "output_type": "stream",
          "name": "stdout",
          "text": [
            "⚠️ Attempt 2 failed for 202303088: Unsupported file type for f argument\n",
            "🔄 Retrying 202303088 (Attempt 3)\n"
          ]
        },
        {
          "output_type": "stream",
          "name": "stderr",
          "text": [
            "/tmp/ipython-input-3295442611.py:29: FutureWarning: Passing literal html to 'read_html' is deprecated and will be removed in a future version. To read from a literal string, wrap it in a 'StringIO' object.\n",
            "  grades = pd.read_html(f)\n"
          ]
        },
        {
          "output_type": "stream",
          "name": "stdout",
          "text": [
            "⚠️ Attempt 3 failed for 202303088: Unsupported file type for f argument\n",
            "🔄 Retrying 202200863 (Attempt 1)\n"
          ]
        },
        {
          "output_type": "stream",
          "name": "stderr",
          "text": [
            "/tmp/ipython-input-3295442611.py:29: FutureWarning: Passing literal html to 'read_html' is deprecated and will be removed in a future version. To read from a literal string, wrap it in a 'StringIO' object.\n",
            "  grades = pd.read_html(f)\n"
          ]
        },
        {
          "output_type": "stream",
          "name": "stdout",
          "text": [
            "⚠️ Attempt 1 failed for 202200863: Unsupported file type for f argument\n",
            "🔄 Retrying 202200863 (Attempt 2)\n"
          ]
        },
        {
          "output_type": "stream",
          "name": "stderr",
          "text": [
            "/tmp/ipython-input-3295442611.py:29: FutureWarning: Passing literal html to 'read_html' is deprecated and will be removed in a future version. To read from a literal string, wrap it in a 'StringIO' object.\n",
            "  grades = pd.read_html(f)\n"
          ]
        },
        {
          "output_type": "stream",
          "name": "stdout",
          "text": [
            "⚠️ Attempt 2 failed for 202200863: Unsupported file type for f argument\n",
            "🔄 Retrying 202200863 (Attempt 3)\n"
          ]
        },
        {
          "output_type": "stream",
          "name": "stderr",
          "text": [
            "/tmp/ipython-input-3295442611.py:29: FutureWarning: Passing literal html to 'read_html' is deprecated and will be removed in a future version. To read from a literal string, wrap it in a 'StringIO' object.\n",
            "  grades = pd.read_html(f)\n"
          ]
        },
        {
          "output_type": "stream",
          "name": "stdout",
          "text": [
            "⚠️ Attempt 3 failed for 202200863: Unsupported file type for f argument\n",
            "\n",
            "📋 Students still failed after individual retries:\n",
            "[202407970, 202111451, 202111689, 202320668, 202200429, 202303088, 202200863]\n"
          ]
        }
      ],
      "source": [
        "import time\n",
        "\n",
        "# Customize how many times to try each student individually\n",
        "individual_retries = 3\n",
        "\n",
        "# List of students who still failed after batch retries\n",
        "final_errors = []\n",
        "\n",
        "for studentno in error_sns:\n",
        "    success = False\n",
        "\n",
        "    for attempt in range(1, individual_retries + 1):\n",
        "        try:\n",
        "            print(f\"🔄 Retrying {studentno} (Attempt {attempt})\")\n",
        "\n",
        "            # Clear and enter student number\n",
        "            text_box = driver.find_element(By.ID, 'txt_studentno')\n",
        "            text_box.clear()\n",
        "            text_box.send_keys(str(studentno))\n",
        "            text_box.submit()\n",
        "\n",
        "            # Wait and fetch page content\n",
        "            driver.implicitly_wait(10)\n",
        "            page_source = driver.page_source\n",
        "\n",
        "            # Try to load student\n",
        "            student = Student(page_source, '/content/BSGE_2019 (1).json')\n",
        "            dge.addStudent(student)\n",
        "            print(f\"✅ Successfully loaded: {studentno}\")\n",
        "            success = True\n",
        "            break  # Exit retry loop if successful\n",
        "\n",
        "        except Exception as e:\n",
        "            print(f\"⚠️ Attempt {attempt} failed for {studentno}: {e}\")\n",
        "            time.sleep(2)  # wait before retrying\n",
        "\n",
        "    if not success:\n",
        "        final_errors.append(studentno)\n",
        "\n",
        "# Final report\n",
        "print(\"\\n📋 Students still failed after individual retries:\")\n",
        "print(final_errors)"
      ]
    },
    {
      "cell_type": "code",
      "source": [
        "error_sns = final_errors"
      ],
      "metadata": {
        "id": "TnOFKx4klga4"
      },
      "execution_count": 51,
      "outputs": []
    },
    {
      "cell_type": "markdown",
      "metadata": {
        "id": "SpLF0SRvfX0y"
      },
      "source": [
        "# Demand Report"
      ]
    },
    {
      "cell_type": "code",
      "execution_count": 52,
      "metadata": {
        "id": "Pl0WyJLVfuog"
      },
      "outputs": [],
      "source": [
        "ay = '24-25'"
      ]
    },
    {
      "cell_type": "code",
      "execution_count": 53,
      "metadata": {
        "colab": {
          "base_uri": "https://localhost:8080/"
        },
        "id": "P3uvMIUOcf-I",
        "outputId": "7b61faf3-62ad-41b9-f391-1d1160aa081d"
      },
      "outputs": [
        {
          "output_type": "stream",
          "name": "stdout",
          "text": [
            "The number of students in this is analysis is 301.\n",
            "This number is based on the list of enrollees in the first and 2nd semester of AY 24-25, which has a total number of unique enrollments of 307\n"
          ]
        }
      ],
      "source": [
        "print(f'The number of students in this is analysis is {len(dge.students)}.')\n",
        "print(f'This number is based on the list of enrollees in the first and 2nd semester of AY {ay}, which has a total number of unique enrollments of {len(sn_list)}')"
      ]
    },
    {
      "cell_type": "markdown",
      "metadata": {
        "id": "yrr0e8LLgHAm"
      },
      "source": [
        "##Second Year Courses"
      ]
    },
    {
      "cell_type": "code",
      "source": [
        "all_cluster_grades = []\n",
        "for student in dge.students:\n",
        "  cluster_grade = student.solveCluster()\n",
        "  cluster_grade['name'] = student.name\n",
        "  cluster_grade['sn'] = student.sn\n",
        "  all_cluster_grades.append(cluster_grade)\n",
        "\n",
        "cluster_grades_df = pd.DataFrame(all_cluster_grades)\n",
        "display(cluster_grades_df.head())"
      ],
      "metadata": {
        "colab": {
          "base_uri": "https://localhost:8080/",
          "height": 936
        },
        "id": "dMcbNtUTd4nP",
        "outputId": "d1b37dc4-92d6-44c7-ff33-d571f4909c21"
      },
      "execution_count": 54,
      "outputs": [
        {
          "output_type": "error",
          "ename": "KeyError",
          "evalue": "'Instructor/s'",
          "traceback": [
            "\u001b[0;31m---------------------------------------------------------------------------\u001b[0m",
            "\u001b[0;31mKeyError\u001b[0m                                  Traceback (most recent call last)",
            "\u001b[0;32m/usr/local/lib/python3.11/dist-packages/pandas/core/indexes/base.py\u001b[0m in \u001b[0;36mget_loc\u001b[0;34m(self, key)\u001b[0m\n\u001b[1;32m   3804\u001b[0m         \u001b[0;32mtry\u001b[0m\u001b[0;34m:\u001b[0m\u001b[0;34m\u001b[0m\u001b[0;34m\u001b[0m\u001b[0m\n\u001b[0;32m-> 3805\u001b[0;31m             \u001b[0;32mreturn\u001b[0m \u001b[0mself\u001b[0m\u001b[0;34m.\u001b[0m\u001b[0m_engine\u001b[0m\u001b[0;34m.\u001b[0m\u001b[0mget_loc\u001b[0m\u001b[0;34m(\u001b[0m\u001b[0mcasted_key\u001b[0m\u001b[0;34m)\u001b[0m\u001b[0;34m\u001b[0m\u001b[0;34m\u001b[0m\u001b[0m\n\u001b[0m\u001b[1;32m   3806\u001b[0m         \u001b[0;32mexcept\u001b[0m \u001b[0mKeyError\u001b[0m \u001b[0;32mas\u001b[0m \u001b[0merr\u001b[0m\u001b[0;34m:\u001b[0m\u001b[0;34m\u001b[0m\u001b[0;34m\u001b[0m\u001b[0m\n",
            "\u001b[0;32mindex.pyx\u001b[0m in \u001b[0;36mpandas._libs.index.IndexEngine.get_loc\u001b[0;34m()\u001b[0m\n",
            "\u001b[0;32mindex.pyx\u001b[0m in \u001b[0;36mpandas._libs.index.IndexEngine.get_loc\u001b[0;34m()\u001b[0m\n",
            "\u001b[0;32mpandas/_libs/hashtable_class_helper.pxi\u001b[0m in \u001b[0;36mpandas._libs.hashtable.PyObjectHashTable.get_item\u001b[0;34m()\u001b[0m\n",
            "\u001b[0;32mpandas/_libs/hashtable_class_helper.pxi\u001b[0m in \u001b[0;36mpandas._libs.hashtable.PyObjectHashTable.get_item\u001b[0;34m()\u001b[0m\n",
            "\u001b[0;31mKeyError\u001b[0m: 'Instructor/s'",
            "\nThe above exception was the direct cause of the following exception:\n",
            "\u001b[0;31mKeyError\u001b[0m                                  Traceback (most recent call last)",
            "\u001b[0;32m/tmp/ipython-input-1432194348.py\u001b[0m in \u001b[0;36m<cell line: 0>\u001b[0;34m()\u001b[0m\n\u001b[1;32m      1\u001b[0m \u001b[0mall_cluster_grades\u001b[0m \u001b[0;34m=\u001b[0m \u001b[0;34m[\u001b[0m\u001b[0;34m]\u001b[0m\u001b[0;34m\u001b[0m\u001b[0;34m\u001b[0m\u001b[0m\n\u001b[1;32m      2\u001b[0m \u001b[0;32mfor\u001b[0m \u001b[0mstudent\u001b[0m \u001b[0;32min\u001b[0m \u001b[0mdge\u001b[0m\u001b[0;34m.\u001b[0m\u001b[0mstudents\u001b[0m\u001b[0;34m:\u001b[0m\u001b[0;34m\u001b[0m\u001b[0;34m\u001b[0m\u001b[0m\n\u001b[0;32m----> 3\u001b[0;31m   \u001b[0mcluster_grade\u001b[0m \u001b[0;34m=\u001b[0m \u001b[0mstudent\u001b[0m\u001b[0;34m.\u001b[0m\u001b[0msolveCluster\u001b[0m\u001b[0;34m(\u001b[0m\u001b[0;34m)\u001b[0m\u001b[0;34m\u001b[0m\u001b[0;34m\u001b[0m\u001b[0m\n\u001b[0m\u001b[1;32m      4\u001b[0m   \u001b[0mcluster_grade\u001b[0m\u001b[0;34m[\u001b[0m\u001b[0;34m'name'\u001b[0m\u001b[0;34m]\u001b[0m \u001b[0;34m=\u001b[0m \u001b[0mstudent\u001b[0m\u001b[0;34m.\u001b[0m\u001b[0mname\u001b[0m\u001b[0;34m\u001b[0m\u001b[0;34m\u001b[0m\u001b[0m\n\u001b[1;32m      5\u001b[0m   \u001b[0mcluster_grade\u001b[0m\u001b[0;34m[\u001b[0m\u001b[0;34m'sn'\u001b[0m\u001b[0;34m]\u001b[0m \u001b[0;34m=\u001b[0m \u001b[0mstudent\u001b[0m\u001b[0;34m.\u001b[0m\u001b[0msn\u001b[0m\u001b[0;34m\u001b[0m\u001b[0;34m\u001b[0m\u001b[0m\n",
            "\u001b[0;32m/tmp/ipython-input-3295442611.py\u001b[0m in \u001b[0;36msolveCluster\u001b[0;34m(self)\u001b[0m\n\u001b[1;32m     67\u001b[0m       \u001b[0mfilter\u001b[0m \u001b[0;34m=\u001b[0m \u001b[0mself\u001b[0m\u001b[0;34m.\u001b[0m\u001b[0mgrades\u001b[0m\u001b[0;34m[\u001b[0m\u001b[0mself\u001b[0m\u001b[0;34m.\u001b[0m\u001b[0mgrades\u001b[0m\u001b[0;34m[\u001b[0m\u001b[0;34m'course'\u001b[0m\u001b[0;34m]\u001b[0m\u001b[0;34m.\u001b[0m\u001b[0misin\u001b[0m\u001b[0;34m(\u001b[0m\u001b[0mcluster\u001b[0m\u001b[0;34m[\u001b[0m\u001b[0mi\u001b[0m\u001b[0;34m]\u001b[0m\u001b[0;34m)\u001b[0m\u001b[0;34m]\u001b[0m\u001b[0;34m\u001b[0m\u001b[0;34m\u001b[0m\u001b[0m\n\u001b[1;32m     68\u001b[0m       \u001b[0mfilter\u001b[0m \u001b[0;34m=\u001b[0m \u001b[0mfilter\u001b[0m\u001b[0;34m.\u001b[0m\u001b[0mdropna\u001b[0m\u001b[0;34m(\u001b[0m\u001b[0;34m)\u001b[0m\u001b[0;34m\u001b[0m\u001b[0;34m\u001b[0m\u001b[0m\n\u001b[0;32m---> 69\u001b[0;31m       \u001b[0mprof\u001b[0m \u001b[0;34m=\u001b[0m \u001b[0mlist\u001b[0m\u001b[0;34m(\u001b[0m\u001b[0mset\u001b[0m\u001b[0;34m(\u001b[0m\u001b[0mfilter\u001b[0m\u001b[0;34m[\u001b[0m\u001b[0;34m'Instructor/s'\u001b[0m\u001b[0;34m]\u001b[0m\u001b[0;34m.\u001b[0m\u001b[0mvalues\u001b[0m\u001b[0;34m)\u001b[0m\u001b[0;34m)\u001b[0m\u001b[0;34m\u001b[0m\u001b[0;34m\u001b[0m\u001b[0m\n\u001b[0m\u001b[1;32m     70\u001b[0m       \u001b[0mclusterGrade\u001b[0m\u001b[0;34m[\u001b[0m\u001b[0mi\u001b[0m\u001b[0;34m+\u001b[0m\u001b[0;34m'_prof'\u001b[0m\u001b[0;34m]\u001b[0m \u001b[0;34m=\u001b[0m \u001b[0mprof\u001b[0m\u001b[0;34m\u001b[0m\u001b[0;34m\u001b[0m\u001b[0m\n\u001b[1;32m     71\u001b[0m       \u001b[0mtotal_units\u001b[0m \u001b[0;34m=\u001b[0m \u001b[0msum\u001b[0m\u001b[0;34m(\u001b[0m\u001b[0mfilter\u001b[0m\u001b[0;34m.\u001b[0m\u001b[0mUnits\u001b[0m\u001b[0;34m)\u001b[0m\u001b[0;34m\u001b[0m\u001b[0;34m\u001b[0m\u001b[0m\n",
            "\u001b[0;32m/usr/local/lib/python3.11/dist-packages/pandas/core/frame.py\u001b[0m in \u001b[0;36m__getitem__\u001b[0;34m(self, key)\u001b[0m\n\u001b[1;32m   4100\u001b[0m             \u001b[0;32mif\u001b[0m \u001b[0mself\u001b[0m\u001b[0;34m.\u001b[0m\u001b[0mcolumns\u001b[0m\u001b[0;34m.\u001b[0m\u001b[0mnlevels\u001b[0m \u001b[0;34m>\u001b[0m \u001b[0;36m1\u001b[0m\u001b[0;34m:\u001b[0m\u001b[0;34m\u001b[0m\u001b[0;34m\u001b[0m\u001b[0m\n\u001b[1;32m   4101\u001b[0m                 \u001b[0;32mreturn\u001b[0m \u001b[0mself\u001b[0m\u001b[0;34m.\u001b[0m\u001b[0m_getitem_multilevel\u001b[0m\u001b[0;34m(\u001b[0m\u001b[0mkey\u001b[0m\u001b[0;34m)\u001b[0m\u001b[0;34m\u001b[0m\u001b[0;34m\u001b[0m\u001b[0m\n\u001b[0;32m-> 4102\u001b[0;31m             \u001b[0mindexer\u001b[0m \u001b[0;34m=\u001b[0m \u001b[0mself\u001b[0m\u001b[0;34m.\u001b[0m\u001b[0mcolumns\u001b[0m\u001b[0;34m.\u001b[0m\u001b[0mget_loc\u001b[0m\u001b[0;34m(\u001b[0m\u001b[0mkey\u001b[0m\u001b[0;34m)\u001b[0m\u001b[0;34m\u001b[0m\u001b[0;34m\u001b[0m\u001b[0m\n\u001b[0m\u001b[1;32m   4103\u001b[0m             \u001b[0;32mif\u001b[0m \u001b[0mis_integer\u001b[0m\u001b[0;34m(\u001b[0m\u001b[0mindexer\u001b[0m\u001b[0;34m)\u001b[0m\u001b[0;34m:\u001b[0m\u001b[0;34m\u001b[0m\u001b[0;34m\u001b[0m\u001b[0m\n\u001b[1;32m   4104\u001b[0m                 \u001b[0mindexer\u001b[0m \u001b[0;34m=\u001b[0m \u001b[0;34m[\u001b[0m\u001b[0mindexer\u001b[0m\u001b[0;34m]\u001b[0m\u001b[0;34m\u001b[0m\u001b[0;34m\u001b[0m\u001b[0m\n",
            "\u001b[0;32m/usr/local/lib/python3.11/dist-packages/pandas/core/indexes/base.py\u001b[0m in \u001b[0;36mget_loc\u001b[0;34m(self, key)\u001b[0m\n\u001b[1;32m   3810\u001b[0m             ):\n\u001b[1;32m   3811\u001b[0m                 \u001b[0;32mraise\u001b[0m \u001b[0mInvalidIndexError\u001b[0m\u001b[0;34m(\u001b[0m\u001b[0mkey\u001b[0m\u001b[0;34m)\u001b[0m\u001b[0;34m\u001b[0m\u001b[0;34m\u001b[0m\u001b[0m\n\u001b[0;32m-> 3812\u001b[0;31m             \u001b[0;32mraise\u001b[0m \u001b[0mKeyError\u001b[0m\u001b[0;34m(\u001b[0m\u001b[0mkey\u001b[0m\u001b[0;34m)\u001b[0m \u001b[0;32mfrom\u001b[0m \u001b[0merr\u001b[0m\u001b[0;34m\u001b[0m\u001b[0;34m\u001b[0m\u001b[0m\n\u001b[0m\u001b[1;32m   3813\u001b[0m         \u001b[0;32mexcept\u001b[0m \u001b[0mTypeError\u001b[0m\u001b[0;34m:\u001b[0m\u001b[0;34m\u001b[0m\u001b[0;34m\u001b[0m\u001b[0m\n\u001b[1;32m   3814\u001b[0m             \u001b[0;31m# If we have a listlike key, _check_indexing_error will raise\u001b[0m\u001b[0;34m\u001b[0m\u001b[0;34m\u001b[0m\u001b[0m\n",
            "\u001b[0;31mKeyError\u001b[0m: 'Instructor/s'"
          ]
        }
      ]
    },
    {
      "cell_type": "markdown",
      "metadata": {
        "id": "E9KEj13vgRQy"
      },
      "source": [
        "###GE 117"
      ]
    },
    {
      "cell_type": "code",
      "execution_count": 34,
      "metadata": {
        "colab": {
          "base_uri": "https://localhost:8080/"
        },
        "id": "ifjsq742gGSk",
        "outputId": "f36ee59e-9160-4b6d-8a44-a06241c9993f"
      },
      "outputs": [
        {
          "output_type": "stream",
          "name": "stdout",
          "text": [
            "Checking prerequisites for GE 149\n",
            "Prerequisites:\n",
            "Corequisites:\n"
          ]
        }
      ],
      "source": [
        "subject = \"GE 149\"\n",
        "overrides = []\n",
        "\n",
        "ge_subject = dge.checkDemand(subject,overrides)"
      ]
    },
    {
      "cell_type": "code",
      "source": [
        "ge_subject"
      ],
      "metadata": {
        "colab": {
          "base_uri": "https://localhost:8080/",
          "height": 424
        },
        "id": "3AV4ADZPy5wN",
        "outputId": "53110dbc-35d8-4cef-f6d2-562d716b6931"
      },
      "execution_count": 35,
      "outputs": [
        {
          "output_type": "execute_result",
          "data": {
            "text/plain": [
              "                                      name          sn  takes  current grade  \\\n",
              "0            ERONICO, ANGELA MAE, ABELLERA  2024-14091      0            NaN   \n",
              "1            ZULUETA, IVAN PAUL, PORTALEZA  2023-13733      0            NaN   \n",
              "2            ERONICO, ANGELA MAE, ABELLERA  2024-14091      0            NaN   \n",
              "3           PLEÑOS, JOSE EDUARDO, ARRADAZA  2024-20241      0            NaN   \n",
              "4                 DE ASIS, PRECIOUS LAHRA,  2024-12050      0            NaN   \n",
              "..                                     ...         ...    ...            ...   \n",
              "143           TOMULTO, RALPH DANIEL, SUNGA  2024-01095      0            NaN   \n",
              "144        ESPINOZA, SOFIA CAMILLE, ZABALA  2023-00789      0            NaN   \n",
              "145             UGABAN, GIAN KARLA, MORENO  2022-03345      0            NaN   \n",
              "146                 RICAFORT, JEC, HIDALGO  2024-00017      0            NaN   \n",
              "147  ESCALONA, ROLANDO DOMINGO III, DOCTOR  2023-08124      0            NaN   \n",
              "\n",
              "     prereq  \n",
              "0      True  \n",
              "1      True  \n",
              "2      True  \n",
              "3      True  \n",
              "4      True  \n",
              "..      ...  \n",
              "143    True  \n",
              "144    True  \n",
              "145    True  \n",
              "146    True  \n",
              "147    True  \n",
              "\n",
              "[148 rows x 5 columns]"
            ],
            "text/html": [
              "\n",
              "  <div id=\"df-66eac334-b956-47b1-bd3c-70ed47954adc\" class=\"colab-df-container\">\n",
              "    <div>\n",
              "<style scoped>\n",
              "    .dataframe tbody tr th:only-of-type {\n",
              "        vertical-align: middle;\n",
              "    }\n",
              "\n",
              "    .dataframe tbody tr th {\n",
              "        vertical-align: top;\n",
              "    }\n",
              "\n",
              "    .dataframe thead th {\n",
              "        text-align: right;\n",
              "    }\n",
              "</style>\n",
              "<table border=\"1\" class=\"dataframe\">\n",
              "  <thead>\n",
              "    <tr style=\"text-align: right;\">\n",
              "      <th></th>\n",
              "      <th>name</th>\n",
              "      <th>sn</th>\n",
              "      <th>takes</th>\n",
              "      <th>current grade</th>\n",
              "      <th>prereq</th>\n",
              "    </tr>\n",
              "  </thead>\n",
              "  <tbody>\n",
              "    <tr>\n",
              "      <th>0</th>\n",
              "      <td>ERONICO, ANGELA MAE, ABELLERA</td>\n",
              "      <td>2024-14091</td>\n",
              "      <td>0</td>\n",
              "      <td>NaN</td>\n",
              "      <td>True</td>\n",
              "    </tr>\n",
              "    <tr>\n",
              "      <th>1</th>\n",
              "      <td>ZULUETA, IVAN PAUL, PORTALEZA</td>\n",
              "      <td>2023-13733</td>\n",
              "      <td>0</td>\n",
              "      <td>NaN</td>\n",
              "      <td>True</td>\n",
              "    </tr>\n",
              "    <tr>\n",
              "      <th>2</th>\n",
              "      <td>ERONICO, ANGELA MAE, ABELLERA</td>\n",
              "      <td>2024-14091</td>\n",
              "      <td>0</td>\n",
              "      <td>NaN</td>\n",
              "      <td>True</td>\n",
              "    </tr>\n",
              "    <tr>\n",
              "      <th>3</th>\n",
              "      <td>PLEÑOS, JOSE EDUARDO, ARRADAZA</td>\n",
              "      <td>2024-20241</td>\n",
              "      <td>0</td>\n",
              "      <td>NaN</td>\n",
              "      <td>True</td>\n",
              "    </tr>\n",
              "    <tr>\n",
              "      <th>4</th>\n",
              "      <td>DE ASIS, PRECIOUS LAHRA,</td>\n",
              "      <td>2024-12050</td>\n",
              "      <td>0</td>\n",
              "      <td>NaN</td>\n",
              "      <td>True</td>\n",
              "    </tr>\n",
              "    <tr>\n",
              "      <th>...</th>\n",
              "      <td>...</td>\n",
              "      <td>...</td>\n",
              "      <td>...</td>\n",
              "      <td>...</td>\n",
              "      <td>...</td>\n",
              "    </tr>\n",
              "    <tr>\n",
              "      <th>143</th>\n",
              "      <td>TOMULTO, RALPH DANIEL, SUNGA</td>\n",
              "      <td>2024-01095</td>\n",
              "      <td>0</td>\n",
              "      <td>NaN</td>\n",
              "      <td>True</td>\n",
              "    </tr>\n",
              "    <tr>\n",
              "      <th>144</th>\n",
              "      <td>ESPINOZA, SOFIA CAMILLE, ZABALA</td>\n",
              "      <td>2023-00789</td>\n",
              "      <td>0</td>\n",
              "      <td>NaN</td>\n",
              "      <td>True</td>\n",
              "    </tr>\n",
              "    <tr>\n",
              "      <th>145</th>\n",
              "      <td>UGABAN, GIAN KARLA, MORENO</td>\n",
              "      <td>2022-03345</td>\n",
              "      <td>0</td>\n",
              "      <td>NaN</td>\n",
              "      <td>True</td>\n",
              "    </tr>\n",
              "    <tr>\n",
              "      <th>146</th>\n",
              "      <td>RICAFORT, JEC, HIDALGO</td>\n",
              "      <td>2024-00017</td>\n",
              "      <td>0</td>\n",
              "      <td>NaN</td>\n",
              "      <td>True</td>\n",
              "    </tr>\n",
              "    <tr>\n",
              "      <th>147</th>\n",
              "      <td>ESCALONA, ROLANDO DOMINGO III, DOCTOR</td>\n",
              "      <td>2023-08124</td>\n",
              "      <td>0</td>\n",
              "      <td>NaN</td>\n",
              "      <td>True</td>\n",
              "    </tr>\n",
              "  </tbody>\n",
              "</table>\n",
              "<p>148 rows × 5 columns</p>\n",
              "</div>\n",
              "    <div class=\"colab-df-buttons\">\n",
              "\n",
              "  <div class=\"colab-df-container\">\n",
              "    <button class=\"colab-df-convert\" onclick=\"convertToInteractive('df-66eac334-b956-47b1-bd3c-70ed47954adc')\"\n",
              "            title=\"Convert this dataframe to an interactive table.\"\n",
              "            style=\"display:none;\">\n",
              "\n",
              "  <svg xmlns=\"http://www.w3.org/2000/svg\" height=\"24px\" viewBox=\"0 -960 960 960\">\n",
              "    <path d=\"M120-120v-720h720v720H120Zm60-500h600v-160H180v160Zm220 220h160v-160H400v160Zm0 220h160v-160H400v160ZM180-400h160v-160H180v160Zm440 0h160v-160H620v160ZM180-180h160v-160H180v160Zm440 0h160v-160H620v160Z\"/>\n",
              "  </svg>\n",
              "    </button>\n",
              "\n",
              "  <style>\n",
              "    .colab-df-container {\n",
              "      display:flex;\n",
              "      gap: 12px;\n",
              "    }\n",
              "\n",
              "    .colab-df-convert {\n",
              "      background-color: #E8F0FE;\n",
              "      border: none;\n",
              "      border-radius: 50%;\n",
              "      cursor: pointer;\n",
              "      display: none;\n",
              "      fill: #1967D2;\n",
              "      height: 32px;\n",
              "      padding: 0 0 0 0;\n",
              "      width: 32px;\n",
              "    }\n",
              "\n",
              "    .colab-df-convert:hover {\n",
              "      background-color: #E2EBFA;\n",
              "      box-shadow: 0px 1px 2px rgba(60, 64, 67, 0.3), 0px 1px 3px 1px rgba(60, 64, 67, 0.15);\n",
              "      fill: #174EA6;\n",
              "    }\n",
              "\n",
              "    .colab-df-buttons div {\n",
              "      margin-bottom: 4px;\n",
              "    }\n",
              "\n",
              "    [theme=dark] .colab-df-convert {\n",
              "      background-color: #3B4455;\n",
              "      fill: #D2E3FC;\n",
              "    }\n",
              "\n",
              "    [theme=dark] .colab-df-convert:hover {\n",
              "      background-color: #434B5C;\n",
              "      box-shadow: 0px 1px 3px 1px rgba(0, 0, 0, 0.15);\n",
              "      filter: drop-shadow(0px 1px 2px rgba(0, 0, 0, 0.3));\n",
              "      fill: #FFFFFF;\n",
              "    }\n",
              "  </style>\n",
              "\n",
              "    <script>\n",
              "      const buttonEl =\n",
              "        document.querySelector('#df-66eac334-b956-47b1-bd3c-70ed47954adc button.colab-df-convert');\n",
              "      buttonEl.style.display =\n",
              "        google.colab.kernel.accessAllowed ? 'block' : 'none';\n",
              "\n",
              "      async function convertToInteractive(key) {\n",
              "        const element = document.querySelector('#df-66eac334-b956-47b1-bd3c-70ed47954adc');\n",
              "        const dataTable =\n",
              "          await google.colab.kernel.invokeFunction('convertToInteractive',\n",
              "                                                    [key], {});\n",
              "        if (!dataTable) return;\n",
              "\n",
              "        const docLinkHtml = 'Like what you see? Visit the ' +\n",
              "          '<a target=\"_blank\" href=https://colab.research.google.com/notebooks/data_table.ipynb>data table notebook</a>'\n",
              "          + ' to learn more about interactive tables.';\n",
              "        element.innerHTML = '';\n",
              "        dataTable['output_type'] = 'display_data';\n",
              "        await google.colab.output.renderOutput(dataTable, element);\n",
              "        const docLink = document.createElement('div');\n",
              "        docLink.innerHTML = docLinkHtml;\n",
              "        element.appendChild(docLink);\n",
              "      }\n",
              "    </script>\n",
              "  </div>\n",
              "\n",
              "\n",
              "    <div id=\"df-1aa21dde-e688-43bb-8484-88911037e7dd\">\n",
              "      <button class=\"colab-df-quickchart\" onclick=\"quickchart('df-1aa21dde-e688-43bb-8484-88911037e7dd')\"\n",
              "                title=\"Suggest charts\"\n",
              "                style=\"display:none;\">\n",
              "\n",
              "<svg xmlns=\"http://www.w3.org/2000/svg\" height=\"24px\"viewBox=\"0 0 24 24\"\n",
              "     width=\"24px\">\n",
              "    <g>\n",
              "        <path d=\"M19 3H5c-1.1 0-2 .9-2 2v14c0 1.1.9 2 2 2h14c1.1 0 2-.9 2-2V5c0-1.1-.9-2-2-2zM9 17H7v-7h2v7zm4 0h-2V7h2v10zm4 0h-2v-4h2v4z\"/>\n",
              "    </g>\n",
              "</svg>\n",
              "      </button>\n",
              "\n",
              "<style>\n",
              "  .colab-df-quickchart {\n",
              "      --bg-color: #E8F0FE;\n",
              "      --fill-color: #1967D2;\n",
              "      --hover-bg-color: #E2EBFA;\n",
              "      --hover-fill-color: #174EA6;\n",
              "      --disabled-fill-color: #AAA;\n",
              "      --disabled-bg-color: #DDD;\n",
              "  }\n",
              "\n",
              "  [theme=dark] .colab-df-quickchart {\n",
              "      --bg-color: #3B4455;\n",
              "      --fill-color: #D2E3FC;\n",
              "      --hover-bg-color: #434B5C;\n",
              "      --hover-fill-color: #FFFFFF;\n",
              "      --disabled-bg-color: #3B4455;\n",
              "      --disabled-fill-color: #666;\n",
              "  }\n",
              "\n",
              "  .colab-df-quickchart {\n",
              "    background-color: var(--bg-color);\n",
              "    border: none;\n",
              "    border-radius: 50%;\n",
              "    cursor: pointer;\n",
              "    display: none;\n",
              "    fill: var(--fill-color);\n",
              "    height: 32px;\n",
              "    padding: 0;\n",
              "    width: 32px;\n",
              "  }\n",
              "\n",
              "  .colab-df-quickchart:hover {\n",
              "    background-color: var(--hover-bg-color);\n",
              "    box-shadow: 0 1px 2px rgba(60, 64, 67, 0.3), 0 1px 3px 1px rgba(60, 64, 67, 0.15);\n",
              "    fill: var(--button-hover-fill-color);\n",
              "  }\n",
              "\n",
              "  .colab-df-quickchart-complete:disabled,\n",
              "  .colab-df-quickchart-complete:disabled:hover {\n",
              "    background-color: var(--disabled-bg-color);\n",
              "    fill: var(--disabled-fill-color);\n",
              "    box-shadow: none;\n",
              "  }\n",
              "\n",
              "  .colab-df-spinner {\n",
              "    border: 2px solid var(--fill-color);\n",
              "    border-color: transparent;\n",
              "    border-bottom-color: var(--fill-color);\n",
              "    animation:\n",
              "      spin 1s steps(1) infinite;\n",
              "  }\n",
              "\n",
              "  @keyframes spin {\n",
              "    0% {\n",
              "      border-color: transparent;\n",
              "      border-bottom-color: var(--fill-color);\n",
              "      border-left-color: var(--fill-color);\n",
              "    }\n",
              "    20% {\n",
              "      border-color: transparent;\n",
              "      border-left-color: var(--fill-color);\n",
              "      border-top-color: var(--fill-color);\n",
              "    }\n",
              "    30% {\n",
              "      border-color: transparent;\n",
              "      border-left-color: var(--fill-color);\n",
              "      border-top-color: var(--fill-color);\n",
              "      border-right-color: var(--fill-color);\n",
              "    }\n",
              "    40% {\n",
              "      border-color: transparent;\n",
              "      border-right-color: var(--fill-color);\n",
              "      border-top-color: var(--fill-color);\n",
              "    }\n",
              "    60% {\n",
              "      border-color: transparent;\n",
              "      border-right-color: var(--fill-color);\n",
              "    }\n",
              "    80% {\n",
              "      border-color: transparent;\n",
              "      border-right-color: var(--fill-color);\n",
              "      border-bottom-color: var(--fill-color);\n",
              "    }\n",
              "    90% {\n",
              "      border-color: transparent;\n",
              "      border-bottom-color: var(--fill-color);\n",
              "    }\n",
              "  }\n",
              "</style>\n",
              "\n",
              "      <script>\n",
              "        async function quickchart(key) {\n",
              "          const quickchartButtonEl =\n",
              "            document.querySelector('#' + key + ' button');\n",
              "          quickchartButtonEl.disabled = true;  // To prevent multiple clicks.\n",
              "          quickchartButtonEl.classList.add('colab-df-spinner');\n",
              "          try {\n",
              "            const charts = await google.colab.kernel.invokeFunction(\n",
              "                'suggestCharts', [key], {});\n",
              "          } catch (error) {\n",
              "            console.error('Error during call to suggestCharts:', error);\n",
              "          }\n",
              "          quickchartButtonEl.classList.remove('colab-df-spinner');\n",
              "          quickchartButtonEl.classList.add('colab-df-quickchart-complete');\n",
              "        }\n",
              "        (() => {\n",
              "          let quickchartButtonEl =\n",
              "            document.querySelector('#df-1aa21dde-e688-43bb-8484-88911037e7dd button');\n",
              "          quickchartButtonEl.style.display =\n",
              "            google.colab.kernel.accessAllowed ? 'block' : 'none';\n",
              "        })();\n",
              "      </script>\n",
              "    </div>\n",
              "\n",
              "  <div id=\"id_d704c9ad-e7fb-4b95-b5b0-171f84d9021e\">\n",
              "    <style>\n",
              "      .colab-df-generate {\n",
              "        background-color: #E8F0FE;\n",
              "        border: none;\n",
              "        border-radius: 50%;\n",
              "        cursor: pointer;\n",
              "        display: none;\n",
              "        fill: #1967D2;\n",
              "        height: 32px;\n",
              "        padding: 0 0 0 0;\n",
              "        width: 32px;\n",
              "      }\n",
              "\n",
              "      .colab-df-generate:hover {\n",
              "        background-color: #E2EBFA;\n",
              "        box-shadow: 0px 1px 2px rgba(60, 64, 67, 0.3), 0px 1px 3px 1px rgba(60, 64, 67, 0.15);\n",
              "        fill: #174EA6;\n",
              "      }\n",
              "\n",
              "      [theme=dark] .colab-df-generate {\n",
              "        background-color: #3B4455;\n",
              "        fill: #D2E3FC;\n",
              "      }\n",
              "\n",
              "      [theme=dark] .colab-df-generate:hover {\n",
              "        background-color: #434B5C;\n",
              "        box-shadow: 0px 1px 3px 1px rgba(0, 0, 0, 0.15);\n",
              "        filter: drop-shadow(0px 1px 2px rgba(0, 0, 0, 0.3));\n",
              "        fill: #FFFFFF;\n",
              "      }\n",
              "    </style>\n",
              "    <button class=\"colab-df-generate\" onclick=\"generateWithVariable('ge_subject')\"\n",
              "            title=\"Generate code using this dataframe.\"\n",
              "            style=\"display:none;\">\n",
              "\n",
              "  <svg xmlns=\"http://www.w3.org/2000/svg\" height=\"24px\"viewBox=\"0 0 24 24\"\n",
              "       width=\"24px\">\n",
              "    <path d=\"M7,19H8.4L18.45,9,17,7.55,7,17.6ZM5,21V16.75L18.45,3.32a2,2,0,0,1,2.83,0l1.4,1.43a1.91,1.91,0,0,1,.58,1.4,1.91,1.91,0,0,1-.58,1.4L9.25,21ZM18.45,9,17,7.55Zm-12,3A5.31,5.31,0,0,0,4.9,8.1,5.31,5.31,0,0,0,1,6.5,5.31,5.31,0,0,0,4.9,4.9,5.31,5.31,0,0,0,6.5,1,5.31,5.31,0,0,0,8.1,4.9,5.31,5.31,0,0,0,12,6.5,5.46,5.46,0,0,0,6.5,12Z\"/>\n",
              "  </svg>\n",
              "    </button>\n",
              "    <script>\n",
              "      (() => {\n",
              "      const buttonEl =\n",
              "        document.querySelector('#id_d704c9ad-e7fb-4b95-b5b0-171f84d9021e button.colab-df-generate');\n",
              "      buttonEl.style.display =\n",
              "        google.colab.kernel.accessAllowed ? 'block' : 'none';\n",
              "\n",
              "      buttonEl.onclick = () => {\n",
              "        google.colab.notebook.generateWithVariable('ge_subject');\n",
              "      }\n",
              "      })();\n",
              "    </script>\n",
              "  </div>\n",
              "\n",
              "    </div>\n",
              "  </div>\n"
            ],
            "application/vnd.google.colaboratory.intrinsic+json": {
              "type": "dataframe",
              "variable_name": "ge_subject",
              "summary": "{\n  \"name\": \"ge_subject\",\n  \"rows\": 148,\n  \"fields\": [\n    {\n      \"column\": \"name\",\n      \"properties\": {\n        \"dtype\": \"string\",\n        \"num_unique_values\": 147,\n        \"samples\": [\n          \"MATTA, LESTER MARQUIN, AMBAS\",\n          \"MACATANGAY, JOSE MIGUEL, PASOL\",\n          \"LONGALONG, CYRENE JADE, SANTOS\"\n        ],\n        \"semantic_type\": \"\",\n        \"description\": \"\"\n      }\n    },\n    {\n      \"column\": \"sn\",\n      \"properties\": {\n        \"dtype\": \"string\",\n        \"num_unique_values\": 147,\n        \"samples\": [\n          \"2024-02719\",\n          \"2023-00715\",\n          \"2023-01991\"\n        ],\n        \"semantic_type\": \"\",\n        \"description\": \"\"\n      }\n    },\n    {\n      \"column\": \"takes\",\n      \"properties\": {\n        \"dtype\": \"number\",\n        \"std\": 0,\n        \"min\": 0,\n        \"max\": 1,\n        \"num_unique_values\": 2,\n        \"samples\": [\n          1,\n          0\n        ],\n        \"semantic_type\": \"\",\n        \"description\": \"\"\n      }\n    },\n    {\n      \"column\": \"current grade\",\n      \"properties\": {\n        \"dtype\": \"number\",\n        \"std\": null,\n        \"min\": null,\n        \"max\": null,\n        \"num_unique_values\": 0,\n        \"samples\": [],\n        \"semantic_type\": \"\",\n        \"description\": \"\"\n      }\n    },\n    {\n      \"column\": \"prereq\",\n      \"properties\": {\n        \"dtype\": \"boolean\",\n        \"num_unique_values\": 1,\n        \"samples\": [],\n        \"semantic_type\": \"\",\n        \"description\": \"\"\n      }\n    }\n  ]\n}"
            }
          },
          "metadata": {},
          "execution_count": 35
        }
      ]
    },
    {
      "cell_type": "code",
      "source": [
        "dge.students[0].subjects"
      ],
      "metadata": {
        "colab": {
          "base_uri": "https://localhost:8080/",
          "height": 1000
        },
        "id": "sdVq9M-o-7o3",
        "outputId": "42a88bd9-5c2c-4f52-8deb-0d7a7e0341ef"
      },
      "execution_count": null,
      "outputs": [
        {
          "output_type": "execute_result",
          "data": {
            "text/plain": [
              "    index                                              Class  \\\n",
              "0       0                                           GE 2 1AB   \n",
              "1       1                                           GE 10 1B   \n",
              "2       2                                         KAS 1 THW2   \n",
              "3       3                                    Math 21 TWHFR-9   \n",
              "4       4                                 Physics 71 TWHFU-5   \n",
              "5       5                                 Physics 71.1 WIJ-1   \n",
              "6       6                                    Soc Sci 2 THX-1   \n",
              "7       0                                           GE 12 1B   \n",
              "8       1                                           GE 30 1B   \n",
              "9       2                                          GE 120 1B   \n",
              "10      3                                         GE 142 1BC   \n",
              "11      4                                    Math 21 TWHFV-3   \n",
              "12      5                                Physics 71 THQ-FQ-1   \n",
              "13      6                PE 2 BW-T MDE Basic Ten Pin Bowling   \n",
              "14      0                                       Math 22 X7-1   \n",
              "15      1                                    Physics 72 X8-3   \n",
              "16      0                                         CE 29 THW2   \n",
              "17      1                                          GE 117 2A   \n",
              "18      2                                          GE 122 2A   \n",
              "19      3                                          GE 161 2A   \n",
              "20      4                                          GE 162 2A   \n",
              "21      5                                    Math 23 TWHFQ-4   \n",
              "22      6                                 Physics 72.1 WIJ-1   \n",
              "23      7  CWTS 1 Engg SA Basic Map Reading, Way-finding,...   \n",
              "24      0                                          CE 11 THX   \n",
              "25      1                                        ES 101 THQ1   \n",
              "26      2                                          GE 118 2C   \n",
              "27      3                                         GE 127 2C1   \n",
              "28      4                                          GE 168 2C   \n",
              "29      5                                         GIM 165 2C   \n",
              "30      6                       PE 2 PG WFJ Philippine Games   \n",
              "31      7  CWTS 2 Engg SWX Basic Map Reading, Way-finding...   \n",
              "32      0                                          GE 193 2A   \n",
              "33      0                                          GE 116 3C   \n",
              "34      1                                          GE 144 3C   \n",
              "35      2                                         GIM 176 3C   \n",
              "36      3                                        Geol 11 WFV   \n",
              "37      4                                         GsE 188 3C   \n",
              "38      5                                         GsE 189 3C   \n",
              "39      6                    PE 2 WF MAB Walking for Fitness   \n",
              "\n",
              "                                         Instructor/s  Units  Grade  \\\n",
              "0                                      MEDINA, JOMMER    1.0   1.00   \n",
              "1                                VERGARA, KARL ADRIAN    3.0   2.25   \n",
              "2                                   LLANES, FERDINAND    3.0   1.25   \n",
              "3                           MANALOTO, KORINA ERNJULIE    4.0   5.00   \n",
              "4                         NIP, NIP; CABANILLA, JAYSON    4.0   5.00   \n",
              "5                                        AGAPITO, XYD    1.0   1.25   \n",
              "6                       ESTRADA, LUIS GABRIEL ALFONSO    3.0   1.75   \n",
              "7                              CRUZ, MARGAUX ANGELICA    4.0   1.75   \n",
              "8                               ESCOTO, JOHN EMMANUEL    3.0   1.50   \n",
              "9                                        PADON, RANEL    3.0   2.00   \n",
              "10                                   KATIGBAK, GEORGE    1.0   2.75   \n",
              "11                            ONA, JEANINE CONCEPCION    4.0   3.00   \n",
              "12                               MIRANDA, JESSA JAYNE    4.0   2.50   \n",
              "13                                       RIVERA, NOEL    2.0   2.00   \n",
              "14                              TAÑEDO, RAYMOND LOUIS    4.0   2.75   \n",
              "15                             NIP, NIP; AGAPITO, XYD    4.0   1.75   \n",
              "16                        FUTALAN, CYBELLE CONCEPCION    3.0   2.00   \n",
              "17                             ZAMORA, MA. BEA ANGELA    3.0   2.25   \n",
              "18                               ELAZEGUI, ERICA ERIN    3.0   3.00   \n",
              "19                                     RADA, WILFREDO    3.0   2.75   \n",
              "20                                        BAHIA, ROEL    3.0   1.50   \n",
              "21                                 PANINGBATAN, ARIEL    4.0   3.00   \n",
              "22                                BAYBAY, JOHN ADRIAN    1.0   1.25   \n",
              "23                                   GUEVARA, TRISHIA    3.0   1.00   \n",
              "24    ALCANTARA, MATTHEW TRAVIS; MUSICO, JOHN KENNETH    3.0   2.00   \n",
              "25            BANIQUED, JULIUS REY; ROQUE, JOHN HENRY    4.0   2.75   \n",
              "26                                    RAMOS, ROSEANNE    3.0   1.25   \n",
              "27                              CARCELLAR, BIENVENIDO    4.0   2.75   \n",
              "28                             ZAMORA, MA. BEA ANGELA    3.0   1.75   \n",
              "29      CLARIDADES, ALEXIS RICHARD; APURA, RANSIE JOY    3.0   2.75   \n",
              "30                               MABAQUIAO, JEAN PAUL    2.0   1.00   \n",
              "31                                        BAHIA, ROEL    3.0   1.00   \n",
              "32                                        BAHIA, ROEL    2.0   1.00   \n",
              "33                             MABAQUIAO, LUIS CARLOS    3.0   6.00   \n",
              "34                                     TIAMSON, ERWIN    3.0   6.00   \n",
              "35                                 MACAPINLAC, OLIVER    2.0   6.00   \n",
              "36                                      SUMADEN, MARK    3.0   6.00   \n",
              "37  PRINCIPE, JEARK; ANG, MA. ROSARIO CONCEPCION; ...    4.0   6.00   \n",
              "38                                BABAAN, JENNIEVEIVE    4.0   6.00   \n",
              "39                                     OKUMU, GODFREY    2.0   6.00   \n",
              "\n",
              "                             sem        course  \\\n",
              "0    First Semester AY 2022-2023          GE 2   \n",
              "1    First Semester AY 2022-2023         GE 10   \n",
              "2    First Semester AY 2022-2023         KAS 1   \n",
              "3    First Semester AY 2022-2023       Math 21   \n",
              "4    First Semester AY 2022-2023    Physics 71   \n",
              "5    First Semester AY 2022-2023  Physics 71.1   \n",
              "6    First Semester AY 2022-2023         Sci 2   \n",
              "7   Second Semester AY 2022-2023         GE 12   \n",
              "8   Second Semester AY 2022-2023         GE 30   \n",
              "9   Second Semester AY 2022-2023        GE 120   \n",
              "10  Second Semester AY 2022-2023        GE 142   \n",
              "11  Second Semester AY 2022-2023       Math 21   \n",
              "12  Second Semester AY 2022-2023    Physics 71   \n",
              "13  Second Semester AY 2022-2023          PE 2   \n",
              "14             Midyear Term 2023       Math 22   \n",
              "15             Midyear Term 2023    Physics 72   \n",
              "16   First Semester AY 2023-2024         CE 29   \n",
              "17   First Semester AY 2023-2024        GE 117   \n",
              "18   First Semester AY 2023-2024        GE 122   \n",
              "19   First Semester AY 2023-2024        GE 161   \n",
              "20   First Semester AY 2023-2024        GE 162   \n",
              "21   First Semester AY 2023-2024       Math 23   \n",
              "22   First Semester AY 2023-2024  Physics 72.1   \n",
              "23   First Semester AY 2023-2024        CWTS 1   \n",
              "24  Second Semester AY 2023-2024         CE 11   \n",
              "25  Second Semester AY 2023-2024        ES 101   \n",
              "26  Second Semester AY 2023-2024        GE 118   \n",
              "27  Second Semester AY 2023-2024        GE 127   \n",
              "28  Second Semester AY 2023-2024        GE 168   \n",
              "29  Second Semester AY 2023-2024       GIM 165   \n",
              "30  Second Semester AY 2023-2024          PE 2   \n",
              "31  Second Semester AY 2023-2024        CWTS 2   \n",
              "32             Midyear Term 2024        GE 193   \n",
              "33   First Semester AY 2024-2025        GE 116   \n",
              "34   First Semester AY 2024-2025        GE 144   \n",
              "35   First Semester AY 2024-2025       GIM 176   \n",
              "36   First Semester AY 2024-2025       Geol 11   \n",
              "37   First Semester AY 2024-2025       GsE 188   \n",
              "38   First Semester AY 2024-2025       GsE 189   \n",
              "39   First Semester AY 2024-2025          PE 2   \n",
              "\n",
              "                                              section  \n",
              "0                                                 1AB  \n",
              "1                                                  1B  \n",
              "2                                                THW2  \n",
              "3                                             TWHFR-9  \n",
              "4                                             TWHFU-5  \n",
              "5                                               WIJ-1  \n",
              "6                                               THX-1  \n",
              "7                                                  1B  \n",
              "8                                                  1B  \n",
              "9                                                  1B  \n",
              "10                                                1BC  \n",
              "11                                            TWHFV-3  \n",
              "12                                           THQ-FQ-1  \n",
              "13                     BW-T MDE Basic Ten Pin Bowling  \n",
              "14                                               X7-1  \n",
              "15                                               X8-3  \n",
              "16                                               THW2  \n",
              "17                                                 2A  \n",
              "18                                                 2A  \n",
              "19                                                 2A  \n",
              "20                                                 2A  \n",
              "21                                            TWHFQ-4  \n",
              "22                                              WIJ-1  \n",
              "23  Engg SA Basic Map Reading, Way-finding, And Lo...  \n",
              "24                                                THX  \n",
              "25                                               THQ1  \n",
              "26                                                 2C  \n",
              "27                                                2C1  \n",
              "28                                                 2C  \n",
              "29                                                 2C  \n",
              "30                            PG WFJ Philippine Games  \n",
              "31  Engg SWX Basic Map Reading, Way-finding, And L...  \n",
              "32                                                 2A  \n",
              "33                                                 3C  \n",
              "34                                                 3C  \n",
              "35                                                 3C  \n",
              "36                                                WFV  \n",
              "37                                                 3C  \n",
              "38                                                 3C  \n",
              "39                         WF MAB Walking for Fitness  "
            ],
            "text/html": [
              "\n",
              "  <div id=\"df-e2f8620d-506d-4eaa-b06b-74eab2c9ea8f\" class=\"colab-df-container\">\n",
              "    <div>\n",
              "<style scoped>\n",
              "    .dataframe tbody tr th:only-of-type {\n",
              "        vertical-align: middle;\n",
              "    }\n",
              "\n",
              "    .dataframe tbody tr th {\n",
              "        vertical-align: top;\n",
              "    }\n",
              "\n",
              "    .dataframe thead th {\n",
              "        text-align: right;\n",
              "    }\n",
              "</style>\n",
              "<table border=\"1\" class=\"dataframe\">\n",
              "  <thead>\n",
              "    <tr style=\"text-align: right;\">\n",
              "      <th></th>\n",
              "      <th>index</th>\n",
              "      <th>Class</th>\n",
              "      <th>Instructor/s</th>\n",
              "      <th>Units</th>\n",
              "      <th>Grade</th>\n",
              "      <th>sem</th>\n",
              "      <th>course</th>\n",
              "      <th>section</th>\n",
              "    </tr>\n",
              "  </thead>\n",
              "  <tbody>\n",
              "    <tr>\n",
              "      <th>0</th>\n",
              "      <td>0</td>\n",
              "      <td>GE 2 1AB</td>\n",
              "      <td>MEDINA, JOMMER</td>\n",
              "      <td>1.0</td>\n",
              "      <td>1.00</td>\n",
              "      <td>First Semester AY 2022-2023</td>\n",
              "      <td>GE 2</td>\n",
              "      <td>1AB</td>\n",
              "    </tr>\n",
              "    <tr>\n",
              "      <th>1</th>\n",
              "      <td>1</td>\n",
              "      <td>GE 10 1B</td>\n",
              "      <td>VERGARA, KARL ADRIAN</td>\n",
              "      <td>3.0</td>\n",
              "      <td>2.25</td>\n",
              "      <td>First Semester AY 2022-2023</td>\n",
              "      <td>GE 10</td>\n",
              "      <td>1B</td>\n",
              "    </tr>\n",
              "    <tr>\n",
              "      <th>2</th>\n",
              "      <td>2</td>\n",
              "      <td>KAS 1 THW2</td>\n",
              "      <td>LLANES, FERDINAND</td>\n",
              "      <td>3.0</td>\n",
              "      <td>1.25</td>\n",
              "      <td>First Semester AY 2022-2023</td>\n",
              "      <td>KAS 1</td>\n",
              "      <td>THW2</td>\n",
              "    </tr>\n",
              "    <tr>\n",
              "      <th>3</th>\n",
              "      <td>3</td>\n",
              "      <td>Math 21 TWHFR-9</td>\n",
              "      <td>MANALOTO, KORINA ERNJULIE</td>\n",
              "      <td>4.0</td>\n",
              "      <td>5.00</td>\n",
              "      <td>First Semester AY 2022-2023</td>\n",
              "      <td>Math 21</td>\n",
              "      <td>TWHFR-9</td>\n",
              "    </tr>\n",
              "    <tr>\n",
              "      <th>4</th>\n",
              "      <td>4</td>\n",
              "      <td>Physics 71 TWHFU-5</td>\n",
              "      <td>NIP, NIP; CABANILLA, JAYSON</td>\n",
              "      <td>4.0</td>\n",
              "      <td>5.00</td>\n",
              "      <td>First Semester AY 2022-2023</td>\n",
              "      <td>Physics 71</td>\n",
              "      <td>TWHFU-5</td>\n",
              "    </tr>\n",
              "    <tr>\n",
              "      <th>5</th>\n",
              "      <td>5</td>\n",
              "      <td>Physics 71.1 WIJ-1</td>\n",
              "      <td>AGAPITO, XYD</td>\n",
              "      <td>1.0</td>\n",
              "      <td>1.25</td>\n",
              "      <td>First Semester AY 2022-2023</td>\n",
              "      <td>Physics 71.1</td>\n",
              "      <td>WIJ-1</td>\n",
              "    </tr>\n",
              "    <tr>\n",
              "      <th>6</th>\n",
              "      <td>6</td>\n",
              "      <td>Soc Sci 2 THX-1</td>\n",
              "      <td>ESTRADA, LUIS GABRIEL ALFONSO</td>\n",
              "      <td>3.0</td>\n",
              "      <td>1.75</td>\n",
              "      <td>First Semester AY 2022-2023</td>\n",
              "      <td>Sci 2</td>\n",
              "      <td>THX-1</td>\n",
              "    </tr>\n",
              "    <tr>\n",
              "      <th>7</th>\n",
              "      <td>0</td>\n",
              "      <td>GE 12 1B</td>\n",
              "      <td>CRUZ, MARGAUX ANGELICA</td>\n",
              "      <td>4.0</td>\n",
              "      <td>1.75</td>\n",
              "      <td>Second Semester AY 2022-2023</td>\n",
              "      <td>GE 12</td>\n",
              "      <td>1B</td>\n",
              "    </tr>\n",
              "    <tr>\n",
              "      <th>8</th>\n",
              "      <td>1</td>\n",
              "      <td>GE 30 1B</td>\n",
              "      <td>ESCOTO, JOHN EMMANUEL</td>\n",
              "      <td>3.0</td>\n",
              "      <td>1.50</td>\n",
              "      <td>Second Semester AY 2022-2023</td>\n",
              "      <td>GE 30</td>\n",
              "      <td>1B</td>\n",
              "    </tr>\n",
              "    <tr>\n",
              "      <th>9</th>\n",
              "      <td>2</td>\n",
              "      <td>GE 120 1B</td>\n",
              "      <td>PADON, RANEL</td>\n",
              "      <td>3.0</td>\n",
              "      <td>2.00</td>\n",
              "      <td>Second Semester AY 2022-2023</td>\n",
              "      <td>GE 120</td>\n",
              "      <td>1B</td>\n",
              "    </tr>\n",
              "    <tr>\n",
              "      <th>10</th>\n",
              "      <td>3</td>\n",
              "      <td>GE 142 1BC</td>\n",
              "      <td>KATIGBAK, GEORGE</td>\n",
              "      <td>1.0</td>\n",
              "      <td>2.75</td>\n",
              "      <td>Second Semester AY 2022-2023</td>\n",
              "      <td>GE 142</td>\n",
              "      <td>1BC</td>\n",
              "    </tr>\n",
              "    <tr>\n",
              "      <th>11</th>\n",
              "      <td>4</td>\n",
              "      <td>Math 21 TWHFV-3</td>\n",
              "      <td>ONA, JEANINE CONCEPCION</td>\n",
              "      <td>4.0</td>\n",
              "      <td>3.00</td>\n",
              "      <td>Second Semester AY 2022-2023</td>\n",
              "      <td>Math 21</td>\n",
              "      <td>TWHFV-3</td>\n",
              "    </tr>\n",
              "    <tr>\n",
              "      <th>12</th>\n",
              "      <td>5</td>\n",
              "      <td>Physics 71 THQ-FQ-1</td>\n",
              "      <td>MIRANDA, JESSA JAYNE</td>\n",
              "      <td>4.0</td>\n",
              "      <td>2.50</td>\n",
              "      <td>Second Semester AY 2022-2023</td>\n",
              "      <td>Physics 71</td>\n",
              "      <td>THQ-FQ-1</td>\n",
              "    </tr>\n",
              "    <tr>\n",
              "      <th>13</th>\n",
              "      <td>6</td>\n",
              "      <td>PE 2 BW-T MDE Basic Ten Pin Bowling</td>\n",
              "      <td>RIVERA, NOEL</td>\n",
              "      <td>2.0</td>\n",
              "      <td>2.00</td>\n",
              "      <td>Second Semester AY 2022-2023</td>\n",
              "      <td>PE 2</td>\n",
              "      <td>BW-T MDE Basic Ten Pin Bowling</td>\n",
              "    </tr>\n",
              "    <tr>\n",
              "      <th>14</th>\n",
              "      <td>0</td>\n",
              "      <td>Math 22 X7-1</td>\n",
              "      <td>TAÑEDO, RAYMOND LOUIS</td>\n",
              "      <td>4.0</td>\n",
              "      <td>2.75</td>\n",
              "      <td>Midyear Term 2023</td>\n",
              "      <td>Math 22</td>\n",
              "      <td>X7-1</td>\n",
              "    </tr>\n",
              "    <tr>\n",
              "      <th>15</th>\n",
              "      <td>1</td>\n",
              "      <td>Physics 72 X8-3</td>\n",
              "      <td>NIP, NIP; AGAPITO, XYD</td>\n",
              "      <td>4.0</td>\n",
              "      <td>1.75</td>\n",
              "      <td>Midyear Term 2023</td>\n",
              "      <td>Physics 72</td>\n",
              "      <td>X8-3</td>\n",
              "    </tr>\n",
              "    <tr>\n",
              "      <th>16</th>\n",
              "      <td>0</td>\n",
              "      <td>CE 29 THW2</td>\n",
              "      <td>FUTALAN, CYBELLE CONCEPCION</td>\n",
              "      <td>3.0</td>\n",
              "      <td>2.00</td>\n",
              "      <td>First Semester AY 2023-2024</td>\n",
              "      <td>CE 29</td>\n",
              "      <td>THW2</td>\n",
              "    </tr>\n",
              "    <tr>\n",
              "      <th>17</th>\n",
              "      <td>1</td>\n",
              "      <td>GE 117 2A</td>\n",
              "      <td>ZAMORA, MA. BEA ANGELA</td>\n",
              "      <td>3.0</td>\n",
              "      <td>2.25</td>\n",
              "      <td>First Semester AY 2023-2024</td>\n",
              "      <td>GE 117</td>\n",
              "      <td>2A</td>\n",
              "    </tr>\n",
              "    <tr>\n",
              "      <th>18</th>\n",
              "      <td>2</td>\n",
              "      <td>GE 122 2A</td>\n",
              "      <td>ELAZEGUI, ERICA ERIN</td>\n",
              "      <td>3.0</td>\n",
              "      <td>3.00</td>\n",
              "      <td>First Semester AY 2023-2024</td>\n",
              "      <td>GE 122</td>\n",
              "      <td>2A</td>\n",
              "    </tr>\n",
              "    <tr>\n",
              "      <th>19</th>\n",
              "      <td>3</td>\n",
              "      <td>GE 161 2A</td>\n",
              "      <td>RADA, WILFREDO</td>\n",
              "      <td>3.0</td>\n",
              "      <td>2.75</td>\n",
              "      <td>First Semester AY 2023-2024</td>\n",
              "      <td>GE 161</td>\n",
              "      <td>2A</td>\n",
              "    </tr>\n",
              "    <tr>\n",
              "      <th>20</th>\n",
              "      <td>4</td>\n",
              "      <td>GE 162 2A</td>\n",
              "      <td>BAHIA, ROEL</td>\n",
              "      <td>3.0</td>\n",
              "      <td>1.50</td>\n",
              "      <td>First Semester AY 2023-2024</td>\n",
              "      <td>GE 162</td>\n",
              "      <td>2A</td>\n",
              "    </tr>\n",
              "    <tr>\n",
              "      <th>21</th>\n",
              "      <td>5</td>\n",
              "      <td>Math 23 TWHFQ-4</td>\n",
              "      <td>PANINGBATAN, ARIEL</td>\n",
              "      <td>4.0</td>\n",
              "      <td>3.00</td>\n",
              "      <td>First Semester AY 2023-2024</td>\n",
              "      <td>Math 23</td>\n",
              "      <td>TWHFQ-4</td>\n",
              "    </tr>\n",
              "    <tr>\n",
              "      <th>22</th>\n",
              "      <td>6</td>\n",
              "      <td>Physics 72.1 WIJ-1</td>\n",
              "      <td>BAYBAY, JOHN ADRIAN</td>\n",
              "      <td>1.0</td>\n",
              "      <td>1.25</td>\n",
              "      <td>First Semester AY 2023-2024</td>\n",
              "      <td>Physics 72.1</td>\n",
              "      <td>WIJ-1</td>\n",
              "    </tr>\n",
              "    <tr>\n",
              "      <th>23</th>\n",
              "      <td>7</td>\n",
              "      <td>CWTS 1 Engg SA Basic Map Reading, Way-finding,...</td>\n",
              "      <td>GUEVARA, TRISHIA</td>\n",
              "      <td>3.0</td>\n",
              "      <td>1.00</td>\n",
              "      <td>First Semester AY 2023-2024</td>\n",
              "      <td>CWTS 1</td>\n",
              "      <td>Engg SA Basic Map Reading, Way-finding, And Lo...</td>\n",
              "    </tr>\n",
              "    <tr>\n",
              "      <th>24</th>\n",
              "      <td>0</td>\n",
              "      <td>CE 11 THX</td>\n",
              "      <td>ALCANTARA, MATTHEW TRAVIS; MUSICO, JOHN KENNETH</td>\n",
              "      <td>3.0</td>\n",
              "      <td>2.00</td>\n",
              "      <td>Second Semester AY 2023-2024</td>\n",
              "      <td>CE 11</td>\n",
              "      <td>THX</td>\n",
              "    </tr>\n",
              "    <tr>\n",
              "      <th>25</th>\n",
              "      <td>1</td>\n",
              "      <td>ES 101 THQ1</td>\n",
              "      <td>BANIQUED, JULIUS REY; ROQUE, JOHN HENRY</td>\n",
              "      <td>4.0</td>\n",
              "      <td>2.75</td>\n",
              "      <td>Second Semester AY 2023-2024</td>\n",
              "      <td>ES 101</td>\n",
              "      <td>THQ1</td>\n",
              "    </tr>\n",
              "    <tr>\n",
              "      <th>26</th>\n",
              "      <td>2</td>\n",
              "      <td>GE 118 2C</td>\n",
              "      <td>RAMOS, ROSEANNE</td>\n",
              "      <td>3.0</td>\n",
              "      <td>1.25</td>\n",
              "      <td>Second Semester AY 2023-2024</td>\n",
              "      <td>GE 118</td>\n",
              "      <td>2C</td>\n",
              "    </tr>\n",
              "    <tr>\n",
              "      <th>27</th>\n",
              "      <td>3</td>\n",
              "      <td>GE 127 2C1</td>\n",
              "      <td>CARCELLAR, BIENVENIDO</td>\n",
              "      <td>4.0</td>\n",
              "      <td>2.75</td>\n",
              "      <td>Second Semester AY 2023-2024</td>\n",
              "      <td>GE 127</td>\n",
              "      <td>2C1</td>\n",
              "    </tr>\n",
              "    <tr>\n",
              "      <th>28</th>\n",
              "      <td>4</td>\n",
              "      <td>GE 168 2C</td>\n",
              "      <td>ZAMORA, MA. BEA ANGELA</td>\n",
              "      <td>3.0</td>\n",
              "      <td>1.75</td>\n",
              "      <td>Second Semester AY 2023-2024</td>\n",
              "      <td>GE 168</td>\n",
              "      <td>2C</td>\n",
              "    </tr>\n",
              "    <tr>\n",
              "      <th>29</th>\n",
              "      <td>5</td>\n",
              "      <td>GIM 165 2C</td>\n",
              "      <td>CLARIDADES, ALEXIS RICHARD; APURA, RANSIE JOY</td>\n",
              "      <td>3.0</td>\n",
              "      <td>2.75</td>\n",
              "      <td>Second Semester AY 2023-2024</td>\n",
              "      <td>GIM 165</td>\n",
              "      <td>2C</td>\n",
              "    </tr>\n",
              "    <tr>\n",
              "      <th>30</th>\n",
              "      <td>6</td>\n",
              "      <td>PE 2 PG WFJ Philippine Games</td>\n",
              "      <td>MABAQUIAO, JEAN PAUL</td>\n",
              "      <td>2.0</td>\n",
              "      <td>1.00</td>\n",
              "      <td>Second Semester AY 2023-2024</td>\n",
              "      <td>PE 2</td>\n",
              "      <td>PG WFJ Philippine Games</td>\n",
              "    </tr>\n",
              "    <tr>\n",
              "      <th>31</th>\n",
              "      <td>7</td>\n",
              "      <td>CWTS 2 Engg SWX Basic Map Reading, Way-finding...</td>\n",
              "      <td>BAHIA, ROEL</td>\n",
              "      <td>3.0</td>\n",
              "      <td>1.00</td>\n",
              "      <td>Second Semester AY 2023-2024</td>\n",
              "      <td>CWTS 2</td>\n",
              "      <td>Engg SWX Basic Map Reading, Way-finding, And L...</td>\n",
              "    </tr>\n",
              "    <tr>\n",
              "      <th>32</th>\n",
              "      <td>0</td>\n",
              "      <td>GE 193 2A</td>\n",
              "      <td>BAHIA, ROEL</td>\n",
              "      <td>2.0</td>\n",
              "      <td>1.00</td>\n",
              "      <td>Midyear Term 2024</td>\n",
              "      <td>GE 193</td>\n",
              "      <td>2A</td>\n",
              "    </tr>\n",
              "    <tr>\n",
              "      <th>33</th>\n",
              "      <td>0</td>\n",
              "      <td>GE 116 3C</td>\n",
              "      <td>MABAQUIAO, LUIS CARLOS</td>\n",
              "      <td>3.0</td>\n",
              "      <td>6.00</td>\n",
              "      <td>First Semester AY 2024-2025</td>\n",
              "      <td>GE 116</td>\n",
              "      <td>3C</td>\n",
              "    </tr>\n",
              "    <tr>\n",
              "      <th>34</th>\n",
              "      <td>1</td>\n",
              "      <td>GE 144 3C</td>\n",
              "      <td>TIAMSON, ERWIN</td>\n",
              "      <td>3.0</td>\n",
              "      <td>6.00</td>\n",
              "      <td>First Semester AY 2024-2025</td>\n",
              "      <td>GE 144</td>\n",
              "      <td>3C</td>\n",
              "    </tr>\n",
              "    <tr>\n",
              "      <th>35</th>\n",
              "      <td>2</td>\n",
              "      <td>GIM 176 3C</td>\n",
              "      <td>MACAPINLAC, OLIVER</td>\n",
              "      <td>2.0</td>\n",
              "      <td>6.00</td>\n",
              "      <td>First Semester AY 2024-2025</td>\n",
              "      <td>GIM 176</td>\n",
              "      <td>3C</td>\n",
              "    </tr>\n",
              "    <tr>\n",
              "      <th>36</th>\n",
              "      <td>3</td>\n",
              "      <td>Geol 11 WFV</td>\n",
              "      <td>SUMADEN, MARK</td>\n",
              "      <td>3.0</td>\n",
              "      <td>6.00</td>\n",
              "      <td>First Semester AY 2024-2025</td>\n",
              "      <td>Geol 11</td>\n",
              "      <td>WFV</td>\n",
              "    </tr>\n",
              "    <tr>\n",
              "      <th>37</th>\n",
              "      <td>4</td>\n",
              "      <td>GsE 188 3C</td>\n",
              "      <td>PRINCIPE, JEARK; ANG, MA. ROSARIO CONCEPCION; ...</td>\n",
              "      <td>4.0</td>\n",
              "      <td>6.00</td>\n",
              "      <td>First Semester AY 2024-2025</td>\n",
              "      <td>GsE 188</td>\n",
              "      <td>3C</td>\n",
              "    </tr>\n",
              "    <tr>\n",
              "      <th>38</th>\n",
              "      <td>5</td>\n",
              "      <td>GsE 189 3C</td>\n",
              "      <td>BABAAN, JENNIEVEIVE</td>\n",
              "      <td>4.0</td>\n",
              "      <td>6.00</td>\n",
              "      <td>First Semester AY 2024-2025</td>\n",
              "      <td>GsE 189</td>\n",
              "      <td>3C</td>\n",
              "    </tr>\n",
              "    <tr>\n",
              "      <th>39</th>\n",
              "      <td>6</td>\n",
              "      <td>PE 2 WF MAB Walking for Fitness</td>\n",
              "      <td>OKUMU, GODFREY</td>\n",
              "      <td>2.0</td>\n",
              "      <td>6.00</td>\n",
              "      <td>First Semester AY 2024-2025</td>\n",
              "      <td>PE 2</td>\n",
              "      <td>WF MAB Walking for Fitness</td>\n",
              "    </tr>\n",
              "  </tbody>\n",
              "</table>\n",
              "</div>\n",
              "    <div class=\"colab-df-buttons\">\n",
              "\n",
              "  <div class=\"colab-df-container\">\n",
              "    <button class=\"colab-df-convert\" onclick=\"convertToInteractive('df-e2f8620d-506d-4eaa-b06b-74eab2c9ea8f')\"\n",
              "            title=\"Convert this dataframe to an interactive table.\"\n",
              "            style=\"display:none;\">\n",
              "\n",
              "  <svg xmlns=\"http://www.w3.org/2000/svg\" height=\"24px\" viewBox=\"0 -960 960 960\">\n",
              "    <path d=\"M120-120v-720h720v720H120Zm60-500h600v-160H180v160Zm220 220h160v-160H400v160Zm0 220h160v-160H400v160ZM180-400h160v-160H180v160Zm440 0h160v-160H620v160ZM180-180h160v-160H180v160Zm440 0h160v-160H620v160Z\"/>\n",
              "  </svg>\n",
              "    </button>\n",
              "\n",
              "  <style>\n",
              "    .colab-df-container {\n",
              "      display:flex;\n",
              "      gap: 12px;\n",
              "    }\n",
              "\n",
              "    .colab-df-convert {\n",
              "      background-color: #E8F0FE;\n",
              "      border: none;\n",
              "      border-radius: 50%;\n",
              "      cursor: pointer;\n",
              "      display: none;\n",
              "      fill: #1967D2;\n",
              "      height: 32px;\n",
              "      padding: 0 0 0 0;\n",
              "      width: 32px;\n",
              "    }\n",
              "\n",
              "    .colab-df-convert:hover {\n",
              "      background-color: #E2EBFA;\n",
              "      box-shadow: 0px 1px 2px rgba(60, 64, 67, 0.3), 0px 1px 3px 1px rgba(60, 64, 67, 0.15);\n",
              "      fill: #174EA6;\n",
              "    }\n",
              "\n",
              "    .colab-df-buttons div {\n",
              "      margin-bottom: 4px;\n",
              "    }\n",
              "\n",
              "    [theme=dark] .colab-df-convert {\n",
              "      background-color: #3B4455;\n",
              "      fill: #D2E3FC;\n",
              "    }\n",
              "\n",
              "    [theme=dark] .colab-df-convert:hover {\n",
              "      background-color: #434B5C;\n",
              "      box-shadow: 0px 1px 3px 1px rgba(0, 0, 0, 0.15);\n",
              "      filter: drop-shadow(0px 1px 2px rgba(0, 0, 0, 0.3));\n",
              "      fill: #FFFFFF;\n",
              "    }\n",
              "  </style>\n",
              "\n",
              "    <script>\n",
              "      const buttonEl =\n",
              "        document.querySelector('#df-e2f8620d-506d-4eaa-b06b-74eab2c9ea8f button.colab-df-convert');\n",
              "      buttonEl.style.display =\n",
              "        google.colab.kernel.accessAllowed ? 'block' : 'none';\n",
              "\n",
              "      async function convertToInteractive(key) {\n",
              "        const element = document.querySelector('#df-e2f8620d-506d-4eaa-b06b-74eab2c9ea8f');\n",
              "        const dataTable =\n",
              "          await google.colab.kernel.invokeFunction('convertToInteractive',\n",
              "                                                    [key], {});\n",
              "        if (!dataTable) return;\n",
              "\n",
              "        const docLinkHtml = 'Like what you see? Visit the ' +\n",
              "          '<a target=\"_blank\" href=https://colab.research.google.com/notebooks/data_table.ipynb>data table notebook</a>'\n",
              "          + ' to learn more about interactive tables.';\n",
              "        element.innerHTML = '';\n",
              "        dataTable['output_type'] = 'display_data';\n",
              "        await google.colab.output.renderOutput(dataTable, element);\n",
              "        const docLink = document.createElement('div');\n",
              "        docLink.innerHTML = docLinkHtml;\n",
              "        element.appendChild(docLink);\n",
              "      }\n",
              "    </script>\n",
              "  </div>\n",
              "\n",
              "\n",
              "<div id=\"df-0f340525-8fd6-454f-a733-1ae461f566a8\">\n",
              "  <button class=\"colab-df-quickchart\" onclick=\"quickchart('df-0f340525-8fd6-454f-a733-1ae461f566a8')\"\n",
              "            title=\"Suggest charts\"\n",
              "            style=\"display:none;\">\n",
              "\n",
              "<svg xmlns=\"http://www.w3.org/2000/svg\" height=\"24px\"viewBox=\"0 0 24 24\"\n",
              "     width=\"24px\">\n",
              "    <g>\n",
              "        <path d=\"M19 3H5c-1.1 0-2 .9-2 2v14c0 1.1.9 2 2 2h14c1.1 0 2-.9 2-2V5c0-1.1-.9-2-2-2zM9 17H7v-7h2v7zm4 0h-2V7h2v10zm4 0h-2v-4h2v4z\"/>\n",
              "    </g>\n",
              "</svg>\n",
              "  </button>\n",
              "\n",
              "<style>\n",
              "  .colab-df-quickchart {\n",
              "      --bg-color: #E8F0FE;\n",
              "      --fill-color: #1967D2;\n",
              "      --hover-bg-color: #E2EBFA;\n",
              "      --hover-fill-color: #174EA6;\n",
              "      --disabled-fill-color: #AAA;\n",
              "      --disabled-bg-color: #DDD;\n",
              "  }\n",
              "\n",
              "  [theme=dark] .colab-df-quickchart {\n",
              "      --bg-color: #3B4455;\n",
              "      --fill-color: #D2E3FC;\n",
              "      --hover-bg-color: #434B5C;\n",
              "      --hover-fill-color: #FFFFFF;\n",
              "      --disabled-bg-color: #3B4455;\n",
              "      --disabled-fill-color: #666;\n",
              "  }\n",
              "\n",
              "  .colab-df-quickchart {\n",
              "    background-color: var(--bg-color);\n",
              "    border: none;\n",
              "    border-radius: 50%;\n",
              "    cursor: pointer;\n",
              "    display: none;\n",
              "    fill: var(--fill-color);\n",
              "    height: 32px;\n",
              "    padding: 0;\n",
              "    width: 32px;\n",
              "  }\n",
              "\n",
              "  .colab-df-quickchart:hover {\n",
              "    background-color: var(--hover-bg-color);\n",
              "    box-shadow: 0 1px 2px rgba(60, 64, 67, 0.3), 0 1px 3px 1px rgba(60, 64, 67, 0.15);\n",
              "    fill: var(--button-hover-fill-color);\n",
              "  }\n",
              "\n",
              "  .colab-df-quickchart-complete:disabled,\n",
              "  .colab-df-quickchart-complete:disabled:hover {\n",
              "    background-color: var(--disabled-bg-color);\n",
              "    fill: var(--disabled-fill-color);\n",
              "    box-shadow: none;\n",
              "  }\n",
              "\n",
              "  .colab-df-spinner {\n",
              "    border: 2px solid var(--fill-color);\n",
              "    border-color: transparent;\n",
              "    border-bottom-color: var(--fill-color);\n",
              "    animation:\n",
              "      spin 1s steps(1) infinite;\n",
              "  }\n",
              "\n",
              "  @keyframes spin {\n",
              "    0% {\n",
              "      border-color: transparent;\n",
              "      border-bottom-color: var(--fill-color);\n",
              "      border-left-color: var(--fill-color);\n",
              "    }\n",
              "    20% {\n",
              "      border-color: transparent;\n",
              "      border-left-color: var(--fill-color);\n",
              "      border-top-color: var(--fill-color);\n",
              "    }\n",
              "    30% {\n",
              "      border-color: transparent;\n",
              "      border-left-color: var(--fill-color);\n",
              "      border-top-color: var(--fill-color);\n",
              "      border-right-color: var(--fill-color);\n",
              "    }\n",
              "    40% {\n",
              "      border-color: transparent;\n",
              "      border-right-color: var(--fill-color);\n",
              "      border-top-color: var(--fill-color);\n",
              "    }\n",
              "    60% {\n",
              "      border-color: transparent;\n",
              "      border-right-color: var(--fill-color);\n",
              "    }\n",
              "    80% {\n",
              "      border-color: transparent;\n",
              "      border-right-color: var(--fill-color);\n",
              "      border-bottom-color: var(--fill-color);\n",
              "    }\n",
              "    90% {\n",
              "      border-color: transparent;\n",
              "      border-bottom-color: var(--fill-color);\n",
              "    }\n",
              "  }\n",
              "</style>\n",
              "\n",
              "  <script>\n",
              "    async function quickchart(key) {\n",
              "      const quickchartButtonEl =\n",
              "        document.querySelector('#' + key + ' button');\n",
              "      quickchartButtonEl.disabled = true;  // To prevent multiple clicks.\n",
              "      quickchartButtonEl.classList.add('colab-df-spinner');\n",
              "      try {\n",
              "        const charts = await google.colab.kernel.invokeFunction(\n",
              "            'suggestCharts', [key], {});\n",
              "      } catch (error) {\n",
              "        console.error('Error during call to suggestCharts:', error);\n",
              "      }\n",
              "      quickchartButtonEl.classList.remove('colab-df-spinner');\n",
              "      quickchartButtonEl.classList.add('colab-df-quickchart-complete');\n",
              "    }\n",
              "    (() => {\n",
              "      let quickchartButtonEl =\n",
              "        document.querySelector('#df-0f340525-8fd6-454f-a733-1ae461f566a8 button');\n",
              "      quickchartButtonEl.style.display =\n",
              "        google.colab.kernel.accessAllowed ? 'block' : 'none';\n",
              "    })();\n",
              "  </script>\n",
              "</div>\n",
              "\n",
              "    </div>\n",
              "  </div>\n"
            ],
            "application/vnd.google.colaboratory.intrinsic+json": {
              "type": "dataframe",
              "summary": "{\n  \"name\": \"dge\",\n  \"rows\": 40,\n  \"fields\": [\n    {\n      \"column\": \"index\",\n      \"properties\": {\n        \"dtype\": \"number\",\n        \"std\": 2,\n        \"min\": 0,\n        \"max\": 7,\n        \"num_unique_values\": 8,\n        \"samples\": [\n          1,\n          5,\n          0\n        ],\n        \"semantic_type\": \"\",\n        \"description\": \"\"\n      }\n    },\n    {\n      \"column\": \"Class\",\n      \"properties\": {\n        \"dtype\": \"string\",\n        \"num_unique_values\": 40,\n        \"samples\": [\n          \"GE 161 2A\",\n          \"CE 29 THW2\",\n          \"Physics 72 X8-3\"\n        ],\n        \"semantic_type\": \"\",\n        \"description\": \"\"\n      }\n    },\n    {\n      \"column\": \"Instructor/s\",\n      \"properties\": {\n        \"dtype\": \"string\",\n        \"num_unique_values\": 37,\n        \"samples\": [\n          \"ZAMORA, MA. BEA ANGELA\",\n          \"RIVERA, NOEL\",\n          \"NIP, NIP; CABANILLA, JAYSON\"\n        ],\n        \"semantic_type\": \"\",\n        \"description\": \"\"\n      }\n    },\n    {\n      \"column\": \"Units\",\n      \"properties\": {\n        \"dtype\": \"number\",\n        \"std\": 0.9195177108206346,\n        \"min\": 1.0,\n        \"max\": 4.0,\n        \"num_unique_values\": 4,\n        \"samples\": [\n          3.0,\n          2.0,\n          1.0\n        ],\n        \"semantic_type\": \"\",\n        \"description\": \"\"\n      }\n    },\n    {\n      \"column\": \"Grade\",\n      \"properties\": {\n        \"dtype\": \"number\",\n        \"std\": 1.7419687506396686,\n        \"min\": 1.0,\n        \"max\": 6.0,\n        \"num_unique_values\": 11,\n        \"samples\": [\n          1.5,\n          1.0,\n          2.5\n        ],\n        \"semantic_type\": \"\",\n        \"description\": \"\"\n      }\n    },\n    {\n      \"column\": \"sem\",\n      \"properties\": {\n        \"dtype\": \"category\",\n        \"num_unique_values\": 7,\n        \"samples\": [\n          \"First Semester AY 2022-2023\",\n          \"Second Semester AY 2022-2023\",\n          \"Midyear Term 2024\"\n        ],\n        \"semantic_type\": \"\",\n        \"description\": \"\"\n      }\n    },\n    {\n      \"column\": \"course\",\n      \"properties\": {\n        \"dtype\": \"string\",\n        \"num_unique_values\": 36,\n        \"samples\": [\n          \"GsE 189\",\n          \"Physics 72\",\n          \"GE 168\"\n        ],\n        \"semantic_type\": \"\",\n        \"description\": \"\"\n      }\n    },\n    {\n      \"column\": \"section\",\n      \"properties\": {\n        \"dtype\": \"string\",\n        \"num_unique_values\": 25,\n        \"samples\": [\n          \"TWHFV-3\",\n          \"THX\",\n          \"1AB\"\n        ],\n        \"semantic_type\": \"\",\n        \"description\": \"\"\n      }\n    }\n  ]\n}"
            }
          },
          "metadata": {},
          "execution_count": 14
        }
      ]
    },
    {
      "cell_type": "code",
      "source": [
        "[i.name for i in list(dge.students[0].curriculum.subjects.values()) if i.currentGrade==6]"
      ],
      "metadata": {
        "colab": {
          "base_uri": "https://localhost:8080/"
        },
        "id": "kOuWGHBbIpVC",
        "outputId": "75de42b7-f908-4cb6-dec2-a3dd71531b92"
      },
      "execution_count": null,
      "outputs": [
        {
          "output_type": "execute_result",
          "data": {
            "text/plain": [
              "['GE 144', 'GE 116', 'GIM 176', 'GsE 188', 'GsE 189']"
            ]
          },
          "metadata": {},
          "execution_count": 107
        }
      ]
    },
    {
      "cell_type": "code",
      "source": [
        "dge.students[0].isOngoing()"
      ],
      "metadata": {
        "colab": {
          "base_uri": "https://localhost:8080/"
        },
        "id": "9auQBCfm5HDV",
        "outputId": "0aae00c4-ee4c-453f-842d-ee70565e9240"
      },
      "execution_count": null,
      "outputs": [
        {
          "output_type": "stream",
          "name": "stdout",
          "text": [
            "[2.5, 1.25, 3.0, 1.0, 2.25, nan, nan, nan, 1.75, 2.0, 1.75, 1.25, 1.5, 2.75, 2.75, nan, 2.75, 3.0, 1.5, 3.0, 2.75, 1.75, 2.0, 2.25, 2.0, 1.25, 2.75, 2.75, 1.0, 6.0, 6.0, 6.0, 6.0, nan, 6.0, nan, nan, nan, nan, nan, nan, nan, nan, nan, nan, nan, nan, nan, nan, nan, nan, nan, nan, nan, nan, nan, nan, nan, nan]\n"
          ]
        },
        {
          "output_type": "execute_result",
          "data": {
            "text/plain": [
              "['GE 144', 'GE 116', 'GIM 176', 'GsE 188', 'GsE 189']"
            ]
          },
          "metadata": {},
          "execution_count": 15
        }
      ]
    },
    {
      "cell_type": "code",
      "source": [
        "[ for i in dge.students[0].curriculum.subjects.values()][0].takes"
      ],
      "metadata": {
        "colab": {
          "base_uri": "https://localhost:8080/"
        },
        "id": "K_x5rBWC5KBl",
        "outputId": "a79d6e7c-944a-49f1-8f3c-2ece6d23df75"
      },
      "execution_count": null,
      "outputs": [
        {
          "output_type": "execute_result",
          "data": {
            "text/plain": [
              "2"
            ]
          },
          "metadata": {},
          "execution_count": 54
        }
      ]
    },
    {
      "cell_type": "code",
      "source": [
        "[i.name for i in dge.students[0].curriculum.subjects.values() if i.currentGrade == 6]"
      ],
      "metadata": {
        "colab": {
          "base_uri": "https://localhost:8080/"
        },
        "id": "pt-m1Qy2OSue",
        "outputId": "8d44137a-4a7d-4970-ad48-5661fac66d5b"
      },
      "execution_count": null,
      "outputs": [
        {
          "output_type": "execute_result",
          "data": {
            "text/plain": [
              "['GE 144', 'GE 116', 'GIM 176', 'GsE 188', 'GsE 189']"
            ]
          },
          "metadata": {},
          "execution_count": 113
        }
      ]
    },
    {
      "cell_type": "code",
      "source": [
        "all =[]\n",
        "profs = []\n",
        "for student in dge.students:\n",
        "  clustergrade = student.solveCluster()\n",
        "  clustergrade['name'] = student.name\n",
        "  clustergrade['sn'] = student.sn\n",
        "  all.append(clustergrade)\n",
        "  #profs.append(clusterprofs)"
      ],
      "metadata": {
        "id": "4OzHiOT9yRR5",
        "colab": {
          "base_uri": "https://localhost:8080/",
          "height": 341
        },
        "outputId": "9f19e5b5-b76c-404b-8568-1d00e6f0bbf5"
      },
      "execution_count": 32,
      "outputs": [
        {
          "output_type": "error",
          "ename": "ZeroDivisionError",
          "evalue": "division by zero",
          "traceback": [
            "\u001b[0;31m---------------------------------------------------------------------------\u001b[0m",
            "\u001b[0;31mZeroDivisionError\u001b[0m                         Traceback (most recent call last)",
            "\u001b[0;32m/tmp/ipython-input-1634937958.py\u001b[0m in \u001b[0;36m<cell line: 0>\u001b[0;34m()\u001b[0m\n\u001b[1;32m      2\u001b[0m \u001b[0mprofs\u001b[0m \u001b[0;34m=\u001b[0m \u001b[0;34m[\u001b[0m\u001b[0;34m]\u001b[0m\u001b[0;34m\u001b[0m\u001b[0;34m\u001b[0m\u001b[0m\n\u001b[1;32m      3\u001b[0m \u001b[0;32mfor\u001b[0m \u001b[0mstudent\u001b[0m \u001b[0;32min\u001b[0m \u001b[0mdge\u001b[0m\u001b[0;34m.\u001b[0m\u001b[0mstudents\u001b[0m\u001b[0;34m:\u001b[0m\u001b[0;34m\u001b[0m\u001b[0;34m\u001b[0m\u001b[0m\n\u001b[0;32m----> 4\u001b[0;31m   \u001b[0mclustergrade\u001b[0m \u001b[0;34m=\u001b[0m \u001b[0mstudent\u001b[0m\u001b[0;34m.\u001b[0m\u001b[0msolveCluster\u001b[0m\u001b[0;34m(\u001b[0m\u001b[0;34m)\u001b[0m\u001b[0;34m\u001b[0m\u001b[0;34m\u001b[0m\u001b[0m\n\u001b[0m\u001b[1;32m      5\u001b[0m   \u001b[0mclustergrade\u001b[0m\u001b[0;34m[\u001b[0m\u001b[0;34m'name'\u001b[0m\u001b[0;34m]\u001b[0m \u001b[0;34m=\u001b[0m \u001b[0mstudent\u001b[0m\u001b[0;34m.\u001b[0m\u001b[0mname\u001b[0m\u001b[0;34m\u001b[0m\u001b[0;34m\u001b[0m\u001b[0m\n\u001b[1;32m      6\u001b[0m   \u001b[0mclustergrade\u001b[0m\u001b[0;34m[\u001b[0m\u001b[0;34m'sn'\u001b[0m\u001b[0;34m]\u001b[0m \u001b[0;34m=\u001b[0m \u001b[0mstudent\u001b[0m\u001b[0;34m.\u001b[0m\u001b[0msn\u001b[0m\u001b[0;34m\u001b[0m\u001b[0;34m\u001b[0m\u001b[0m\n",
            "\u001b[0;32m/tmp/ipython-input-1714132860.py\u001b[0m in \u001b[0;36msolveCluster\u001b[0;34m(self)\u001b[0m\n\u001b[1;32m     68\u001b[0m       \u001b[0mprof\u001b[0m \u001b[0;34m=\u001b[0m \u001b[0mlist\u001b[0m\u001b[0;34m(\u001b[0m\u001b[0mset\u001b[0m\u001b[0;34m(\u001b[0m\u001b[0mfilter\u001b[0m\u001b[0;34m[\u001b[0m\u001b[0;34m'Instructor/s'\u001b[0m\u001b[0;34m]\u001b[0m\u001b[0;34m.\u001b[0m\u001b[0mvalues\u001b[0m\u001b[0;34m)\u001b[0m\u001b[0;34m)\u001b[0m\u001b[0;34m\u001b[0m\u001b[0;34m\u001b[0m\u001b[0m\n\u001b[1;32m     69\u001b[0m       \u001b[0mclusterGrade\u001b[0m\u001b[0;34m[\u001b[0m\u001b[0mi\u001b[0m\u001b[0;34m+\u001b[0m\u001b[0;34m'_prof'\u001b[0m\u001b[0;34m]\u001b[0m \u001b[0;34m=\u001b[0m \u001b[0mprof\u001b[0m\u001b[0;34m\u001b[0m\u001b[0;34m\u001b[0m\u001b[0m\n\u001b[0;32m---> 70\u001b[0;31m       \u001b[0mclusterGrade\u001b[0m\u001b[0;34m[\u001b[0m\u001b[0mi\u001b[0m\u001b[0;34m]\u001b[0m\u001b[0;34m=\u001b[0m\u001b[0msum\u001b[0m\u001b[0;34m(\u001b[0m\u001b[0mfilter\u001b[0m\u001b[0;34m.\u001b[0m\u001b[0mUnits\u001b[0m\u001b[0;34m*\u001b[0m\u001b[0mfilter\u001b[0m\u001b[0;34m.\u001b[0m\u001b[0mGrade\u001b[0m\u001b[0;34m)\u001b[0m\u001b[0;34m/\u001b[0m\u001b[0msum\u001b[0m\u001b[0;34m(\u001b[0m\u001b[0mfilter\u001b[0m\u001b[0;34m.\u001b[0m\u001b[0mUnits\u001b[0m\u001b[0;34m)\u001b[0m\u001b[0;34m\u001b[0m\u001b[0;34m\u001b[0m\u001b[0m\n\u001b[0m\u001b[1;32m     71\u001b[0m     \u001b[0;32mreturn\u001b[0m \u001b[0mclusterGrade\u001b[0m\u001b[0;34m\u001b[0m\u001b[0;34m\u001b[0m\u001b[0m\n\u001b[1;32m     72\u001b[0m \u001b[0;34m\u001b[0m\u001b[0m\n",
            "\u001b[0;31mZeroDivisionError\u001b[0m: division by zero"
          ]
        }
      ]
    },
    {
      "cell_type": "code",
      "source": [
        "all_df = pd.DataFrame(all)\n",
        "all_df.to_csv('clustergrade.csv')"
      ],
      "metadata": {
        "id": "mfzf8_x5y82Q"
      },
      "execution_count": null,
      "outputs": []
    },
    {
      "cell_type": "code",
      "execution_count": null,
      "metadata": {
        "id": "re4v8IxteVni"
      },
      "outputs": [],
      "source": [
        "student = Student(f)\n",
        "clustergrade = student.solveCluster()\n",
        "clustergrade['name'] = student.name\n",
        "clustergrade['sn'] = student.sn\n",
        "all.append(clustergrade)\n",
        "profs.append(clusterprofs)"
      ]
    },
    {
      "cell_type": "code",
      "execution_count": 33,
      "metadata": {
        "id": "CqIa_YRNd3qf"
      },
      "outputs": [],
      "source": [
        "files = glob.glob('/content/drive/MyDrive/DGE_Files/UStAC/BSGE2023 Grades/*.html')\n",
        "all =[]\n",
        "profs = []\n",
        "for f in files:\n",
        "  student = Student(f)\n",
        "  clustergrade = student.solveCluster()\n",
        "  clustergrade['name'] = student.name\n",
        "  clustergrade['sn'] = student.sn\n",
        "  all.append(clustergrade)\n",
        "  profs.append(clusterprofs)"
      ]
    }
  ],
  "metadata": {
    "colab": {
      "provenance": [],
      "mount_file_id": "13vBt4PtHeCE4bO4_WIeyG3OfDTg-J8W-",
      "authorship_tag": "ABX9TyPqtDqmRfnj0eIPuUNix7w3",
      "include_colab_link": true
    },
    "kernelspec": {
      "display_name": "Python 3",
      "name": "python3"
    },
    "language_info": {
      "name": "python"
    }
  },
  "nbformat": 4,
  "nbformat_minor": 0
}